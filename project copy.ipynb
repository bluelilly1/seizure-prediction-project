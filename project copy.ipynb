{
 "cells": [
  {
   "attachments": {},
   "cell_type": "markdown",
   "metadata": {},
   "source": [
    "TODO \n",
    "-figure out my epochs labeling algorithm\n",
    "-fix my memory error-solution: use azure\n",
    "-use pickle\n",
    "\n",
    "Note: data has no stim channels bc all the channels come from an eeg device\n"
   ]
  },
  {
   "cell_type": "markdown",
   "metadata": {},
   "source": [
    "Importing Libraries"
   ]
  },
  {
   "cell_type": "code",
   "execution_count": 248,
   "metadata": {},
   "outputs": [],
   "source": [
    "import glob\n",
    "import numpy as np\n",
    "import pandas as pd\n",
    "import mne\n",
    "import os\n",
    "import matplotlib.pyplot as plt\n",
    "import sklearn \n",
    "import keras\n",
    "import pickle\n",
    "import pickletools"
   ]
  },
  {
   "cell_type": "markdown",
   "metadata": {},
   "source": [
    "Data Extraction"
   ]
  },
  {
   "cell_type": "markdown",
   "metadata": {},
   "source": [
    "Extracting the names of the files from a given folder"
   ]
  },
  {
   "cell_type": "code",
   "execution_count": 249,
   "metadata": {},
   "outputs": [],
   "source": [
    "def extract_files(folder):\n",
    "    file_names = glob.glob(f\"Dataset/{folder}/*.edf\")\n",
    "    return file_names"
   ]
  },
  {
   "cell_type": "markdown",
   "metadata": {},
   "source": [
    "Extracting the names of files from all folders"
   ]
  },
  {
   "cell_type": "code",
   "execution_count": 250,
   "metadata": {},
   "outputs": [],
   "source": [
    "def extract_all_files():\n",
    "    names = []\n",
    "    for i in range(24):\n",
    "        if (i + 1 < 10):\n",
    "            names.append(extract_files(f\"chb0{i+1}\"))\n",
    "        else:\n",
    "             names.append(extract_files(f\"chb{i+1}\"))\n",
    "    return names"
   ]
  },
  {
   "cell_type": "code",
   "execution_count": 251,
   "metadata": {},
   "outputs": [
    {
     "name": "stdout",
     "output_type": "stream",
     "text": [
      "[['Dataset/chb01\\\\chb01_01.edf', 'Dataset/chb01\\\\chb01_02.edf', 'Dataset/chb01\\\\chb01_03.edf', 'Dataset/chb01\\\\chb01_04.edf', 'Dataset/chb01\\\\chb01_05.edf', 'Dataset/chb01\\\\chb01_06.edf', 'Dataset/chb01\\\\chb01_07.edf', 'Dataset/chb01\\\\chb01_08.edf', 'Dataset/chb01\\\\chb01_09.edf', 'Dataset/chb01\\\\chb01_10.edf', 'Dataset/chb01\\\\chb01_11.edf', 'Dataset/chb01\\\\chb01_12.edf', 'Dataset/chb01\\\\chb01_13.edf', 'Dataset/chb01\\\\chb01_14.edf', 'Dataset/chb01\\\\chb01_15.edf', 'Dataset/chb01\\\\chb01_16.edf', 'Dataset/chb01\\\\chb01_17.edf', 'Dataset/chb01\\\\chb01_18.edf', 'Dataset/chb01\\\\chb01_19.edf', 'Dataset/chb01\\\\chb01_20.edf', 'Dataset/chb01\\\\chb01_21.edf', 'Dataset/chb01\\\\chb01_22.edf', 'Dataset/chb01\\\\chb01_23.edf', 'Dataset/chb01\\\\chb01_24.edf', 'Dataset/chb01\\\\chb01_25.edf', 'Dataset/chb01\\\\chb01_26.edf', 'Dataset/chb01\\\\chb01_27.edf', 'Dataset/chb01\\\\chb01_29.edf', 'Dataset/chb01\\\\chb01_30.edf', 'Dataset/chb01\\\\chb01_31.edf', 'Dataset/chb01\\\\chb01_32.edf', 'Dataset/chb01\\\\chb01_33.edf', 'Dataset/chb01\\\\chb01_34.edf', 'Dataset/chb01\\\\chb01_36.edf', 'Dataset/chb01\\\\chb01_37.edf', 'Dataset/chb01\\\\chb01_38.edf', 'Dataset/chb01\\\\chb01_39.edf', 'Dataset/chb01\\\\chb01_40.edf', 'Dataset/chb01\\\\chb01_41.edf', 'Dataset/chb01\\\\chb01_42.edf', 'Dataset/chb01\\\\chb01_43.edf', 'Dataset/chb01\\\\chb01_46.edf'], ['Dataset/chb02\\\\chb02_01.edf', 'Dataset/chb02\\\\chb02_02.edf', 'Dataset/chb02\\\\chb02_03.edf', 'Dataset/chb02\\\\chb02_04.edf', 'Dataset/chb02\\\\chb02_05.edf', 'Dataset/chb02\\\\chb02_06.edf', 'Dataset/chb02\\\\chb02_07.edf', 'Dataset/chb02\\\\chb02_08.edf', 'Dataset/chb02\\\\chb02_09.edf', 'Dataset/chb02\\\\chb02_10.edf', 'Dataset/chb02\\\\chb02_11.edf', 'Dataset/chb02\\\\chb02_12.edf', 'Dataset/chb02\\\\chb02_13.edf', 'Dataset/chb02\\\\chb02_14.edf', 'Dataset/chb02\\\\chb02_15.edf', 'Dataset/chb02\\\\chb02_16+.edf', 'Dataset/chb02\\\\chb02_16.edf', 'Dataset/chb02\\\\chb02_17.edf', 'Dataset/chb02\\\\chb02_18.edf', 'Dataset/chb02\\\\chb02_19.edf', 'Dataset/chb02\\\\chb02_20.edf', 'Dataset/chb02\\\\chb02_21.edf', 'Dataset/chb02\\\\chb02_22.edf', 'Dataset/chb02\\\\chb02_23.edf', 'Dataset/chb02\\\\chb02_24.edf', 'Dataset/chb02\\\\chb02_25.edf', 'Dataset/chb02\\\\chb02_26.edf', 'Dataset/chb02\\\\chb02_27.edf', 'Dataset/chb02\\\\chb02_28.edf', 'Dataset/chb02\\\\chb02_29.edf', 'Dataset/chb02\\\\chb02_30.edf', 'Dataset/chb02\\\\chb02_31.edf', 'Dataset/chb02\\\\chb02_32.edf', 'Dataset/chb02\\\\chb02_33.edf', 'Dataset/chb02\\\\chb02_34.edf', 'Dataset/chb02\\\\chb02_35.edf'], ['Dataset/chb03\\\\chb03_01.edf', 'Dataset/chb03\\\\chb03_02.edf', 'Dataset/chb03\\\\chb03_03.edf', 'Dataset/chb03\\\\chb03_04.edf', 'Dataset/chb03\\\\chb03_05.edf', 'Dataset/chb03\\\\chb03_06.edf', 'Dataset/chb03\\\\chb03_07.edf', 'Dataset/chb03\\\\chb03_08.edf', 'Dataset/chb03\\\\chb03_09.edf', 'Dataset/chb03\\\\chb03_10.edf', 'Dataset/chb03\\\\chb03_11.edf', 'Dataset/chb03\\\\chb03_12.edf', 'Dataset/chb03\\\\chb03_13.edf', 'Dataset/chb03\\\\chb03_14.edf', 'Dataset/chb03\\\\chb03_15.edf', 'Dataset/chb03\\\\chb03_16.edf', 'Dataset/chb03\\\\chb03_17.edf', 'Dataset/chb03\\\\chb03_18.edf', 'Dataset/chb03\\\\chb03_19.edf', 'Dataset/chb03\\\\chb03_20.edf', 'Dataset/chb03\\\\chb03_21.edf', 'Dataset/chb03\\\\chb03_22.edf', 'Dataset/chb03\\\\chb03_23.edf', 'Dataset/chb03\\\\chb03_24.edf', 'Dataset/chb03\\\\chb03_25.edf', 'Dataset/chb03\\\\chb03_26.edf', 'Dataset/chb03\\\\chb03_27.edf', 'Dataset/chb03\\\\chb03_28.edf', 'Dataset/chb03\\\\chb03_29.edf', 'Dataset/chb03\\\\chb03_30.edf', 'Dataset/chb03\\\\chb03_31.edf', 'Dataset/chb03\\\\chb03_32.edf', 'Dataset/chb03\\\\chb03_33.edf', 'Dataset/chb03\\\\chb03_34.edf', 'Dataset/chb03\\\\chb03_35.edf', 'Dataset/chb03\\\\chb03_36.edf', 'Dataset/chb03\\\\chb03_37.edf', 'Dataset/chb03\\\\chb03_38.edf'], ['Dataset/chb04\\\\chb04_01.edf', 'Dataset/chb04\\\\chb04_02.edf', 'Dataset/chb04\\\\chb04_03.edf', 'Dataset/chb04\\\\chb04_04.edf', 'Dataset/chb04\\\\chb04_05.edf', 'Dataset/chb04\\\\chb04_06.edf', 'Dataset/chb04\\\\chb04_07.edf', 'Dataset/chb04\\\\chb04_08.edf', 'Dataset/chb04\\\\chb04_09.edf', 'Dataset/chb04\\\\chb04_10.edf', 'Dataset/chb04\\\\chb04_11.edf', 'Dataset/chb04\\\\chb04_12.edf', 'Dataset/chb04\\\\chb04_13.edf', 'Dataset/chb04\\\\chb04_14.edf', 'Dataset/chb04\\\\chb04_15.edf', 'Dataset/chb04\\\\chb04_16.edf', 'Dataset/chb04\\\\chb04_17.edf', 'Dataset/chb04\\\\chb04_18.edf', 'Dataset/chb04\\\\chb04_19.edf', 'Dataset/chb04\\\\chb04_21.edf', 'Dataset/chb04\\\\chb04_22.edf', 'Dataset/chb04\\\\chb04_23.edf', 'Dataset/chb04\\\\chb04_24.edf', 'Dataset/chb04\\\\chb04_25.edf', 'Dataset/chb04\\\\chb04_26.edf', 'Dataset/chb04\\\\chb04_27.edf', 'Dataset/chb04\\\\chb04_28.edf', 'Dataset/chb04\\\\chb04_29.edf', 'Dataset/chb04\\\\chb04_30.edf', 'Dataset/chb04\\\\chb04_31.edf', 'Dataset/chb04\\\\chb04_32.edf', 'Dataset/chb04\\\\chb04_33.edf', 'Dataset/chb04\\\\chb04_34.edf', 'Dataset/chb04\\\\chb04_35.edf', 'Dataset/chb04\\\\chb04_36.edf', 'Dataset/chb04\\\\chb04_37.edf', 'Dataset/chb04\\\\chb04_38.edf', 'Dataset/chb04\\\\chb04_39.edf', 'Dataset/chb04\\\\chb04_40.edf', 'Dataset/chb04\\\\chb04_41.edf', 'Dataset/chb04\\\\chb04_42.edf', 'Dataset/chb04\\\\chb04_43.edf'], ['Dataset/chb05\\\\chb05_01.edf', 'Dataset/chb05\\\\chb05_02.edf', 'Dataset/chb05\\\\chb05_03.edf', 'Dataset/chb05\\\\chb05_04.edf', 'Dataset/chb05\\\\chb05_05.edf', 'Dataset/chb05\\\\chb05_06.edf', 'Dataset/chb05\\\\chb05_07.edf', 'Dataset/chb05\\\\chb05_08.edf', 'Dataset/chb05\\\\chb05_09.edf', 'Dataset/chb05\\\\chb05_10.edf', 'Dataset/chb05\\\\chb05_11.edf', 'Dataset/chb05\\\\chb05_12.edf', 'Dataset/chb05\\\\chb05_13.edf', 'Dataset/chb05\\\\chb05_14.edf', 'Dataset/chb05\\\\chb05_15.edf', 'Dataset/chb05\\\\chb05_16.edf', 'Dataset/chb05\\\\chb05_17.edf', 'Dataset/chb05\\\\chb05_18.edf', 'Dataset/chb05\\\\chb05_19.edf', 'Dataset/chb05\\\\chb05_20.edf', 'Dataset/chb05\\\\chb05_21.edf', 'Dataset/chb05\\\\chb05_22.edf', 'Dataset/chb05\\\\chb05_23.edf', 'Dataset/chb05\\\\chb05_24.edf', 'Dataset/chb05\\\\chb05_25.edf', 'Dataset/chb05\\\\chb05_26.edf', 'Dataset/chb05\\\\chb05_27.edf', 'Dataset/chb05\\\\chb05_28.edf', 'Dataset/chb05\\\\chb05_29.edf', 'Dataset/chb05\\\\chb05_30.edf', 'Dataset/chb05\\\\chb05_31.edf', 'Dataset/chb05\\\\chb05_32.edf', 'Dataset/chb05\\\\chb05_33.edf', 'Dataset/chb05\\\\chb05_34.edf', 'Dataset/chb05\\\\chb05_35.edf', 'Dataset/chb05\\\\chb05_36.edf', 'Dataset/chb05\\\\chb05_37.edf', 'Dataset/chb05\\\\chb05_38.edf', 'Dataset/chb05\\\\chb05_39.edf'], ['Dataset/chb06\\\\chb06_01.edf', 'Dataset/chb06\\\\chb06_02.edf', 'Dataset/chb06\\\\chb06_03.edf', 'Dataset/chb06\\\\chb06_04.edf', 'Dataset/chb06\\\\chb06_05.edf', 'Dataset/chb06\\\\chb06_06.edf', 'Dataset/chb06\\\\chb06_07.edf', 'Dataset/chb06\\\\chb06_08.edf', 'Dataset/chb06\\\\chb06_09.edf', 'Dataset/chb06\\\\chb06_10.edf', 'Dataset/chb06\\\\chb06_12.edf', 'Dataset/chb06\\\\chb06_13.edf', 'Dataset/chb06\\\\chb06_14.edf', 'Dataset/chb06\\\\chb06_15.edf', 'Dataset/chb06\\\\chb06_16.edf', 'Dataset/chb06\\\\chb06_17.edf', 'Dataset/chb06\\\\chb06_18.edf', 'Dataset/chb06\\\\chb06_24.edf'], ['Dataset/chb07\\\\chb07_01.edf', 'Dataset/chb07\\\\chb07_02.edf', 'Dataset/chb07\\\\chb07_03.edf', 'Dataset/chb07\\\\chb07_04.edf', 'Dataset/chb07\\\\chb07_05.edf', 'Dataset/chb07\\\\chb07_06.edf', 'Dataset/chb07\\\\chb07_07.edf', 'Dataset/chb07\\\\chb07_08.edf', 'Dataset/chb07\\\\chb07_09.edf', 'Dataset/chb07\\\\chb07_10.edf', 'Dataset/chb07\\\\chb07_11.edf', 'Dataset/chb07\\\\chb07_12.edf', 'Dataset/chb07\\\\chb07_13.edf', 'Dataset/chb07\\\\chb07_14.edf', 'Dataset/chb07\\\\chb07_15.edf', 'Dataset/chb07\\\\chb07_16.edf', 'Dataset/chb07\\\\chb07_17.edf', 'Dataset/chb07\\\\chb07_18.edf', 'Dataset/chb07\\\\chb07_19.edf'], ['Dataset/chb08\\\\chb08_02.edf', 'Dataset/chb08\\\\chb08_03.edf', 'Dataset/chb08\\\\chb08_04.edf', 'Dataset/chb08\\\\chb08_05.edf', 'Dataset/chb08\\\\chb08_10.edf', 'Dataset/chb08\\\\chb08_11.edf', 'Dataset/chb08\\\\chb08_12.edf', 'Dataset/chb08\\\\chb08_13.edf', 'Dataset/chb08\\\\chb08_14.edf', 'Dataset/chb08\\\\chb08_15.edf', 'Dataset/chb08\\\\chb08_16.edf', 'Dataset/chb08\\\\chb08_17.edf', 'Dataset/chb08\\\\chb08_18.edf', 'Dataset/chb08\\\\chb08_19.edf', 'Dataset/chb08\\\\chb08_20.edf', 'Dataset/chb08\\\\chb08_21.edf', 'Dataset/chb08\\\\chb08_22.edf', 'Dataset/chb08\\\\chb08_23.edf', 'Dataset/chb08\\\\chb08_24.edf', 'Dataset/chb08\\\\chb08_29.edf'], ['Dataset/chb09\\\\chb09_01.edf', 'Dataset/chb09\\\\chb09_02.edf', 'Dataset/chb09\\\\chb09_03.edf', 'Dataset/chb09\\\\chb09_04.edf', 'Dataset/chb09\\\\chb09_05.edf', 'Dataset/chb09\\\\chb09_06.edf', 'Dataset/chb09\\\\chb09_07.edf', 'Dataset/chb09\\\\chb09_08.edf', 'Dataset/chb09\\\\chb09_09.edf', 'Dataset/chb09\\\\chb09_10.edf', 'Dataset/chb09\\\\chb09_11.edf', 'Dataset/chb09\\\\chb09_12.edf', 'Dataset/chb09\\\\chb09_13.edf', 'Dataset/chb09\\\\chb09_14.edf', 'Dataset/chb09\\\\chb09_15.edf', 'Dataset/chb09\\\\chb09_16.edf', 'Dataset/chb09\\\\chb09_17.edf', 'Dataset/chb09\\\\chb09_18.edf', 'Dataset/chb09\\\\chb09_19.edf'], ['Dataset/chb10\\\\chb10_01.edf', 'Dataset/chb10\\\\chb10_02.edf', 'Dataset/chb10\\\\chb10_03.edf', 'Dataset/chb10\\\\chb10_04.edf', 'Dataset/chb10\\\\chb10_05.edf', 'Dataset/chb10\\\\chb10_06.edf', 'Dataset/chb10\\\\chb10_07.edf', 'Dataset/chb10\\\\chb10_08.edf', 'Dataset/chb10\\\\chb10_12.edf', 'Dataset/chb10\\\\chb10_13.edf', 'Dataset/chb10\\\\chb10_14.edf', 'Dataset/chb10\\\\chb10_15.edf', 'Dataset/chb10\\\\chb10_16.edf', 'Dataset/chb10\\\\chb10_17.edf', 'Dataset/chb10\\\\chb10_18.edf', 'Dataset/chb10\\\\chb10_19.edf', 'Dataset/chb10\\\\chb10_20.edf', 'Dataset/chb10\\\\chb10_21.edf', 'Dataset/chb10\\\\chb10_22.edf', 'Dataset/chb10\\\\chb10_27.edf', 'Dataset/chb10\\\\chb10_28.edf', 'Dataset/chb10\\\\chb10_30.edf', 'Dataset/chb10\\\\chb10_31.edf', 'Dataset/chb10\\\\chb10_38.edf', 'Dataset/chb10\\\\chb10_89.edf'], ['Dataset/chb11\\\\chb11_01.edf', 'Dataset/chb11\\\\chb11_02.edf', 'Dataset/chb11\\\\chb11_03.edf', 'Dataset/chb11\\\\chb11_04.edf', 'Dataset/chb11\\\\chb11_05.edf', 'Dataset/chb11\\\\chb11_06.edf', 'Dataset/chb11\\\\chb11_07.edf', 'Dataset/chb11\\\\chb11_08.edf', 'Dataset/chb11\\\\chb11_09.edf', 'Dataset/chb11\\\\chb11_10.edf', 'Dataset/chb11\\\\chb11_11.edf', 'Dataset/chb11\\\\chb11_12.edf', 'Dataset/chb11\\\\chb11_13.edf', 'Dataset/chb11\\\\chb11_14.edf', 'Dataset/chb11\\\\chb11_15.edf', 'Dataset/chb11\\\\chb11_16.edf', 'Dataset/chb11\\\\chb11_17.edf', 'Dataset/chb11\\\\chb11_18.edf', 'Dataset/chb11\\\\chb11_19.edf', 'Dataset/chb11\\\\chb11_24.edf', 'Dataset/chb11\\\\chb11_25.edf', 'Dataset/chb11\\\\chb11_26.edf', 'Dataset/chb11\\\\chb11_27.edf', 'Dataset/chb11\\\\chb11_53.edf', 'Dataset/chb11\\\\chb11_54.edf', 'Dataset/chb11\\\\chb11_55.edf', 'Dataset/chb11\\\\chb11_56.edf', 'Dataset/chb11\\\\chb11_58.edf', 'Dataset/chb11\\\\chb11_60.edf', 'Dataset/chb11\\\\chb11_61.edf', 'Dataset/chb11\\\\chb11_62.edf', 'Dataset/chb11\\\\chb11_63.edf', 'Dataset/chb11\\\\chb11_82.edf', 'Dataset/chb11\\\\chb11_92.edf', 'Dataset/chb11\\\\chb11_99.edf'], ['Dataset/chb12\\\\chb12_06.edf', 'Dataset/chb12\\\\chb12_08.edf', 'Dataset/chb12\\\\chb12_09.edf', 'Dataset/chb12\\\\chb12_10.edf', 'Dataset/chb12\\\\chb12_11.edf', 'Dataset/chb12\\\\chb12_19.edf', 'Dataset/chb12\\\\chb12_20.edf', 'Dataset/chb12\\\\chb12_21.edf', 'Dataset/chb12\\\\chb12_23.edf', 'Dataset/chb12\\\\chb12_24.edf', 'Dataset/chb12\\\\chb12_27.edf', 'Dataset/chb12\\\\chb12_28.edf', 'Dataset/chb12\\\\chb12_29.edf', 'Dataset/chb12\\\\chb12_32.edf', 'Dataset/chb12\\\\chb12_33.edf', 'Dataset/chb12\\\\chb12_34.edf', 'Dataset/chb12\\\\chb12_35.edf', 'Dataset/chb12\\\\chb12_36.edf', 'Dataset/chb12\\\\chb12_37.edf', 'Dataset/chb12\\\\chb12_38.edf', 'Dataset/chb12\\\\chb12_39.edf', 'Dataset/chb12\\\\chb12_40.edf', 'Dataset/chb12\\\\chb12_41.edf', 'Dataset/chb12\\\\chb12_42.edf'], ['Dataset/chb13\\\\chb13_02.edf', 'Dataset/chb13\\\\chb13_03.edf', 'Dataset/chb13\\\\chb13_04.edf', 'Dataset/chb13\\\\chb13_05.edf', 'Dataset/chb13\\\\chb13_06.edf', 'Dataset/chb13\\\\chb13_07.edf', 'Dataset/chb13\\\\chb13_08.edf', 'Dataset/chb13\\\\chb13_09.edf', 'Dataset/chb13\\\\chb13_10.edf', 'Dataset/chb13\\\\chb13_11.edf', 'Dataset/chb13\\\\chb13_12.edf', 'Dataset/chb13\\\\chb13_13.edf', 'Dataset/chb13\\\\chb13_14.edf', 'Dataset/chb13\\\\chb13_15.edf', 'Dataset/chb13\\\\chb13_16.edf', 'Dataset/chb13\\\\chb13_18.edf', 'Dataset/chb13\\\\chb13_19.edf', 'Dataset/chb13\\\\chb13_21.edf', 'Dataset/chb13\\\\chb13_22.edf', 'Dataset/chb13\\\\chb13_24.edf', 'Dataset/chb13\\\\chb13_30.edf', 'Dataset/chb13\\\\chb13_36.edf', 'Dataset/chb13\\\\chb13_37.edf', 'Dataset/chb13\\\\chb13_38.edf', 'Dataset/chb13\\\\chb13_39.edf', 'Dataset/chb13\\\\chb13_40.edf', 'Dataset/chb13\\\\chb13_47.edf', 'Dataset/chb13\\\\chb13_55.edf', 'Dataset/chb13\\\\chb13_56.edf', 'Dataset/chb13\\\\chb13_58.edf', 'Dataset/chb13\\\\chb13_59.edf', 'Dataset/chb13\\\\chb13_60.edf', 'Dataset/chb13\\\\chb13_62.edf'], ['Dataset/chb14\\\\chb14_01.edf', 'Dataset/chb14\\\\chb14_02.edf', 'Dataset/chb14\\\\chb14_03.edf', 'Dataset/chb14\\\\chb14_04.edf', 'Dataset/chb14\\\\chb14_06.edf', 'Dataset/chb14\\\\chb14_07.edf', 'Dataset/chb14\\\\chb14_11.edf', 'Dataset/chb14\\\\chb14_12.edf', 'Dataset/chb14\\\\chb14_13.edf', 'Dataset/chb14\\\\chb14_14.edf', 'Dataset/chb14\\\\chb14_16.edf', 'Dataset/chb14\\\\chb14_17.edf', 'Dataset/chb14\\\\chb14_18.edf', 'Dataset/chb14\\\\chb14_19.edf', 'Dataset/chb14\\\\chb14_20.edf', 'Dataset/chb14\\\\chb14_22.edf', 'Dataset/chb14\\\\chb14_24.edf', 'Dataset/chb14\\\\chb14_25.edf', 'Dataset/chb14\\\\chb14_26.edf', 'Dataset/chb14\\\\chb14_27.edf', 'Dataset/chb14\\\\chb14_29.edf', 'Dataset/chb14\\\\chb14_30.edf', 'Dataset/chb14\\\\chb14_32.edf', 'Dataset/chb14\\\\chb14_37.edf', 'Dataset/chb14\\\\chb14_39.edf', 'Dataset/chb14\\\\chb14_42.edf'], ['Dataset/chb15\\\\chb15_01.edf', 'Dataset/chb15\\\\chb15_02.edf', 'Dataset/chb15\\\\chb15_03.edf', 'Dataset/chb15\\\\chb15_04.edf', 'Dataset/chb15\\\\chb15_05.edf', 'Dataset/chb15\\\\chb15_06.edf', 'Dataset/chb15\\\\chb15_07.edf', 'Dataset/chb15\\\\chb15_08.edf', 'Dataset/chb15\\\\chb15_09.edf', 'Dataset/chb15\\\\chb15_10.edf', 'Dataset/chb15\\\\chb15_11.edf', 'Dataset/chb15\\\\chb15_12.edf', 'Dataset/chb15\\\\chb15_13.edf', 'Dataset/chb15\\\\chb15_14.edf', 'Dataset/chb15\\\\chb15_15.edf', 'Dataset/chb15\\\\chb15_16.edf', 'Dataset/chb15\\\\chb15_17.edf', 'Dataset/chb15\\\\chb15_19.edf', 'Dataset/chb15\\\\chb15_20.edf', 'Dataset/chb15\\\\chb15_22.edf', 'Dataset/chb15\\\\chb15_26.edf', 'Dataset/chb15\\\\chb15_28.edf', 'Dataset/chb15\\\\chb15_29.edf', 'Dataset/chb15\\\\chb15_30.edf', 'Dataset/chb15\\\\chb15_31.edf', 'Dataset/chb15\\\\chb15_32.edf', 'Dataset/chb15\\\\chb15_33.edf', 'Dataset/chb15\\\\chb15_35.edf', 'Dataset/chb15\\\\chb15_37.edf', 'Dataset/chb15\\\\chb15_40.edf', 'Dataset/chb15\\\\chb15_45.edf', 'Dataset/chb15\\\\chb15_46.edf', 'Dataset/chb15\\\\chb15_49.edf', 'Dataset/chb15\\\\chb15_50.edf', 'Dataset/chb15\\\\chb15_51.edf', 'Dataset/chb15\\\\chb15_52.edf', 'Dataset/chb15\\\\chb15_54.edf', 'Dataset/chb15\\\\chb15_61.edf', 'Dataset/chb15\\\\chb15_62.edf', 'Dataset/chb15\\\\chb15_63.edf'], ['Dataset/chb16\\\\chb16_01.edf', 'Dataset/chb16\\\\chb16_02.edf', 'Dataset/chb16\\\\chb16_03.edf', 'Dataset/chb16\\\\chb16_04.edf', 'Dataset/chb16\\\\chb16_05.edf', 'Dataset/chb16\\\\chb16_06.edf', 'Dataset/chb16\\\\chb16_07.edf', 'Dataset/chb16\\\\chb16_08.edf', 'Dataset/chb16\\\\chb16_09.edf', 'Dataset/chb16\\\\chb16_10.edf', 'Dataset/chb16\\\\chb16_11.edf', 'Dataset/chb16\\\\chb16_12.edf', 'Dataset/chb16\\\\chb16_13.edf', 'Dataset/chb16\\\\chb16_14.edf', 'Dataset/chb16\\\\chb16_15.edf', 'Dataset/chb16\\\\chb16_16.edf', 'Dataset/chb16\\\\chb16_17.edf', 'Dataset/chb16\\\\chb16_18.edf', 'Dataset/chb16\\\\chb16_19.edf'], ['Dataset/chb17\\\\chb17a_03.edf', 'Dataset/chb17\\\\chb17a_04.edf', 'Dataset/chb17\\\\chb17a_05.edf', 'Dataset/chb17\\\\chb17a_06.edf', 'Dataset/chb17\\\\chb17a_08.edf', 'Dataset/chb17\\\\chb17b_57.edf', 'Dataset/chb17\\\\chb17b_58.edf', 'Dataset/chb17\\\\chb17b_59.edf', 'Dataset/chb17\\\\chb17b_60.edf', 'Dataset/chb17\\\\chb17b_63.edf', 'Dataset/chb17\\\\chb17b_67.edf', 'Dataset/chb17\\\\chb17b_68.edf', 'Dataset/chb17\\\\chb17b_69.edf', 'Dataset/chb17\\\\chb17c_02.edf', 'Dataset/chb17\\\\chb17c_03.edf', 'Dataset/chb17\\\\chb17c_04.edf', 'Dataset/chb17\\\\chb17c_05.edf', 'Dataset/chb17\\\\chb17c_06.edf', 'Dataset/chb17\\\\chb17c_07.edf', 'Dataset/chb17\\\\chb17c_08.edf', 'Dataset/chb17\\\\chb17c_13.edf'], ['Dataset/chb18\\\\chb18_01.edf', 'Dataset/chb18\\\\chb18_02.edf', 'Dataset/chb18\\\\chb18_03.edf', 'Dataset/chb18\\\\chb18_04.edf', 'Dataset/chb18\\\\chb18_05.edf', 'Dataset/chb18\\\\chb18_06.edf', 'Dataset/chb18\\\\chb18_07.edf', 'Dataset/chb18\\\\chb18_08.edf', 'Dataset/chb18\\\\chb18_09.edf', 'Dataset/chb18\\\\chb18_10.edf', 'Dataset/chb18\\\\chb18_11.edf', 'Dataset/chb18\\\\chb18_12.edf', 'Dataset/chb18\\\\chb18_13.edf', 'Dataset/chb18\\\\chb18_14.edf', 'Dataset/chb18\\\\chb18_15.edf', 'Dataset/chb18\\\\chb18_16.edf', 'Dataset/chb18\\\\chb18_17.edf', 'Dataset/chb18\\\\chb18_18.edf', 'Dataset/chb18\\\\chb18_19.edf', 'Dataset/chb18\\\\chb18_20.edf', 'Dataset/chb18\\\\chb18_21.edf', 'Dataset/chb18\\\\chb18_22.edf', 'Dataset/chb18\\\\chb18_23.edf', 'Dataset/chb18\\\\chb18_24.edf', 'Dataset/chb18\\\\chb18_25.edf', 'Dataset/chb18\\\\chb18_26.edf', 'Dataset/chb18\\\\chb18_27.edf', 'Dataset/chb18\\\\chb18_28.edf', 'Dataset/chb18\\\\chb18_29.edf', 'Dataset/chb18\\\\chb18_30.edf', 'Dataset/chb18\\\\chb18_31.edf', 'Dataset/chb18\\\\chb18_32.edf', 'Dataset/chb18\\\\chb18_33.edf', 'Dataset/chb18\\\\chb18_34.edf', 'Dataset/chb18\\\\chb18_35.edf', 'Dataset/chb18\\\\chb18_36.edf'], ['Dataset/chb19\\\\chb19_01.edf', 'Dataset/chb19\\\\chb19_02.edf', 'Dataset/chb19\\\\chb19_03.edf', 'Dataset/chb19\\\\chb19_04.edf', 'Dataset/chb19\\\\chb19_05.edf', 'Dataset/chb19\\\\chb19_06.edf', 'Dataset/chb19\\\\chb19_07.edf', 'Dataset/chb19\\\\chb19_08.edf', 'Dataset/chb19\\\\chb19_09.edf', 'Dataset/chb19\\\\chb19_10.edf', 'Dataset/chb19\\\\chb19_11.edf', 'Dataset/chb19\\\\chb19_12.edf', 'Dataset/chb19\\\\chb19_13.edf', 'Dataset/chb19\\\\chb19_14.edf', 'Dataset/chb19\\\\chb19_15.edf', 'Dataset/chb19\\\\chb19_16.edf', 'Dataset/chb19\\\\chb19_17.edf', 'Dataset/chb19\\\\chb19_18.edf', 'Dataset/chb19\\\\chb19_19.edf', 'Dataset/chb19\\\\chb19_20.edf', 'Dataset/chb19\\\\chb19_21.edf', 'Dataset/chb19\\\\chb19_22.edf', 'Dataset/chb19\\\\chb19_23.edf', 'Dataset/chb19\\\\chb19_24.edf', 'Dataset/chb19\\\\chb19_25.edf', 'Dataset/chb19\\\\chb19_26.edf', 'Dataset/chb19\\\\chb19_27.edf', 'Dataset/chb19\\\\chb19_28.edf', 'Dataset/chb19\\\\chb19_29.edf', 'Dataset/chb19\\\\chb19_30.edf'], ['Dataset/chb20\\\\chb20_01.edf', 'Dataset/chb20\\\\chb20_02.edf', 'Dataset/chb20\\\\chb20_03.edf', 'Dataset/chb20\\\\chb20_04.edf', 'Dataset/chb20\\\\chb20_05.edf', 'Dataset/chb20\\\\chb20_06.edf', 'Dataset/chb20\\\\chb20_07.edf', 'Dataset/chb20\\\\chb20_08.edf', 'Dataset/chb20\\\\chb20_11.edf', 'Dataset/chb20\\\\chb20_12.edf', 'Dataset/chb20\\\\chb20_13.edf', 'Dataset/chb20\\\\chb20_14.edf', 'Dataset/chb20\\\\chb20_15.edf', 'Dataset/chb20\\\\chb20_16.edf', 'Dataset/chb20\\\\chb20_17.edf', 'Dataset/chb20\\\\chb20_21.edf', 'Dataset/chb20\\\\chb20_22.edf', 'Dataset/chb20\\\\chb20_23.edf', 'Dataset/chb20\\\\chb20_25.edf', 'Dataset/chb20\\\\chb20_26.edf', 'Dataset/chb20\\\\chb20_27.edf', 'Dataset/chb20\\\\chb20_28.edf', 'Dataset/chb20\\\\chb20_29.edf', 'Dataset/chb20\\\\chb20_30.edf', 'Dataset/chb20\\\\chb20_31.edf', 'Dataset/chb20\\\\chb20_34.edf', 'Dataset/chb20\\\\chb20_59.edf', 'Dataset/chb20\\\\chb20_60.edf', 'Dataset/chb20\\\\chb20_68.edf'], ['Dataset/chb21\\\\chb21_01.edf', 'Dataset/chb21\\\\chb21_02.edf', 'Dataset/chb21\\\\chb21_03.edf', 'Dataset/chb21\\\\chb21_04.edf', 'Dataset/chb21\\\\chb21_05.edf', 'Dataset/chb21\\\\chb21_06.edf', 'Dataset/chb21\\\\chb21_07.edf', 'Dataset/chb21\\\\chb21_08.edf', 'Dataset/chb21\\\\chb21_09.edf', 'Dataset/chb21\\\\chb21_10.edf', 'Dataset/chb21\\\\chb21_11.edf', 'Dataset/chb21\\\\chb21_12.edf', 'Dataset/chb21\\\\chb21_13.edf', 'Dataset/chb21\\\\chb21_14.edf', 'Dataset/chb21\\\\chb21_15.edf', 'Dataset/chb21\\\\chb21_16.edf', 'Dataset/chb21\\\\chb21_17.edf', 'Dataset/chb21\\\\chb21_18.edf', 'Dataset/chb21\\\\chb21_19.edf', 'Dataset/chb21\\\\chb21_20.edf', 'Dataset/chb21\\\\chb21_21.edf', 'Dataset/chb21\\\\chb21_22.edf', 'Dataset/chb21\\\\chb21_23.edf', 'Dataset/chb21\\\\chb21_24.edf', 'Dataset/chb21\\\\chb21_25.edf', 'Dataset/chb21\\\\chb21_26.edf', 'Dataset/chb21\\\\chb21_27.edf', 'Dataset/chb21\\\\chb21_28.edf', 'Dataset/chb21\\\\chb21_29.edf', 'Dataset/chb21\\\\chb21_30.edf', 'Dataset/chb21\\\\chb21_31.edf', 'Dataset/chb21\\\\chb21_32.edf', 'Dataset/chb21\\\\chb21_33.edf'], ['Dataset/chb22\\\\chb22_01.edf', 'Dataset/chb22\\\\chb22_02.edf', 'Dataset/chb22\\\\chb22_03.edf', 'Dataset/chb22\\\\chb22_04.edf', 'Dataset/chb22\\\\chb22_05.edf', 'Dataset/chb22\\\\chb22_06.edf', 'Dataset/chb22\\\\chb22_07.edf', 'Dataset/chb22\\\\chb22_08.edf', 'Dataset/chb22\\\\chb22_09.edf', 'Dataset/chb22\\\\chb22_10.edf', 'Dataset/chb22\\\\chb22_11.edf', 'Dataset/chb22\\\\chb22_15.edf', 'Dataset/chb22\\\\chb22_16.edf', 'Dataset/chb22\\\\chb22_17.edf', 'Dataset/chb22\\\\chb22_18.edf', 'Dataset/chb22\\\\chb22_19.edf', 'Dataset/chb22\\\\chb22_20.edf', 'Dataset/chb22\\\\chb22_21.edf', 'Dataset/chb22\\\\chb22_22.edf', 'Dataset/chb22\\\\chb22_23.edf', 'Dataset/chb22\\\\chb22_24.edf', 'Dataset/chb22\\\\chb22_25.edf', 'Dataset/chb22\\\\chb22_26.edf', 'Dataset/chb22\\\\chb22_27.edf', 'Dataset/chb22\\\\chb22_28.edf', 'Dataset/chb22\\\\chb22_29.edf', 'Dataset/chb22\\\\chb22_30.edf', 'Dataset/chb22\\\\chb22_38.edf', 'Dataset/chb22\\\\chb22_51.edf', 'Dataset/chb22\\\\chb22_54.edf', 'Dataset/chb22\\\\chb22_77.edf'], ['Dataset/chb23\\\\chb23_06.edf', 'Dataset/chb23\\\\chb23_07.edf', 'Dataset/chb23\\\\chb23_08.edf', 'Dataset/chb23\\\\chb23_09.edf', 'Dataset/chb23\\\\chb23_10.edf', 'Dataset/chb23\\\\chb23_16.edf', 'Dataset/chb23\\\\chb23_17.edf', 'Dataset/chb23\\\\chb23_19.edf', 'Dataset/chb23\\\\chb23_20.edf'], ['Dataset/chb24\\\\chb24_01.edf', 'Dataset/chb24\\\\chb24_02.edf', 'Dataset/chb24\\\\chb24_03.edf', 'Dataset/chb24\\\\chb24_04.edf', 'Dataset/chb24\\\\chb24_05.edf', 'Dataset/chb24\\\\chb24_06.edf', 'Dataset/chb24\\\\chb24_07.edf', 'Dataset/chb24\\\\chb24_08.edf', 'Dataset/chb24\\\\chb24_09.edf', 'Dataset/chb24\\\\chb24_10.edf', 'Dataset/chb24\\\\chb24_11.edf', 'Dataset/chb24\\\\chb24_12.edf', 'Dataset/chb24\\\\chb24_13.edf', 'Dataset/chb24\\\\chb24_14.edf', 'Dataset/chb24\\\\chb24_15.edf', 'Dataset/chb24\\\\chb24_16.edf', 'Dataset/chb24\\\\chb24_17.edf', 'Dataset/chb24\\\\chb24_18.edf', 'Dataset/chb24\\\\chb24_19.edf', 'Dataset/chb24\\\\chb24_20.edf', 'Dataset/chb24\\\\chb24_21.edf', 'Dataset/chb24\\\\chb24_22.edf']]\n"
     ]
    }
   ],
   "source": [
    "names = extract_all_files()\n",
    "print(names)"
   ]
  },
  {
   "cell_type": "markdown",
   "metadata": {},
   "source": [
    "Flattening the names array"
   ]
  },
  {
   "cell_type": "code",
   "execution_count": 252,
   "metadata": {},
   "outputs": [],
   "source": [
    "def flatten(names):\n",
    "    new_array = []\n",
    "    for i in range(len(names)):\n",
    "        for j in range(len(names[i])):\n",
    "            new_array.append(names[i][j])\n",
    "    return new_array"
   ]
  },
  {
   "cell_type": "code",
   "execution_count": 253,
   "metadata": {},
   "outputs": [],
   "source": [
    "names = flatten(names)"
   ]
  },
  {
   "cell_type": "code",
   "execution_count": 254,
   "metadata": {},
   "outputs": [
    {
     "name": "stdout",
     "output_type": "stream",
     "text": [
      "(686,)\n"
     ]
    }
   ],
   "source": [
    "#converting names into numpy array\n",
    "names = np.asarray(names)\n",
    "print(names.shape)\n"
   ]
  },
  {
   "attachments": {},
   "cell_type": "markdown",
   "metadata": {},
   "source": [
    "getting the foldername from the file name"
   ]
  },
  {
   "cell_type": "code",
   "execution_count": 255,
   "metadata": {},
   "outputs": [],
   "source": [
    "def get_folder_name(file_name):\n",
    "    folder_name, num = file_name.split(\"_\")\n",
    "    return folder_name"
   ]
  },
  {
   "cell_type": "markdown",
   "metadata": {},
   "source": [
    "Seperating the Data into seizure data and non seizure data"
   ]
  },
  {
   "cell_type": "markdown",
   "metadata": {},
   "source": [
    "Getting the seizure file names from the records"
   ]
  },
  {
   "cell_type": "code",
   "execution_count": 256,
   "metadata": {},
   "outputs": [],
   "source": [
    "def get_record_names(filepath):\n",
    "    names = pd.read_csv(filepath)\n",
    "    names = names.values.tolist()\n",
    "    return names"
   ]
  },
  {
   "cell_type": "code",
   "execution_count": 257,
   "metadata": {},
   "outputs": [
    {
     "name": "stdout",
     "output_type": "stream",
     "text": [
      "[['chb01/chb01_04.edf'], ['chb01/chb01_15.edf'], ['chb01/chb01_16.edf'], ['chb01/chb01_18.edf'], ['chb01/chb01_21.edf'], ['chb01/chb01_26.edf'], ['chb02/chb02_16.edf'], ['chb02/chb02_16+.edf'], ['chb02/chb02_19.edf'], ['chb03/chb03_01.edf'], ['chb03/chb03_02.edf'], ['chb03/chb03_03.edf'], ['chb03/chb03_04.edf'], ['chb03/chb03_34.edf'], ['chb03/chb03_35.edf'], ['chb03/chb03_36.edf'], ['chb04/chb04_05.edf'], ['chb04/chb04_08.edf'], ['chb04/chb04_28.edf'], ['chb05/chb05_06.edf'], ['chb05/chb05_13.edf'], ['chb05/chb05_16.edf'], ['chb05/chb05_17.edf'], ['chb05/chb05_22.edf'], ['chb06/chb06_01.edf'], ['chb06/chb06_04.edf'], ['chb06/chb06_09.edf'], ['chb06/chb06_10.edf'], ['chb06/chb06_13.edf'], ['chb06/chb06_18.edf'], ['chb06/chb06_24.edf'], ['chb07/chb07_12.edf'], ['chb07/chb07_13.edf'], ['chb07/chb07_18.edf'], ['chb08/chb08_02.edf'], ['chb08/chb08_05.edf'], ['chb08/chb08_11.edf'], ['chb08/chb08_13.edf'], ['chb08/chb08_21.edf'], ['chb09/chb09_06.edf'], ['chb09/chb09_08.edf'], ['chb09/chb09_19.edf'], ['chb10/chb10_12.edf'], ['chb10/chb10_20.edf'], ['chb10/chb10_27.edf'], ['chb10/chb10_30.edf'], ['chb10/chb10_31.edf'], ['chb10/chb10_38.edf'], ['chb10/chb10_89.edf'], ['chb11/chb11_82.edf'], ['chb11/chb11_92.edf'], ['chb11/chb11_99.edf'], ['chb12/chb12_06.edf'], ['chb12/chb12_08.edf'], ['chb12/chb12_09.edf'], ['chb12/chb12_10.edf'], ['chb12/chb12_11.edf'], ['chb12/chb12_23.edf'], ['chb12/chb12_27.edf'], ['chb12/chb12_28.edf'], ['chb12/chb12_29.edf'], ['chb12/chb12_33.edf'], ['chb12/chb12_36.edf'], ['chb12/chb12_38.edf'], ['chb12/chb12_42.edf'], ['chb13/chb13_19.edf'], ['chb13/chb13_21.edf'], ['chb13/chb13_40.edf'], ['chb13/chb13_55.edf'], ['chb13/chb13_58.edf'], ['chb13/chb13_59.edf'], ['chb13/chb13_60.edf'], ['chb13/chb13_62.edf'], ['chb14/chb14_03.edf'], ['chb14/chb14_04.edf'], ['chb14/chb14_06.edf'], ['chb14/chb14_11.edf'], ['chb14/chb14_17.edf'], ['chb14/chb14_18.edf'], ['chb14/chb14_27.edf'], ['chb15/chb15_06.edf'], ['chb15/chb15_10.edf'], ['chb15/chb15_15.edf'], ['chb15/chb15_17.edf'], ['chb15/chb15_20.edf'], ['chb15/chb15_22.edf'], ['chb15/chb15_28.edf'], ['chb15/chb15_31.edf'], ['chb15/chb15_40.edf'], ['chb15/chb15_46.edf'], ['chb15/chb15_49.edf'], ['chb15/chb15_52.edf'], ['chb15/chb15_54.edf'], ['chb15/chb15_62.edf'], ['chb16/chb16_10.edf'], ['chb16/chb16_11.edf'], ['chb16/chb16_14.edf'], ['chb16/chb16_16.edf'], ['chb16/chb16_17.edf'], ['chb16/chb16_18.edf'], ['chb17/chb17a_03.edf'], ['chb17/chb17a_04.edf'], ['chb17/chb17b_63.edf'], ['chb18/chb18_29.edf'], ['chb18/chb18_30.edf'], ['chb18/chb18_31.edf'], ['chb18/chb18_32.edf'], ['chb18/chb18_35.edf'], ['chb18/chb18_36.edf'], ['chb19/chb19_28.edf'], ['chb19/chb19_29.edf'], ['chb19/chb19_30.edf'], ['chb20/chb20_12.edf'], ['chb20/chb20_13.edf'], ['chb20/chb20_14.edf'], ['chb20/chb20_15.edf'], ['chb20/chb20_16.edf'], ['chb20/chb20_68.edf'], ['chb21/chb21_19.edf'], ['chb21/chb21_20.edf'], ['chb21/chb21_21.edf'], ['chb21/chb21_22.edf'], ['chb22/chb22_20.edf'], ['chb22/chb22_25.edf'], ['chb22/chb22_38.edf'], ['chb23/chb23_06.edf'], ['chb23/chb23_08.edf'], ['chb23/chb23_09.edf'], ['chb24/chb24_01.edf'], ['chb24/chb24_03.edf'], ['chb24/chb24_04.edf'], ['chb24/chb24_06.edf'], ['chb24/chb24_07.edf'], ['chb24/chb24_09.edf'], ['chb24/chb24_11.edf'], ['chb24/chb24_13.edf'], ['chb24/chb24_14.edf'], ['chb24/chb24_15.edf'], ['chb24/chb24_17.edf'], ['chb24/chb24_21.edf']]\n"
     ]
    }
   ],
   "source": [
    "seizure_names = get_record_names(\"Dataset/records_seizures.csv\")\n",
    "print(seizure_names)\n"
   ]
  },
  {
   "cell_type": "markdown",
   "metadata": {},
   "source": [
    "Formatting the seizure names the same way they are formatted in the data array"
   ]
  },
  {
   "cell_type": "code",
   "execution_count": 258,
   "metadata": {},
   "outputs": [],
   "source": [
    "def format_seizure_names(names):\n",
    "    formated = []\n",
    "    for array in names:\n",
    "        for name in array:\n",
    "            folder, file = name.split(\"/\")\n",
    "            name2 = f\"Dataset/{folder}\\\\{file}\"\n",
    "            formated.append(name2)\n",
    "    return formated"
   ]
  },
  {
   "cell_type": "code",
   "execution_count": 259,
   "metadata": {},
   "outputs": [
    {
     "name": "stdout",
     "output_type": "stream",
     "text": [
      "['Dataset/chb01\\\\chb01_04.edf', 'Dataset/chb01\\\\chb01_15.edf', 'Dataset/chb01\\\\chb01_16.edf', 'Dataset/chb01\\\\chb01_18.edf', 'Dataset/chb01\\\\chb01_21.edf', 'Dataset/chb01\\\\chb01_26.edf', 'Dataset/chb02\\\\chb02_16.edf', 'Dataset/chb02\\\\chb02_16+.edf', 'Dataset/chb02\\\\chb02_19.edf', 'Dataset/chb03\\\\chb03_01.edf', 'Dataset/chb03\\\\chb03_02.edf', 'Dataset/chb03\\\\chb03_03.edf', 'Dataset/chb03\\\\chb03_04.edf', 'Dataset/chb03\\\\chb03_34.edf', 'Dataset/chb03\\\\chb03_35.edf', 'Dataset/chb03\\\\chb03_36.edf', 'Dataset/chb04\\\\chb04_05.edf', 'Dataset/chb04\\\\chb04_08.edf', 'Dataset/chb04\\\\chb04_28.edf', 'Dataset/chb05\\\\chb05_06.edf', 'Dataset/chb05\\\\chb05_13.edf', 'Dataset/chb05\\\\chb05_16.edf', 'Dataset/chb05\\\\chb05_17.edf', 'Dataset/chb05\\\\chb05_22.edf', 'Dataset/chb06\\\\chb06_01.edf', 'Dataset/chb06\\\\chb06_04.edf', 'Dataset/chb06\\\\chb06_09.edf', 'Dataset/chb06\\\\chb06_10.edf', 'Dataset/chb06\\\\chb06_13.edf', 'Dataset/chb06\\\\chb06_18.edf', 'Dataset/chb06\\\\chb06_24.edf', 'Dataset/chb07\\\\chb07_12.edf', 'Dataset/chb07\\\\chb07_13.edf', 'Dataset/chb07\\\\chb07_18.edf', 'Dataset/chb08\\\\chb08_02.edf', 'Dataset/chb08\\\\chb08_05.edf', 'Dataset/chb08\\\\chb08_11.edf', 'Dataset/chb08\\\\chb08_13.edf', 'Dataset/chb08\\\\chb08_21.edf', 'Dataset/chb09\\\\chb09_06.edf', 'Dataset/chb09\\\\chb09_08.edf', 'Dataset/chb09\\\\chb09_19.edf', 'Dataset/chb10\\\\chb10_12.edf', 'Dataset/chb10\\\\chb10_20.edf', 'Dataset/chb10\\\\chb10_27.edf', 'Dataset/chb10\\\\chb10_30.edf', 'Dataset/chb10\\\\chb10_31.edf', 'Dataset/chb10\\\\chb10_38.edf', 'Dataset/chb10\\\\chb10_89.edf', 'Dataset/chb11\\\\chb11_82.edf', 'Dataset/chb11\\\\chb11_92.edf', 'Dataset/chb11\\\\chb11_99.edf', 'Dataset/chb12\\\\chb12_06.edf', 'Dataset/chb12\\\\chb12_08.edf', 'Dataset/chb12\\\\chb12_09.edf', 'Dataset/chb12\\\\chb12_10.edf', 'Dataset/chb12\\\\chb12_11.edf', 'Dataset/chb12\\\\chb12_23.edf', 'Dataset/chb12\\\\chb12_27.edf', 'Dataset/chb12\\\\chb12_28.edf', 'Dataset/chb12\\\\chb12_29.edf', 'Dataset/chb12\\\\chb12_33.edf', 'Dataset/chb12\\\\chb12_36.edf', 'Dataset/chb12\\\\chb12_38.edf', 'Dataset/chb12\\\\chb12_42.edf', 'Dataset/chb13\\\\chb13_19.edf', 'Dataset/chb13\\\\chb13_21.edf', 'Dataset/chb13\\\\chb13_40.edf', 'Dataset/chb13\\\\chb13_55.edf', 'Dataset/chb13\\\\chb13_58.edf', 'Dataset/chb13\\\\chb13_59.edf', 'Dataset/chb13\\\\chb13_60.edf', 'Dataset/chb13\\\\chb13_62.edf', 'Dataset/chb14\\\\chb14_03.edf', 'Dataset/chb14\\\\chb14_04.edf', 'Dataset/chb14\\\\chb14_06.edf', 'Dataset/chb14\\\\chb14_11.edf', 'Dataset/chb14\\\\chb14_17.edf', 'Dataset/chb14\\\\chb14_18.edf', 'Dataset/chb14\\\\chb14_27.edf', 'Dataset/chb15\\\\chb15_06.edf', 'Dataset/chb15\\\\chb15_10.edf', 'Dataset/chb15\\\\chb15_15.edf', 'Dataset/chb15\\\\chb15_17.edf', 'Dataset/chb15\\\\chb15_20.edf', 'Dataset/chb15\\\\chb15_22.edf', 'Dataset/chb15\\\\chb15_28.edf', 'Dataset/chb15\\\\chb15_31.edf', 'Dataset/chb15\\\\chb15_40.edf', 'Dataset/chb15\\\\chb15_46.edf', 'Dataset/chb15\\\\chb15_49.edf', 'Dataset/chb15\\\\chb15_52.edf', 'Dataset/chb15\\\\chb15_54.edf', 'Dataset/chb15\\\\chb15_62.edf', 'Dataset/chb16\\\\chb16_10.edf', 'Dataset/chb16\\\\chb16_11.edf', 'Dataset/chb16\\\\chb16_14.edf', 'Dataset/chb16\\\\chb16_16.edf', 'Dataset/chb16\\\\chb16_17.edf', 'Dataset/chb16\\\\chb16_18.edf', 'Dataset/chb17\\\\chb17a_03.edf', 'Dataset/chb17\\\\chb17a_04.edf', 'Dataset/chb17\\\\chb17b_63.edf', 'Dataset/chb18\\\\chb18_29.edf', 'Dataset/chb18\\\\chb18_30.edf', 'Dataset/chb18\\\\chb18_31.edf', 'Dataset/chb18\\\\chb18_32.edf', 'Dataset/chb18\\\\chb18_35.edf', 'Dataset/chb18\\\\chb18_36.edf', 'Dataset/chb19\\\\chb19_28.edf', 'Dataset/chb19\\\\chb19_29.edf', 'Dataset/chb19\\\\chb19_30.edf', 'Dataset/chb20\\\\chb20_12.edf', 'Dataset/chb20\\\\chb20_13.edf', 'Dataset/chb20\\\\chb20_14.edf', 'Dataset/chb20\\\\chb20_15.edf', 'Dataset/chb20\\\\chb20_16.edf', 'Dataset/chb20\\\\chb20_68.edf', 'Dataset/chb21\\\\chb21_19.edf', 'Dataset/chb21\\\\chb21_20.edf', 'Dataset/chb21\\\\chb21_21.edf', 'Dataset/chb21\\\\chb21_22.edf', 'Dataset/chb22\\\\chb22_20.edf', 'Dataset/chb22\\\\chb22_25.edf', 'Dataset/chb22\\\\chb22_38.edf', 'Dataset/chb23\\\\chb23_06.edf', 'Dataset/chb23\\\\chb23_08.edf', 'Dataset/chb23\\\\chb23_09.edf', 'Dataset/chb24\\\\chb24_01.edf', 'Dataset/chb24\\\\chb24_03.edf', 'Dataset/chb24\\\\chb24_04.edf', 'Dataset/chb24\\\\chb24_06.edf', 'Dataset/chb24\\\\chb24_07.edf', 'Dataset/chb24\\\\chb24_09.edf', 'Dataset/chb24\\\\chb24_11.edf', 'Dataset/chb24\\\\chb24_13.edf', 'Dataset/chb24\\\\chb24_14.edf', 'Dataset/chb24\\\\chb24_15.edf', 'Dataset/chb24\\\\chb24_17.edf', 'Dataset/chb24\\\\chb24_21.edf']\n"
     ]
    }
   ],
   "source": [
    "seizure_names = format_seizure_names(seizure_names)\n",
    "print(seizure_names)"
   ]
  },
  {
   "cell_type": "markdown",
   "metadata": {},
   "source": [
    "Getting the healthy file names by deleting the file names that are the ones with seizures"
   ]
  },
  {
   "cell_type": "code",
   "execution_count": 260,
   "metadata": {},
   "outputs": [],
   "source": [
    "def get_healthy_names(all_names, seizure_names):\n",
    "    healthy = []\n",
    "    for folder in all_names:\n",
    "        for name1 in folder:\n",
    "            seizure = False\n",
    "            for name2 in seizure_names:\n",
    "                if (name1 == name2):\n",
    "                    seizure = True\n",
    "            if (not seizure):\n",
    "                healthy.append(name1)\n",
    "    return healthy"
   ]
  },
  {
   "cell_type": "code",
   "execution_count": 261,
   "metadata": {},
   "outputs": [],
   "source": [
    "healthy_names = get_healthy_names(names, seizure_names)"
   ]
  },
  {
   "cell_type": "markdown",
   "metadata": {},
   "source": [
    "Getting y or the labels of the data"
   ]
  },
  {
   "cell_type": "markdown",
   "metadata": {},
   "source": [
    "going thru all the files names, and giving corresponding label of one if it is a seizure name"
   ]
  },
  {
   "cell_type": "code",
   "execution_count": 262,
   "metadata": {},
   "outputs": [],
   "source": [
    "def get_labels(names, seizure_names):\n",
    "    y = []\n",
    "    #iterating through the files\n",
    "    for i in range(len(names)):\n",
    "        #iterating through the seizure files\n",
    "        val = 0\n",
    "        for j in range(len(seizure_names)):\n",
    "            if (names[i] == seizure_names[j]):\n",
    "                val = 1\n",
    "        y.append(val)\n",
    "    return y"
   ]
  },
  {
   "cell_type": "code",
   "execution_count": 263,
   "metadata": {},
   "outputs": [],
   "source": [
    "labels = get_labels(names, seizure_names)"
   ]
  },
  {
   "cell_type": "markdown",
   "metadata": {},
   "source": [
    "going thru the all the summary files to get the start and stop times and files of the seizure"
   ]
  },
  {
   "cell_type": "markdown",
   "metadata": {},
   "source": [
    "Finding the seizure files in the summary file"
   ]
  },
  {
   "cell_type": "code",
   "execution_count": 264,
   "metadata": {},
   "outputs": [],
   "source": [
    "def get_seizure_files_summary(summary, seizure_names):\n",
    "    files = []\n",
    "    seizure_files = []\n",
    "    summary = open(summary, \"r\")\n",
    "    for line in summary:\n",
    "        for word in line.split(\" \"):\n",
    "            for w in (word):\n",
    "                if w == \".\":\n",
    "                    files.append(word)\n",
    "    for file in files:\n",
    "        file = \"Dataset/chb21\\\\\" + file\n",
    "        for seizure_name in seizure_names:\n",
    "            if (file.split(\" \")[0] == seizure_name.split()[0]):\n",
    "                seizure_files.append(file)\n",
    "    return seizure_files"
   ]
  },
  {
   "attachments": {},
   "cell_type": "markdown",
   "metadata": {},
   "source": [
    "getting seizure start and end times"
   ]
  },
  {
   "cell_type": "code",
   "execution_count": 265,
   "metadata": {},
   "outputs": [],
   "source": [
    "def get_seizure_time(summary, seizure_files):\n",
    "    start = []\n",
    "    end = []\n",
    "    summary = open(summary, \"r\")\n",
    "    for line in summary:\n",
    "        words = line.split(\" \")\n",
    "        if \"Seizure\" in line and \"Start\" in line:\n",
    "            print(\"yay\")\n",
    "            start.append(words[len(words) - 2])\n",
    "        elif \"Seizure\" in line and \"End\" in line:\n",
    "            print(\"yay3\")\n",
    "            end.append(words[len(words) - 2])\n",
    "    return start, end\n",
    "    "
   ]
  },
  {
   "attachments": {},
   "cell_type": "markdown",
   "metadata": {},
   "source": [
    "get summary file in a particular dataset folder, like chb01"
   ]
  },
  {
   "cell_type": "code",
   "execution_count": 266,
   "metadata": {},
   "outputs": [],
   "source": [
    "def get_summary_file(data_folder):\n",
    "    for file in os.listdir(data_folder):\n",
    "        #checking to see if it has summary\n",
    "        if len(str(file).split(\"-\")) > 1:\n",
    "            return file"
   ]
  },
  {
   "attachments": {},
   "cell_type": "markdown",
   "metadata": {},
   "source": [
    "find the ones that are .edf"
   ]
  },
  {
   "cell_type": "code",
   "execution_count": 267,
   "metadata": {},
   "outputs": [],
   "source": [
    "def get_edf_files(files):\n",
    "    edf_files = []\n",
    "    for file in files:\n",
    "        if len(file.split(\".\")) == 2 and file.split(\".\")[1] == \"edf\":\n",
    "            edf_files.append(file)\n",
    "    return edf_files"
   ]
  },
  {
   "attachments": {},
   "cell_type": "markdown",
   "metadata": {},
   "source": [
    "getting the total time of the files that is before the seizure file"
   ]
  },
  {
   "cell_type": "code",
   "execution_count": 268,
   "metadata": {},
   "outputs": [],
   "source": [
    "def get_time(file_reading, line_index): \n",
    "    line = file_reading[line_index] \n",
    "    words = line.split(\" \")\n",
    "    time = words[len(words) - 1]\n",
    "    return time"
   ]
  },
  {
   "cell_type": "markdown",
   "metadata": {},
   "source": [
    "Extracting the data from the files using mne"
   ]
  },
  {
   "cell_type": "code",
   "execution_count": 269,
   "metadata": {},
   "outputs": [],
   "source": [
    "def get_data(filename):\n",
    "    data = mne.io.read_raw_edf(filename, preload = True)\n",
    "    mne.channels.make_1020_channel_selections(data.info)\n",
    "    data.set_eeg_reference()\n",
    "    epochs = mne.make_fixed_length_epochs(data, duration = 5, overlap=1)\n",
    "  \n",
    "    return data, epochs"
   ]
  },
  {
   "attachments": {},
   "cell_type": "markdown",
   "metadata": {},
   "source": [
    "Ordering the files based on the file start and end time"
   ]
  },
  {
   "cell_type": "code",
   "execution_count": 270,
   "metadata": {},
   "outputs": [],
   "source": [
    "#getting the file start times\n",
    "def get_file_start(summary):\n",
    "    file_order = {}\n",
    "    file_end = []\n",
    "    summary = open(summary, \"r\")\n",
    "    lines = summary.readlines()\n",
    "    for index in range(len(lines)):\n",
    "        words = (lines[index]).split(\" \")\n",
    "        if \"File Name\" in lines[index]:\n",
    "            name = words[2].strip()\n",
    "        if \"File Start\" in lines[index]:\n",
    "            time = words[3].strip()\n",
    "            file_order.update({time:name})\n",
    "            #convert time and name back to nothing\n",
    "            time = \"\"\n",
    "            name = \"\"\n",
    "        if \"File End\" in lines[index]:\n",
    "            end = words[3].strip()\n",
    "            file_end.append(end)\n",
    "            \n",
    "    return file_order, file_end\n",
    "        "
   ]
  },
  {
   "cell_type": "code",
   "execution_count": 271,
   "metadata": {},
   "outputs": [],
   "source": [
    "file_order, file_end = get_file_start(\"Dataset\\chb21\\chb21-summary.txt\")"
   ]
  },
  {
   "cell_type": "code",
   "execution_count": 272,
   "metadata": {},
   "outputs": [
    {
     "name": "stdout",
     "output_type": "stream",
     "text": [
      "['18:56:45', '19:56:49', '20:56:57', '21:57:04', '22:57:11', '23:57:18', '24:57:24', '1:57:31', '2:57:38', '3:57:45', '4:57:52', '5:57:59', '6:58:06', '7:58:13', '8:58:20', '9:58:26', '10:58:59', '11:59:06', '12:59:13', '13:49:10', '16:49:35', '17:49:42', '19:36:01', '21:36:11', '23:36:25', '24:36:32']\n"
     ]
    }
   ],
   "source": [
    "print(file_end)"
   ]
  },
  {
   "cell_type": "code",
   "execution_count": 273,
   "metadata": {},
   "outputs": [
    {
     "name": "stdout",
     "output_type": "stream",
     "text": [
      "{'17:56:45': 'chb21_01.edf', '18:56:49': 'chb21_02.edf', '19:56:57': 'chb21_03.edf', '20:57:04': 'chb21_04.edf', '21:57:11': 'chb21_05.edf', '22:57:18': 'chb21_06.edf', '23:57:24': 'chb21_07.edf', '00:57:31': 'chb21_08.edf', '01:57:38': 'chb21_09.edf', '02:57:45': 'chb21_10.edf', '03:57:52': 'chb21_11.edf', '04:57:59': 'chb21_12.edf', '05:58:06': 'chb21_13.edf', '06:58:13': 'chb21_14.edf', '07:58:20': 'chb21_15.edf', '08:58:27': 'chb21_16.edf', '09:58:59': 'chb21_17.edf', '10:59:06': 'chb21_18.edf', '11:59:13': 'chb21_19.edf', '12:59:20': 'chb21_20.edf', '15:49:35': 'chb21_21.edf', '16:49:42': 'chb21_22.edf', '18:36:01': 'chb21_23.edf', '20:36:11': 'chb21_24.edf', '22:36:25': 'chb21_25.edf', '23:36:32': 'chb21_26.edf'}\n"
     ]
    }
   ],
   "source": [
    "print(file_order)"
   ]
  },
  {
   "attachments": {},
   "cell_type": "markdown",
   "metadata": {},
   "source": [
    "extracting the hr val"
   ]
  },
  {
   "cell_type": "code",
   "execution_count": 274,
   "metadata": {},
   "outputs": [],
   "source": [
    "def get_hr(time):\n",
    "    hr, minute, sec = time.split(\":\")\n",
    "    hr_int = float(hr) * 3600\n",
    "    min_float = float(minute) * 60\n",
    "    sec_float = float(sec)\n",
    "    final = hr_int + min_float + sec_float\n",
    "    return final"
   ]
  },
  {
   "cell_type": "code",
   "execution_count": 275,
   "metadata": {},
   "outputs": [
    {
     "name": "stdout",
     "output_type": "stream",
     "text": [
      "5964.0\n"
     ]
    }
   ],
   "source": [
    "print(get_hr(\"01:39:24\"))"
   ]
  },
  {
   "attachments": {},
   "cell_type": "markdown",
   "metadata": {},
   "source": [
    "Sorting the hr times"
   ]
  },
  {
   "cell_type": "code",
   "execution_count": 276,
   "metadata": {},
   "outputs": [],
   "source": [
    "def sort_hr(hours):\n",
    "    return hours.sort()\n",
    "    "
   ]
  },
  {
   "cell_type": "code",
   "execution_count": 277,
   "metadata": {},
   "outputs": [],
   "source": [
    "def sort_by_time(summary):\n",
    "    file_order, file_end = get_file_start(summary)\n",
    "    new_file_order = {}\n",
    "    hours = []\n",
    "    for time, file in file_order.items():\n",
    "        hour = get_hr(time)\n",
    "        hours.append(hour)\n",
    "        new_file_order.update({hour:file})\n",
    "    hours2 = sorted(hours)\n",
    "    sorted_list = {}\n",
    "    for hour in hours2:\n",
    "        for time, file in new_file_order.items():\n",
    "            if hour == time:\n",
    "                sorted_list.update({hour: file})\n",
    "    end_times = []\n",
    "    for val in file_end:\n",
    "        time = get_hr(val)\n",
    "        end_times.append(time)\n",
    "    print(end_times)\n",
    "    end_times = sorted(end_times)           \n",
    "    return sorted_list, end_times"
   ]
  },
  {
   "cell_type": "code",
   "execution_count": 278,
   "metadata": {},
   "outputs": [
    {
     "name": "stdout",
     "output_type": "stream",
     "text": [
      "[68205.0, 71809.0, 75417.0, 79024.0, 82631.0, 86238.0, 89844.0, 7051.0, 10658.0, 14265.0, 17872.0, 21479.0, 25086.0, 28693.0, 32300.0, 35906.0, 39539.0, 43146.0, 46753.0, 49750.0, 60575.0, 64182.0, 70561.0, 77771.0, 84985.0, 88592.0]\n"
     ]
    }
   ],
   "source": [
    "new_file_order, file_end = sort_by_time(\"Dataset\\chb21\\chb21-summary.txt\")\n"
   ]
  },
  {
   "cell_type": "code",
   "execution_count": 279,
   "metadata": {},
   "outputs": [
    {
     "name": "stdout",
     "output_type": "stream",
     "text": [
      "{3451.0: 'chb21_08.edf', 7058.0: 'chb21_09.edf', 10665.0: 'chb21_10.edf', 14272.0: 'chb21_11.edf', 17879.0: 'chb21_12.edf', 21486.0: 'chb21_13.edf', 25093.0: 'chb21_14.edf', 28700.0: 'chb21_15.edf', 32307.0: 'chb21_16.edf', 35939.0: 'chb21_17.edf', 39546.0: 'chb21_18.edf', 43153.0: 'chb21_19.edf', 46760.0: 'chb21_20.edf', 56975.0: 'chb21_21.edf', 60582.0: 'chb21_22.edf', 64605.0: 'chb21_01.edf', 66961.0: 'chb21_23.edf', 68209.0: 'chb21_02.edf', 71817.0: 'chb21_03.edf', 74171.0: 'chb21_24.edf', 75424.0: 'chb21_04.edf', 79031.0: 'chb21_05.edf', 81385.0: 'chb21_25.edf', 82638.0: 'chb21_06.edf', 84992.0: 'chb21_26.edf', 86244.0: 'chb21_07.edf'}\n"
     ]
    }
   ],
   "source": [
    "print(new_file_order)"
   ]
  },
  {
   "cell_type": "code",
   "execution_count": 280,
   "metadata": {},
   "outputs": [
    {
     "name": "stdout",
     "output_type": "stream",
     "text": [
      "[7051.0, 10658.0, 14265.0, 17872.0, 21479.0, 25086.0, 28693.0, 32300.0, 35906.0, 39539.0, 43146.0, 46753.0, 49750.0, 60575.0, 64182.0, 68205.0, 70561.0, 71809.0, 75417.0, 77771.0, 79024.0, 82631.0, 84985.0, 86238.0, 88592.0, 89844.0]\n"
     ]
    }
   ],
   "source": [
    "print(file_end)"
   ]
  },
  {
   "attachments": {},
   "cell_type": "markdown",
   "metadata": {},
   "source": [
    "getting the list of vals from dictionary"
   ]
  },
  {
   "cell_type": "code",
   "execution_count": 281,
   "metadata": {},
   "outputs": [],
   "source": [
    "def get_value(dictionary):\n",
    "    values = []\n",
    "    for key, value in dictionary.items():\n",
    "        values.append(value)\n",
    "    return values"
   ]
  },
  {
   "attachments": {},
   "cell_type": "markdown",
   "metadata": {},
   "source": [
    "converting dictionary keys to list"
   ]
  },
  {
   "cell_type": "code",
   "execution_count": 282,
   "metadata": {},
   "outputs": [],
   "source": [
    "def keys_to_list(dictionary):\n",
    "    keys = []\n",
    "    for key in dictionary.keys():\n",
    "        keys.append(key)\n",
    "    return keys"
   ]
  },
  {
   "attachments": {},
   "cell_type": "markdown",
   "metadata": {},
   "source": [
    "getting the ordered filed names"
   ]
  },
  {
   "cell_type": "code",
   "execution_count": 283,
   "metadata": {},
   "outputs": [],
   "source": [
    "ordered_files = get_value(new_file_order)"
   ]
  },
  {
   "attachments": {},
   "cell_type": "markdown",
   "metadata": {},
   "source": [
    "formatting the file names"
   ]
  },
  {
   "cell_type": "code",
   "execution_count": 284,
   "metadata": {},
   "outputs": [],
   "source": [
    "def format_file_names(ordered_files):\n",
    "    file_names = []\n",
    "    for val in ordered_files:\n",
    "        folder_name = get_folder_name(val)\n",
    "        file_names.append(\"Dataset\" + \"\\\\\" + folder_name + \"\\\\\" + val)\n",
    "    return file_names\n"
   ]
  },
  {
   "cell_type": "code",
   "execution_count": 285,
   "metadata": {},
   "outputs": [],
   "source": [
    "file_names = format_file_names(ordered_files)"
   ]
  },
  {
   "attachments": {},
   "cell_type": "markdown",
   "metadata": {},
   "source": [
    "Getting all the epochs"
   ]
  },
  {
   "cell_type": "code",
   "execution_count": 286,
   "metadata": {},
   "outputs": [],
   "source": [
    "def get_epochs(names):\n",
    "    data = []\n",
    "    epochs = []\n",
    "    for name in names:\n",
    "        file_data, file_epoch = get_data(name)\n",
    "        data.append(file_data)\n",
    "        epochs.append(file_epoch)\n",
    "    return data, epochs"
   ]
  },
  {
   "cell_type": "code",
   "execution_count": 287,
   "metadata": {},
   "outputs": [
    {
     "name": "stdout",
     "output_type": "stream",
     "text": [
      "Extracting EDF parameters from c:\\Users\\Bliss\\seizure_detection_project\\seizure_detection_project\\Dataset\\chb21\\chb21_08.edf...\n",
      "EDF file detected\n",
      "Setting channel info structure...\n",
      "Creating raw.info structure...\n"
     ]
    },
    {
     "name": "stderr",
     "output_type": "stream",
     "text": [
      "C:\\Users\\Bliss\\AppData\\Local\\Temp\\ipykernel_18484\\4024244321.py:2: RuntimeWarning: Channel names are not unique, found duplicates for: {'-', 'T8-P8'}. Applying running numbers for duplicates.\n",
      "  data = mne.io.read_raw_edf(filename, preload = True)\n",
      "C:\\Users\\Bliss\\AppData\\Local\\Temp\\ipykernel_18484\\4024244321.py:2: RuntimeWarning: Scaling factor is not defined in following channels:\n",
      "--0, --1, --2, --3, --4\n",
      "  data = mne.io.read_raw_edf(filename, preload = True)\n"
     ]
    },
    {
     "name": "stdout",
     "output_type": "stream",
     "text": [
      "Reading 0 ... 921599  =      0.000 ...  3599.996 secs...\n"
     ]
    },
    {
     "name": "stderr",
     "output_type": "stream",
     "text": [
      "WARNING:root:Did not find any electrode locations (in the info object), will attempt to use digitization points instead. However, if digitization points do not correspond to the EEG electrodes, this will lead to bad results. Please verify that the sensor locations in the plot are accurate.\n"
     ]
    },
    {
     "name": "stdout",
     "output_type": "stream",
     "text": [
      "EEG channel type selected for re-referencing\n",
      "Applying average reference.\n",
      "Applying a custom ('EEG',) reference.\n",
      "Not setting metadata\n",
      "899 matching events found\n",
      "No baseline correction applied\n",
      "0 projection items activated\n",
      "Extracting EDF parameters from c:\\Users\\Bliss\\seizure_detection_project\\seizure_detection_project\\Dataset\\chb21\\chb21_09.edf...\n",
      "EDF file detected\n",
      "Setting channel info structure...\n",
      "Creating raw.info structure...\n",
      "Reading 0 ... 921599  =      0.000 ...  3599.996 secs...\n"
     ]
    },
    {
     "name": "stderr",
     "output_type": "stream",
     "text": [
      "C:\\Users\\Bliss\\AppData\\Local\\Temp\\ipykernel_18484\\4024244321.py:2: RuntimeWarning: Channel names are not unique, found duplicates for: {'-', 'T8-P8'}. Applying running numbers for duplicates.\n",
      "  data = mne.io.read_raw_edf(filename, preload = True)\n",
      "C:\\Users\\Bliss\\AppData\\Local\\Temp\\ipykernel_18484\\4024244321.py:2: RuntimeWarning: Scaling factor is not defined in following channels:\n",
      "--0, --1, --2, --3, --4\n",
      "  data = mne.io.read_raw_edf(filename, preload = True)\n",
      "WARNING:root:Did not find any electrode locations (in the info object), will attempt to use digitization points instead. However, if digitization points do not correspond to the EEG electrodes, this will lead to bad results. Please verify that the sensor locations in the plot are accurate.\n"
     ]
    },
    {
     "name": "stdout",
     "output_type": "stream",
     "text": [
      "EEG channel type selected for re-referencing\n",
      "Applying average reference.\n",
      "Applying a custom ('EEG',) reference.\n",
      "Not setting metadata\n",
      "899 matching events found\n",
      "No baseline correction applied\n",
      "0 projection items activated\n",
      "Extracting EDF parameters from c:\\Users\\Bliss\\seizure_detection_project\\seizure_detection_project\\Dataset\\chb21\\chb21_10.edf...\n",
      "EDF file detected\n",
      "Setting channel info structure...\n",
      "Creating raw.info structure...\n",
      "Reading 0 ... 921599  =      0.000 ...  3599.996 secs...\n"
     ]
    },
    {
     "name": "stderr",
     "output_type": "stream",
     "text": [
      "C:\\Users\\Bliss\\AppData\\Local\\Temp\\ipykernel_18484\\4024244321.py:2: RuntimeWarning: Channel names are not unique, found duplicates for: {'-', 'T8-P8'}. Applying running numbers for duplicates.\n",
      "  data = mne.io.read_raw_edf(filename, preload = True)\n",
      "C:\\Users\\Bliss\\AppData\\Local\\Temp\\ipykernel_18484\\4024244321.py:2: RuntimeWarning: Scaling factor is not defined in following channels:\n",
      "--0, --1, --2, --3, --4\n",
      "  data = mne.io.read_raw_edf(filename, preload = True)\n",
      "WARNING:root:Did not find any electrode locations (in the info object), will attempt to use digitization points instead. However, if digitization points do not correspond to the EEG electrodes, this will lead to bad results. Please verify that the sensor locations in the plot are accurate.\n"
     ]
    },
    {
     "name": "stdout",
     "output_type": "stream",
     "text": [
      "EEG channel type selected for re-referencing\n",
      "Applying average reference.\n",
      "Applying a custom ('EEG',) reference.\n",
      "Not setting metadata\n",
      "899 matching events found\n",
      "No baseline correction applied\n",
      "0 projection items activated\n",
      "Extracting EDF parameters from c:\\Users\\Bliss\\seizure_detection_project\\seizure_detection_project\\Dataset\\chb21\\chb21_11.edf...\n",
      "EDF file detected\n",
      "Setting channel info structure...\n",
      "Creating raw.info structure...\n",
      "Reading 0 ... 921599  =      0.000 ...  3599.996 secs...\n"
     ]
    },
    {
     "name": "stderr",
     "output_type": "stream",
     "text": [
      "C:\\Users\\Bliss\\AppData\\Local\\Temp\\ipykernel_18484\\4024244321.py:2: RuntimeWarning: Channel names are not unique, found duplicates for: {'-', 'T8-P8'}. Applying running numbers for duplicates.\n",
      "  data = mne.io.read_raw_edf(filename, preload = True)\n",
      "C:\\Users\\Bliss\\AppData\\Local\\Temp\\ipykernel_18484\\4024244321.py:2: RuntimeWarning: Scaling factor is not defined in following channels:\n",
      "--0, --1, --2, --3, --4\n",
      "  data = mne.io.read_raw_edf(filename, preload = True)\n",
      "WARNING:root:Did not find any electrode locations (in the info object), will attempt to use digitization points instead. However, if digitization points do not correspond to the EEG electrodes, this will lead to bad results. Please verify that the sensor locations in the plot are accurate.\n"
     ]
    },
    {
     "name": "stdout",
     "output_type": "stream",
     "text": [
      "EEG channel type selected for re-referencing\n",
      "Applying average reference.\n",
      "Applying a custom ('EEG',) reference.\n",
      "Not setting metadata\n",
      "899 matching events found\n",
      "No baseline correction applied\n",
      "0 projection items activated\n",
      "Extracting EDF parameters from c:\\Users\\Bliss\\seizure_detection_project\\seizure_detection_project\\Dataset\\chb21\\chb21_12.edf...\n",
      "EDF file detected\n",
      "Setting channel info structure...\n",
      "Creating raw.info structure...\n",
      "Reading 0 ... 921599  =      0.000 ...  3599.996 secs...\n"
     ]
    },
    {
     "name": "stderr",
     "output_type": "stream",
     "text": [
      "C:\\Users\\Bliss\\AppData\\Local\\Temp\\ipykernel_18484\\4024244321.py:2: RuntimeWarning: Channel names are not unique, found duplicates for: {'-', 'T8-P8'}. Applying running numbers for duplicates.\n",
      "  data = mne.io.read_raw_edf(filename, preload = True)\n",
      "C:\\Users\\Bliss\\AppData\\Local\\Temp\\ipykernel_18484\\4024244321.py:2: RuntimeWarning: Scaling factor is not defined in following channels:\n",
      "--0, --1, --2, --3, --4\n",
      "  data = mne.io.read_raw_edf(filename, preload = True)\n",
      "WARNING:root:Did not find any electrode locations (in the info object), will attempt to use digitization points instead. However, if digitization points do not correspond to the EEG electrodes, this will lead to bad results. Please verify that the sensor locations in the plot are accurate.\n"
     ]
    },
    {
     "name": "stdout",
     "output_type": "stream",
     "text": [
      "EEG channel type selected for re-referencing\n",
      "Applying average reference.\n",
      "Applying a custom ('EEG',) reference.\n",
      "Not setting metadata\n",
      "899 matching events found\n",
      "No baseline correction applied\n",
      "0 projection items activated\n",
      "Extracting EDF parameters from c:\\Users\\Bliss\\seizure_detection_project\\seizure_detection_project\\Dataset\\chb21\\chb21_13.edf...\n",
      "EDF file detected\n",
      "Setting channel info structure...\n",
      "Creating raw.info structure...\n",
      "Reading 0 ... 921599  =      0.000 ...  3599.996 secs...\n"
     ]
    },
    {
     "name": "stderr",
     "output_type": "stream",
     "text": [
      "C:\\Users\\Bliss\\AppData\\Local\\Temp\\ipykernel_18484\\4024244321.py:2: RuntimeWarning: Channel names are not unique, found duplicates for: {'-', 'T8-P8'}. Applying running numbers for duplicates.\n",
      "  data = mne.io.read_raw_edf(filename, preload = True)\n",
      "C:\\Users\\Bliss\\AppData\\Local\\Temp\\ipykernel_18484\\4024244321.py:2: RuntimeWarning: Scaling factor is not defined in following channels:\n",
      "--0, --1, --2, --3, --4\n",
      "  data = mne.io.read_raw_edf(filename, preload = True)\n",
      "WARNING:root:Did not find any electrode locations (in the info object), will attempt to use digitization points instead. However, if digitization points do not correspond to the EEG electrodes, this will lead to bad results. Please verify that the sensor locations in the plot are accurate.\n"
     ]
    },
    {
     "name": "stdout",
     "output_type": "stream",
     "text": [
      "EEG channel type selected for re-referencing\n",
      "Applying average reference.\n",
      "Applying a custom ('EEG',) reference.\n",
      "Not setting metadata\n",
      "899 matching events found\n",
      "No baseline correction applied\n",
      "0 projection items activated\n",
      "Extracting EDF parameters from c:\\Users\\Bliss\\seizure_detection_project\\seizure_detection_project\\Dataset\\chb21\\chb21_14.edf...\n",
      "EDF file detected\n",
      "Setting channel info structure...\n",
      "Creating raw.info structure...\n",
      "Reading 0 ... 921599  =      0.000 ...  3599.996 secs...\n"
     ]
    },
    {
     "name": "stderr",
     "output_type": "stream",
     "text": [
      "C:\\Users\\Bliss\\AppData\\Local\\Temp\\ipykernel_18484\\4024244321.py:2: RuntimeWarning: Channel names are not unique, found duplicates for: {'-', 'T8-P8'}. Applying running numbers for duplicates.\n",
      "  data = mne.io.read_raw_edf(filename, preload = True)\n",
      "C:\\Users\\Bliss\\AppData\\Local\\Temp\\ipykernel_18484\\4024244321.py:2: RuntimeWarning: Scaling factor is not defined in following channels:\n",
      "--0, --1, --2, --3, --4\n",
      "  data = mne.io.read_raw_edf(filename, preload = True)\n",
      "WARNING:root:Did not find any electrode locations (in the info object), will attempt to use digitization points instead. However, if digitization points do not correspond to the EEG electrodes, this will lead to bad results. Please verify that the sensor locations in the plot are accurate.\n"
     ]
    },
    {
     "name": "stdout",
     "output_type": "stream",
     "text": [
      "EEG channel type selected for re-referencing\n",
      "Applying average reference.\n",
      "Applying a custom ('EEG',) reference.\n",
      "Not setting metadata\n",
      "899 matching events found\n",
      "No baseline correction applied\n",
      "0 projection items activated\n",
      "Extracting EDF parameters from c:\\Users\\Bliss\\seizure_detection_project\\seizure_detection_project\\Dataset\\chb21\\chb21_15.edf...\n",
      "EDF file detected\n",
      "Setting channel info structure...\n",
      "Creating raw.info structure...\n",
      "Reading 0 ... 921599  =      0.000 ...  3599.996 secs...\n"
     ]
    },
    {
     "name": "stderr",
     "output_type": "stream",
     "text": [
      "C:\\Users\\Bliss\\AppData\\Local\\Temp\\ipykernel_18484\\4024244321.py:2: RuntimeWarning: Channel names are not unique, found duplicates for: {'-', 'T8-P8'}. Applying running numbers for duplicates.\n",
      "  data = mne.io.read_raw_edf(filename, preload = True)\n",
      "C:\\Users\\Bliss\\AppData\\Local\\Temp\\ipykernel_18484\\4024244321.py:2: RuntimeWarning: Scaling factor is not defined in following channels:\n",
      "--0, --1, --2, --3, --4\n",
      "  data = mne.io.read_raw_edf(filename, preload = True)\n",
      "WARNING:root:Did not find any electrode locations (in the info object), will attempt to use digitization points instead. However, if digitization points do not correspond to the EEG electrodes, this will lead to bad results. Please verify that the sensor locations in the plot are accurate.\n"
     ]
    },
    {
     "name": "stdout",
     "output_type": "stream",
     "text": [
      "EEG channel type selected for re-referencing\n",
      "Applying average reference.\n",
      "Applying a custom ('EEG',) reference.\n",
      "Not setting metadata\n",
      "899 matching events found\n",
      "No baseline correction applied\n",
      "0 projection items activated\n",
      "Extracting EDF parameters from c:\\Users\\Bliss\\seizure_detection_project\\seizure_detection_project\\Dataset\\chb21\\chb21_16.edf...\n",
      "EDF file detected\n",
      "Setting channel info structure...\n",
      "Creating raw.info structure...\n",
      "Reading 0 ... 921343  =      0.000 ...  3598.996 secs...\n"
     ]
    },
    {
     "name": "stderr",
     "output_type": "stream",
     "text": [
      "C:\\Users\\Bliss\\AppData\\Local\\Temp\\ipykernel_18484\\4024244321.py:2: RuntimeWarning: Channel names are not unique, found duplicates for: {'-', 'T8-P8'}. Applying running numbers for duplicates.\n",
      "  data = mne.io.read_raw_edf(filename, preload = True)\n",
      "C:\\Users\\Bliss\\AppData\\Local\\Temp\\ipykernel_18484\\4024244321.py:2: RuntimeWarning: Scaling factor is not defined in following channels:\n",
      "--0, --1, --2, --3, --4\n",
      "  data = mne.io.read_raw_edf(filename, preload = True)\n",
      "WARNING:root:Did not find any electrode locations (in the info object), will attempt to use digitization points instead. However, if digitization points do not correspond to the EEG electrodes, this will lead to bad results. Please verify that the sensor locations in the plot are accurate.\n"
     ]
    },
    {
     "name": "stdout",
     "output_type": "stream",
     "text": [
      "EEG channel type selected for re-referencing\n",
      "Applying average reference.\n",
      "Applying a custom ('EEG',) reference.\n",
      "Not setting metadata\n",
      "899 matching events found\n",
      "No baseline correction applied\n",
      "0 projection items activated\n",
      "Extracting EDF parameters from c:\\Users\\Bliss\\seizure_detection_project\\seizure_detection_project\\Dataset\\chb21\\chb21_17.edf...\n",
      "EDF file detected\n",
      "Setting channel info structure...\n",
      "Creating raw.info structure...\n",
      "Reading 0 ... 921599  =      0.000 ...  3599.996 secs...\n"
     ]
    },
    {
     "name": "stderr",
     "output_type": "stream",
     "text": [
      "C:\\Users\\Bliss\\AppData\\Local\\Temp\\ipykernel_18484\\4024244321.py:2: RuntimeWarning: Channel names are not unique, found duplicates for: {'-', 'T8-P8'}. Applying running numbers for duplicates.\n",
      "  data = mne.io.read_raw_edf(filename, preload = True)\n",
      "C:\\Users\\Bliss\\AppData\\Local\\Temp\\ipykernel_18484\\4024244321.py:2: RuntimeWarning: Scaling factor is not defined in following channels:\n",
      "--0, --1, --2, --3, --4\n",
      "  data = mne.io.read_raw_edf(filename, preload = True)\n",
      "WARNING:root:Did not find any electrode locations (in the info object), will attempt to use digitization points instead. However, if digitization points do not correspond to the EEG electrodes, this will lead to bad results. Please verify that the sensor locations in the plot are accurate.\n"
     ]
    },
    {
     "name": "stdout",
     "output_type": "stream",
     "text": [
      "EEG channel type selected for re-referencing\n",
      "Applying average reference.\n",
      "Applying a custom ('EEG',) reference.\n",
      "Not setting metadata\n",
      "899 matching events found\n",
      "No baseline correction applied\n",
      "0 projection items activated\n",
      "Extracting EDF parameters from c:\\Users\\Bliss\\seizure_detection_project\\seizure_detection_project\\Dataset\\chb21\\chb21_18.edf...\n",
      "EDF file detected\n",
      "Setting channel info structure...\n",
      "Creating raw.info structure...\n",
      "Reading 0 ... 921599  =      0.000 ...  3599.996 secs...\n"
     ]
    },
    {
     "name": "stderr",
     "output_type": "stream",
     "text": [
      "C:\\Users\\Bliss\\AppData\\Local\\Temp\\ipykernel_18484\\4024244321.py:2: RuntimeWarning: Channel names are not unique, found duplicates for: {'-', 'T8-P8'}. Applying running numbers for duplicates.\n",
      "  data = mne.io.read_raw_edf(filename, preload = True)\n",
      "C:\\Users\\Bliss\\AppData\\Local\\Temp\\ipykernel_18484\\4024244321.py:2: RuntimeWarning: Scaling factor is not defined in following channels:\n",
      "--0, --1, --2, --3, --4\n",
      "  data = mne.io.read_raw_edf(filename, preload = True)\n",
      "WARNING:root:Did not find any electrode locations (in the info object), will attempt to use digitization points instead. However, if digitization points do not correspond to the EEG electrodes, this will lead to bad results. Please verify that the sensor locations in the plot are accurate.\n"
     ]
    },
    {
     "name": "stdout",
     "output_type": "stream",
     "text": [
      "EEG channel type selected for re-referencing\n",
      "Applying average reference.\n",
      "Applying a custom ('EEG',) reference.\n",
      "Not setting metadata\n",
      "899 matching events found\n",
      "No baseline correction applied\n",
      "0 projection items activated\n",
      "Extracting EDF parameters from c:\\Users\\Bliss\\seizure_detection_project\\seizure_detection_project\\Dataset\\chb21\\chb21_19.edf...\n",
      "EDF file detected\n",
      "Setting channel info structure...\n",
      "Creating raw.info structure...\n",
      "Reading 0 ... 921599  =      0.000 ...  3599.996 secs...\n"
     ]
    },
    {
     "name": "stderr",
     "output_type": "stream",
     "text": [
      "C:\\Users\\Bliss\\AppData\\Local\\Temp\\ipykernel_18484\\4024244321.py:2: RuntimeWarning: Channel names are not unique, found duplicates for: {'-', 'T8-P8'}. Applying running numbers for duplicates.\n",
      "  data = mne.io.read_raw_edf(filename, preload = True)\n",
      "C:\\Users\\Bliss\\AppData\\Local\\Temp\\ipykernel_18484\\4024244321.py:2: RuntimeWarning: Scaling factor is not defined in following channels:\n",
      "--0, --1, --2, --3, --4\n",
      "  data = mne.io.read_raw_edf(filename, preload = True)\n",
      "WARNING:root:Did not find any electrode locations (in the info object), will attempt to use digitization points instead. However, if digitization points do not correspond to the EEG electrodes, this will lead to bad results. Please verify that the sensor locations in the plot are accurate.\n"
     ]
    },
    {
     "name": "stdout",
     "output_type": "stream",
     "text": [
      "EEG channel type selected for re-referencing\n",
      "Applying average reference.\n",
      "Applying a custom ('EEG',) reference.\n",
      "Not setting metadata\n",
      "899 matching events found\n",
      "No baseline correction applied\n",
      "0 projection items activated\n",
      "Extracting EDF parameters from c:\\Users\\Bliss\\seizure_detection_project\\seizure_detection_project\\Dataset\\chb21\\chb21_20.edf...\n",
      "EDF file detected\n",
      "Setting channel info structure...\n",
      "Creating raw.info structure...\n",
      "Reading 0 ... 765439  =      0.000 ...  2989.996 secs...\n"
     ]
    },
    {
     "name": "stderr",
     "output_type": "stream",
     "text": [
      "C:\\Users\\Bliss\\AppData\\Local\\Temp\\ipykernel_18484\\4024244321.py:2: RuntimeWarning: Channel names are not unique, found duplicates for: {'-', 'T8-P8'}. Applying running numbers for duplicates.\n",
      "  data = mne.io.read_raw_edf(filename, preload = True)\n",
      "C:\\Users\\Bliss\\AppData\\Local\\Temp\\ipykernel_18484\\4024244321.py:2: RuntimeWarning: Scaling factor is not defined in following channels:\n",
      "--0, --1, --2, --3, --4\n",
      "  data = mne.io.read_raw_edf(filename, preload = True)\n",
      "WARNING:root:Did not find any electrode locations (in the info object), will attempt to use digitization points instead. However, if digitization points do not correspond to the EEG electrodes, this will lead to bad results. Please verify that the sensor locations in the plot are accurate.\n"
     ]
    },
    {
     "name": "stdout",
     "output_type": "stream",
     "text": [
      "EEG channel type selected for re-referencing\n",
      "Applying average reference.\n",
      "Applying a custom ('EEG',) reference.\n",
      "Not setting metadata\n",
      "747 matching events found\n",
      "No baseline correction applied\n",
      "0 projection items activated\n",
      "Extracting EDF parameters from c:\\Users\\Bliss\\seizure_detection_project\\seizure_detection_project\\Dataset\\chb21\\chb21_21.edf...\n",
      "EDF file detected\n",
      "Setting channel info structure...\n",
      "Creating raw.info structure...\n",
      "Reading 0 ... 921599  =      0.000 ...  3599.996 secs...\n"
     ]
    },
    {
     "name": "stderr",
     "output_type": "stream",
     "text": [
      "C:\\Users\\Bliss\\AppData\\Local\\Temp\\ipykernel_18484\\4024244321.py:2: RuntimeWarning: Channel names are not unique, found duplicates for: {'-', 'T8-P8'}. Applying running numbers for duplicates.\n",
      "  data = mne.io.read_raw_edf(filename, preload = True)\n",
      "C:\\Users\\Bliss\\AppData\\Local\\Temp\\ipykernel_18484\\4024244321.py:2: RuntimeWarning: Scaling factor is not defined in following channels:\n",
      "--0, --1, --2, --3, --4\n",
      "  data = mne.io.read_raw_edf(filename, preload = True)\n",
      "WARNING:root:Did not find any electrode locations (in the info object), will attempt to use digitization points instead. However, if digitization points do not correspond to the EEG electrodes, this will lead to bad results. Please verify that the sensor locations in the plot are accurate.\n"
     ]
    },
    {
     "name": "stdout",
     "output_type": "stream",
     "text": [
      "EEG channel type selected for re-referencing\n",
      "Applying average reference.\n",
      "Applying a custom ('EEG',) reference.\n",
      "Not setting metadata\n",
      "899 matching events found\n",
      "No baseline correction applied\n",
      "0 projection items activated\n",
      "Extracting EDF parameters from c:\\Users\\Bliss\\seizure_detection_project\\seizure_detection_project\\Dataset\\chb21\\chb21_22.edf...\n",
      "EDF file detected\n",
      "Setting channel info structure...\n",
      "Creating raw.info structure...\n",
      "Reading 0 ... 921599  =      0.000 ...  3599.996 secs...\n"
     ]
    },
    {
     "name": "stderr",
     "output_type": "stream",
     "text": [
      "C:\\Users\\Bliss\\AppData\\Local\\Temp\\ipykernel_18484\\4024244321.py:2: RuntimeWarning: Channel names are not unique, found duplicates for: {'-', 'T8-P8'}. Applying running numbers for duplicates.\n",
      "  data = mne.io.read_raw_edf(filename, preload = True)\n",
      "C:\\Users\\Bliss\\AppData\\Local\\Temp\\ipykernel_18484\\4024244321.py:2: RuntimeWarning: Scaling factor is not defined in following channels:\n",
      "--0, --1, --2, --3, --4\n",
      "  data = mne.io.read_raw_edf(filename, preload = True)\n",
      "WARNING:root:Did not find any electrode locations (in the info object), will attempt to use digitization points instead. However, if digitization points do not correspond to the EEG electrodes, this will lead to bad results. Please verify that the sensor locations in the plot are accurate.\n"
     ]
    },
    {
     "name": "stdout",
     "output_type": "stream",
     "text": [
      "EEG channel type selected for re-referencing\n",
      "Applying average reference.\n",
      "Applying a custom ('EEG',) reference.\n",
      "Not setting metadata\n",
      "899 matching events found\n",
      "No baseline correction applied\n",
      "0 projection items activated\n",
      "Extracting EDF parameters from c:\\Users\\Bliss\\seizure_detection_project\\seizure_detection_project\\Dataset\\chb21\\chb21_01.edf...\n",
      "EDF file detected\n",
      "Setting channel info structure...\n",
      "Creating raw.info structure...\n",
      "Reading 0 ... 921599  =      0.000 ...  3599.996 secs...\n"
     ]
    },
    {
     "name": "stderr",
     "output_type": "stream",
     "text": [
      "C:\\Users\\Bliss\\AppData\\Local\\Temp\\ipykernel_18484\\4024244321.py:2: RuntimeWarning: Channel names are not unique, found duplicates for: {'-', 'T8-P8'}. Applying running numbers for duplicates.\n",
      "  data = mne.io.read_raw_edf(filename, preload = True)\n",
      "C:\\Users\\Bliss\\AppData\\Local\\Temp\\ipykernel_18484\\4024244321.py:2: RuntimeWarning: Scaling factor is not defined in following channels:\n",
      "--0, --1, --2, --3, --4\n",
      "  data = mne.io.read_raw_edf(filename, preload = True)\n",
      "WARNING:root:Did not find any electrode locations (in the info object), will attempt to use digitization points instead. However, if digitization points do not correspond to the EEG electrodes, this will lead to bad results. Please verify that the sensor locations in the plot are accurate.\n"
     ]
    },
    {
     "name": "stdout",
     "output_type": "stream",
     "text": [
      "EEG channel type selected for re-referencing\n",
      "Applying average reference.\n",
      "Applying a custom ('EEG',) reference.\n",
      "Not setting metadata\n",
      "899 matching events found\n",
      "No baseline correction applied\n",
      "0 projection items activated\n",
      "Extracting EDF parameters from c:\\Users\\Bliss\\seizure_detection_project\\seizure_detection_project\\Dataset\\chb21\\chb21_23.edf...\n",
      "EDF file detected\n",
      "Setting channel info structure...\n",
      "Creating raw.info structure...\n",
      "Reading 0 ... 921599  =      0.000 ...  3599.996 secs...\n"
     ]
    },
    {
     "name": "stderr",
     "output_type": "stream",
     "text": [
      "C:\\Users\\Bliss\\AppData\\Local\\Temp\\ipykernel_18484\\4024244321.py:2: RuntimeWarning: Channel names are not unique, found duplicates for: {'-', 'T8-P8'}. Applying running numbers for duplicates.\n",
      "  data = mne.io.read_raw_edf(filename, preload = True)\n",
      "C:\\Users\\Bliss\\AppData\\Local\\Temp\\ipykernel_18484\\4024244321.py:2: RuntimeWarning: Scaling factor is not defined in following channels:\n",
      "--0, --1, --2, --3, --4\n",
      "  data = mne.io.read_raw_edf(filename, preload = True)\n",
      "WARNING:root:Did not find any electrode locations (in the info object), will attempt to use digitization points instead. However, if digitization points do not correspond to the EEG electrodes, this will lead to bad results. Please verify that the sensor locations in the plot are accurate.\n"
     ]
    },
    {
     "name": "stdout",
     "output_type": "stream",
     "text": [
      "EEG channel type selected for re-referencing\n",
      "Applying average reference.\n",
      "Applying a custom ('EEG',) reference.\n",
      "Not setting metadata\n",
      "899 matching events found\n",
      "No baseline correction applied\n",
      "0 projection items activated\n",
      "Extracting EDF parameters from c:\\Users\\Bliss\\seizure_detection_project\\seizure_detection_project\\Dataset\\chb21\\chb21_02.edf...\n",
      "EDF file detected\n",
      "Setting channel info structure...\n",
      "Creating raw.info structure...\n",
      "Reading 0 ... 921599  =      0.000 ...  3599.996 secs...\n"
     ]
    },
    {
     "name": "stderr",
     "output_type": "stream",
     "text": [
      "C:\\Users\\Bliss\\AppData\\Local\\Temp\\ipykernel_18484\\4024244321.py:2: RuntimeWarning: Channel names are not unique, found duplicates for: {'-', 'T8-P8'}. Applying running numbers for duplicates.\n",
      "  data = mne.io.read_raw_edf(filename, preload = True)\n",
      "C:\\Users\\Bliss\\AppData\\Local\\Temp\\ipykernel_18484\\4024244321.py:2: RuntimeWarning: Scaling factor is not defined in following channels:\n",
      "--0, --1, --2, --3, --4\n",
      "  data = mne.io.read_raw_edf(filename, preload = True)\n",
      "WARNING:root:Did not find any electrode locations (in the info object), will attempt to use digitization points instead. However, if digitization points do not correspond to the EEG electrodes, this will lead to bad results. Please verify that the sensor locations in the plot are accurate.\n"
     ]
    },
    {
     "name": "stdout",
     "output_type": "stream",
     "text": [
      "EEG channel type selected for re-referencing\n",
      "Applying average reference.\n",
      "Applying a custom ('EEG',) reference.\n",
      "Not setting metadata\n",
      "899 matching events found\n",
      "No baseline correction applied\n",
      "0 projection items activated\n",
      "Extracting EDF parameters from c:\\Users\\Bliss\\seizure_detection_project\\seizure_detection_project\\Dataset\\chb21\\chb21_03.edf...\n",
      "EDF file detected\n",
      "Setting channel info structure...\n",
      "Creating raw.info structure...\n",
      "Reading 0 ... 921599  =      0.000 ...  3599.996 secs...\n"
     ]
    },
    {
     "name": "stderr",
     "output_type": "stream",
     "text": [
      "C:\\Users\\Bliss\\AppData\\Local\\Temp\\ipykernel_18484\\4024244321.py:2: RuntimeWarning: Channel names are not unique, found duplicates for: {'-', 'T8-P8'}. Applying running numbers for duplicates.\n",
      "  data = mne.io.read_raw_edf(filename, preload = True)\n",
      "C:\\Users\\Bliss\\AppData\\Local\\Temp\\ipykernel_18484\\4024244321.py:2: RuntimeWarning: Scaling factor is not defined in following channels:\n",
      "--0, --1, --2, --3, --4\n",
      "  data = mne.io.read_raw_edf(filename, preload = True)\n",
      "WARNING:root:Did not find any electrode locations (in the info object), will attempt to use digitization points instead. However, if digitization points do not correspond to the EEG electrodes, this will lead to bad results. Please verify that the sensor locations in the plot are accurate.\n"
     ]
    },
    {
     "name": "stdout",
     "output_type": "stream",
     "text": [
      "EEG channel type selected for re-referencing\n",
      "Applying average reference.\n",
      "Applying a custom ('EEG',) reference.\n",
      "Not setting metadata\n",
      "899 matching events found\n",
      "No baseline correction applied\n",
      "0 projection items activated\n",
      "Extracting EDF parameters from c:\\Users\\Bliss\\seizure_detection_project\\seizure_detection_project\\Dataset\\chb21\\chb21_24.edf...\n",
      "EDF file detected\n",
      "Setting channel info structure...\n",
      "Creating raw.info structure...\n",
      "Reading 0 ... 921599  =      0.000 ...  3599.996 secs...\n"
     ]
    },
    {
     "name": "stderr",
     "output_type": "stream",
     "text": [
      "C:\\Users\\Bliss\\AppData\\Local\\Temp\\ipykernel_18484\\4024244321.py:2: RuntimeWarning: Channel names are not unique, found duplicates for: {'-', 'T8-P8'}. Applying running numbers for duplicates.\n",
      "  data = mne.io.read_raw_edf(filename, preload = True)\n",
      "C:\\Users\\Bliss\\AppData\\Local\\Temp\\ipykernel_18484\\4024244321.py:2: RuntimeWarning: Scaling factor is not defined in following channels:\n",
      "--0, --1, --2, --3, --4\n",
      "  data = mne.io.read_raw_edf(filename, preload = True)\n",
      "WARNING:root:Did not find any electrode locations (in the info object), will attempt to use digitization points instead. However, if digitization points do not correspond to the EEG electrodes, this will lead to bad results. Please verify that the sensor locations in the plot are accurate.\n"
     ]
    },
    {
     "name": "stdout",
     "output_type": "stream",
     "text": [
      "EEG channel type selected for re-referencing\n",
      "Applying average reference.\n",
      "Applying a custom ('EEG',) reference.\n",
      "Not setting metadata\n",
      "899 matching events found\n",
      "No baseline correction applied\n",
      "0 projection items activated\n",
      "Extracting EDF parameters from c:\\Users\\Bliss\\seizure_detection_project\\seizure_detection_project\\Dataset\\chb21\\chb21_04.edf...\n",
      "EDF file detected\n",
      "Setting channel info structure...\n",
      "Creating raw.info structure...\n",
      "Reading 0 ... 921599  =      0.000 ...  3599.996 secs...\n"
     ]
    },
    {
     "name": "stderr",
     "output_type": "stream",
     "text": [
      "C:\\Users\\Bliss\\AppData\\Local\\Temp\\ipykernel_18484\\4024244321.py:2: RuntimeWarning: Channel names are not unique, found duplicates for: {'-', 'T8-P8'}. Applying running numbers for duplicates.\n",
      "  data = mne.io.read_raw_edf(filename, preload = True)\n",
      "C:\\Users\\Bliss\\AppData\\Local\\Temp\\ipykernel_18484\\4024244321.py:2: RuntimeWarning: Scaling factor is not defined in following channels:\n",
      "--0, --1, --2, --3, --4\n",
      "  data = mne.io.read_raw_edf(filename, preload = True)\n",
      "WARNING:root:Did not find any electrode locations (in the info object), will attempt to use digitization points instead. However, if digitization points do not correspond to the EEG electrodes, this will lead to bad results. Please verify that the sensor locations in the plot are accurate.\n"
     ]
    },
    {
     "name": "stdout",
     "output_type": "stream",
     "text": [
      "EEG channel type selected for re-referencing\n",
      "Applying average reference.\n",
      "Applying a custom ('EEG',) reference.\n",
      "Not setting metadata\n",
      "899 matching events found\n",
      "No baseline correction applied\n",
      "0 projection items activated\n",
      "Extracting EDF parameters from c:\\Users\\Bliss\\seizure_detection_project\\seizure_detection_project\\Dataset\\chb21\\chb21_05.edf...\n",
      "EDF file detected\n",
      "Setting channel info structure...\n",
      "Creating raw.info structure...\n",
      "Reading 0 ... 921599  =      0.000 ...  3599.996 secs...\n"
     ]
    },
    {
     "name": "stderr",
     "output_type": "stream",
     "text": [
      "C:\\Users\\Bliss\\AppData\\Local\\Temp\\ipykernel_18484\\4024244321.py:2: RuntimeWarning: Channel names are not unique, found duplicates for: {'-', 'T8-P8'}. Applying running numbers for duplicates.\n",
      "  data = mne.io.read_raw_edf(filename, preload = True)\n",
      "C:\\Users\\Bliss\\AppData\\Local\\Temp\\ipykernel_18484\\4024244321.py:2: RuntimeWarning: Scaling factor is not defined in following channels:\n",
      "--0, --1, --2, --3, --4\n",
      "  data = mne.io.read_raw_edf(filename, preload = True)\n",
      "WARNING:root:Did not find any electrode locations (in the info object), will attempt to use digitization points instead. However, if digitization points do not correspond to the EEG electrodes, this will lead to bad results. Please verify that the sensor locations in the plot are accurate.\n"
     ]
    },
    {
     "name": "stdout",
     "output_type": "stream",
     "text": [
      "EEG channel type selected for re-referencing\n",
      "Applying average reference.\n",
      "Applying a custom ('EEG',) reference.\n",
      "Not setting metadata\n",
      "899 matching events found\n",
      "No baseline correction applied\n",
      "0 projection items activated\n",
      "Extracting EDF parameters from c:\\Users\\Bliss\\seizure_detection_project\\seizure_detection_project\\Dataset\\chb21\\chb21_25.edf...\n",
      "EDF file detected\n",
      "Setting channel info structure...\n",
      "Creating raw.info structure...\n",
      "Reading 0 ... 921599  =      0.000 ...  3599.996 secs...\n"
     ]
    },
    {
     "name": "stderr",
     "output_type": "stream",
     "text": [
      "C:\\Users\\Bliss\\AppData\\Local\\Temp\\ipykernel_18484\\4024244321.py:2: RuntimeWarning: Channel names are not unique, found duplicates for: {'-', 'T8-P8'}. Applying running numbers for duplicates.\n",
      "  data = mne.io.read_raw_edf(filename, preload = True)\n",
      "C:\\Users\\Bliss\\AppData\\Local\\Temp\\ipykernel_18484\\4024244321.py:2: RuntimeWarning: Scaling factor is not defined in following channels:\n",
      "--0, --1, --2, --3, --4\n",
      "  data = mne.io.read_raw_edf(filename, preload = True)\n",
      "WARNING:root:Did not find any electrode locations (in the info object), will attempt to use digitization points instead. However, if digitization points do not correspond to the EEG electrodes, this will lead to bad results. Please verify that the sensor locations in the plot are accurate.\n"
     ]
    },
    {
     "name": "stdout",
     "output_type": "stream",
     "text": [
      "EEG channel type selected for re-referencing\n",
      "Applying average reference.\n",
      "Applying a custom ('EEG',) reference.\n",
      "Not setting metadata\n",
      "899 matching events found\n",
      "No baseline correction applied\n",
      "0 projection items activated\n",
      "Extracting EDF parameters from c:\\Users\\Bliss\\seizure_detection_project\\seizure_detection_project\\Dataset\\chb21\\chb21_06.edf...\n",
      "EDF file detected\n",
      "Setting channel info structure...\n",
      "Creating raw.info structure...\n",
      "Reading 0 ... 921599  =      0.000 ...  3599.996 secs...\n"
     ]
    },
    {
     "name": "stderr",
     "output_type": "stream",
     "text": [
      "C:\\Users\\Bliss\\AppData\\Local\\Temp\\ipykernel_18484\\4024244321.py:2: RuntimeWarning: Channel names are not unique, found duplicates for: {'-', 'T8-P8'}. Applying running numbers for duplicates.\n",
      "  data = mne.io.read_raw_edf(filename, preload = True)\n",
      "C:\\Users\\Bliss\\AppData\\Local\\Temp\\ipykernel_18484\\4024244321.py:2: RuntimeWarning: Scaling factor is not defined in following channels:\n",
      "--0, --1, --2, --3, --4\n",
      "  data = mne.io.read_raw_edf(filename, preload = True)\n",
      "WARNING:root:Did not find any electrode locations (in the info object), will attempt to use digitization points instead. However, if digitization points do not correspond to the EEG electrodes, this will lead to bad results. Please verify that the sensor locations in the plot are accurate.\n"
     ]
    },
    {
     "name": "stdout",
     "output_type": "stream",
     "text": [
      "EEG channel type selected for re-referencing\n",
      "Applying average reference.\n",
      "Applying a custom ('EEG',) reference.\n",
      "Not setting metadata\n",
      "899 matching events found\n",
      "No baseline correction applied\n",
      "0 projection items activated\n",
      "Extracting EDF parameters from c:\\Users\\Bliss\\seizure_detection_project\\seizure_detection_project\\Dataset\\chb21\\chb21_26.edf...\n",
      "EDF file detected\n",
      "Setting channel info structure...\n",
      "Creating raw.info structure...\n",
      "Reading 0 ... 921599  =      0.000 ...  3599.996 secs...\n"
     ]
    },
    {
     "name": "stderr",
     "output_type": "stream",
     "text": [
      "C:\\Users\\Bliss\\AppData\\Local\\Temp\\ipykernel_18484\\4024244321.py:2: RuntimeWarning: Channel names are not unique, found duplicates for: {'-', 'T8-P8'}. Applying running numbers for duplicates.\n",
      "  data = mne.io.read_raw_edf(filename, preload = True)\n",
      "C:\\Users\\Bliss\\AppData\\Local\\Temp\\ipykernel_18484\\4024244321.py:2: RuntimeWarning: Scaling factor is not defined in following channels:\n",
      "--0, --1, --2, --3, --4\n",
      "  data = mne.io.read_raw_edf(filename, preload = True)\n",
      "WARNING:root:Did not find any electrode locations (in the info object), will attempt to use digitization points instead. However, if digitization points do not correspond to the EEG electrodes, this will lead to bad results. Please verify that the sensor locations in the plot are accurate.\n"
     ]
    },
    {
     "name": "stdout",
     "output_type": "stream",
     "text": [
      "EEG channel type selected for re-referencing\n",
      "Applying average reference.\n",
      "Applying a custom ('EEG',) reference.\n",
      "Not setting metadata\n",
      "899 matching events found\n",
      "No baseline correction applied\n",
      "0 projection items activated\n",
      "Extracting EDF parameters from c:\\Users\\Bliss\\seizure_detection_project\\seizure_detection_project\\Dataset\\chb21\\chb21_07.edf...\n",
      "EDF file detected\n",
      "Setting channel info structure...\n",
      "Creating raw.info structure...\n",
      "Reading 0 ... 921599  =      0.000 ...  3599.996 secs...\n"
     ]
    },
    {
     "name": "stderr",
     "output_type": "stream",
     "text": [
      "C:\\Users\\Bliss\\AppData\\Local\\Temp\\ipykernel_18484\\4024244321.py:2: RuntimeWarning: Channel names are not unique, found duplicates for: {'-', 'T8-P8'}. Applying running numbers for duplicates.\n",
      "  data = mne.io.read_raw_edf(filename, preload = True)\n",
      "C:\\Users\\Bliss\\AppData\\Local\\Temp\\ipykernel_18484\\4024244321.py:2: RuntimeWarning: Scaling factor is not defined in following channels:\n",
      "--0, --1, --2, --3, --4\n",
      "  data = mne.io.read_raw_edf(filename, preload = True)\n",
      "WARNING:root:Did not find any electrode locations (in the info object), will attempt to use digitization points instead. However, if digitization points do not correspond to the EEG electrodes, this will lead to bad results. Please verify that the sensor locations in the plot are accurate.\n"
     ]
    },
    {
     "name": "stdout",
     "output_type": "stream",
     "text": [
      "EEG channel type selected for re-referencing\n",
      "Applying average reference.\n",
      "Applying a custom ('EEG',) reference.\n",
      "Not setting metadata\n",
      "899 matching events found\n",
      "No baseline correction applied\n",
      "0 projection items activated\n"
     ]
    }
   ],
   "source": [
    "all_data, all_epochs = get_epochs(file_names)"
   ]
  },
  {
   "attachments": {},
   "cell_type": "markdown",
   "metadata": {},
   "source": [
    "the previous method returns a list of epochs, so combining them into one epochs object"
   ]
  },
  {
   "cell_type": "code",
   "execution_count": 94,
   "metadata": {},
   "outputs": [
    {
     "name": "stdout",
     "output_type": "stream",
     "text": [
      "Using data from preloaded Raw for 899 events and 1280 original time points ...\n",
      "0 bad epochs dropped\n",
      "Using data from preloaded Raw for 899 events and 1280 original time points ...\n",
      "0 bad epochs dropped\n",
      "Using data from preloaded Raw for 899 events and 1280 original time points ...\n",
      "0 bad epochs dropped\n",
      "Using data from preloaded Raw for 899 events and 1280 original time points ...\n",
      "0 bad epochs dropped\n",
      "Using data from preloaded Raw for 899 events and 1280 original time points ...\n",
      "0 bad epochs dropped\n",
      "Using data from preloaded Raw for 899 events and 1280 original time points ...\n",
      "0 bad epochs dropped\n",
      "Using data from preloaded Raw for 899 events and 1280 original time points ...\n",
      "0 bad epochs dropped\n",
      "Using data from preloaded Raw for 899 events and 1280 original time points ...\n",
      "0 bad epochs dropped\n",
      "Using data from preloaded Raw for 899 events and 1280 original time points ...\n",
      "0 bad epochs dropped\n",
      "Using data from preloaded Raw for 899 events and 1280 original time points ...\n",
      "0 bad epochs dropped\n",
      "Using data from preloaded Raw for 899 events and 1280 original time points ...\n",
      "0 bad epochs dropped\n",
      "Using data from preloaded Raw for 899 events and 1280 original time points ...\n",
      "0 bad epochs dropped\n",
      "Using data from preloaded Raw for 899 events and 1280 original time points ...\n",
      "0 bad epochs dropped\n",
      "Using data from preloaded Raw for 899 events and 1280 original time points ...\n",
      "0 bad epochs dropped\n",
      "Using data from preloaded Raw for 899 events and 1280 original time points ...\n",
      "0 bad epochs dropped\n",
      "Using data from preloaded Raw for 899 events and 1280 original time points ...\n",
      "0 bad epochs dropped\n",
      "Using data from preloaded Raw for 747 events and 1280 original time points ...\n",
      "0 bad epochs dropped\n",
      "Using data from preloaded Raw for 899 events and 1280 original time points ...\n",
      "0 bad epochs dropped\n",
      "Using data from preloaded Raw for 899 events and 1280 original time points ...\n",
      "0 bad epochs dropped\n",
      "Using data from preloaded Raw for 899 events and 1280 original time points ...\n",
      "0 bad epochs dropped\n",
      "Using data from preloaded Raw for 899 events and 1280 original time points ...\n",
      "0 bad epochs dropped\n",
      "Using data from preloaded Raw for 899 events and 1280 original time points ...\n",
      "0 bad epochs dropped\n",
      "Using data from preloaded Raw for 899 events and 1280 original time points ...\n",
      "0 bad epochs dropped\n",
      "Using data from preloaded Raw for 899 events and 1280 original time points ...\n",
      "0 bad epochs dropped\n",
      "Using data from preloaded Raw for 899 events and 1280 original time points ...\n",
      "0 bad epochs dropped\n",
      "Using data from preloaded Raw for 899 events and 1280 original time points ...\n",
      "0 bad epochs dropped\n",
      "Using data from preloaded Raw for 899 events and 1280 original time points ...\n",
      "0 bad epochs dropped\n",
      "Using data from preloaded Raw for 899 events and 1280 original time points ...\n",
      "0 bad epochs dropped\n",
      "Using data from preloaded Raw for 899 events and 1280 original time points ...\n",
      "0 bad epochs dropped\n",
      "Using data from preloaded Raw for 899 events and 1280 original time points ...\n",
      "0 bad epochs dropped\n",
      "Using data from preloaded Raw for 899 events and 1280 original time points ...\n",
      "0 bad epochs dropped\n",
      "Using data from preloaded Raw for 899 events and 1280 original time points ...\n",
      "0 bad epochs dropped\n",
      "Using data from preloaded Raw for 899 events and 1280 original time points ...\n",
      "0 bad epochs dropped\n",
      "Using data from preloaded Raw for 899 events and 1280 original time points ...\n",
      "Using data from preloaded Raw for 899 events and 1280 original time points ...\n",
      "Using data from preloaded Raw for 899 events and 1280 original time points ...\n",
      "Using data from preloaded Raw for 899 events and 1280 original time points ...\n",
      "Using data from preloaded Raw for 899 events and 1280 original time points ...\n",
      "Using data from preloaded Raw for 899 events and 1280 original time points ...\n",
      "Using data from preloaded Raw for 899 events and 1280 original time points ...\n",
      "Using data from preloaded Raw for 899 events and 1280 original time points ...\n",
      "Using data from preloaded Raw for 899 events and 1280 original time points ...\n",
      "Using data from preloaded Raw for 899 events and 1280 original time points ...\n",
      "Using data from preloaded Raw for 899 events and 1280 original time points ...\n",
      "Using data from preloaded Raw for 899 events and 1280 original time points ...\n",
      "Using data from preloaded Raw for 899 events and 1280 original time points ...\n",
      "Using data from preloaded Raw for 899 events and 1280 original time points ...\n",
      "Using data from preloaded Raw for 899 events and 1280 original time points ...\n",
      "Using data from preloaded Raw for 899 events and 1280 original time points ...\n",
      "Using data from preloaded Raw for 747 events and 1280 original time points ...\n",
      "Using data from preloaded Raw for 899 events and 1280 original time points ...\n",
      "Using data from preloaded Raw for 899 events and 1280 original time points ...\n",
      "Using data from preloaded Raw for 899 events and 1280 original time points ...\n",
      "Using data from preloaded Raw for 899 events and 1280 original time points ...\n",
      "Using data from preloaded Raw for 899 events and 1280 original time points ...\n",
      "Using data from preloaded Raw for 899 events and 1280 original time points ...\n",
      "Using data from preloaded Raw for 899 events and 1280 original time points ...\n",
      "Using data from preloaded Raw for 899 events and 1280 original time points ...\n",
      "Using data from preloaded Raw for 899 events and 1280 original time points ...\n",
      "Using data from preloaded Raw for 899 events and 1280 original time points ...\n",
      "Using data from preloaded Raw for 899 events and 1280 original time points ...\n",
      "Using data from preloaded Raw for 899 events and 1280 original time points ...\n",
      "Using data from preloaded Raw for 899 events and 1280 original time points ...\n",
      "Using data from preloaded Raw for 899 events and 1280 original time points ...\n",
      "Using data from preloaded Raw for 899 events and 1280 original time points ...\n",
      "Using data from preloaded Raw for 899 events and 1280 original time points ...\n",
      "Not setting metadata\n",
      "29515 matching events found\n",
      "No baseline correction applied\n"
     ]
    }
   ],
   "source": [
    "all_epochs = mne.concatenate_epochs(all_epochs)"
   ]
  },
  {
   "attachments": {},
   "cell_type": "markdown",
   "metadata": {},
   "source": [
    "Saving the epochs into a file using pickle"
   ]
  },
  {
   "cell_type": "code",
   "execution_count": 99,
   "metadata": {},
   "outputs": [],
   "source": [
    "def save_epochs(epochs, file):\n",
    "    with open(file, 'wb') as file: \n",
    "        pickle.dump(epochs, file)"
   ]
  },
  {
   "attachments": {},
   "cell_type": "markdown",
   "metadata": {},
   "source": [
    "Function to load the epochs again"
   ]
  },
  {
   "cell_type": "code",
   "execution_count": 97,
   "metadata": {},
   "outputs": [],
   "source": [
    "def load_epochs(file):\n",
    "    with open(file, 'rb') as file:\n",
    "        epochs = pickle.load(file)\n",
    "    return epochs"
   ]
  },
  {
   "cell_type": "code",
   "execution_count": 100,
   "metadata": {},
   "outputs": [],
   "source": [
    "save_epochs(all_epochs, 'epochs.pkl')"
   ]
  },
  {
   "cell_type": "code",
   "execution_count": 101,
   "metadata": {},
   "outputs": [],
   "source": [
    "all_epochs = load_epochs('epochs.pkl')"
   ]
  },
  {
   "cell_type": "code",
   "execution_count": 102,
   "metadata": {},
   "outputs": [
    {
     "name": "stdout",
     "output_type": "stream",
     "text": [
      "<Info | 8 non-empty values\n",
      " bads: []\n",
      " ch_names: FP1-F7, F7-T7, T7-P7, P7-O1, --0, FP1-F3, F3-C3, C3-P3, P3-O1, ...\n",
      " chs: 28 EEG\n",
      " custom_ref_applied: True\n",
      " highpass: 0.0 Hz\n",
      " lowpass: 128.0 Hz\n",
      " meas_date: 2055-08-12 00:36:39 UTC\n",
      " nchan: 28\n",
      " projs: []\n",
      " sfreq: 256.0 Hz\n",
      ">\n"
     ]
    }
   ],
   "source": [
    "print(all_epochs.info)"
   ]
  },
  {
   "cell_type": "code",
   "execution_count": 103,
   "metadata": {},
   "outputs": [],
   "source": [
    "def make_topography_images(epochs, pos):\n",
    "    mne.viz.plot_topomap(epochs, pos)"
   ]
  },
  {
   "cell_type": "markdown",
   "metadata": {},
   "source": [
    "Making EEG montage"
   ]
  },
  {
   "cell_type": "code",
   "execution_count": 105,
   "metadata": {},
   "outputs": [],
   "source": [
    "montage =  mne.channels.make_standard_montage('standard_1020')"
   ]
  },
  {
   "cell_type": "markdown",
   "metadata": {},
   "source": [
    "Renaming Channel"
   ]
  },
  {
   "cell_type": "code",
   "execution_count": 104,
   "metadata": {},
   "outputs": [],
   "source": [
    "new_channels = ['FP1', 'F7', 'T7', 'P7', 'F3', 'C3', 'P3', 'O1', 'FP2', 'F4', 'C4', 'P4', 'F8', 'T8', 'PO8', 'O2', 'FZ', 'CZ', 'FT9', 'FT10']"
   ]
  },
  {
   "cell_type": "code",
   "execution_count": 106,
   "metadata": {},
   "outputs": [],
   "source": [
    "channels = ['FP1-F7', 'F7-T7', 'T7-P7', 'P7-O1', 'FP1-F3', 'F3-C3', 'C3-P3', 'P3-O1', 'FP2-F4', 'F4-C4', 'C4-P4', 'P4-O2', 'FP2-F8', 'F8-T8', 'T8-P8-0', 'P8-O2', 'FZ-CZ', 'CZ-PZ', 'T7-FT9', 'FT9-FT10']\n",
    "mapping = {}\n",
    "for i in range(len(channels)):\n",
    "    mapping.update({channels[i]: new_channels[i]})"
   ]
  },
  {
   "cell_type": "code",
   "execution_count": 107,
   "metadata": {},
   "outputs": [],
   "source": [
    "mne.rename_channels(all_epochs.info, mapping)"
   ]
  },
  {
   "attachments": {},
   "cell_type": "markdown",
   "metadata": {},
   "source": [
    "Dropping channels bc they do not fit into the montage generated by mne\n",
    "data.drop_channels(['FP1', 'FP2', 'FZ', 'CZ', 'FT10-T8', 'T8-P8-1', 'P7-T7', '--0', '--1', '--2', '--3', '--4'])"
   ]
  },
  {
   "cell_type": "code",
   "execution_count": 111,
   "metadata": {},
   "outputs": [
    {
     "data": {
      "text/html": [
       "<table class=\"table table-hover table-striped table-sm table-responsive small\">\n",
       "    <tr>\n",
       "        <th>Number of events</th>\n",
       "        <td>29515</td>\n",
       "    </tr>\n",
       "    <tr>\n",
       "        <th>Events</th>\n",
       "        \n",
       "        <td>1: 29515</td>\n",
       "        \n",
       "    </tr>\n",
       "    <tr>\n",
       "        <th>Time range</th>\n",
       "        <td>0.000 – 4.996 sec</td>\n",
       "    </tr>\n",
       "    <tr>\n",
       "        <th>Baseline</th>\n",
       "        <td>off</td>\n",
       "    </tr>\n",
       "</table>"
      ],
      "text/plain": [
       "<Epochs |  29515 events (all good), 0 - 4.99609 sec, baseline off, ~4.50 GB, data loaded,\n",
       " '1': 29515>"
      ]
     },
     "execution_count": 111,
     "metadata": {},
     "output_type": "execute_result"
    }
   ],
   "source": [
    "all_epochs.drop_channels(['--0', '--1', '--2', '--3', '--4'])"
   ]
  },
  {
   "cell_type": "code",
   "execution_count": 112,
   "metadata": {},
   "outputs": [
    {
     "data": {
      "text/html": [
       "<table class=\"table table-hover table-striped table-sm table-responsive small\">\n",
       "    <tr>\n",
       "        <th>Measurement date</th>\n",
       "        \n",
       "        <td>August 12, 2055  00:36:39 GMT</td>\n",
       "        \n",
       "    </tr>\n",
       "    <tr>\n",
       "        <th>Experimenter</th>\n",
       "        \n",
       "        <td>Unknown</td>\n",
       "        \n",
       "    </tr>\n",
       "        <th>Participant</th>\n",
       "        \n",
       "        <td>Unknown</td>\n",
       "        \n",
       "    </tr>\n",
       "    <tr>\n",
       "        <th>Digitized points</th>\n",
       "        \n",
       "        <td>Not available</td>\n",
       "        \n",
       "    </tr>\n",
       "    <tr>\n",
       "        <th>Good channels</th>\n",
       "        <td>16 EEG</td>\n",
       "    </tr>\n",
       "    <tr>\n",
       "        <th>Bad channels</th>\n",
       "        <td>None</td>\n",
       "    </tr>\n",
       "    <tr>\n",
       "        <th>EOG channels</th>\n",
       "        <td>Not available</td>\n",
       "    </tr>\n",
       "    <tr>\n",
       "        <th>ECG channels</th>\n",
       "        <td>Not available</td>\n",
       "    \n",
       "    <tr>\n",
       "        <th>Sampling frequency</th>\n",
       "        <td>256.00 Hz</td>\n",
       "    </tr>\n",
       "    \n",
       "    \n",
       "    <tr>\n",
       "        <th>Highpass</th>\n",
       "        <td>0.00 Hz</td>\n",
       "    </tr>\n",
       "    \n",
       "    \n",
       "    <tr>\n",
       "        <th>Lowpass</th>\n",
       "        <td>128.00 Hz</td>\n",
       "    </tr>\n",
       "    \n",
       "    \n",
       "</table>"
      ],
      "text/plain": [
       "<Info | 8 non-empty values\n",
       " bads: []\n",
       " ch_names: F7, T7, P7, F3, C3, P3, O1, F4, C4, P4, F8, T8, PO8, O2, FT9, FT10\n",
       " chs: 16 EEG\n",
       " custom_ref_applied: True\n",
       " highpass: 0.0 Hz\n",
       " lowpass: 128.0 Hz\n",
       " meas_date: 2055-08-12 00:36:39 UTC\n",
       " nchan: 16\n",
       " projs: []\n",
       " sfreq: 256.0 Hz\n",
       ">"
      ]
     },
     "execution_count": 112,
     "metadata": {},
     "output_type": "execute_result"
    }
   ],
   "source": [
    "all_epochs.info"
   ]
  },
  {
   "cell_type": "code",
   "execution_count": 113,
   "metadata": {},
   "outputs": [
    {
     "data": {
      "text/html": [
       "<table class=\"table table-hover table-striped table-sm table-responsive small\">\n",
       "    <tr>\n",
       "        <th>Number of events</th>\n",
       "        <td>29515</td>\n",
       "    </tr>\n",
       "    <tr>\n",
       "        <th>Events</th>\n",
       "        \n",
       "        <td>1: 29515</td>\n",
       "        \n",
       "    </tr>\n",
       "    <tr>\n",
       "        <th>Time range</th>\n",
       "        <td>0.000 – 4.996 sec</td>\n",
       "    </tr>\n",
       "    <tr>\n",
       "        <th>Baseline</th>\n",
       "        <td>off</td>\n",
       "    </tr>\n",
       "</table>"
      ],
      "text/plain": [
       "<Epochs |  29515 events (all good), 0 - 4.99609 sec, baseline off, ~4.50 GB, data loaded,\n",
       " '1': 29515>"
      ]
     },
     "execution_count": 113,
     "metadata": {},
     "output_type": "execute_result"
    }
   ],
   "source": [
    "all_epochs.set_montage(montage)"
   ]
  },
  {
   "cell_type": "code",
   "execution_count": 114,
   "metadata": {},
   "outputs": [],
   "source": [
    "all_epochs= all_epochs.load_data()\n"
   ]
  },
  {
   "cell_type": "markdown",
   "metadata": {},
   "source": [
    "Signal Decomposition"
   ]
  },
  {
   "attachments": {},
   "cell_type": "markdown",
   "metadata": {},
   "source": [
    "Band filtering the data\n",
    "recommended to have frequency of above 1 when working with ICA and a frequency not above 50"
   ]
  },
  {
   "cell_type": "code",
   "execution_count": 115,
   "metadata": {},
   "outputs": [],
   "source": [
    "def band_filter(epochs, low, high):\n",
    "    epochs.filter(low, high)\n",
    "    return epochs"
   ]
  },
  {
   "cell_type": "code",
   "execution_count": 116,
   "metadata": {},
   "outputs": [
    {
     "name": "stdout",
     "output_type": "stream",
     "text": [
      "Setting up band-pass filter from 1 - 50 Hz\n",
      "\n",
      "FIR filter parameters\n",
      "---------------------\n",
      "Designing a one-pass, zero-phase, non-causal bandpass filter:\n",
      "- Windowed time-domain design (firwin) method\n",
      "- Hamming window with 0.0194 passband ripple and 53 dB stopband attenuation\n",
      "- Lower passband edge: 1.00\n",
      "- Lower transition bandwidth: 1.00 Hz (-6 dB cutoff frequency: 0.50 Hz)\n",
      "- Upper passband edge: 50.00 Hz\n",
      "- Upper transition bandwidth: 12.50 Hz (-6 dB cutoff frequency: 56.25 Hz)\n",
      "- Filter length: 845 samples (3.301 sec)\n",
      "\n"
     ]
    },
    {
     "name": "stderr",
     "output_type": "stream",
     "text": [
      "[Parallel(n_jobs=1)]: Using backend SequentialBackend with 1 concurrent workers.\n",
      "[Parallel(n_jobs=1)]: Done   1 out of   1 | elapsed:    0.0s remaining:    0.0s\n",
      "[Parallel(n_jobs=1)]: Done   2 out of   2 | elapsed:    0.0s remaining:    0.0s\n",
      "[Parallel(n_jobs=1)]: Done   3 out of   3 | elapsed:    0.0s remaining:    0.0s\n",
      "[Parallel(n_jobs=1)]: Done   4 out of   4 | elapsed:    0.0s remaining:    0.0s\n",
      "[Parallel(n_jobs=1)]: Done 472240 out of 472240 | elapsed: 243.3min finished\n"
     ]
    }
   ],
   "source": [
    "epochs = band_filter(all_epochs, 1, 50)"
   ]
  },
  {
   "cell_type": "code",
   "execution_count": 121,
   "metadata": {},
   "outputs": [],
   "source": [
    "#save_epochs(epochs, 'epochs2.pkl')"
   ]
  },
  {
   "cell_type": "code",
   "execution_count": 118,
   "metadata": {},
   "outputs": [],
   "source": [
    "epochs = load_epochs('epochs2.pkl')"
   ]
  },
  {
   "attachments": {},
   "cell_type": "markdown",
   "metadata": {},
   "source": [
    "ICA on epochs"
   ]
  },
  {
   "cell_type": "code",
   "execution_count": 119,
   "metadata": {},
   "outputs": [],
   "source": [
    "def ica_on_epochs(epochs):\n",
    "    ica = mne.preprocessing.ICA(n_components = 10, random_state = 97, max_iter = 800)\n",
    "    ica.fit(epochs)\n",
    "    epochs = ica.apply(epochs)\n",
    "    ica.plot_properties(epochs)\n",
    "    return epochs"
   ]
  },
  {
   "cell_type": "code",
   "execution_count": 120,
   "metadata": {},
   "outputs": [
    {
     "name": "stdout",
     "output_type": "stream",
     "text": [
      "Fitting ICA to data using 16 channels (please be patient, this may take a while)\n"
     ]
    },
    {
     "ename": "MemoryError",
     "evalue": "Unable to allocate 4.50 GiB for an array with shape (604467984,) and data type float64",
     "output_type": "error",
     "traceback": [
      "\u001b[1;31m---------------------------------------------------------------------------\u001b[0m",
      "\u001b[1;31mMemoryError\u001b[0m                               Traceback (most recent call last)",
      "\u001b[1;32mc:\\Users\\Bliss\\seizure_detection_project\\seizure_detection_project\\project copy.ipynb Cell 96\u001b[0m in \u001b[0;36m<cell line: 1>\u001b[1;34m()\u001b[0m\n\u001b[1;32m----> <a href='vscode-notebook-cell:/c%3A/Users/Bliss/seizure_detection_project/seizure_detection_project/project%20copy.ipynb#Y164sZmlsZQ%3D%3D?line=0'>1</a>\u001b[0m epochs \u001b[39m=\u001b[39m ica_on_epochs(epochs)\n",
      "\u001b[1;32mc:\\Users\\Bliss\\seizure_detection_project\\seizure_detection_project\\project copy.ipynb Cell 96\u001b[0m in \u001b[0;36mica_on_epochs\u001b[1;34m(epochs)\u001b[0m\n\u001b[0;32m      <a href='vscode-notebook-cell:/c%3A/Users/Bliss/seizure_detection_project/seizure_detection_project/project%20copy.ipynb#Y164sZmlsZQ%3D%3D?line=0'>1</a>\u001b[0m \u001b[39mdef\u001b[39;00m \u001b[39mica_on_epochs\u001b[39m(epochs):\n\u001b[0;32m      <a href='vscode-notebook-cell:/c%3A/Users/Bliss/seizure_detection_project/seizure_detection_project/project%20copy.ipynb#Y164sZmlsZQ%3D%3D?line=1'>2</a>\u001b[0m     ica \u001b[39m=\u001b[39m mne\u001b[39m.\u001b[39mpreprocessing\u001b[39m.\u001b[39mICA(n_components \u001b[39m=\u001b[39m \u001b[39m10\u001b[39m, random_state \u001b[39m=\u001b[39m \u001b[39m97\u001b[39m, max_iter \u001b[39m=\u001b[39m \u001b[39m800\u001b[39m)\n\u001b[1;32m----> <a href='vscode-notebook-cell:/c%3A/Users/Bliss/seizure_detection_project/seizure_detection_project/project%20copy.ipynb#Y164sZmlsZQ%3D%3D?line=2'>3</a>\u001b[0m     ica\u001b[39m.\u001b[39;49mfit(epochs)\n\u001b[0;32m      <a href='vscode-notebook-cell:/c%3A/Users/Bliss/seizure_detection_project/seizure_detection_project/project%20copy.ipynb#Y164sZmlsZQ%3D%3D?line=3'>4</a>\u001b[0m     epochs \u001b[39m=\u001b[39m ica\u001b[39m.\u001b[39mapply(epochs)\n\u001b[0;32m      <a href='vscode-notebook-cell:/c%3A/Users/Bliss/seizure_detection_project/seizure_detection_project/project%20copy.ipynb#Y164sZmlsZQ%3D%3D?line=4'>5</a>\u001b[0m     ica\u001b[39m.\u001b[39mplot_properties(epochs)\n",
      "File \u001b[1;32m<decorator-gen-422>:12\u001b[0m, in \u001b[0;36mfit\u001b[1;34m(self, inst, picks, start, stop, decim, reject, flat, tstep, reject_by_annotation, verbose)\u001b[0m\n",
      "File \u001b[1;32mc:\\Users\\Bliss\\anaconda3\\lib\\site-packages\\mne\\preprocessing\\ica.py:668\u001b[0m, in \u001b[0;36mICA.fit\u001b[1;34m(self, inst, picks, start, stop, decim, reject, flat, tstep, reject_by_annotation, verbose)\u001b[0m\n\u001b[0;32m    666\u001b[0m \u001b[39melse\u001b[39;00m:\n\u001b[0;32m    667\u001b[0m     \u001b[39massert\u001b[39;00m \u001b[39misinstance\u001b[39m(inst, BaseEpochs)\n\u001b[1;32m--> 668\u001b[0m     \u001b[39mself\u001b[39;49m\u001b[39m.\u001b[39;49m_fit_epochs(inst, picks, decim, verbose)\n\u001b[0;32m    670\u001b[0m \u001b[39m# sort ICA components by explained variance\u001b[39;00m\n\u001b[0;32m    671\u001b[0m var \u001b[39m=\u001b[39m _ica_explained_variance(\u001b[39mself\u001b[39m, inst)\n",
      "File \u001b[1;32mc:\\Users\\Bliss\\anaconda3\\lib\\site-packages\\mne\\preprocessing\\ica.py:730\u001b[0m, in \u001b[0;36mICA._fit_epochs\u001b[1;34m(self, epochs, picks, decim, verbose)\u001b[0m\n\u001b[0;32m    727\u001b[0m \u001b[39m# This will make at least one copy (one from hstack, maybe one\u001b[39;00m\n\u001b[0;32m    728\u001b[0m \u001b[39m# more from _pre_whiten)\u001b[39;00m\n\u001b[0;32m    729\u001b[0m data \u001b[39m=\u001b[39m np\u001b[39m.\u001b[39mhstack(data)\n\u001b[1;32m--> 730\u001b[0m \u001b[39mself\u001b[39;49m\u001b[39m.\u001b[39;49m_fit(data, \u001b[39m'\u001b[39;49m\u001b[39mepochs\u001b[39;49m\u001b[39m'\u001b[39;49m)\n\u001b[0;32m    732\u001b[0m \u001b[39mreturn\u001b[39;00m \u001b[39mself\u001b[39m\n",
      "File \u001b[1;32mc:\\Users\\Bliss\\anaconda3\\lib\\site-packages\\mne\\preprocessing\\ica.py:787\u001b[0m, in \u001b[0;36mICA._fit\u001b[1;34m(self, data, fit_type)\u001b[0m\n\u001b[0;32m    784\u001b[0m data \u001b[39m=\u001b[39m \u001b[39mself\u001b[39m\u001b[39m.\u001b[39m_pre_whiten(data)\n\u001b[0;32m    786\u001b[0m pca \u001b[39m=\u001b[39m _PCA(n_components\u001b[39m=\u001b[39m\u001b[39mself\u001b[39m\u001b[39m.\u001b[39m_max_pca_components, whiten\u001b[39m=\u001b[39m\u001b[39mTrue\u001b[39;00m)\n\u001b[1;32m--> 787\u001b[0m data \u001b[39m=\u001b[39m pca\u001b[39m.\u001b[39;49mfit_transform(data\u001b[39m.\u001b[39;49mT)\n\u001b[0;32m    788\u001b[0m use_ev \u001b[39m=\u001b[39m pca\u001b[39m.\u001b[39mexplained_variance_ratio_\n\u001b[0;32m    789\u001b[0m n_pca \u001b[39m=\u001b[39m \u001b[39mself\u001b[39m\u001b[39m.\u001b[39mn_pca_components\n",
      "File \u001b[1;32mc:\\Users\\Bliss\\anaconda3\\lib\\site-packages\\mne\\utils\\numerics.py:845\u001b[0m, in \u001b[0;36m_PCA.fit_transform\u001b[1;34m(self, X, y)\u001b[0m\n\u001b[0;32m    843\u001b[0m \u001b[39mdef\u001b[39;00m \u001b[39mfit_transform\u001b[39m(\u001b[39mself\u001b[39m, X, y\u001b[39m=\u001b[39m\u001b[39mNone\u001b[39;00m):\n\u001b[0;32m    844\u001b[0m     X \u001b[39m=\u001b[39m X\u001b[39m.\u001b[39mcopy()\n\u001b[1;32m--> 845\u001b[0m     U, S, _ \u001b[39m=\u001b[39m \u001b[39mself\u001b[39;49m\u001b[39m.\u001b[39;49m_fit(X)\n\u001b[0;32m    846\u001b[0m     U \u001b[39m=\u001b[39m U[:, :\u001b[39mself\u001b[39m\u001b[39m.\u001b[39mn_components_]\n\u001b[0;32m    848\u001b[0m     \u001b[39mif\u001b[39;00m \u001b[39mself\u001b[39m\u001b[39m.\u001b[39mwhiten:\n\u001b[0;32m    849\u001b[0m         \u001b[39m# X_new = X * V / S * sqrt(n_samples) = U * sqrt(n_samples)\u001b[39;00m\n",
      "File \u001b[1;32mc:\\Users\\Bliss\\anaconda3\\lib\\site-packages\\mne\\utils\\numerics.py:883\u001b[0m, in \u001b[0;36m_PCA._fit\u001b[1;34m(self, X)\u001b[0m\n\u001b[0;32m    880\u001b[0m \u001b[39mself\u001b[39m\u001b[39m.\u001b[39mmean_ \u001b[39m=\u001b[39m np\u001b[39m.\u001b[39mmean(X, axis\u001b[39m=\u001b[39m\u001b[39m0\u001b[39m)\n\u001b[0;32m    881\u001b[0m X \u001b[39m-\u001b[39m\u001b[39m=\u001b[39m \u001b[39mself\u001b[39m\u001b[39m.\u001b[39mmean_\n\u001b[1;32m--> 883\u001b[0m U, S, V \u001b[39m=\u001b[39m _safe_svd(X, full_matrices\u001b[39m=\u001b[39;49m\u001b[39mFalse\u001b[39;49;00m)\n\u001b[0;32m    884\u001b[0m \u001b[39m# flip eigenvectors' sign to enforce deterministic output\u001b[39;00m\n\u001b[0;32m    885\u001b[0m U, V \u001b[39m=\u001b[39m svd_flip(U, V)\n",
      "File \u001b[1;32mc:\\Users\\Bliss\\anaconda3\\lib\\site-packages\\mne\\fixes.py:103\u001b[0m, in \u001b[0;36m_safe_svd\u001b[1;34m(A, **kwargs)\u001b[0m\n\u001b[0;32m    101\u001b[0m     \u001b[39mraise\u001b[39;00m \u001b[39mValueError\u001b[39;00m(\u001b[39m'\u001b[39m\u001b[39mCannot set overwrite_a=True with this function\u001b[39m\u001b[39m'\u001b[39m)\n\u001b[0;32m    102\u001b[0m \u001b[39mtry\u001b[39;00m:\n\u001b[1;32m--> 103\u001b[0m     \u001b[39mreturn\u001b[39;00m linalg\u001b[39m.\u001b[39msvd(A, \u001b[39m*\u001b[39m\u001b[39m*\u001b[39mkwargs)\n\u001b[0;32m    104\u001b[0m \u001b[39mexcept\u001b[39;00m np\u001b[39m.\u001b[39mlinalg\u001b[39m.\u001b[39mLinAlgError \u001b[39mas\u001b[39;00m exp:\n\u001b[0;32m    105\u001b[0m     \u001b[39mfrom\u001b[39;00m \u001b[39m.\u001b[39;00m\u001b[39mutils\u001b[39;00m \u001b[39mimport\u001b[39;00m warn\n",
      "File \u001b[1;32mc:\\Users\\Bliss\\anaconda3\\lib\\site-packages\\scipy\\linalg\\decomp_svd.py:127\u001b[0m, in \u001b[0;36msvd\u001b[1;34m(a, full_matrices, compute_uv, overwrite_a, check_finite, lapack_driver)\u001b[0m\n\u001b[0;32m    123\u001b[0m lwork \u001b[39m=\u001b[39m _compute_lwork(gesXd_lwork, a1\u001b[39m.\u001b[39mshape[\u001b[39m0\u001b[39m], a1\u001b[39m.\u001b[39mshape[\u001b[39m1\u001b[39m],\n\u001b[0;32m    124\u001b[0m                        compute_uv\u001b[39m=\u001b[39mcompute_uv, full_matrices\u001b[39m=\u001b[39mfull_matrices)\n\u001b[0;32m    126\u001b[0m \u001b[39m# perform decomposition\u001b[39;00m\n\u001b[1;32m--> 127\u001b[0m u, s, v, info \u001b[39m=\u001b[39m gesXd(a1, compute_uv\u001b[39m=\u001b[39;49mcompute_uv, lwork\u001b[39m=\u001b[39;49mlwork,\n\u001b[0;32m    128\u001b[0m                       full_matrices\u001b[39m=\u001b[39;49mfull_matrices, overwrite_a\u001b[39m=\u001b[39;49moverwrite_a)\n\u001b[0;32m    130\u001b[0m \u001b[39mif\u001b[39;00m info \u001b[39m>\u001b[39m \u001b[39m0\u001b[39m:\n\u001b[0;32m    131\u001b[0m     \u001b[39mraise\u001b[39;00m LinAlgError(\u001b[39m\"\u001b[39m\u001b[39mSVD did not converge\u001b[39m\u001b[39m\"\u001b[39m)\n",
      "\u001b[1;31mMemoryError\u001b[0m: Unable to allocate 4.50 GiB for an array with shape (604467984,) and data type float64"
     ]
    }
   ],
   "source": [
    "epochs = ica_on_epochs(epochs)"
   ]
  },
  {
   "cell_type": "markdown",
   "metadata": {},
   "source": [
    "Converting epochs into a numpy array"
   ]
  },
  {
   "cell_type": "code",
   "execution_count": 122,
   "metadata": {},
   "outputs": [],
   "source": [
    "epochs_array = epochs.get_data()"
   ]
  },
  {
   "cell_type": "code",
   "execution_count": 123,
   "metadata": {},
   "outputs": [
    {
     "name": "stdout",
     "output_type": "stream",
     "text": [
      "(29515, 16, 1280)\n"
     ]
    }
   ],
   "source": [
    "print(epochs_array.shape)"
   ]
  },
  {
   "attachments": {},
   "cell_type": "markdown",
   "metadata": {},
   "source": [
    "gettting the noise covariance"
   ]
  },
  {
   "cell_type": "code",
   "execution_count": 140,
   "metadata": {},
   "outputs": [],
   "source": [
    "def get_noise_covariance(epochs):\n",
    "    noise_covariance = mne.compute_covariance(epochs)\n",
    "    noise_covariance.plot(epochs.info)"
   ]
  },
  {
   "cell_type": "code",
   "execution_count": 159,
   "metadata": {},
   "outputs": [
    {
     "name": "stdout",
     "output_type": "stream",
     "text": [
      "Computing rank from data with rank=None\n",
      "    Using tolerance 2.6e-10 (2.2e-16 eps * 16 dim * 7.2e+04  max singular value)\n",
      "    Estimated rank (eeg): 16\n",
      "    EEG: rank 16 computed from 16 data channels with 0 projectors\n",
      "Reducing data rank from 16 -> 16\n",
      "Estimating covariance using EMPIRICAL\n",
      "Done.\n",
      "Number of samples used : 921600\n",
      "[done]\n"
     ]
    }
   ],
   "source": [
    "noise_covariance = mne.compute_covariance(epochs)"
   ]
  },
  {
   "cell_type": "code",
   "execution_count": 162,
   "metadata": {},
   "outputs": [
    {
     "name": "stdout",
     "output_type": "stream",
     "text": [
      "Computing rank from covariance with rank=None\n",
      "    Using tolerance 2e-13 (2.2e-16 eps * 16 dim * 57  max singular value)\n",
      "    Estimated rank (eeg): 16\n",
      "    EEG: rank 16 computed from 16 data channels with 0 projectors\n"
     ]
    },
    {
     "data": {
      "image/png": "[encoded data removed]",
      "text/plain": [
       "<Figure size 273.6x266.4 with 2 Axes>"
      ]
     },
     "metadata": {
      "needs_background": "light"
     },
     "output_type": "display_data"
    },
    {
     "data": {
      "image/png": "[encoded data removed]",
      "text/plain": [
       "<Figure size 273.6x266.4 with 1 Axes>"
      ]
     },
     "metadata": {
      "needs_background": "light"
     },
     "output_type": "display_data"
    },
    {
     "data": {
      "text/plain": [
       "(<Figure size 273.6x266.4 with 2 Axes>, <Figure size 273.6x266.4 with 1 Axes>)"
      ]
     },
     "execution_count": 162,
     "metadata": {},
     "output_type": "execute_result"
    }
   ],
   "source": [
    "noise_covariance.plot(epochs.info)"
   ]
  },
  {
   "cell_type": "code",
   "execution_count": 141,
   "metadata": {},
   "outputs": [
    {
     "ename": "MemoryError",
     "evalue": "Unable to allocate 4.47 GiB for an array with shape (16, 29264, 1280) and data type float64",
     "output_type": "error",
     "traceback": [
      "\u001b[1;31m---------------------------------------------------------------------------\u001b[0m",
      "\u001b[1;31mMemoryError\u001b[0m                               Traceback (most recent call last)",
      "\u001b[1;32mc:\\Users\\Bliss\\seizure_detection_project\\seizure_detection_project\\project copy.ipynb Cell 96\u001b[0m in \u001b[0;36m<cell line: 1>\u001b[1;34m()\u001b[0m\n\u001b[1;32m----> <a href='vscode-notebook-cell:/c%3A/Users/Bliss/seizure_detection_project/seizure_detection_project/project%20copy.ipynb#Y265sZmlsZQ%3D%3D?line=0'>1</a>\u001b[0m get_noise_covariance(epochs)\n",
      "\u001b[1;32mc:\\Users\\Bliss\\seizure_detection_project\\seizure_detection_project\\project copy.ipynb Cell 96\u001b[0m in \u001b[0;36mget_noise_covariance\u001b[1;34m(epochs)\u001b[0m\n\u001b[0;32m      <a href='vscode-notebook-cell:/c%3A/Users/Bliss/seizure_detection_project/seizure_detection_project/project%20copy.ipynb#Y265sZmlsZQ%3D%3D?line=0'>1</a>\u001b[0m \u001b[39mdef\u001b[39;00m \u001b[39mget_noise_covariance\u001b[39m(epochs):\n\u001b[1;32m----> <a href='vscode-notebook-cell:/c%3A/Users/Bliss/seizure_detection_project/seizure_detection_project/project%20copy.ipynb#Y265sZmlsZQ%3D%3D?line=1'>2</a>\u001b[0m     noise_covariance \u001b[39m=\u001b[39m mne\u001b[39m.\u001b[39;49mcompute_covariance(epochs)\n\u001b[0;32m      <a href='vscode-notebook-cell:/c%3A/Users/Bliss/seizure_detection_project/seizure_detection_project/project%20copy.ipynb#Y265sZmlsZQ%3D%3D?line=2'>3</a>\u001b[0m     noise_covariance\u001b[39m.\u001b[39mplot(epochs\u001b[39m.\u001b[39minfo)\n",
      "File \u001b[1;32m<decorator-gen-300>:12\u001b[0m, in \u001b[0;36mcompute_covariance\u001b[1;34m(epochs, keep_sample_mean, tmin, tmax, projs, method, method_params, cv, scalings, n_jobs, return_estimators, on_mismatch, rank, verbose)\u001b[0m\n",
      "File \u001b[1;32mc:\\Users\\Bliss\\anaconda3\\lib\\site-packages\\mne\\cov.py:939\u001b[0m, in \u001b[0;36mcompute_covariance\u001b[1;34m(***failed resolving arguments***)\u001b[0m\n\u001b[0;32m    937\u001b[0m info \u001b[39m=\u001b[39m pick_info(info, picks_meeg)\n\u001b[0;32m    938\u001b[0m tslice \u001b[39m=\u001b[39m _get_tslice(epochs[\u001b[39m0\u001b[39m], tmin, tmax)\n\u001b[1;32m--> 939\u001b[0m epochs \u001b[39m=\u001b[39m [ee\u001b[39m.\u001b[39mget_data(picks\u001b[39m=\u001b[39mpicks_meeg)[\u001b[39m.\u001b[39m\u001b[39m.\u001b[39m\u001b[39m.\u001b[39m, tslice] \u001b[39mfor\u001b[39;00m ee \u001b[39min\u001b[39;00m epochs]\n\u001b[0;32m    940\u001b[0m picks_meeg \u001b[39m=\u001b[39m np\u001b[39m.\u001b[39marange(\u001b[39mlen\u001b[39m(picks_meeg))\n\u001b[0;32m    941\u001b[0m picks_list \u001b[39m=\u001b[39m _picks_by_type(info)\n",
      "File \u001b[1;32mc:\\Users\\Bliss\\anaconda3\\lib\\site-packages\\mne\\cov.py:939\u001b[0m, in \u001b[0;36m<listcomp>\u001b[1;34m(.0)\u001b[0m\n\u001b[0;32m    937\u001b[0m info \u001b[39m=\u001b[39m pick_info(info, picks_meeg)\n\u001b[0;32m    938\u001b[0m tslice \u001b[39m=\u001b[39m _get_tslice(epochs[\u001b[39m0\u001b[39m], tmin, tmax)\n\u001b[1;32m--> 939\u001b[0m epochs \u001b[39m=\u001b[39m [ee\u001b[39m.\u001b[39;49mget_data(picks\u001b[39m=\u001b[39;49mpicks_meeg)[\u001b[39m.\u001b[39m\u001b[39m.\u001b[39m\u001b[39m.\u001b[39m, tslice] \u001b[39mfor\u001b[39;00m ee \u001b[39min\u001b[39;00m epochs]\n\u001b[0;32m    940\u001b[0m picks_meeg \u001b[39m=\u001b[39m np\u001b[39m.\u001b[39marange(\u001b[39mlen\u001b[39m(picks_meeg))\n\u001b[0;32m    941\u001b[0m picks_list \u001b[39m=\u001b[39m _picks_by_type(info)\n",
      "File \u001b[1;32mc:\\Users\\Bliss\\anaconda3\\lib\\site-packages\\mne\\epochs.py:1541\u001b[0m, in \u001b[0;36mBaseEpochs.get_data\u001b[1;34m(self, picks, item, units, tmin, tmax)\u001b[0m\n\u001b[0;32m   1508\u001b[0m \u001b[39m@fill_doc\u001b[39m\n\u001b[0;32m   1509\u001b[0m \u001b[39mdef\u001b[39;00m \u001b[39mget_data\u001b[39m(\u001b[39mself\u001b[39m, picks\u001b[39m=\u001b[39m\u001b[39mNone\u001b[39;00m, item\u001b[39m=\u001b[39m\u001b[39mNone\u001b[39;00m, units\u001b[39m=\u001b[39m\u001b[39mNone\u001b[39;00m, tmin\u001b[39m=\u001b[39m\u001b[39mNone\u001b[39;00m,\n\u001b[0;32m   1510\u001b[0m              tmax\u001b[39m=\u001b[39m\u001b[39mNone\u001b[39;00m):\n\u001b[0;32m   1511\u001b[0m     \u001b[39m\"\"\"Get all epochs as a 3D array.\u001b[39;00m\n\u001b[0;32m   1512\u001b[0m \n\u001b[0;32m   1513\u001b[0m \u001b[39m    Parameters\u001b[39;00m\n\u001b[1;32m   (...)\u001b[0m\n\u001b[0;32m   1539\u001b[0m \u001b[39m        A view on epochs data.\u001b[39;00m\n\u001b[0;32m   1540\u001b[0m \u001b[39m    \"\"\"\u001b[39;00m\n\u001b[1;32m-> 1541\u001b[0m     \u001b[39mreturn\u001b[39;00m \u001b[39mself\u001b[39;49m\u001b[39m.\u001b[39;49m_get_data(picks\u001b[39m=\u001b[39;49mpicks, item\u001b[39m=\u001b[39;49mitem, units\u001b[39m=\u001b[39;49munits, tmin\u001b[39m=\u001b[39;49mtmin,\n\u001b[0;32m   1542\u001b[0m                           tmax\u001b[39m=\u001b[39;49mtmax)\n",
      "File \u001b[1;32m<decorator-gen-253>:12\u001b[0m, in \u001b[0;36m_get_data\u001b[1;34m(self, out, picks, item, units, tmin, tmax, verbose)\u001b[0m\n",
      "File \u001b[1;32mc:\\Users\\Bliss\\anaconda3\\lib\\site-packages\\mne\\epochs.py:1406\u001b[0m, in \u001b[0;36mBaseEpochs._get_data\u001b[1;34m(self, out, picks, item, units, tmin, tmax, verbose)\u001b[0m\n\u001b[0;32m   1404\u001b[0m data \u001b[39m=\u001b[39m data[select]\n\u001b[0;32m   1405\u001b[0m \u001b[39mif\u001b[39;00m orig_picks \u001b[39mis\u001b[39;00m \u001b[39mnot\u001b[39;00m \u001b[39mNone\u001b[39;00m:\n\u001b[1;32m-> 1406\u001b[0m     data \u001b[39m=\u001b[39m data[:, picks]\n\u001b[0;32m   1407\u001b[0m \u001b[39mif\u001b[39;00m units \u001b[39mis\u001b[39;00m \u001b[39mnot\u001b[39;00m \u001b[39mNone\u001b[39;00m:\n\u001b[0;32m   1408\u001b[0m     data \u001b[39m*\u001b[39m\u001b[39m=\u001b[39m ch_factors[:, np\u001b[39m.\u001b[39mnewaxis]\n",
      "\u001b[1;31mMemoryError\u001b[0m: Unable to allocate 4.47 GiB for an array with shape (16, 29264, 1280) and data type float64"
     ]
    }
   ],
   "source": [
    "get_noise_covariance(epochs)"
   ]
  },
  {
   "attachments": {},
   "cell_type": "markdown",
   "metadata": {},
   "source": [
    "Making projections using the SSP algorithm"
   ]
  },
  {
   "attachments": {},
   "cell_type": "markdown",
   "metadata": {},
   "source": [
    "The projections are the principal components of the given data"
   ]
  },
  {
   "cell_type": "code",
   "execution_count": 156,
   "metadata": {},
   "outputs": [
    {
     "name": "stderr",
     "output_type": "stream",
     "text": [
      "[Parallel(n_jobs=1)]: Using backend SequentialBackend with 1 concurrent workers.\n",
      "[Parallel(n_jobs=1)]: Done   1 out of   1 | elapsed:    0.0s remaining:    0.0s\n",
      "[Parallel(n_jobs=1)]: Done   2 out of   2 | elapsed:    0.0s remaining:    0.0s\n",
      "[Parallel(n_jobs=1)]: Done   3 out of   3 | elapsed:    0.0s remaining:    0.0s\n",
      "[Parallel(n_jobs=1)]: Done   4 out of   4 | elapsed:    0.0s remaining:    0.0s\n"
     ]
    },
    {
     "name": "stdout",
     "output_type": "stream",
     "text": [
      "No gradiometers found. Forcing n_grad to 0\n",
      "No magnetometers found. Forcing n_mag to 0\n",
      "Adding projection: eeg-1-0.000-4.996-PCA-01\n",
      "Adding projection: eeg-1-0.000-4.996-PCA-02\n"
     ]
    },
    {
     "name": "stderr",
     "output_type": "stream",
     "text": [
      "[Parallel(n_jobs=1)]: Done 720 out of 720 | elapsed:    0.4s finished\n"
     ]
    },
    {
     "data": {
      "text/plain": [
       "[<Projection | eeg-1-0.000-4.996-PCA-01, active : False, n_channels : 16, exp. var : 36.68%>,\n",
       " <Projection | eeg-1-0.000-4.996-PCA-02, active : False, n_channels : 16, exp. var : 22.69%>]"
      ]
     },
     "execution_count": 156,
     "metadata": {},
     "output_type": "execute_result"
    }
   ],
   "source": [
    "projections = mne.compute_proj_epochs(epochs)"
   ]
  },
  {
   "attachments": {},
   "cell_type": "markdown",
   "metadata": {},
   "source": [
    "adding the projections to the epochs object"
   ]
  },
  {
   "cell_type": "code",
   "execution_count": null,
   "metadata": {},
   "outputs": [],
   "source": [
    "epochs.add_projs(projections)"
   ]
  },
  {
   "attachments": {},
   "cell_type": "markdown",
   "metadata": {},
   "source": [
    "plotting the projections"
   ]
  },
  {
   "cell_type": "code",
   "execution_count": null,
   "metadata": {},
   "outputs": [],
   "source": [
    "mne.viz.plot_projs_topomap(projections, colorbar=True, vlim='joint',\n",
    "                           info=data.info)"
   ]
  },
  {
   "cell_type": "code",
   "execution_count": 163,
   "metadata": {},
   "outputs": [
    {
     "name": "stdout",
     "output_type": "stream",
     "text": [
      "    The projection vectors do not apply to these channels.\n",
      "Computing rank from covariance with rank=None\n",
      "    Using tolerance 2e-13 (2.2e-16 eps * 16 dim * 57  max singular value)\n",
      "    Estimated rank (eeg): 16\n",
      "    EEG: rank 16 computed from 16 data channels with 0 projectors\n"
     ]
    },
    {
     "data": {
      "image/png": "[encoded data removed]",
      "text/plain": [
       "<Figure size 273.6x266.4 with 2 Axes>"
      ]
     },
     "metadata": {
      "needs_background": "light"
     },
     "output_type": "display_data"
    },
    {
     "data": {
      "image/png": "[encoded data removed]",
      "text/plain": [
       "<Figure size 273.6x266.4 with 1 Axes>"
      ]
     },
     "metadata": {
      "needs_background": "light"
     },
     "output_type": "display_data"
    },
    {
     "data": {
      "text/plain": [
       "(<Figure size 273.6x266.4 with 2 Axes>, <Figure size 273.6x266.4 with 1 Axes>)"
      ]
     },
     "execution_count": 163,
     "metadata": {},
     "output_type": "execute_result"
    }
   ],
   "source": [
    "noise_covariance.plot(epochs.info, proj = True)"
   ]
  },
  {
   "attachments": {},
   "cell_type": "markdown",
   "metadata": {},
   "source": [
    "plot epochs image, shows ERP"
   ]
  },
  {
   "cell_type": "code",
   "execution_count": 127,
   "metadata": {},
   "outputs": [
    {
     "name": "stdout",
     "output_type": "stream",
     "text": [
      "Not setting metadata\n",
      "720 matching events found\n",
      "No baseline correction applied\n",
      "0 projection items activated\n",
      "combining channels using \"gfp\"\n"
     ]
    },
    {
     "data": {
      "image/png": "[encoded data removed]",
      "text/plain": [
       "<Figure size 432x288 with 3 Axes>"
      ]
     },
     "metadata": {
      "needs_background": "light"
     },
     "output_type": "display_data"
    },
    {
     "data": {
      "text/plain": [
       "[<Figure size 432x288 with 3 Axes>]"
      ]
     },
     "execution_count": 127,
     "metadata": {},
     "output_type": "execute_result"
    }
   ],
   "source": [
    "epochs.plot_image()"
   ]
  },
  {
   "cell_type": "markdown",
   "metadata": {},
   "source": [
    "Plotting the sensor locations"
   ]
  },
  {
   "cell_type": "code",
   "execution_count": 135,
   "metadata": {},
   "outputs": [
    {
     "data": {
      "image/png": "[encoded data removed]",
      "text/plain": [
       "<Figure size 432x432 with 1 Axes>"
      ]
     },
     "metadata": {
      "needs_background": "light"
     },
     "output_type": "display_data"
    },
    {
     "data": {
      "image/png": "[encoded data removed]",
      "text/plain": [
       "<Figure size 432x432 with 1 Axes>"
      ]
     },
     "execution_count": 135,
     "metadata": {},
     "output_type": "execute_result"
    }
   ],
   "source": [
    "epochs.plot_sensors()"
   ]
  },
  {
   "attachments": {},
   "cell_type": "markdown",
   "metadata": {},
   "source": [
    "Having labels for EVERY epoch telling if it includes seizure or not bc it is needed for the preprocessing algorithms and classification algorithms, since the seizure occurs for a few seconds within the file, this is not full method that will be used"
   ]
  },
  {
   "attachments": {},
   "cell_type": "markdown",
   "metadata": {},
   "source": [
    "Method: find the duration of seizure, find the duration of time before seizure, and divide by 5 to know how many EPOCHS are before the seizure, how many epochs are within seizure"
   ]
  },
  {
   "attachments": {},
   "cell_type": "markdown",
   "metadata": {},
   "source": [
    "Seizure start and end time need to be in context of the total time in the dataset, not just in the particular file"
   ]
  },
  {
   "attachments": {},
   "cell_type": "markdown",
   "metadata": {},
   "source": [
    "Problem: can only label this PER dataset"
   ]
  },
  {
   "attachments": {},
   "cell_type": "markdown",
   "metadata": {},
   "source": [
    "getting the total time from the dictionary of times by subtracting the last one from the first"
   ]
  },
  {
   "cell_type": "code",
   "execution_count": null,
   "metadata": {},
   "outputs": [],
   "source": [
    "def get_total_time(file_order):\n",
    "    #getting the keys\n",
    "    times = file_order.keys()\n",
    "    total = times[len(times) - 1] - times[0]\n",
    "    return total"
   ]
  },
  {
   "cell_type": "markdown",
   "metadata": {},
   "source": [
    "getting the seizure file times "
   ]
  },
  {
   "cell_type": "code",
   "execution_count": 72,
   "metadata": {},
   "outputs": [],
   "source": [
    "def get_seizure_files(names, seizure_names):\n",
    "    files = []\n",
    "    for name in names: \n",
    "        for seizure_name in seizure_names:\n",
    "            fill, seizure_name = seizure_name.split(\"/\")\n",
    "            seizure_name = \"Dataset\\\\\"  + seizure_name\n",
    "            if name == seizure_name: \n",
    "                beg, mid, end = name.split(\"\\\\\")\n",
    "                files.append(end)\n",
    "                print(end)\n",
    "    return files\n",
    "            "
   ]
  },
  {
   "cell_type": "code",
   "execution_count": 80,
   "metadata": {},
   "outputs": [
    {
     "name": "stdout",
     "output_type": "stream",
     "text": [
      "chb21_19.edf\n",
      "chb21_20.edf\n",
      "chb21_21.edf\n",
      "chb21_22.edf\n"
     ]
    }
   ],
   "source": [
    "seizure_files = get_seizure_files(file_names, seizure_names)"
   ]
  },
  {
   "attachments": {},
   "cell_type": "markdown",
   "metadata": {},
   "source": [
    "Getting seizure file start and end times"
   ]
  },
  {
   "cell_type": "code",
   "execution_count": 82,
   "metadata": {},
   "outputs": [],
   "source": [
    "summary = \"Dataset\\chb21\\chb21-summary.txt\""
   ]
  },
  {
   "cell_type": "code",
   "execution_count": 92,
   "metadata": {},
   "outputs": [
    {
     "name": "stdout",
     "output_type": "stream",
     "text": [
      "yay\n",
      "yay3\n",
      "yay\n",
      "yay3\n",
      "yay\n",
      "yay3\n",
      "yay\n",
      "yay3\n"
     ]
    }
   ],
   "source": [
    "start, end = get_seizure_time(summary, seizure_files)"
   ]
  },
  {
   "cell_type": "code",
   "execution_count": 130,
   "metadata": {},
   "outputs": [
    {
     "name": "stdout",
     "output_type": "stream",
     "text": [
      "['1288', '2627', '2003', '2553']\n"
     ]
    }
   ],
   "source": [
    "print(start)"
   ]
  },
  {
   "attachments": {},
   "cell_type": "markdown",
   "metadata": {},
   "source": [
    "getting the seizure file start and end times"
   ]
  },
  {
   "cell_type": "code",
   "execution_count": 306,
   "metadata": {},
   "outputs": [],
   "source": [
    "def get_seizure_file_times(file_start, end, seizure_files, folder_name):\n",
    "    seizure_start = []\n",
    "    seizure_end = []\n",
    "    names = get_value(file_start)\n",
    "    for index in range(len(file_start)):\n",
    "        name = names[index]\n",
    "        print(name)\n",
    "        for seizure_name in seizure_files:\n",
    "            if seizure_name == name:\n",
    "                seizure_start.append(file_start.get(name))\n",
    "                seizure_end.append(end[index])\n",
    "    return seizure_start, seizure_end"
   ]
  },
  {
   "cell_type": "code",
   "execution_count": 307,
   "metadata": {},
   "outputs": [
    {
     "name": "stdout",
     "output_type": "stream",
     "text": [
      "chb21_08.edf\n",
      "chb21_09.edf\n",
      "chb21_10.edf\n",
      "chb21_11.edf\n",
      "chb21_12.edf\n",
      "chb21_13.edf\n",
      "chb21_14.edf\n",
      "chb21_15.edf\n",
      "chb21_16.edf\n",
      "chb21_17.edf\n",
      "chb21_18.edf\n",
      "chb21_19.edf\n"
     ]
    },
    {
     "ename": "IndexError",
     "evalue": "list index out of range",
     "output_type": "error",
     "traceback": [
      "\u001b[1;31m---------------------------------------------------------------------------\u001b[0m",
      "\u001b[1;31mIndexError\u001b[0m                                Traceback (most recent call last)",
      "\u001b[1;32mc:\\Users\\Bliss\\seizure_detection_project\\seizure_detection_project\\project copy.ipynb Cell 134\u001b[0m in \u001b[0;36m<cell line: 1>\u001b[1;34m()\u001b[0m\n\u001b[1;32m----> <a href='vscode-notebook-cell:/c%3A/Users/Bliss/seizure_detection_project/seizure_detection_project/project%20copy.ipynb#Y305sZmlsZQ%3D%3D?line=0'>1</a>\u001b[0m file_start, file_end \u001b[39m=\u001b[39m get_seizure_file_times(new_file_order, file_end, seizure_files, \u001b[39m\"\u001b[39;49m\u001b[39mchb21\u001b[39;49m\u001b[39m\"\u001b[39;49m)\n",
      "\u001b[1;32mc:\\Users\\Bliss\\seizure_detection_project\\seizure_detection_project\\project copy.ipynb Cell 134\u001b[0m in \u001b[0;36mget_seizure_file_times\u001b[1;34m(file_start, end, seizure_files, folder_name)\u001b[0m\n\u001b[0;32m      <a href='vscode-notebook-cell:/c%3A/Users/Bliss/seizure_detection_project/seizure_detection_project/project%20copy.ipynb#Y305sZmlsZQ%3D%3D?line=8'>9</a>\u001b[0m         \u001b[39mif\u001b[39;00m seizure_name \u001b[39m==\u001b[39m name:\n\u001b[0;32m     <a href='vscode-notebook-cell:/c%3A/Users/Bliss/seizure_detection_project/seizure_detection_project/project%20copy.ipynb#Y305sZmlsZQ%3D%3D?line=9'>10</a>\u001b[0m             seizure_start\u001b[39m.\u001b[39mappend(file_start\u001b[39m.\u001b[39mget(name))\n\u001b[1;32m---> <a href='vscode-notebook-cell:/c%3A/Users/Bliss/seizure_detection_project/seizure_detection_project/project%20copy.ipynb#Y305sZmlsZQ%3D%3D?line=10'>11</a>\u001b[0m             seizure_end\u001b[39m.\u001b[39mappend(end[index])\n\u001b[0;32m     <a href='vscode-notebook-cell:/c%3A/Users/Bliss/seizure_detection_project/seizure_detection_project/project%20copy.ipynb#Y305sZmlsZQ%3D%3D?line=11'>12</a>\u001b[0m \u001b[39mreturn\u001b[39;00m seizure_start, seizure_end\n",
      "\u001b[1;31mIndexError\u001b[0m: list index out of range"
     ]
    }
   ],
   "source": [
    "file_start, file_end = get_seizure_file_times(new_file_order, file_end, seizure_files, \"chb21\")"
   ]
  },
  {
   "cell_type": "code",
   "execution_count": 296,
   "metadata": {},
   "outputs": [
    {
     "name": "stdout",
     "output_type": "stream",
     "text": [
      "[]\n"
     ]
    }
   ],
   "source": [
    "print(file_start)"
   ]
  },
  {
   "cell_type": "code",
   "execution_count": 291,
   "metadata": {},
   "outputs": [
    {
     "name": "stdout",
     "output_type": "stream",
     "text": [
      "[46753.0, 49750.0, 60575.0, 64182.0]\n"
     ]
    }
   ],
   "source": [
    "print(file_end)"
   ]
  },
  {
   "cell_type": "code",
   "execution_count": 290,
   "metadata": {},
   "outputs": [
    {
     "name": "stdout",
     "output_type": "stream",
     "text": [
      "26\n",
      "4\n"
     ]
    }
   ],
   "source": [
    "print(len(new_file_order))\n",
    "print(len(file_end))"
   ]
  },
  {
   "cell_type": "code",
   "execution_count": 144,
   "metadata": {},
   "outputs": [
    {
     "name": "stdout",
     "output_type": "stream",
     "text": [
      "[]\n"
     ]
    }
   ],
   "source": [
    "print(file_start)"
   ]
  },
  {
   "attachments": {},
   "cell_type": "markdown",
   "metadata": {},
   "source": [
    "formatting the seizure start and end time"
   ]
  },
  {
   "cell_type": "code",
   "execution_count": null,
   "metadata": {},
   "outputs": [],
   "source": [
    "#need to have the seizure file start and end times\n",
    "def format_seizure_times(seizure_start, seizure_end, seizure_file_start, seizure_file_end, total_time):\n",
    "    seizure_start_time = seizure_file_start + seizure_start\n",
    "    seizure_end_time = seizure_file_end + seizure_end\n",
    "    return seizure_start_time, seizure_end_time"
   ]
  },
  {
   "cell_type": "code",
   "execution_count": null,
   "metadata": {},
   "outputs": [],
   "source": [
    "def get_epoch_labels(epochs, seizure_start_time, seizure_end_time, total_file_time):\n",
    "    #seizure time occurs in the total file time\n",
    "    labels = []\n",
    "    time_count = 0\n",
    "    for epoch in epochs:\n",
    "        if time_count >= seizure_start_time and time_count <= seizure_end_time:\n",
    "            labels.append(1)\n",
    "        else:\n",
    "            labels.append(0)\n",
    "        time_count += 5\n",
    "    return labels"
   ]
  },
  {
   "cell_type": "code",
   "execution_count": null,
   "metadata": {},
   "outputs": [],
   "source": [
    "epochs_labels = get_epoch_labels(epochs_array)"
   ]
  },
  {
   "cell_type": "markdown",
   "metadata": {},
   "source": [
    "Using SPoC"
   ]
  },
  {
   "cell_type": "code",
   "execution_count": null,
   "metadata": {},
   "outputs": [],
   "source": [
    "def spoc(epochs_array, epochs_labels):\n",
    "    spoc = mne.decoding.SPoC(10)\n",
    "    spoc_epochs = spoc.fit_transform(epochs_array, epochs_labels)\n",
    "    return spoc_epochs"
   ]
  },
  {
   "cell_type": "code",
   "execution_count": 31,
   "metadata": {},
   "outputs": [],
   "source": [
    "def make_graph(epochs):\n",
    "    #getting the three channels \n",
    "  \n",
    "    epochs.plot(scalings = \"auto\")\n",
    "    "
   ]
  },
  {
   "cell_type": "code",
   "execution_count": 32,
   "metadata": {},
   "outputs": [
    {
     "name": "stdout",
     "output_type": "stream",
     "text": [
      "Using matplotlib as 2D backend.\n"
     ]
    },
    {
     "data": {
      "image/png": "[encoded data removed]",
      "text/plain": [
       "<MNEBrowseFigure size 576x576 with 4 Axes>"
      ]
     },
     "metadata": {
      "needs_background": "light"
     },
     "output_type": "display_data"
    }
   ],
   "source": [
    "make_graph(epochs)"
   ]
  },
  {
   "cell_type": "markdown",
   "metadata": {},
   "source": [
    "Working with epochs"
   ]
  },
  {
   "cell_type": "markdown",
   "metadata": {},
   "source": [
    "Plotting epochs"
   ]
  },
  {
   "cell_type": "code",
   "execution_count": 50,
   "metadata": {},
   "outputs": [
    {
     "name": "stdout",
     "output_type": "stream",
     "text": [
      "    Using multitaper spectrum estimation with 7 DPSS windows\n"
     ]
    },
    {
     "data": {
      "image/png": "[encoded data removed]",
      "text/plain": [
       "<MNELineFigure size 720x252 with 1 Axes>"
      ]
     },
     "metadata": {
      "needs_background": "light"
     },
     "output_type": "display_data"
    },
    {
     "data": {
      "image/png": "[encoded data removed]",
      "text/plain": [
       "<MNELineFigure size 720x252 with 1 Axes>"
      ]
     },
     "execution_count": 50,
     "metadata": {},
     "output_type": "execute_result"
    }
   ],
   "source": [
    "epochs.plot_psd(fmin=0.2, fmax = 40., average=True)"
   ]
  },
  {
   "cell_type": "markdown",
   "metadata": {},
   "source": [
    "Epochs topomap"
   ]
  },
  {
   "cell_type": "code",
   "execution_count": 142,
   "metadata": {},
   "outputs": [
    {
     "ename": "MemoryError",
     "evalue": "Unable to allocate 4.47 GiB for an array with shape (1280, 29264, 16) and data type float64",
     "output_type": "error",
     "traceback": [
      "\u001b[1;31m---------------------------------------------------------------------------\u001b[0m",
      "\u001b[1;31mMemoryError\u001b[0m                               Traceback (most recent call last)",
      "\u001b[1;32mc:\\Users\\Bliss\\seizure_detection_project\\seizure_detection_project\\project copy.ipynb Cell 128\u001b[0m in \u001b[0;36m<cell line: 1>\u001b[1;34m()\u001b[0m\n\u001b[1;32m----> <a href='vscode-notebook-cell:/c%3A/Users/Bliss/seizure_detection_project/seizure_detection_project/project%20copy.ipynb#Y214sZmlsZQ%3D%3D?line=0'>1</a>\u001b[0m epochs\u001b[39m.\u001b[39;49mplot_psd_topomap()\n",
      "File \u001b[1;32mc:\\Users\\Bliss\\anaconda3\\lib\\site-packages\\mne\\epochs.py:1152\u001b[0m, in \u001b[0;36mBaseEpochs.plot_psd_topomap\u001b[1;34m(self, bands, tmin, tmax, proj, bandwidth, adaptive, low_bias, normalization, ch_type, cmap, agg_fun, dB, n_jobs, normalize, cbar_fmt, outlines, axes, show, sphere, vlim, verbose)\u001b[0m\n\u001b[0;32m   1144\u001b[0m \u001b[39m@copy_function_doc_to_method_doc\u001b[39m(plot_epochs_psd_topomap)\n\u001b[0;32m   1145\u001b[0m \u001b[39mdef\u001b[39;00m \u001b[39mplot_psd_topomap\u001b[39m(\u001b[39mself\u001b[39m, bands\u001b[39m=\u001b[39m\u001b[39mNone\u001b[39;00m, tmin\u001b[39m=\u001b[39m\u001b[39mNone\u001b[39;00m,\n\u001b[0;32m   1146\u001b[0m                      tmax\u001b[39m=\u001b[39m\u001b[39mNone\u001b[39;00m, proj\u001b[39m=\u001b[39m\u001b[39mFalse\u001b[39;00m, bandwidth\u001b[39m=\u001b[39m\u001b[39mNone\u001b[39;00m, adaptive\u001b[39m=\u001b[39m\u001b[39mFalse\u001b[39;00m,\n\u001b[1;32m   (...)\u001b[0m\n\u001b[0;32m   1150\u001b[0m                      outlines\u001b[39m=\u001b[39m\u001b[39m'\u001b[39m\u001b[39mhead\u001b[39m\u001b[39m'\u001b[39m, axes\u001b[39m=\u001b[39m\u001b[39mNone\u001b[39;00m, show\u001b[39m=\u001b[39m\u001b[39mTrue\u001b[39;00m,\n\u001b[0;32m   1151\u001b[0m                      sphere\u001b[39m=\u001b[39m\u001b[39mNone\u001b[39;00m, vlim\u001b[39m=\u001b[39m(\u001b[39mNone\u001b[39;00m, \u001b[39mNone\u001b[39;00m), verbose\u001b[39m=\u001b[39m\u001b[39mNone\u001b[39;00m):\n\u001b[1;32m-> 1152\u001b[0m     \u001b[39mreturn\u001b[39;00m plot_epochs_psd_topomap(\n\u001b[0;32m   1153\u001b[0m         \u001b[39mself\u001b[39;49m, bands\u001b[39m=\u001b[39;49mbands, tmin\u001b[39m=\u001b[39;49mtmin, tmax\u001b[39m=\u001b[39;49mtmax,\n\u001b[0;32m   1154\u001b[0m         proj\u001b[39m=\u001b[39;49mproj, bandwidth\u001b[39m=\u001b[39;49mbandwidth, adaptive\u001b[39m=\u001b[39;49madaptive,\n\u001b[0;32m   1155\u001b[0m         low_bias\u001b[39m=\u001b[39;49mlow_bias, normalization\u001b[39m=\u001b[39;49mnormalization, ch_type\u001b[39m=\u001b[39;49mch_type,\n\u001b[0;32m   1156\u001b[0m         cmap\u001b[39m=\u001b[39;49mcmap, agg_fun\u001b[39m=\u001b[39;49magg_fun, dB\u001b[39m=\u001b[39;49mdB, n_jobs\u001b[39m=\u001b[39;49mn_jobs,\n\u001b[0;32m   1157\u001b[0m         normalize\u001b[39m=\u001b[39;49mnormalize, cbar_fmt\u001b[39m=\u001b[39;49mcbar_fmt, outlines\u001b[39m=\u001b[39;49moutlines,\n\u001b[0;32m   1158\u001b[0m         axes\u001b[39m=\u001b[39;49maxes, show\u001b[39m=\u001b[39;49mshow, sphere\u001b[39m=\u001b[39;49msphere, vlim\u001b[39m=\u001b[39;49mvlim, verbose\u001b[39m=\u001b[39;49mverbose)\n",
      "File \u001b[1;32m<decorator-gen-172>:12\u001b[0m, in \u001b[0;36mplot_epochs_psd_topomap\u001b[1;34m(epochs, bands, tmin, tmax, proj, bandwidth, adaptive, low_bias, normalization, ch_type, cmap, agg_fun, dB, n_jobs, normalize, cbar_fmt, outlines, axes, show, sphere, vlim, verbose)\u001b[0m\n",
      "File \u001b[1;32mc:\\Users\\Bliss\\anaconda3\\lib\\site-packages\\mne\\viz\\topomap.py:2009\u001b[0m, in \u001b[0;36mplot_epochs_psd_topomap\u001b[1;34m(epochs, bands, tmin, tmax, proj, bandwidth, adaptive, low_bias, normalization, ch_type, cmap, agg_fun, dB, n_jobs, normalize, cbar_fmt, outlines, axes, show, sphere, vlim, verbose)\u001b[0m\n\u001b[0;32m   2005\u001b[0m picks, pos, merge_channels, names, ch_type, sphere, clip_origin \u001b[39m=\u001b[39m \\\n\u001b[0;32m   2006\u001b[0m     _prepare_topomap_plot(epochs, ch_type, sphere\u001b[39m=\u001b[39msphere)\n\u001b[0;32m   2007\u001b[0m outlines \u001b[39m=\u001b[39m _make_head_outlines(sphere, pos, outlines, clip_origin)\n\u001b[1;32m-> 2009\u001b[0m psds, freqs \u001b[39m=\u001b[39m psd_multitaper(epochs, tmin\u001b[39m=\u001b[39;49mtmin, tmax\u001b[39m=\u001b[39;49mtmax,\n\u001b[0;32m   2010\u001b[0m                              bandwidth\u001b[39m=\u001b[39;49mbandwidth, adaptive\u001b[39m=\u001b[39;49madaptive,\n\u001b[0;32m   2011\u001b[0m                              low_bias\u001b[39m=\u001b[39;49mlow_bias,\n\u001b[0;32m   2012\u001b[0m                              normalization\u001b[39m=\u001b[39;49mnormalization, picks\u001b[39m=\u001b[39;49mpicks,\n\u001b[0;32m   2013\u001b[0m                              proj\u001b[39m=\u001b[39;49mproj, n_jobs\u001b[39m=\u001b[39;49mn_jobs)\n\u001b[0;32m   2014\u001b[0m psds \u001b[39m=\u001b[39m np\u001b[39m.\u001b[39mmean(psds, axis\u001b[39m=\u001b[39m\u001b[39m0\u001b[39m)\n\u001b[0;32m   2015\u001b[0m psds \u001b[39m*\u001b[39m\u001b[39m=\u001b[39m scaling\u001b[39m*\u001b[39m\u001b[39m*\u001b[39m\u001b[39m2\u001b[39m\n",
      "File \u001b[1;32m<decorator-gen-139>:12\u001b[0m, in \u001b[0;36mpsd_multitaper\u001b[1;34m(inst, fmin, fmax, tmin, tmax, bandwidth, adaptive, low_bias, normalization, picks, proj, n_jobs, reject_by_annotation, verbose)\u001b[0m\n",
      "File \u001b[1;32mc:\\Users\\Bliss\\anaconda3\\lib\\site-packages\\mne\\time_frequency\\psd.py:360\u001b[0m, in \u001b[0;36mpsd_multitaper\u001b[1;34m(inst, fmin, fmax, tmin, tmax, bandwidth, adaptive, low_bias, normalization, picks, proj, n_jobs, reject_by_annotation, verbose)\u001b[0m\n\u001b[0;32m    298\u001b[0m \u001b[39m\"\"\"Compute the power spectral density (PSD) using multitapers.\u001b[39;00m\n\u001b[0;32m    299\u001b[0m \n\u001b[0;32m    300\u001b[0m \u001b[39mCalculates spectral density for orthogonal tapers, then averages them\u001b[39;00m\n\u001b[1;32m   (...)\u001b[0m\n\u001b[0;32m    357\u001b[0m \u001b[39m.. footbibliography::\u001b[39;00m\n\u001b[0;32m    358\u001b[0m \u001b[39m\"\"\"\u001b[39;00m\n\u001b[0;32m    359\u001b[0m \u001b[39m# Prep data\u001b[39;00m\n\u001b[1;32m--> 360\u001b[0m data, sfreq \u001b[39m=\u001b[39m _check_psd_data(inst, tmin, tmax, picks, proj,\n\u001b[0;32m    361\u001b[0m                               reject_by_annotation\u001b[39m=\u001b[39;49mreject_by_annotation)\n\u001b[0;32m    362\u001b[0m \u001b[39mreturn\u001b[39;00m psd_array_multitaper(data, sfreq, fmin\u001b[39m=\u001b[39mfmin, fmax\u001b[39m=\u001b[39mfmax,\n\u001b[0;32m    363\u001b[0m                             bandwidth\u001b[39m=\u001b[39mbandwidth, adaptive\u001b[39m=\u001b[39madaptive,\n\u001b[0;32m    364\u001b[0m                             low_bias\u001b[39m=\u001b[39mlow_bias, normalization\u001b[39m=\u001b[39mnormalization,\n\u001b[0;32m    365\u001b[0m                             n_jobs\u001b[39m=\u001b[39mn_jobs, verbose\u001b[39m=\u001b[39mverbose)\n",
      "File \u001b[1;32mc:\\Users\\Bliss\\anaconda3\\lib\\site-packages\\mne\\time_frequency\\psd.py:115\u001b[0m, in \u001b[0;36m_check_psd_data\u001b[1;34m(inst, tmin, tmax, picks, proj, reject_by_annotation)\u001b[0m\n\u001b[0;32m    113\u001b[0m     data \u001b[39m=\u001b[39m inst\u001b[39m.\u001b[39mget_data(picks, start, stop \u001b[39m+\u001b[39m \u001b[39m1\u001b[39m, reject_by_annotation\u001b[39m=\u001b[39mrba)\n\u001b[0;32m    114\u001b[0m \u001b[39melif\u001b[39;00m \u001b[39misinstance\u001b[39m(inst, BaseEpochs):\n\u001b[1;32m--> 115\u001b[0m     data \u001b[39m=\u001b[39m inst\u001b[39m.\u001b[39;49mget_data(picks\u001b[39m=\u001b[39;49mpicks)[:, :, time_mask]\n\u001b[0;32m    116\u001b[0m \u001b[39melse\u001b[39;00m:  \u001b[39m# Evoked\u001b[39;00m\n\u001b[0;32m    117\u001b[0m     data \u001b[39m=\u001b[39m inst\u001b[39m.\u001b[39mdata[picks][:, time_mask]\n",
      "\u001b[1;31mMemoryError\u001b[0m: Unable to allocate 4.47 GiB for an array with shape (1280, 29264, 16) and data type float64"
     ]
    }
   ],
   "source": [
    "epochs.plot_psd_topomap()"
   ]
  }
 ],
 "metadata": {
  "kernelspec": {
   "display_name": "Python 3 (ipykernel)",
   "language": "python",
   "name": "python3"
  },
  "language_info": {
   "codemirror_mode": {
    "name": "ipython",
    "version": 3
   },
   "file_extension": ".py",
   "mimetype": "text/x-python",
   "name": "python",
   "nbconvert_exporter": "python",
   "pygments_lexer": "ipython3",
   "version": "3.9.12"
  },
  "vscode": {
   "interpreter": {
    "hash": "9510fcfd21240a39351487ed704d80204a1786395f73a4eb7dfdf25ded8ba45a"
   }
  }
 },
 "nbformat": 4,
 "nbformat_minor": 2
}
