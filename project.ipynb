{
 "cells": [
  {
   "cell_type": "markdown",
   "metadata": {},
   "source": [
    "Importing Libraries"
   ]
  },
  {
   "cell_type": "code",
   "execution_count": 1,
   "metadata": {},
   "outputs": [
    {
     "name": "stderr",
     "output_type": "stream",
     "text": [
      "[*] Checking for new versions of pwntools\n",
      "    To disable this functionality, set the contents of C:\\Users\\Bliss\\.cache\\.pwntools-cache-3.9\\update to 'never' (old way).\n",
      "    Or add the following lines to ~/.pwn.conf or ~/.config/pwn.conf (or /etc/pwn.conf system-wide):\n",
      "        [update]\n",
      "        interval=never\n",
      "[*] You have the latest version of Pwntools (4.8.0)\n"
     ]
    }
   ],
   "source": [
    "import glob\n",
    "import numpy as np\n",
    "import pandas as pd\n",
    "import mne\n",
    "import dn3\n",
    "import os\n",
    "import matplotlib.pyplot as plt\n",
    "import sklearn \n",
    "from sklearn.decomposition import PCA  \n",
    "import pyeeg\n",
    "import pyriemann as pyrie\n"
   ]
  },
  {
   "cell_type": "markdown",
   "metadata": {},
   "source": [
    "Data Extraction"
   ]
  },
  {
   "cell_type": "markdown",
   "metadata": {},
   "source": [
    "Extracting the names of the files from a given folder"
   ]
  },
  {
   "cell_type": "code",
   "execution_count": 2,
   "metadata": {},
   "outputs": [],
   "source": [
    "def extract_files(folder):\n",
    "    file_names = glob.glob(f\"Dataset/{folder}/*.edf\")\n",
    "    return file_names"
   ]
  },
  {
   "cell_type": "markdown",
   "metadata": {},
   "source": [
    "Extracting the names of files from all folders"
   ]
  },
  {
   "cell_type": "code",
   "execution_count": 3,
   "metadata": {},
   "outputs": [],
   "source": [
    "def extract_all_files():\n",
    "    names = []\n",
    "    for i in range(24):\n",
    "        if (i + 1 < 10):\n",
    "            names.append(extract_files(f\"chb0{i+1}\"))\n",
    "        else:\n",
    "             names.append(extract_files(f\"chb{i+1}\"))\n",
    "    return names"
   ]
  },
  {
   "cell_type": "code",
   "execution_count": 4,
   "metadata": {},
   "outputs": [
    {
     "name": "stdout",
     "output_type": "stream",
     "text": [
      "[['Dataset/chb01\\\\chb01_01.edf', 'Dataset/chb01\\\\chb01_02.edf', 'Dataset/chb01\\\\chb01_03.edf', 'Dataset/chb01\\\\chb01_04.edf', 'Dataset/chb01\\\\chb01_05.edf', 'Dataset/chb01\\\\chb01_06.edf', 'Dataset/chb01\\\\chb01_07.edf', 'Dataset/chb01\\\\chb01_08.edf', 'Dataset/chb01\\\\chb01_09.edf', 'Dataset/chb01\\\\chb01_10.edf', 'Dataset/chb01\\\\chb01_11.edf', 'Dataset/chb01\\\\chb01_12.edf', 'Dataset/chb01\\\\chb01_13.edf', 'Dataset/chb01\\\\chb01_14.edf', 'Dataset/chb01\\\\chb01_15.edf', 'Dataset/chb01\\\\chb01_16.edf', 'Dataset/chb01\\\\chb01_17.edf', 'Dataset/chb01\\\\chb01_18.edf', 'Dataset/chb01\\\\chb01_19.edf', 'Dataset/chb01\\\\chb01_20.edf', 'Dataset/chb01\\\\chb01_21.edf', 'Dataset/chb01\\\\chb01_22.edf', 'Dataset/chb01\\\\chb01_23.edf', 'Dataset/chb01\\\\chb01_24.edf', 'Dataset/chb01\\\\chb01_25.edf', 'Dataset/chb01\\\\chb01_26.edf', 'Dataset/chb01\\\\chb01_27.edf', 'Dataset/chb01\\\\chb01_29.edf', 'Dataset/chb01\\\\chb01_30.edf', 'Dataset/chb01\\\\chb01_31.edf', 'Dataset/chb01\\\\chb01_32.edf', 'Dataset/chb01\\\\chb01_33.edf', 'Dataset/chb01\\\\chb01_34.edf', 'Dataset/chb01\\\\chb01_36.edf', 'Dataset/chb01\\\\chb01_37.edf', 'Dataset/chb01\\\\chb01_38.edf', 'Dataset/chb01\\\\chb01_39.edf', 'Dataset/chb01\\\\chb01_40.edf', 'Dataset/chb01\\\\chb01_41.edf', 'Dataset/chb01\\\\chb01_42.edf', 'Dataset/chb01\\\\chb01_43.edf', 'Dataset/chb01\\\\chb01_46.edf'], ['Dataset/chb02\\\\chb02_01.edf', 'Dataset/chb02\\\\chb02_02.edf', 'Dataset/chb02\\\\chb02_03.edf', 'Dataset/chb02\\\\chb02_04.edf', 'Dataset/chb02\\\\chb02_05.edf', 'Dataset/chb02\\\\chb02_06.edf', 'Dataset/chb02\\\\chb02_07.edf', 'Dataset/chb02\\\\chb02_08.edf', 'Dataset/chb02\\\\chb02_09.edf', 'Dataset/chb02\\\\chb02_10.edf', 'Dataset/chb02\\\\chb02_11.edf', 'Dataset/chb02\\\\chb02_12.edf', 'Dataset/chb02\\\\chb02_13.edf', 'Dataset/chb02\\\\chb02_14.edf', 'Dataset/chb02\\\\chb02_15.edf', 'Dataset/chb02\\\\chb02_16+.edf', 'Dataset/chb02\\\\chb02_16.edf', 'Dataset/chb02\\\\chb02_17.edf', 'Dataset/chb02\\\\chb02_18.edf', 'Dataset/chb02\\\\chb02_19.edf', 'Dataset/chb02\\\\chb02_20.edf', 'Dataset/chb02\\\\chb02_21.edf', 'Dataset/chb02\\\\chb02_22.edf', 'Dataset/chb02\\\\chb02_23.edf', 'Dataset/chb02\\\\chb02_24.edf', 'Dataset/chb02\\\\chb02_25.edf', 'Dataset/chb02\\\\chb02_26.edf', 'Dataset/chb02\\\\chb02_27.edf', 'Dataset/chb02\\\\chb02_28.edf', 'Dataset/chb02\\\\chb02_29.edf', 'Dataset/chb02\\\\chb02_30.edf', 'Dataset/chb02\\\\chb02_31.edf', 'Dataset/chb02\\\\chb02_32.edf', 'Dataset/chb02\\\\chb02_33.edf', 'Dataset/chb02\\\\chb02_34.edf', 'Dataset/chb02\\\\chb02_35.edf'], ['Dataset/chb03\\\\chb03_01.edf', 'Dataset/chb03\\\\chb03_02.edf', 'Dataset/chb03\\\\chb03_03.edf', 'Dataset/chb03\\\\chb03_04.edf', 'Dataset/chb03\\\\chb03_05.edf', 'Dataset/chb03\\\\chb03_06.edf', 'Dataset/chb03\\\\chb03_07.edf', 'Dataset/chb03\\\\chb03_08.edf', 'Dataset/chb03\\\\chb03_09.edf', 'Dataset/chb03\\\\chb03_10.edf', 'Dataset/chb03\\\\chb03_11.edf', 'Dataset/chb03\\\\chb03_12.edf', 'Dataset/chb03\\\\chb03_13.edf', 'Dataset/chb03\\\\chb03_14.edf', 'Dataset/chb03\\\\chb03_15.edf', 'Dataset/chb03\\\\chb03_16.edf', 'Dataset/chb03\\\\chb03_17.edf', 'Dataset/chb03\\\\chb03_18.edf', 'Dataset/chb03\\\\chb03_19.edf', 'Dataset/chb03\\\\chb03_20.edf', 'Dataset/chb03\\\\chb03_21.edf', 'Dataset/chb03\\\\chb03_22.edf', 'Dataset/chb03\\\\chb03_23.edf', 'Dataset/chb03\\\\chb03_24.edf', 'Dataset/chb03\\\\chb03_25.edf', 'Dataset/chb03\\\\chb03_26.edf', 'Dataset/chb03\\\\chb03_27.edf', 'Dataset/chb03\\\\chb03_28.edf', 'Dataset/chb03\\\\chb03_29.edf', 'Dataset/chb03\\\\chb03_30.edf', 'Dataset/chb03\\\\chb03_31.edf', 'Dataset/chb03\\\\chb03_32.edf', 'Dataset/chb03\\\\chb03_33.edf', 'Dataset/chb03\\\\chb03_34.edf', 'Dataset/chb03\\\\chb03_35.edf', 'Dataset/chb03\\\\chb03_36.edf', 'Dataset/chb03\\\\chb03_37.edf', 'Dataset/chb03\\\\chb03_38.edf'], ['Dataset/chb04\\\\chb04_01.edf', 'Dataset/chb04\\\\chb04_02.edf', 'Dataset/chb04\\\\chb04_03.edf', 'Dataset/chb04\\\\chb04_04.edf', 'Dataset/chb04\\\\chb04_05.edf', 'Dataset/chb04\\\\chb04_06.edf', 'Dataset/chb04\\\\chb04_07.edf', 'Dataset/chb04\\\\chb04_08.edf', 'Dataset/chb04\\\\chb04_09.edf', 'Dataset/chb04\\\\chb04_10.edf', 'Dataset/chb04\\\\chb04_11.edf', 'Dataset/chb04\\\\chb04_12.edf', 'Dataset/chb04\\\\chb04_13.edf', 'Dataset/chb04\\\\chb04_14.edf', 'Dataset/chb04\\\\chb04_15.edf', 'Dataset/chb04\\\\chb04_16.edf', 'Dataset/chb04\\\\chb04_17.edf', 'Dataset/chb04\\\\chb04_18.edf', 'Dataset/chb04\\\\chb04_19.edf', 'Dataset/chb04\\\\chb04_21.edf', 'Dataset/chb04\\\\chb04_22.edf', 'Dataset/chb04\\\\chb04_23.edf', 'Dataset/chb04\\\\chb04_24.edf', 'Dataset/chb04\\\\chb04_25.edf', 'Dataset/chb04\\\\chb04_26.edf', 'Dataset/chb04\\\\chb04_27.edf', 'Dataset/chb04\\\\chb04_28.edf', 'Dataset/chb04\\\\chb04_29.edf', 'Dataset/chb04\\\\chb04_30.edf', 'Dataset/chb04\\\\chb04_31.edf', 'Dataset/chb04\\\\chb04_32.edf', 'Dataset/chb04\\\\chb04_33.edf', 'Dataset/chb04\\\\chb04_34.edf', 'Dataset/chb04\\\\chb04_35.edf', 'Dataset/chb04\\\\chb04_36.edf', 'Dataset/chb04\\\\chb04_37.edf', 'Dataset/chb04\\\\chb04_38.edf', 'Dataset/chb04\\\\chb04_39.edf', 'Dataset/chb04\\\\chb04_40.edf', 'Dataset/chb04\\\\chb04_41.edf', 'Dataset/chb04\\\\chb04_42.edf', 'Dataset/chb04\\\\chb04_43.edf'], ['Dataset/chb05\\\\chb05_01.edf', 'Dataset/chb05\\\\chb05_02.edf', 'Dataset/chb05\\\\chb05_03.edf', 'Dataset/chb05\\\\chb05_04.edf', 'Dataset/chb05\\\\chb05_05.edf', 'Dataset/chb05\\\\chb05_06.edf', 'Dataset/chb05\\\\chb05_07.edf', 'Dataset/chb05\\\\chb05_08.edf', 'Dataset/chb05\\\\chb05_09.edf', 'Dataset/chb05\\\\chb05_10.edf', 'Dataset/chb05\\\\chb05_11.edf', 'Dataset/chb05\\\\chb05_12.edf', 'Dataset/chb05\\\\chb05_13.edf', 'Dataset/chb05\\\\chb05_14.edf', 'Dataset/chb05\\\\chb05_15.edf', 'Dataset/chb05\\\\chb05_16.edf', 'Dataset/chb05\\\\chb05_17.edf', 'Dataset/chb05\\\\chb05_18.edf', 'Dataset/chb05\\\\chb05_19.edf', 'Dataset/chb05\\\\chb05_20.edf', 'Dataset/chb05\\\\chb05_21.edf', 'Dataset/chb05\\\\chb05_22.edf', 'Dataset/chb05\\\\chb05_23.edf', 'Dataset/chb05\\\\chb05_24.edf', 'Dataset/chb05\\\\chb05_25.edf', 'Dataset/chb05\\\\chb05_26.edf', 'Dataset/chb05\\\\chb05_27.edf', 'Dataset/chb05\\\\chb05_28.edf', 'Dataset/chb05\\\\chb05_29.edf', 'Dataset/chb05\\\\chb05_30.edf', 'Dataset/chb05\\\\chb05_31.edf', 'Dataset/chb05\\\\chb05_32.edf', 'Dataset/chb05\\\\chb05_33.edf', 'Dataset/chb05\\\\chb05_34.edf', 'Dataset/chb05\\\\chb05_35.edf', 'Dataset/chb05\\\\chb05_36.edf', 'Dataset/chb05\\\\chb05_37.edf', 'Dataset/chb05\\\\chb05_38.edf', 'Dataset/chb05\\\\chb05_39.edf'], ['Dataset/chb06\\\\chb06_01.edf', 'Dataset/chb06\\\\chb06_02.edf', 'Dataset/chb06\\\\chb06_03.edf', 'Dataset/chb06\\\\chb06_04.edf', 'Dataset/chb06\\\\chb06_05.edf', 'Dataset/chb06\\\\chb06_06.edf', 'Dataset/chb06\\\\chb06_07.edf', 'Dataset/chb06\\\\chb06_08.edf', 'Dataset/chb06\\\\chb06_09.edf', 'Dataset/chb06\\\\chb06_10.edf', 'Dataset/chb06\\\\chb06_12.edf', 'Dataset/chb06\\\\chb06_13.edf', 'Dataset/chb06\\\\chb06_14.edf', 'Dataset/chb06\\\\chb06_15.edf', 'Dataset/chb06\\\\chb06_16.edf', 'Dataset/chb06\\\\chb06_17.edf', 'Dataset/chb06\\\\chb06_18.edf', 'Dataset/chb06\\\\chb06_24.edf'], ['Dataset/chb07\\\\chb07_01.edf', 'Dataset/chb07\\\\chb07_02.edf', 'Dataset/chb07\\\\chb07_03.edf', 'Dataset/chb07\\\\chb07_04.edf', 'Dataset/chb07\\\\chb07_05.edf', 'Dataset/chb07\\\\chb07_06.edf', 'Dataset/chb07\\\\chb07_07.edf', 'Dataset/chb07\\\\chb07_08.edf', 'Dataset/chb07\\\\chb07_09.edf', 'Dataset/chb07\\\\chb07_10.edf', 'Dataset/chb07\\\\chb07_11.edf', 'Dataset/chb07\\\\chb07_12.edf', 'Dataset/chb07\\\\chb07_13.edf', 'Dataset/chb07\\\\chb07_14.edf', 'Dataset/chb07\\\\chb07_15.edf', 'Dataset/chb07\\\\chb07_16.edf', 'Dataset/chb07\\\\chb07_17.edf', 'Dataset/chb07\\\\chb07_18.edf', 'Dataset/chb07\\\\chb07_19.edf'], ['Dataset/chb08\\\\chb08_02.edf', 'Dataset/chb08\\\\chb08_03.edf', 'Dataset/chb08\\\\chb08_04.edf', 'Dataset/chb08\\\\chb08_05.edf', 'Dataset/chb08\\\\chb08_10.edf', 'Dataset/chb08\\\\chb08_11.edf', 'Dataset/chb08\\\\chb08_12.edf', 'Dataset/chb08\\\\chb08_13.edf', 'Dataset/chb08\\\\chb08_14.edf', 'Dataset/chb08\\\\chb08_15.edf', 'Dataset/chb08\\\\chb08_16.edf', 'Dataset/chb08\\\\chb08_17.edf', 'Dataset/chb08\\\\chb08_18.edf', 'Dataset/chb08\\\\chb08_19.edf', 'Dataset/chb08\\\\chb08_20.edf', 'Dataset/chb08\\\\chb08_21.edf', 'Dataset/chb08\\\\chb08_22.edf', 'Dataset/chb08\\\\chb08_23.edf', 'Dataset/chb08\\\\chb08_24.edf', 'Dataset/chb08\\\\chb08_29.edf'], ['Dataset/chb09\\\\chb09_01.edf', 'Dataset/chb09\\\\chb09_02.edf', 'Dataset/chb09\\\\chb09_03.edf', 'Dataset/chb09\\\\chb09_04.edf', 'Dataset/chb09\\\\chb09_05.edf', 'Dataset/chb09\\\\chb09_06.edf', 'Dataset/chb09\\\\chb09_07.edf', 'Dataset/chb09\\\\chb09_08.edf', 'Dataset/chb09\\\\chb09_09.edf', 'Dataset/chb09\\\\chb09_10.edf', 'Dataset/chb09\\\\chb09_11.edf', 'Dataset/chb09\\\\chb09_12.edf', 'Dataset/chb09\\\\chb09_13.edf', 'Dataset/chb09\\\\chb09_14.edf', 'Dataset/chb09\\\\chb09_15.edf', 'Dataset/chb09\\\\chb09_16.edf', 'Dataset/chb09\\\\chb09_17.edf', 'Dataset/chb09\\\\chb09_18.edf', 'Dataset/chb09\\\\chb09_19.edf'], ['Dataset/chb10\\\\chb10_01.edf', 'Dataset/chb10\\\\chb10_02.edf', 'Dataset/chb10\\\\chb10_03.edf', 'Dataset/chb10\\\\chb10_04.edf', 'Dataset/chb10\\\\chb10_05.edf', 'Dataset/chb10\\\\chb10_06.edf', 'Dataset/chb10\\\\chb10_07.edf', 'Dataset/chb10\\\\chb10_08.edf', 'Dataset/chb10\\\\chb10_12.edf', 'Dataset/chb10\\\\chb10_13.edf', 'Dataset/chb10\\\\chb10_14.edf', 'Dataset/chb10\\\\chb10_15.edf', 'Dataset/chb10\\\\chb10_16.edf', 'Dataset/chb10\\\\chb10_17.edf', 'Dataset/chb10\\\\chb10_18.edf', 'Dataset/chb10\\\\chb10_19.edf', 'Dataset/chb10\\\\chb10_20.edf', 'Dataset/chb10\\\\chb10_21.edf', 'Dataset/chb10\\\\chb10_22.edf', 'Dataset/chb10\\\\chb10_27.edf', 'Dataset/chb10\\\\chb10_28.edf', 'Dataset/chb10\\\\chb10_30.edf', 'Dataset/chb10\\\\chb10_31.edf', 'Dataset/chb10\\\\chb10_38.edf', 'Dataset/chb10\\\\chb10_89.edf'], ['Dataset/chb11\\\\chb11_01.edf', 'Dataset/chb11\\\\chb11_02.edf', 'Dataset/chb11\\\\chb11_03.edf', 'Dataset/chb11\\\\chb11_04.edf', 'Dataset/chb11\\\\chb11_05.edf', 'Dataset/chb11\\\\chb11_06.edf', 'Dataset/chb11\\\\chb11_07.edf', 'Dataset/chb11\\\\chb11_08.edf', 'Dataset/chb11\\\\chb11_09.edf', 'Dataset/chb11\\\\chb11_10.edf', 'Dataset/chb11\\\\chb11_11.edf', 'Dataset/chb11\\\\chb11_12.edf', 'Dataset/chb11\\\\chb11_13.edf', 'Dataset/chb11\\\\chb11_14.edf', 'Dataset/chb11\\\\chb11_15.edf', 'Dataset/chb11\\\\chb11_16.edf', 'Dataset/chb11\\\\chb11_17.edf', 'Dataset/chb11\\\\chb11_18.edf', 'Dataset/chb11\\\\chb11_19.edf', 'Dataset/chb11\\\\chb11_24.edf', 'Dataset/chb11\\\\chb11_25.edf', 'Dataset/chb11\\\\chb11_26.edf', 'Dataset/chb11\\\\chb11_27.edf', 'Dataset/chb11\\\\chb11_53.edf', 'Dataset/chb11\\\\chb11_54.edf', 'Dataset/chb11\\\\chb11_55.edf', 'Dataset/chb11\\\\chb11_56.edf', 'Dataset/chb11\\\\chb11_58.edf', 'Dataset/chb11\\\\chb11_60.edf', 'Dataset/chb11\\\\chb11_61.edf', 'Dataset/chb11\\\\chb11_62.edf', 'Dataset/chb11\\\\chb11_63.edf', 'Dataset/chb11\\\\chb11_82.edf', 'Dataset/chb11\\\\chb11_92.edf', 'Dataset/chb11\\\\chb11_99.edf'], ['Dataset/chb12\\\\chb12_06.edf', 'Dataset/chb12\\\\chb12_08.edf', 'Dataset/chb12\\\\chb12_09.edf', 'Dataset/chb12\\\\chb12_10.edf', 'Dataset/chb12\\\\chb12_11.edf', 'Dataset/chb12\\\\chb12_19.edf', 'Dataset/chb12\\\\chb12_20.edf', 'Dataset/chb12\\\\chb12_21.edf', 'Dataset/chb12\\\\chb12_23.edf', 'Dataset/chb12\\\\chb12_24.edf', 'Dataset/chb12\\\\chb12_27.edf', 'Dataset/chb12\\\\chb12_28.edf', 'Dataset/chb12\\\\chb12_29.edf', 'Dataset/chb12\\\\chb12_32.edf', 'Dataset/chb12\\\\chb12_33.edf', 'Dataset/chb12\\\\chb12_34.edf', 'Dataset/chb12\\\\chb12_35.edf', 'Dataset/chb12\\\\chb12_36.edf', 'Dataset/chb12\\\\chb12_37.edf', 'Dataset/chb12\\\\chb12_38.edf', 'Dataset/chb12\\\\chb12_39.edf', 'Dataset/chb12\\\\chb12_40.edf', 'Dataset/chb12\\\\chb12_41.edf', 'Dataset/chb12\\\\chb12_42.edf'], ['Dataset/chb13\\\\chb13_02.edf', 'Dataset/chb13\\\\chb13_03.edf', 'Dataset/chb13\\\\chb13_04.edf', 'Dataset/chb13\\\\chb13_05.edf', 'Dataset/chb13\\\\chb13_06.edf', 'Dataset/chb13\\\\chb13_07.edf', 'Dataset/chb13\\\\chb13_08.edf', 'Dataset/chb13\\\\chb13_09.edf', 'Dataset/chb13\\\\chb13_10.edf', 'Dataset/chb13\\\\chb13_11.edf', 'Dataset/chb13\\\\chb13_12.edf', 'Dataset/chb13\\\\chb13_13.edf', 'Dataset/chb13\\\\chb13_14.edf', 'Dataset/chb13\\\\chb13_15.edf', 'Dataset/chb13\\\\chb13_16.edf', 'Dataset/chb13\\\\chb13_18.edf', 'Dataset/chb13\\\\chb13_19.edf', 'Dataset/chb13\\\\chb13_21.edf', 'Dataset/chb13\\\\chb13_22.edf', 'Dataset/chb13\\\\chb13_24.edf', 'Dataset/chb13\\\\chb13_30.edf', 'Dataset/chb13\\\\chb13_36.edf', 'Dataset/chb13\\\\chb13_37.edf', 'Dataset/chb13\\\\chb13_38.edf', 'Dataset/chb13\\\\chb13_39.edf', 'Dataset/chb13\\\\chb13_40.edf', 'Dataset/chb13\\\\chb13_47.edf', 'Dataset/chb13\\\\chb13_55.edf', 'Dataset/chb13\\\\chb13_56.edf', 'Dataset/chb13\\\\chb13_58.edf', 'Dataset/chb13\\\\chb13_59.edf', 'Dataset/chb13\\\\chb13_60.edf', 'Dataset/chb13\\\\chb13_62.edf'], ['Dataset/chb14\\\\chb14_01.edf', 'Dataset/chb14\\\\chb14_02.edf', 'Dataset/chb14\\\\chb14_03.edf', 'Dataset/chb14\\\\chb14_04.edf', 'Dataset/chb14\\\\chb14_06.edf', 'Dataset/chb14\\\\chb14_07.edf', 'Dataset/chb14\\\\chb14_11.edf', 'Dataset/chb14\\\\chb14_12.edf', 'Dataset/chb14\\\\chb14_13.edf', 'Dataset/chb14\\\\chb14_14.edf', 'Dataset/chb14\\\\chb14_16.edf', 'Dataset/chb14\\\\chb14_17.edf', 'Dataset/chb14\\\\chb14_18.edf', 'Dataset/chb14\\\\chb14_19.edf', 'Dataset/chb14\\\\chb14_20.edf', 'Dataset/chb14\\\\chb14_22.edf', 'Dataset/chb14\\\\chb14_24.edf', 'Dataset/chb14\\\\chb14_25.edf', 'Dataset/chb14\\\\chb14_26.edf', 'Dataset/chb14\\\\chb14_27.edf', 'Dataset/chb14\\\\chb14_29.edf', 'Dataset/chb14\\\\chb14_30.edf', 'Dataset/chb14\\\\chb14_32.edf', 'Dataset/chb14\\\\chb14_37.edf', 'Dataset/chb14\\\\chb14_39.edf', 'Dataset/chb14\\\\chb14_42.edf'], ['Dataset/chb15\\\\chb15_01.edf', 'Dataset/chb15\\\\chb15_02.edf', 'Dataset/chb15\\\\chb15_03.edf', 'Dataset/chb15\\\\chb15_04.edf', 'Dataset/chb15\\\\chb15_05.edf', 'Dataset/chb15\\\\chb15_06.edf', 'Dataset/chb15\\\\chb15_07.edf', 'Dataset/chb15\\\\chb15_08.edf', 'Dataset/chb15\\\\chb15_09.edf', 'Dataset/chb15\\\\chb15_10.edf', 'Dataset/chb15\\\\chb15_11.edf', 'Dataset/chb15\\\\chb15_12.edf', 'Dataset/chb15\\\\chb15_13.edf', 'Dataset/chb15\\\\chb15_14.edf', 'Dataset/chb15\\\\chb15_15.edf', 'Dataset/chb15\\\\chb15_16.edf', 'Dataset/chb15\\\\chb15_17.edf', 'Dataset/chb15\\\\chb15_19.edf', 'Dataset/chb15\\\\chb15_20.edf', 'Dataset/chb15\\\\chb15_22.edf', 'Dataset/chb15\\\\chb15_26.edf', 'Dataset/chb15\\\\chb15_28.edf', 'Dataset/chb15\\\\chb15_29.edf', 'Dataset/chb15\\\\chb15_30.edf', 'Dataset/chb15\\\\chb15_31.edf', 'Dataset/chb15\\\\chb15_32.edf', 'Dataset/chb15\\\\chb15_33.edf', 'Dataset/chb15\\\\chb15_35.edf', 'Dataset/chb15\\\\chb15_37.edf', 'Dataset/chb15\\\\chb15_40.edf', 'Dataset/chb15\\\\chb15_45.edf', 'Dataset/chb15\\\\chb15_46.edf', 'Dataset/chb15\\\\chb15_49.edf', 'Dataset/chb15\\\\chb15_50.edf', 'Dataset/chb15\\\\chb15_51.edf', 'Dataset/chb15\\\\chb15_52.edf', 'Dataset/chb15\\\\chb15_54.edf', 'Dataset/chb15\\\\chb15_61.edf', 'Dataset/chb15\\\\chb15_62.edf', 'Dataset/chb15\\\\chb15_63.edf'], ['Dataset/chb16\\\\chb16_01.edf', 'Dataset/chb16\\\\chb16_02.edf', 'Dataset/chb16\\\\chb16_03.edf', 'Dataset/chb16\\\\chb16_04.edf', 'Dataset/chb16\\\\chb16_05.edf', 'Dataset/chb16\\\\chb16_06.edf', 'Dataset/chb16\\\\chb16_07.edf', 'Dataset/chb16\\\\chb16_08.edf', 'Dataset/chb16\\\\chb16_09.edf', 'Dataset/chb16\\\\chb16_10.edf', 'Dataset/chb16\\\\chb16_11.edf', 'Dataset/chb16\\\\chb16_12.edf', 'Dataset/chb16\\\\chb16_13.edf', 'Dataset/chb16\\\\chb16_14.edf', 'Dataset/chb16\\\\chb16_15.edf', 'Dataset/chb16\\\\chb16_16.edf', 'Dataset/chb16\\\\chb16_17.edf', 'Dataset/chb16\\\\chb16_18.edf', 'Dataset/chb16\\\\chb16_19.edf'], ['Dataset/chb17\\\\chb17a_03.edf', 'Dataset/chb17\\\\chb17a_04.edf', 'Dataset/chb17\\\\chb17a_05.edf', 'Dataset/chb17\\\\chb17a_06.edf', 'Dataset/chb17\\\\chb17a_08.edf', 'Dataset/chb17\\\\chb17b_57.edf', 'Dataset/chb17\\\\chb17b_58.edf', 'Dataset/chb17\\\\chb17b_59.edf', 'Dataset/chb17\\\\chb17b_60.edf', 'Dataset/chb17\\\\chb17b_63.edf', 'Dataset/chb17\\\\chb17b_67.edf', 'Dataset/chb17\\\\chb17b_68.edf', 'Dataset/chb17\\\\chb17b_69.edf', 'Dataset/chb17\\\\chb17c_02.edf', 'Dataset/chb17\\\\chb17c_03.edf', 'Dataset/chb17\\\\chb17c_04.edf', 'Dataset/chb17\\\\chb17c_05.edf', 'Dataset/chb17\\\\chb17c_06.edf', 'Dataset/chb17\\\\chb17c_07.edf', 'Dataset/chb17\\\\chb17c_08.edf', 'Dataset/chb17\\\\chb17c_13.edf'], ['Dataset/chb18\\\\chb18_01.edf', 'Dataset/chb18\\\\chb18_02.edf', 'Dataset/chb18\\\\chb18_03.edf', 'Dataset/chb18\\\\chb18_04.edf', 'Dataset/chb18\\\\chb18_05.edf', 'Dataset/chb18\\\\chb18_06.edf', 'Dataset/chb18\\\\chb18_07.edf', 'Dataset/chb18\\\\chb18_08.edf', 'Dataset/chb18\\\\chb18_09.edf', 'Dataset/chb18\\\\chb18_10.edf', 'Dataset/chb18\\\\chb18_11.edf', 'Dataset/chb18\\\\chb18_12.edf', 'Dataset/chb18\\\\chb18_13.edf', 'Dataset/chb18\\\\chb18_14.edf', 'Dataset/chb18\\\\chb18_15.edf', 'Dataset/chb18\\\\chb18_16.edf', 'Dataset/chb18\\\\chb18_17.edf', 'Dataset/chb18\\\\chb18_18.edf', 'Dataset/chb18\\\\chb18_19.edf', 'Dataset/chb18\\\\chb18_20.edf', 'Dataset/chb18\\\\chb18_21.edf', 'Dataset/chb18\\\\chb18_22.edf', 'Dataset/chb18\\\\chb18_23.edf', 'Dataset/chb18\\\\chb18_24.edf', 'Dataset/chb18\\\\chb18_25.edf', 'Dataset/chb18\\\\chb18_26.edf', 'Dataset/chb18\\\\chb18_27.edf', 'Dataset/chb18\\\\chb18_28.edf', 'Dataset/chb18\\\\chb18_29.edf', 'Dataset/chb18\\\\chb18_30.edf', 'Dataset/chb18\\\\chb18_31.edf', 'Dataset/chb18\\\\chb18_32.edf', 'Dataset/chb18\\\\chb18_33.edf', 'Dataset/chb18\\\\chb18_34.edf', 'Dataset/chb18\\\\chb18_35.edf', 'Dataset/chb18\\\\chb18_36.edf'], ['Dataset/chb19\\\\chb19_01.edf', 'Dataset/chb19\\\\chb19_02.edf', 'Dataset/chb19\\\\chb19_03.edf', 'Dataset/chb19\\\\chb19_04.edf', 'Dataset/chb19\\\\chb19_05.edf', 'Dataset/chb19\\\\chb19_06.edf', 'Dataset/chb19\\\\chb19_07.edf', 'Dataset/chb19\\\\chb19_08.edf', 'Dataset/chb19\\\\chb19_09.edf', 'Dataset/chb19\\\\chb19_10.edf', 'Dataset/chb19\\\\chb19_11.edf', 'Dataset/chb19\\\\chb19_12.edf', 'Dataset/chb19\\\\chb19_13.edf', 'Dataset/chb19\\\\chb19_14.edf', 'Dataset/chb19\\\\chb19_15.edf', 'Dataset/chb19\\\\chb19_16.edf', 'Dataset/chb19\\\\chb19_17.edf', 'Dataset/chb19\\\\chb19_18.edf', 'Dataset/chb19\\\\chb19_19.edf', 'Dataset/chb19\\\\chb19_20.edf', 'Dataset/chb19\\\\chb19_21.edf', 'Dataset/chb19\\\\chb19_22.edf', 'Dataset/chb19\\\\chb19_23.edf', 'Dataset/chb19\\\\chb19_24.edf', 'Dataset/chb19\\\\chb19_25.edf', 'Dataset/chb19\\\\chb19_26.edf', 'Dataset/chb19\\\\chb19_27.edf', 'Dataset/chb19\\\\chb19_28.edf', 'Dataset/chb19\\\\chb19_29.edf', 'Dataset/chb19\\\\chb19_30.edf'], ['Dataset/chb20\\\\chb20_01.edf', 'Dataset/chb20\\\\chb20_02.edf', 'Dataset/chb20\\\\chb20_03.edf', 'Dataset/chb20\\\\chb20_04.edf', 'Dataset/chb20\\\\chb20_05.edf', 'Dataset/chb20\\\\chb20_06.edf', 'Dataset/chb20\\\\chb20_07.edf', 'Dataset/chb20\\\\chb20_08.edf', 'Dataset/chb20\\\\chb20_11.edf', 'Dataset/chb20\\\\chb20_12.edf', 'Dataset/chb20\\\\chb20_13.edf', 'Dataset/chb20\\\\chb20_14.edf', 'Dataset/chb20\\\\chb20_15.edf', 'Dataset/chb20\\\\chb20_16.edf', 'Dataset/chb20\\\\chb20_17.edf', 'Dataset/chb20\\\\chb20_21.edf', 'Dataset/chb20\\\\chb20_22.edf', 'Dataset/chb20\\\\chb20_23.edf', 'Dataset/chb20\\\\chb20_25.edf', 'Dataset/chb20\\\\chb20_26.edf', 'Dataset/chb20\\\\chb20_27.edf', 'Dataset/chb20\\\\chb20_28.edf', 'Dataset/chb20\\\\chb20_29.edf', 'Dataset/chb20\\\\chb20_30.edf', 'Dataset/chb20\\\\chb20_31.edf', 'Dataset/chb20\\\\chb20_34.edf', 'Dataset/chb20\\\\chb20_59.edf', 'Dataset/chb20\\\\chb20_60.edf', 'Dataset/chb20\\\\chb20_68.edf'], ['Dataset/chb21\\\\chb21_01.edf', 'Dataset/chb21\\\\chb21_02.edf', 'Dataset/chb21\\\\chb21_03.edf', 'Dataset/chb21\\\\chb21_04.edf', 'Dataset/chb21\\\\chb21_05.edf', 'Dataset/chb21\\\\chb21_06.edf', 'Dataset/chb21\\\\chb21_07.edf', 'Dataset/chb21\\\\chb21_08.edf', 'Dataset/chb21\\\\chb21_09.edf', 'Dataset/chb21\\\\chb21_10.edf', 'Dataset/chb21\\\\chb21_11.edf', 'Dataset/chb21\\\\chb21_12.edf', 'Dataset/chb21\\\\chb21_13.edf', 'Dataset/chb21\\\\chb21_14.edf', 'Dataset/chb21\\\\chb21_15.edf', 'Dataset/chb21\\\\chb21_16.edf', 'Dataset/chb21\\\\chb21_17.edf', 'Dataset/chb21\\\\chb21_18.edf', 'Dataset/chb21\\\\chb21_19.edf', 'Dataset/chb21\\\\chb21_20.edf', 'Dataset/chb21\\\\chb21_21.edf', 'Dataset/chb21\\\\chb21_22.edf', 'Dataset/chb21\\\\chb21_23.edf', 'Dataset/chb21\\\\chb21_24.edf', 'Dataset/chb21\\\\chb21_25.edf', 'Dataset/chb21\\\\chb21_26.edf', 'Dataset/chb21\\\\chb21_27.edf', 'Dataset/chb21\\\\chb21_28.edf', 'Dataset/chb21\\\\chb21_29.edf', 'Dataset/chb21\\\\chb21_30.edf', 'Dataset/chb21\\\\chb21_31.edf', 'Dataset/chb21\\\\chb21_32.edf', 'Dataset/chb21\\\\chb21_33.edf'], ['Dataset/chb22\\\\chb22_01.edf', 'Dataset/chb22\\\\chb22_02.edf', 'Dataset/chb22\\\\chb22_03.edf', 'Dataset/chb22\\\\chb22_04.edf', 'Dataset/chb22\\\\chb22_05.edf', 'Dataset/chb22\\\\chb22_06.edf', 'Dataset/chb22\\\\chb22_07.edf', 'Dataset/chb22\\\\chb22_08.edf', 'Dataset/chb22\\\\chb22_09.edf', 'Dataset/chb22\\\\chb22_10.edf', 'Dataset/chb22\\\\chb22_11.edf', 'Dataset/chb22\\\\chb22_15.edf', 'Dataset/chb22\\\\chb22_16.edf', 'Dataset/chb22\\\\chb22_17.edf', 'Dataset/chb22\\\\chb22_18.edf', 'Dataset/chb22\\\\chb22_19.edf', 'Dataset/chb22\\\\chb22_20.edf', 'Dataset/chb22\\\\chb22_21.edf', 'Dataset/chb22\\\\chb22_22.edf', 'Dataset/chb22\\\\chb22_23.edf', 'Dataset/chb22\\\\chb22_24.edf', 'Dataset/chb22\\\\chb22_25.edf', 'Dataset/chb22\\\\chb22_26.edf', 'Dataset/chb22\\\\chb22_27.edf', 'Dataset/chb22\\\\chb22_28.edf', 'Dataset/chb22\\\\chb22_29.edf', 'Dataset/chb22\\\\chb22_30.edf', 'Dataset/chb22\\\\chb22_38.edf', 'Dataset/chb22\\\\chb22_51.edf', 'Dataset/chb22\\\\chb22_54.edf', 'Dataset/chb22\\\\chb22_77.edf'], ['Dataset/chb23\\\\chb23_06.edf', 'Dataset/chb23\\\\chb23_07.edf', 'Dataset/chb23\\\\chb23_08.edf', 'Dataset/chb23\\\\chb23_09.edf', 'Dataset/chb23\\\\chb23_10.edf', 'Dataset/chb23\\\\chb23_16.edf', 'Dataset/chb23\\\\chb23_17.edf', 'Dataset/chb23\\\\chb23_19.edf', 'Dataset/chb23\\\\chb23_20.edf'], ['Dataset/chb24\\\\chb24_01.edf', 'Dataset/chb24\\\\chb24_02.edf', 'Dataset/chb24\\\\chb24_03.edf', 'Dataset/chb24\\\\chb24_04.edf', 'Dataset/chb24\\\\chb24_05.edf', 'Dataset/chb24\\\\chb24_06.edf', 'Dataset/chb24\\\\chb24_07.edf', 'Dataset/chb24\\\\chb24_08.edf', 'Dataset/chb24\\\\chb24_09.edf', 'Dataset/chb24\\\\chb24_10.edf', 'Dataset/chb24\\\\chb24_11.edf', 'Dataset/chb24\\\\chb24_12.edf', 'Dataset/chb24\\\\chb24_13.edf', 'Dataset/chb24\\\\chb24_14.edf', 'Dataset/chb24\\\\chb24_15.edf', 'Dataset/chb24\\\\chb24_16.edf', 'Dataset/chb24\\\\chb24_17.edf', 'Dataset/chb24\\\\chb24_18.edf', 'Dataset/chb24\\\\chb24_19.edf', 'Dataset/chb24\\\\chb24_20.edf', 'Dataset/chb24\\\\chb24_21.edf', 'Dataset/chb24\\\\chb24_22.edf']]\n"
     ]
    }
   ],
   "source": [
    "names = extract_all_files()\n",
    "print(names)"
   ]
  },
  {
   "cell_type": "markdown",
   "metadata": {},
   "source": [
    "Seperating the Data into seizure data and non seizure data"
   ]
  },
  {
   "cell_type": "markdown",
   "metadata": {},
   "source": [
    "Getting the seizure file names from the records"
   ]
  },
  {
   "cell_type": "code",
   "execution_count": 5,
   "metadata": {},
   "outputs": [],
   "source": [
    "def get_record_names(filepath):\n",
    "    names = pd.read_csv(filepath)\n",
    "    names = names.values.tolist()\n",
    "    return names"
   ]
  },
  {
   "cell_type": "code",
   "execution_count": 6,
   "metadata": {},
   "outputs": [
    {
     "name": "stdout",
     "output_type": "stream",
     "text": [
      "[['chb01/chb01_04.edf'], ['chb01/chb01_15.edf'], ['chb01/chb01_16.edf'], ['chb01/chb01_18.edf'], ['chb01/chb01_21.edf'], ['chb01/chb01_26.edf'], ['chb02/chb02_16.edf'], ['chb02/chb02_16+.edf'], ['chb02/chb02_19.edf'], ['chb03/chb03_01.edf'], ['chb03/chb03_02.edf'], ['chb03/chb03_03.edf'], ['chb03/chb03_04.edf'], ['chb03/chb03_34.edf'], ['chb03/chb03_35.edf'], ['chb03/chb03_36.edf'], ['chb04/chb04_05.edf'], ['chb04/chb04_08.edf'], ['chb04/chb04_28.edf'], ['chb05/chb05_06.edf'], ['chb05/chb05_13.edf'], ['chb05/chb05_16.edf'], ['chb05/chb05_17.edf'], ['chb05/chb05_22.edf'], ['chb06/chb06_01.edf'], ['chb06/chb06_04.edf'], ['chb06/chb06_09.edf'], ['chb06/chb06_10.edf'], ['chb06/chb06_13.edf'], ['chb06/chb06_18.edf'], ['chb06/chb06_24.edf'], ['chb07/chb07_12.edf'], ['chb07/chb07_13.edf'], ['chb07/chb07_18.edf'], ['chb08/chb08_02.edf'], ['chb08/chb08_05.edf'], ['chb08/chb08_11.edf'], ['chb08/chb08_13.edf'], ['chb08/chb08_21.edf'], ['chb09/chb09_06.edf'], ['chb09/chb09_08.edf'], ['chb09/chb09_19.edf'], ['chb10/chb10_12.edf'], ['chb10/chb10_20.edf'], ['chb10/chb10_27.edf'], ['chb10/chb10_30.edf'], ['chb10/chb10_31.edf'], ['chb10/chb10_38.edf'], ['chb10/chb10_89.edf'], ['chb11/chb11_82.edf'], ['chb11/chb11_92.edf'], ['chb11/chb11_99.edf'], ['chb12/chb12_06.edf'], ['chb12/chb12_08.edf'], ['chb12/chb12_09.edf'], ['chb12/chb12_10.edf'], ['chb12/chb12_11.edf'], ['chb12/chb12_23.edf'], ['chb12/chb12_27.edf'], ['chb12/chb12_28.edf'], ['chb12/chb12_29.edf'], ['chb12/chb12_33.edf'], ['chb12/chb12_36.edf'], ['chb12/chb12_38.edf'], ['chb12/chb12_42.edf'], ['chb13/chb13_19.edf'], ['chb13/chb13_21.edf'], ['chb13/chb13_40.edf'], ['chb13/chb13_55.edf'], ['chb13/chb13_58.edf'], ['chb13/chb13_59.edf'], ['chb13/chb13_60.edf'], ['chb13/chb13_62.edf'], ['chb14/chb14_03.edf'], ['chb14/chb14_04.edf'], ['chb14/chb14_06.edf'], ['chb14/chb14_11.edf'], ['chb14/chb14_17.edf'], ['chb14/chb14_18.edf'], ['chb14/chb14_27.edf'], ['chb15/chb15_06.edf'], ['chb15/chb15_10.edf'], ['chb15/chb15_15.edf'], ['chb15/chb15_17.edf'], ['chb15/chb15_20.edf'], ['chb15/chb15_22.edf'], ['chb15/chb15_28.edf'], ['chb15/chb15_31.edf'], ['chb15/chb15_40.edf'], ['chb15/chb15_46.edf'], ['chb15/chb15_49.edf'], ['chb15/chb15_52.edf'], ['chb15/chb15_54.edf'], ['chb15/chb15_62.edf'], ['chb16/chb16_10.edf'], ['chb16/chb16_11.edf'], ['chb16/chb16_14.edf'], ['chb16/chb16_16.edf'], ['chb16/chb16_17.edf'], ['chb16/chb16_18.edf'], ['chb17/chb17a_03.edf'], ['chb17/chb17a_04.edf'], ['chb17/chb17b_63.edf'], ['chb18/chb18_29.edf'], ['chb18/chb18_30.edf'], ['chb18/chb18_31.edf'], ['chb18/chb18_32.edf'], ['chb18/chb18_35.edf'], ['chb18/chb18_36.edf'], ['chb19/chb19_28.edf'], ['chb19/chb19_29.edf'], ['chb19/chb19_30.edf'], ['chb20/chb20_12.edf'], ['chb20/chb20_13.edf'], ['chb20/chb20_14.edf'], ['chb20/chb20_15.edf'], ['chb20/chb20_16.edf'], ['chb20/chb20_68.edf'], ['chb21/chb21_19.edf'], ['chb21/chb21_20.edf'], ['chb21/chb21_21.edf'], ['chb21/chb21_22.edf'], ['chb22/chb22_20.edf'], ['chb22/chb22_25.edf'], ['chb22/chb22_38.edf'], ['chb23/chb23_06.edf'], ['chb23/chb23_08.edf'], ['chb23/chb23_09.edf'], ['chb24/chb24_01.edf'], ['chb24/chb24_03.edf'], ['chb24/chb24_04.edf'], ['chb24/chb24_06.edf'], ['chb24/chb24_07.edf'], ['chb24/chb24_09.edf'], ['chb24/chb24_11.edf'], ['chb24/chb24_13.edf'], ['chb24/chb24_14.edf'], ['chb24/chb24_15.edf'], ['chb24/chb24_17.edf'], ['chb24/chb24_21.edf']]\n"
     ]
    }
   ],
   "source": [
    "seizure_names = get_record_names(\"Dataset/records_seizures.csv\")\n",
    "print(seizure_names)\n"
   ]
  },
  {
   "cell_type": "markdown",
   "metadata": {},
   "source": [
    "Formatting the seizure names the same way they are formatted in the data array"
   ]
  },
  {
   "cell_type": "code",
   "execution_count": 7,
   "metadata": {},
   "outputs": [],
   "source": [
    "def format_seizure_names(names):\n",
    "    formated = []\n",
    "    for array in names:\n",
    "        for name in array:\n",
    "            folder, file = name.split(\"/\")\n",
    "            name2 = f\"Dataset/{folder}\\\\{file}\"\n",
    "            formated.append(name2)\n",
    "    return formated"
   ]
  },
  {
   "cell_type": "code",
   "execution_count": 8,
   "metadata": {},
   "outputs": [
    {
     "name": "stdout",
     "output_type": "stream",
     "text": [
      "['Dataset/chb01\\\\chb01_04.edf', 'Dataset/chb01\\\\chb01_15.edf', 'Dataset/chb01\\\\chb01_16.edf', 'Dataset/chb01\\\\chb01_18.edf', 'Dataset/chb01\\\\chb01_21.edf', 'Dataset/chb01\\\\chb01_26.edf', 'Dataset/chb02\\\\chb02_16.edf', 'Dataset/chb02\\\\chb02_16+.edf', 'Dataset/chb02\\\\chb02_19.edf', 'Dataset/chb03\\\\chb03_01.edf', 'Dataset/chb03\\\\chb03_02.edf', 'Dataset/chb03\\\\chb03_03.edf', 'Dataset/chb03\\\\chb03_04.edf', 'Dataset/chb03\\\\chb03_34.edf', 'Dataset/chb03\\\\chb03_35.edf', 'Dataset/chb03\\\\chb03_36.edf', 'Dataset/chb04\\\\chb04_05.edf', 'Dataset/chb04\\\\chb04_08.edf', 'Dataset/chb04\\\\chb04_28.edf', 'Dataset/chb05\\\\chb05_06.edf', 'Dataset/chb05\\\\chb05_13.edf', 'Dataset/chb05\\\\chb05_16.edf', 'Dataset/chb05\\\\chb05_17.edf', 'Dataset/chb05\\\\chb05_22.edf', 'Dataset/chb06\\\\chb06_01.edf', 'Dataset/chb06\\\\chb06_04.edf', 'Dataset/chb06\\\\chb06_09.edf', 'Dataset/chb06\\\\chb06_10.edf', 'Dataset/chb06\\\\chb06_13.edf', 'Dataset/chb06\\\\chb06_18.edf', 'Dataset/chb06\\\\chb06_24.edf', 'Dataset/chb07\\\\chb07_12.edf', 'Dataset/chb07\\\\chb07_13.edf', 'Dataset/chb07\\\\chb07_18.edf', 'Dataset/chb08\\\\chb08_02.edf', 'Dataset/chb08\\\\chb08_05.edf', 'Dataset/chb08\\\\chb08_11.edf', 'Dataset/chb08\\\\chb08_13.edf', 'Dataset/chb08\\\\chb08_21.edf', 'Dataset/chb09\\\\chb09_06.edf', 'Dataset/chb09\\\\chb09_08.edf', 'Dataset/chb09\\\\chb09_19.edf', 'Dataset/chb10\\\\chb10_12.edf', 'Dataset/chb10\\\\chb10_20.edf', 'Dataset/chb10\\\\chb10_27.edf', 'Dataset/chb10\\\\chb10_30.edf', 'Dataset/chb10\\\\chb10_31.edf', 'Dataset/chb10\\\\chb10_38.edf', 'Dataset/chb10\\\\chb10_89.edf', 'Dataset/chb11\\\\chb11_82.edf', 'Dataset/chb11\\\\chb11_92.edf', 'Dataset/chb11\\\\chb11_99.edf', 'Dataset/chb12\\\\chb12_06.edf', 'Dataset/chb12\\\\chb12_08.edf', 'Dataset/chb12\\\\chb12_09.edf', 'Dataset/chb12\\\\chb12_10.edf', 'Dataset/chb12\\\\chb12_11.edf', 'Dataset/chb12\\\\chb12_23.edf', 'Dataset/chb12\\\\chb12_27.edf', 'Dataset/chb12\\\\chb12_28.edf', 'Dataset/chb12\\\\chb12_29.edf', 'Dataset/chb12\\\\chb12_33.edf', 'Dataset/chb12\\\\chb12_36.edf', 'Dataset/chb12\\\\chb12_38.edf', 'Dataset/chb12\\\\chb12_42.edf', 'Dataset/chb13\\\\chb13_19.edf', 'Dataset/chb13\\\\chb13_21.edf', 'Dataset/chb13\\\\chb13_40.edf', 'Dataset/chb13\\\\chb13_55.edf', 'Dataset/chb13\\\\chb13_58.edf', 'Dataset/chb13\\\\chb13_59.edf', 'Dataset/chb13\\\\chb13_60.edf', 'Dataset/chb13\\\\chb13_62.edf', 'Dataset/chb14\\\\chb14_03.edf', 'Dataset/chb14\\\\chb14_04.edf', 'Dataset/chb14\\\\chb14_06.edf', 'Dataset/chb14\\\\chb14_11.edf', 'Dataset/chb14\\\\chb14_17.edf', 'Dataset/chb14\\\\chb14_18.edf', 'Dataset/chb14\\\\chb14_27.edf', 'Dataset/chb15\\\\chb15_06.edf', 'Dataset/chb15\\\\chb15_10.edf', 'Dataset/chb15\\\\chb15_15.edf', 'Dataset/chb15\\\\chb15_17.edf', 'Dataset/chb15\\\\chb15_20.edf', 'Dataset/chb15\\\\chb15_22.edf', 'Dataset/chb15\\\\chb15_28.edf', 'Dataset/chb15\\\\chb15_31.edf', 'Dataset/chb15\\\\chb15_40.edf', 'Dataset/chb15\\\\chb15_46.edf', 'Dataset/chb15\\\\chb15_49.edf', 'Dataset/chb15\\\\chb15_52.edf', 'Dataset/chb15\\\\chb15_54.edf', 'Dataset/chb15\\\\chb15_62.edf', 'Dataset/chb16\\\\chb16_10.edf', 'Dataset/chb16\\\\chb16_11.edf', 'Dataset/chb16\\\\chb16_14.edf', 'Dataset/chb16\\\\chb16_16.edf', 'Dataset/chb16\\\\chb16_17.edf', 'Dataset/chb16\\\\chb16_18.edf', 'Dataset/chb17\\\\chb17a_03.edf', 'Dataset/chb17\\\\chb17a_04.edf', 'Dataset/chb17\\\\chb17b_63.edf', 'Dataset/chb18\\\\chb18_29.edf', 'Dataset/chb18\\\\chb18_30.edf', 'Dataset/chb18\\\\chb18_31.edf', 'Dataset/chb18\\\\chb18_32.edf', 'Dataset/chb18\\\\chb18_35.edf', 'Dataset/chb18\\\\chb18_36.edf', 'Dataset/chb19\\\\chb19_28.edf', 'Dataset/chb19\\\\chb19_29.edf', 'Dataset/chb19\\\\chb19_30.edf', 'Dataset/chb20\\\\chb20_12.edf', 'Dataset/chb20\\\\chb20_13.edf', 'Dataset/chb20\\\\chb20_14.edf', 'Dataset/chb20\\\\chb20_15.edf', 'Dataset/chb20\\\\chb20_16.edf', 'Dataset/chb20\\\\chb20_68.edf', 'Dataset/chb21\\\\chb21_19.edf', 'Dataset/chb21\\\\chb21_20.edf', 'Dataset/chb21\\\\chb21_21.edf', 'Dataset/chb21\\\\chb21_22.edf', 'Dataset/chb22\\\\chb22_20.edf', 'Dataset/chb22\\\\chb22_25.edf', 'Dataset/chb22\\\\chb22_38.edf', 'Dataset/chb23\\\\chb23_06.edf', 'Dataset/chb23\\\\chb23_08.edf', 'Dataset/chb23\\\\chb23_09.edf', 'Dataset/chb24\\\\chb24_01.edf', 'Dataset/chb24\\\\chb24_03.edf', 'Dataset/chb24\\\\chb24_04.edf', 'Dataset/chb24\\\\chb24_06.edf', 'Dataset/chb24\\\\chb24_07.edf', 'Dataset/chb24\\\\chb24_09.edf', 'Dataset/chb24\\\\chb24_11.edf', 'Dataset/chb24\\\\chb24_13.edf', 'Dataset/chb24\\\\chb24_14.edf', 'Dataset/chb24\\\\chb24_15.edf', 'Dataset/chb24\\\\chb24_17.edf', 'Dataset/chb24\\\\chb24_21.edf']\n"
     ]
    }
   ],
   "source": [
    "seizure_names = format_seizure_names(seizure_names)\n",
    "print(seizure_names)"
   ]
  },
  {
   "cell_type": "markdown",
   "metadata": {},
   "source": [
    "Getting the healthy file names by deleting the file names that are the ones with seizures"
   ]
  },
  {
   "cell_type": "code",
   "execution_count": 9,
   "metadata": {},
   "outputs": [],
   "source": [
    "def get_healthy_names(all_names, seizure_names):\n",
    "    healthy = []\n",
    "    for folder in all_names:\n",
    "        for name1 in folder:\n",
    "            seizure = False\n",
    "            for name2 in seizure_names:\n",
    "                if (name1 == name2):\n",
    "                    seizure = True\n",
    "            if (not seizure):\n",
    "                healthy.append(name1)\n",
    "    return healthy"
   ]
  },
  {
   "cell_type": "code",
   "execution_count": 10,
   "metadata": {},
   "outputs": [],
   "source": [
    "healthy_names = get_healthy_names(names, seizure_names)"
   ]
  },
  {
   "cell_type": "markdown",
   "metadata": {},
   "source": [
    "Extracting the data from the files using mne"
   ]
  },
  {
   "cell_type": "code",
   "execution_count": 11,
   "metadata": {},
   "outputs": [],
   "source": [
    "def get_data(filename):\n",
    "    data = mne.io.read_raw_edf(filename, preload = True)\n",
    "    mne.channels.make_1020_channel_selections(data.info)\n",
    "    data.set_eeg_reference()\n",
    "    epochs = mne.make_fixed_length_epochs(data, duration = 5, overlap=1)\n",
    "  \n",
    "    return epochs, data"
   ]
  },
  {
   "cell_type": "code",
   "execution_count": 12,
   "metadata": {},
   "outputs": [],
   "source": [
    "def make_topography_images(epochs, pos):\n",
    "    mne.viz.plot_topomap(epochs, pos)"
   ]
  },
  {
   "cell_type": "markdown",
   "metadata": {},
   "source": [
    "CZ-PZ index is 17"
   ]
  },
  {
   "cell_type": "code",
   "execution_count": 19,
   "metadata": {},
   "outputs": [
    {
     "name": "stdout",
     "output_type": "stream",
     "text": [
      "Extracting EDF parameters from c:\\Users\\Bliss\\seizure_detection_project\\seizure_detection_project\\Dataset\\chb01\\chb01_01.edf...\n",
      "EDF file detected\n",
      "Setting channel info structure...\n",
      "Creating raw.info structure...\n",
      "Reading 0 ... 921599  =      0.000 ...  3599.996 secs...\n"
     ]
    },
    {
     "name": "stderr",
     "output_type": "stream",
     "text": [
      "C:\\Users\\Bliss\\AppData\\Local\\Temp\\ipykernel_4056\\4119761242.py:2: RuntimeWarning: Channel names are not unique, found duplicates for: {'T8-P8'}. Applying running numbers for duplicates.\n",
      "  data = mne.io.read_raw_edf(filename, preload = True)\n",
      "WARNING:root:Did not find any electrode locations (in the info object), will attempt to use digitization points instead. However, if digitization points do not correspond to the EEG electrodes, this will lead to bad results. Please verify that the sensor locations in the plot are accurate.\n"
     ]
    },
    {
     "name": "stdout",
     "output_type": "stream",
     "text": [
      "EEG channel type selected for re-referencing\n",
      "Applying average reference.\n",
      "Applying a custom ('EEG',) reference.\n",
      "Not setting metadata\n",
      "899 matching events found\n",
      "No baseline correction applied\n",
      "0 projection items activated\n",
      "<Info | 8 non-empty values\n",
      " bads: []\n",
      " ch_names: FP1-F7, F7-T7, T7-P7, P7-O1, FP1-F3, F3-C3, C3-P3, P3-O1, ...\n",
      " chs: 23 EEG\n",
      " custom_ref_applied: True\n",
      " highpass: 0.0 Hz\n",
      " lowpass: 128.0 Hz\n",
      " meas_date: 2076-11-06 11:42:54 UTC\n",
      " nchan: 23\n",
      " projs: []\n",
      " sfreq: 256.0 Hz\n",
      ">\n",
      "['FP1-F7', 'F7-T7', 'T7-P7', 'P7-O1', 'FP1-F3', 'F3-C3', 'C3-P3', 'P3-O1', 'FP2-F4', 'F4-C4', 'C4-P4', 'P4-O2', 'FP2-F8', 'F8-T8', 'T8-P8-0', 'P8-O2', 'FZ-CZ', 'CZ-PZ', 'P7-T7', 'T7-FT9', 'FT9-FT10', 'FT10-T8', 'T8-P8-1']\n"
     ]
    }
   ],
   "source": [
    "epochs, data = get_data(names[0][0])\n",
    "\n",
    "cz_pz = mne.pick_channels(data.info[\"ch_names\"], [\"CZ-PZ\"])\n",
    "\n",
    "print(data.info)\n",
    "print(data.ch_names[:])\n"
   ]
  },
  {
   "cell_type": "code",
   "execution_count": 21,
   "metadata": {},
   "outputs": [
    {
     "name": "stdout",
     "output_type": "stream",
     "text": [
      "Fitting ICA to data using 23 channels (please be patient, this may take a while)\n"
     ]
    },
    {
     "name": "stderr",
     "output_type": "stream",
     "text": [
      "C:\\Users\\Bliss\\AppData\\Local\\Temp\\ipykernel_12772\\909351465.py:2: RuntimeWarning: The data has not been high-pass filtered. For good ICA performance, it should be high-pass filtered (e.g., with a 1.0 Hz lower bound) before fitting ICA.\n",
      "  ica.fit(data)\n"
     ]
    },
    {
     "name": "stdout",
     "output_type": "stream",
     "text": [
      "Selecting by number: 3 components\n",
      "Fitting ICA took 3.1s.\n",
      "    Using multitaper spectrum estimation with 7 DPSS windows\n"
     ]
    },
    {
     "name": "stderr",
     "output_type": "stream",
     "text": [
      "C:\\Users\\Bliss\\AppData\\Local\\Temp\\ipykernel_12772\\909351465.py:4: RuntimeWarning: Channel names are not unique, found duplicates for: {'FP1', 'T7', 'T8', 'P7', 'FP2'}. Applying running numbers for duplicates.\n",
      "  ica.plot_properties(data)\n",
      "WARNING:root:Did not find any electrode locations (in the info object), will attempt to use digitization points instead. However, if digitization points do not correspond to the EEG electrodes, this will lead to bad results. Please verify that the sensor locations in the plot are accurate.\n"
     ]
    },
    {
     "ename": "RuntimeError",
     "evalue": "No digitization points found.",
     "output_type": "error",
     "traceback": [
      "\u001b[1;31m---------------------------------------------------------------------------\u001b[0m",
      "\u001b[1;31mRuntimeError\u001b[0m                              Traceback (most recent call last)",
      "\u001b[1;32mc:\\Users\\Bliss\\seizure_detection_project\\seizure_detection_project\\project.ipynb Cell 24\u001b[0m in \u001b[0;36m<cell line: 4>\u001b[1;34m()\u001b[0m\n\u001b[0;32m      <a href='vscode-notebook-cell:/c%3A/Users/Bliss/seizure_detection_project/seizure_detection_project/project.ipynb#X44sZmlsZQ%3D%3D?line=1'>2</a>\u001b[0m ica\u001b[39m.\u001b[39mfit(data)\n\u001b[0;32m      <a href='vscode-notebook-cell:/c%3A/Users/Bliss/seizure_detection_project/seizure_detection_project/project.ipynb#X44sZmlsZQ%3D%3D?line=2'>3</a>\u001b[0m \u001b[39m#maybe exclude some channels\u001b[39;00m\n\u001b[1;32m----> <a href='vscode-notebook-cell:/c%3A/Users/Bliss/seizure_detection_project/seizure_detection_project/project.ipynb#X44sZmlsZQ%3D%3D?line=3'>4</a>\u001b[0m ica\u001b[39m.\u001b[39;49mplot_properties(data)\n",
      "File \u001b[1;32mc:\\Users\\Bliss\\anaconda3\\lib\\site-packages\\mne\\preprocessing\\ica.py:2057\u001b[0m, in \u001b[0;36mICA.plot_properties\u001b[1;34m(self, inst, picks, axes, dB, plot_std, log_scale, topomap_args, image_args, psd_args, figsize, show, reject, reject_by_annotation, verbose)\u001b[0m\n\u001b[0;32m   2051\u001b[0m \u001b[39m@copy_function_doc_to_method_doc\u001b[39m(plot_ica_properties)\n\u001b[0;32m   2052\u001b[0m \u001b[39mdef\u001b[39;00m \u001b[39mplot_properties\u001b[39m(\u001b[39mself\u001b[39m, inst, picks\u001b[39m=\u001b[39m\u001b[39mNone\u001b[39;00m, axes\u001b[39m=\u001b[39m\u001b[39mNone\u001b[39;00m, dB\u001b[39m=\u001b[39m\u001b[39mTrue\u001b[39;00m,\n\u001b[0;32m   2053\u001b[0m                     plot_std\u001b[39m=\u001b[39m\u001b[39mTrue\u001b[39;00m, log_scale\u001b[39m=\u001b[39m\u001b[39mFalse\u001b[39;00m, topomap_args\u001b[39m=\u001b[39m\u001b[39mNone\u001b[39;00m,\n\u001b[0;32m   2054\u001b[0m                     image_args\u001b[39m=\u001b[39m\u001b[39mNone\u001b[39;00m, psd_args\u001b[39m=\u001b[39m\u001b[39mNone\u001b[39;00m, figsize\u001b[39m=\u001b[39m\u001b[39mNone\u001b[39;00m,\n\u001b[0;32m   2055\u001b[0m                     show\u001b[39m=\u001b[39m\u001b[39mTrue\u001b[39;00m, reject\u001b[39m=\u001b[39m\u001b[39m'\u001b[39m\u001b[39mauto\u001b[39m\u001b[39m'\u001b[39m, reject_by_annotation\u001b[39m=\u001b[39m\u001b[39mTrue\u001b[39;00m,\n\u001b[0;32m   2056\u001b[0m                     \u001b[39m*\u001b[39m, verbose\u001b[39m=\u001b[39m\u001b[39mNone\u001b[39;00m):\n\u001b[1;32m-> 2057\u001b[0m     \u001b[39mreturn\u001b[39;00m plot_ica_properties(\u001b[39mself\u001b[39;49m, inst, picks\u001b[39m=\u001b[39;49mpicks, axes\u001b[39m=\u001b[39;49maxes,\n\u001b[0;32m   2058\u001b[0m                                dB\u001b[39m=\u001b[39;49mdB, plot_std\u001b[39m=\u001b[39;49mplot_std,\n\u001b[0;32m   2059\u001b[0m                                log_scale\u001b[39m=\u001b[39;49mlog_scale,\n\u001b[0;32m   2060\u001b[0m                                topomap_args\u001b[39m=\u001b[39;49mtopomap_args,\n\u001b[0;32m   2061\u001b[0m                                image_args\u001b[39m=\u001b[39;49mimage_args, psd_args\u001b[39m=\u001b[39;49mpsd_args,\n\u001b[0;32m   2062\u001b[0m                                figsize\u001b[39m=\u001b[39;49mfigsize, show\u001b[39m=\u001b[39;49mshow, reject\u001b[39m=\u001b[39;49mreject,\n\u001b[0;32m   2063\u001b[0m                                reject_by_annotation\u001b[39m=\u001b[39;49mreject_by_annotation,\n\u001b[0;32m   2064\u001b[0m                                verbose\u001b[39m=\u001b[39;49mverbose)\n",
      "File \u001b[1;32m<decorator-gen-190>:12\u001b[0m, in \u001b[0;36mplot_ica_properties\u001b[1;34m(ica, inst, picks, axes, dB, plot_std, log_scale, topomap_args, image_args, psd_args, figsize, show, reject, reject_by_annotation, verbose)\u001b[0m\n",
      "File \u001b[1;32mc:\\Users\\Bliss\\anaconda3\\lib\\site-packages\\mne\\viz\\ica.py:391\u001b[0m, in \u001b[0;36mplot_ica_properties\u001b[1;34m(ica, inst, picks, axes, dB, plot_std, log_scale, topomap_args, image_args, psd_args, figsize, show, reject, reject_by_annotation, verbose)\u001b[0m\n\u001b[0;32m    308\u001b[0m \u001b[39m@verbose\u001b[39m\n\u001b[0;32m    309\u001b[0m \u001b[39mdef\u001b[39;00m \u001b[39mplot_ica_properties\u001b[39m(ica, inst, picks\u001b[39m=\u001b[39m\u001b[39mNone\u001b[39;00m, axes\u001b[39m=\u001b[39m\u001b[39mNone\u001b[39;00m, dB\u001b[39m=\u001b[39m\u001b[39mTrue\u001b[39;00m,\n\u001b[0;32m    310\u001b[0m                         plot_std\u001b[39m=\u001b[39m\u001b[39mTrue\u001b[39;00m, log_scale\u001b[39m=\u001b[39m\u001b[39mFalse\u001b[39;00m, topomap_args\u001b[39m=\u001b[39m\u001b[39mNone\u001b[39;00m,\n\u001b[0;32m    311\u001b[0m                         image_args\u001b[39m=\u001b[39m\u001b[39mNone\u001b[39;00m, psd_args\u001b[39m=\u001b[39m\u001b[39mNone\u001b[39;00m, figsize\u001b[39m=\u001b[39m\u001b[39mNone\u001b[39;00m,\n\u001b[0;32m    312\u001b[0m                         show\u001b[39m=\u001b[39m\u001b[39mTrue\u001b[39;00m, reject\u001b[39m=\u001b[39m\u001b[39m'\u001b[39m\u001b[39mauto\u001b[39m\u001b[39m'\u001b[39m, reject_by_annotation\u001b[39m=\u001b[39m\u001b[39mTrue\u001b[39;00m,\n\u001b[0;32m    313\u001b[0m                         \u001b[39m*\u001b[39m, verbose\u001b[39m=\u001b[39m\u001b[39mNone\u001b[39;00m):\n\u001b[0;32m    314\u001b[0m     \u001b[39m\"\"\"Display component properties.\u001b[39;00m\n\u001b[0;32m    315\u001b[0m \n\u001b[0;32m    316\u001b[0m \u001b[39m    Properties include the topography, epochs image, ERP/ERF, power\u001b[39;00m\n\u001b[1;32m   (...)\u001b[0m\n\u001b[0;32m    389\u001b[0m \u001b[39m    .. versionadded:: 0.13\u001b[39;00m\n\u001b[0;32m    390\u001b[0m \u001b[39m    \"\"\"\u001b[39;00m\n\u001b[1;32m--> 391\u001b[0m     \u001b[39mreturn\u001b[39;00m _fast_plot_ica_properties(ica, inst, picks\u001b[39m=\u001b[39;49mpicks, axes\u001b[39m=\u001b[39;49maxes, dB\u001b[39m=\u001b[39;49mdB,\n\u001b[0;32m    392\u001b[0m                                      plot_std\u001b[39m=\u001b[39;49mplot_std, log_scale\u001b[39m=\u001b[39;49mlog_scale,\n\u001b[0;32m    393\u001b[0m                                      topomap_args\u001b[39m=\u001b[39;49mtopomap_args,\n\u001b[0;32m    394\u001b[0m                                      image_args\u001b[39m=\u001b[39;49mimage_args, psd_args\u001b[39m=\u001b[39;49mpsd_args,\n\u001b[0;32m    395\u001b[0m                                      figsize\u001b[39m=\u001b[39;49mfigsize, show\u001b[39m=\u001b[39;49mshow,\n\u001b[0;32m    396\u001b[0m                                      reject\u001b[39m=\u001b[39;49mreject,\n\u001b[0;32m    397\u001b[0m                                      reject_by_annotation\u001b[39m=\u001b[39;49mreject_by_annotation,\n\u001b[0;32m    398\u001b[0m                                      verbose\u001b[39m=\u001b[39;49mverbose, precomputed_data\u001b[39m=\u001b[39;49m\u001b[39mNone\u001b[39;49;00m)\n",
      "File \u001b[1;32mc:\\Users\\Bliss\\anaconda3\\lib\\site-packages\\mne\\viz\\ica.py:504\u001b[0m, in \u001b[0;36m_fast_plot_ica_properties\u001b[1;34m(ica, inst, picks, axes, dB, plot_std, log_scale, topomap_args, image_args, psd_args, figsize, show, reject, precomputed_data, reject_by_annotation, verbose)\u001b[0m\n\u001b[0;32m    498\u001b[0m     epoch_var \u001b[39m=\u001b[39m np\u001b[39m.\u001b[39minsert(arr\u001b[39m=\u001b[39mepoch_var,\n\u001b[0;32m    499\u001b[0m                           obj\u001b[39m=\u001b[39mdrop_indices_corrected,\n\u001b[0;32m    500\u001b[0m                           values\u001b[39m=\u001b[39mdrop_var[dropped_indices],\n\u001b[0;32m    501\u001b[0m                           axis\u001b[39m=\u001b[39m\u001b[39m0\u001b[39m)\n\u001b[0;32m    503\u001b[0m     \u001b[39m# the actual plot\u001b[39;00m\n\u001b[1;32m--> 504\u001b[0m     fig \u001b[39m=\u001b[39m _plot_ica_properties(\n\u001b[0;32m    505\u001b[0m         pick, ica, inst, psds_mean, freqs, ica_data\u001b[39m.\u001b[39;49mshape[\u001b[39m1\u001b[39;49m],\n\u001b[0;32m    506\u001b[0m         epoch_var, plot_lowpass_edge, epochs_src,\n\u001b[0;32m    507\u001b[0m         set_title_and_labels, plot_std, psd_ylabel, spectrum_std,\n\u001b[0;32m    508\u001b[0m         log_scale, topomap_args, image_args, fig, axes, kind,\n\u001b[0;32m    509\u001b[0m         dropped_indices)\n\u001b[0;32m    510\u001b[0m     all_fig\u001b[39m.\u001b[39mappend(fig)\n\u001b[0;32m    512\u001b[0m plt_show(show)\n",
      "File \u001b[1;32mc:\\Users\\Bliss\\anaconda3\\lib\\site-packages\\mne\\viz\\ica.py:154\u001b[0m, in \u001b[0;36m_plot_ica_properties\u001b[1;34m(pick, ica, inst, psds_mean, freqs, n_trials, epoch_var, plot_lowpass_edge, epochs_src, set_title_and_labels, plot_std, psd_ylabel, spectrum_std, log_scale, topomap_args, image_args, fig, axes, kind, dropped_indices)\u001b[0m\n\u001b[0;32m    149\u001b[0m topo_ax, image_ax, erp_ax, spec_ax, var_ax \u001b[39m=\u001b[39m axes\n\u001b[0;32m    151\u001b[0m \u001b[39m# plotting\u001b[39;00m\n\u001b[0;32m    152\u001b[0m \u001b[39m# --------\u001b[39;00m\n\u001b[0;32m    153\u001b[0m \u001b[39m# component topomap\u001b[39;00m\n\u001b[1;32m--> 154\u001b[0m _plot_ica_topomap(ica, pick, show\u001b[39m=\u001b[39m\u001b[39mFalse\u001b[39;00m, axes\u001b[39m=\u001b[39mtopo_ax, \u001b[39m*\u001b[39m\u001b[39m*\u001b[39mtopomap_args)\n\u001b[0;32m    155\u001b[0m topo_ax\u001b[39m.\u001b[39m_ch_type \u001b[39m=\u001b[39m _get_ch_type(ica, ch_type\u001b[39m=\u001b[39m\u001b[39mNone\u001b[39;00m,\n\u001b[0;32m    156\u001b[0m                                 allow_ref_meg\u001b[39m=\u001b[39mica\u001b[39m.\u001b[39mallow_ref_meg)\n\u001b[0;32m    158\u001b[0m \u001b[39m# image and erp\u001b[39;00m\n\u001b[0;32m    159\u001b[0m \u001b[39m# we create a new epoch with dropped rows\u001b[39;00m\n",
      "File \u001b[1;32mc:\\Users\\Bliss\\anaconda3\\lib\\site-packages\\mne\\viz\\topomap.py:1104\u001b[0m, in \u001b[0;36m_plot_ica_topomap\u001b[1;34m(ica, idx, ch_type, res, vmin, vmax, cmap, colorbar, title, show, outlines, contours, image_interp, axes, sensors, allow_ref_meg, extrapolate, sphere, border)\u001b[0m\n\u001b[0;32m   1100\u001b[0m     \u001b[39mreturn\u001b[39;00m\n\u001b[0;32m   1102\u001b[0m data \u001b[39m=\u001b[39m ica\u001b[39m.\u001b[39mget_components()[:, idx]\n\u001b[0;32m   1103\u001b[0m data_picks, pos, merge_channels, names, _, sphere, clip_origin \u001b[39m=\u001b[39m \\\n\u001b[1;32m-> 1104\u001b[0m     _prepare_topomap_plot(ica, ch_type, sphere\u001b[39m=\u001b[39;49msphere)\n\u001b[0;32m   1105\u001b[0m data \u001b[39m=\u001b[39m data[data_picks]\n\u001b[0;32m   1106\u001b[0m outlines \u001b[39m=\u001b[39m _make_head_outlines(sphere, pos, outlines, clip_origin)\n",
      "File \u001b[1;32mc:\\Users\\Bliss\\anaconda3\\lib\\site-packages\\mne\\viz\\topomap.py:85\u001b[0m, in \u001b[0;36m_prepare_topomap_plot\u001b[1;34m(inst, ch_type, sphere)\u001b[0m\n\u001b[0;32m     82\u001b[0m info\u001b[39m.\u001b[39m_check_consistency()\n\u001b[0;32m     84\u001b[0m \u001b[39m# special case for merging grad channels\u001b[39;00m\n\u001b[1;32m---> 85\u001b[0m layout \u001b[39m=\u001b[39m find_layout(info)\n\u001b[0;32m     86\u001b[0m \u001b[39mif\u001b[39;00m (ch_type \u001b[39m==\u001b[39m \u001b[39m'\u001b[39m\u001b[39mgrad\u001b[39m\u001b[39m'\u001b[39m \u001b[39mand\u001b[39;00m layout \u001b[39mis\u001b[39;00m \u001b[39mnot\u001b[39;00m \u001b[39mNone\u001b[39;00m \u001b[39mand\u001b[39;00m\n\u001b[0;32m     87\u001b[0m         (layout\u001b[39m.\u001b[39mkind\u001b[39m.\u001b[39mstartswith(\u001b[39m'\u001b[39m\u001b[39mVectorview\u001b[39m\u001b[39m'\u001b[39m) \u001b[39mor\u001b[39;00m\n\u001b[0;32m     88\u001b[0m          layout\u001b[39m.\u001b[39mkind\u001b[39m.\u001b[39mstartswith(\u001b[39m'\u001b[39m\u001b[39mNeuromag_122\u001b[39m\u001b[39m'\u001b[39m))):\n\u001b[0;32m     89\u001b[0m     picks, _ \u001b[39m=\u001b[39m _pair_grad_sensors(info, layout)\n",
      "File \u001b[1;32mc:\\Users\\Bliss\\anaconda3\\lib\\site-packages\\mne\\channels\\layout.py:478\u001b[0m, in \u001b[0;36mfind_layout\u001b[1;34m(info, ch_type, exclude)\u001b[0m\n\u001b[0;32m    475\u001b[0m     \u001b[39mif\u001b[39;00m \u001b[39mnot\u001b[39;00m \u001b[39misinstance\u001b[39m(info, (\u001b[39mdict\u001b[39m, Info)):\n\u001b[0;32m    476\u001b[0m         \u001b[39mraise\u001b[39;00m \u001b[39mRuntimeError\u001b[39;00m(\u001b[39m'\u001b[39m\u001b[39mCannot make EEG layout, no measurement info \u001b[39m\u001b[39m'\u001b[39m\n\u001b[0;32m    477\u001b[0m                            \u001b[39m'\u001b[39m\u001b[39mwas passed to `find_layout`\u001b[39m\u001b[39m'\u001b[39m)\n\u001b[1;32m--> 478\u001b[0m     \u001b[39mreturn\u001b[39;00m make_eeg_layout(info, exclude\u001b[39m=\u001b[39;49mexclude)\n\u001b[0;32m    479\u001b[0m \u001b[39melif\u001b[39;00m has_csd_coils \u001b[39mand\u001b[39;00m ch_type \u001b[39min\u001b[39;00m [\u001b[39mNone\u001b[39;00m, \u001b[39m'\u001b[39m\u001b[39mcsd\u001b[39m\u001b[39m'\u001b[39m]:\n\u001b[0;32m    480\u001b[0m     \u001b[39mreturn\u001b[39;00m make_eeg_layout(info, exclude\u001b[39m=\u001b[39mexclude, csd\u001b[39m=\u001b[39m\u001b[39mTrue\u001b[39;00m)\n",
      "File \u001b[1;32mc:\\Users\\Bliss\\anaconda3\\lib\\site-packages\\mne\\channels\\layout.py:314\u001b[0m, in \u001b[0;36mmake_eeg_layout\u001b[1;34m(info, radius, width, height, exclude, csd)\u001b[0m\n\u001b[0;32m    312\u001b[0m     pick_kwargs\u001b[39m.\u001b[39mupdate(csd\u001b[39m=\u001b[39m\u001b[39mTrue\u001b[39;00m, eeg\u001b[39m=\u001b[39m\u001b[39mFalse\u001b[39;00m)\n\u001b[0;32m    313\u001b[0m picks \u001b[39m=\u001b[39m pick_types(info, \u001b[39m*\u001b[39m\u001b[39m*\u001b[39mpick_kwargs)\n\u001b[1;32m--> 314\u001b[0m loc2d \u001b[39m=\u001b[39m _find_topomap_coords(info, picks)\n\u001b[0;32m    315\u001b[0m names \u001b[39m=\u001b[39m [info[\u001b[39m'\u001b[39m\u001b[39mchs\u001b[39m\u001b[39m'\u001b[39m][i][\u001b[39m'\u001b[39m\u001b[39mch_name\u001b[39m\u001b[39m'\u001b[39m] \u001b[39mfor\u001b[39;00m i \u001b[39min\u001b[39;00m picks]\n\u001b[0;32m    317\u001b[0m \u001b[39m# Scale [x, y] to be in the range [-0.5, 0.5]\u001b[39;00m\n\u001b[0;32m    318\u001b[0m \u001b[39m# Don't mess with the origin or aspect ratio\u001b[39;00m\n",
      "File \u001b[1;32mc:\\Users\\Bliss\\anaconda3\\lib\\site-packages\\mne\\channels\\layout.py:677\u001b[0m, in \u001b[0;36m_find_topomap_coords\u001b[1;34m(info, picks, layout, ignore_overlap, to_sphere, sphere)\u001b[0m\n\u001b[0;32m    675\u001b[0m     pos \u001b[39m=\u001b[39m np\u001b[39m.\u001b[39masarray(pos)\n\u001b[0;32m    676\u001b[0m \u001b[39melse\u001b[39;00m:\n\u001b[1;32m--> 677\u001b[0m     pos \u001b[39m=\u001b[39m _auto_topomap_coords(\n\u001b[0;32m    678\u001b[0m         info, picks, ignore_overlap\u001b[39m=\u001b[39;49mignore_overlap, to_sphere\u001b[39m=\u001b[39;49mto_sphere,\n\u001b[0;32m    679\u001b[0m         sphere\u001b[39m=\u001b[39;49msphere)\n\u001b[0;32m    681\u001b[0m \u001b[39mreturn\u001b[39;00m pos\n",
      "File \u001b[1;32mc:\\Users\\Bliss\\anaconda3\\lib\\site-packages\\mne\\channels\\layout.py:742\u001b[0m, in \u001b[0;36m_auto_topomap_coords\u001b[1;34m(info, picks, ignore_overlap, to_sphere, sphere)\u001b[0m\n\u001b[0;32m    740\u001b[0m \u001b[39m# Get EEG digitization points\u001b[39;00m\n\u001b[0;32m    741\u001b[0m \u001b[39mif\u001b[39;00m info[\u001b[39m'\u001b[39m\u001b[39mdig\u001b[39m\u001b[39m'\u001b[39m] \u001b[39mis\u001b[39;00m \u001b[39mNone\u001b[39;00m \u001b[39mor\u001b[39;00m \u001b[39mlen\u001b[39m(info[\u001b[39m'\u001b[39m\u001b[39mdig\u001b[39m\u001b[39m'\u001b[39m]) \u001b[39m==\u001b[39m \u001b[39m0\u001b[39m:\n\u001b[1;32m--> 742\u001b[0m     \u001b[39mraise\u001b[39;00m \u001b[39mRuntimeError\u001b[39;00m(\u001b[39m'\u001b[39m\u001b[39mNo digitization points found.\u001b[39m\u001b[39m'\u001b[39m)\n\u001b[0;32m    744\u001b[0m locs3d \u001b[39m=\u001b[39m np\u001b[39m.\u001b[39marray([point[\u001b[39m'\u001b[39m\u001b[39mr\u001b[39m\u001b[39m'\u001b[39m] \u001b[39mfor\u001b[39;00m point \u001b[39min\u001b[39;00m info[\u001b[39m'\u001b[39m\u001b[39mdig\u001b[39m\u001b[39m'\u001b[39m]\n\u001b[0;32m    745\u001b[0m                    \u001b[39mif\u001b[39;00m point[\u001b[39m'\u001b[39m\u001b[39mkind\u001b[39m\u001b[39m'\u001b[39m] \u001b[39m==\u001b[39m FIFF\u001b[39m.\u001b[39mFIFFV_POINT_EEG])\n\u001b[0;32m    747\u001b[0m \u001b[39mif\u001b[39;00m \u001b[39mlen\u001b[39m(locs3d) \u001b[39m==\u001b[39m \u001b[39m0\u001b[39m:\n",
      "\u001b[1;31mRuntimeError\u001b[0m: No digitization points found."
     ]
    }
   ],
   "source": [
    "ica = mne.preprocessing.ICA(n_components = 3, random_state = 97, max_iter = 800)\n",
    "ica.fit(data)\n",
    "#maybe exclude some channels\n",
    "ica.plot_properties(data)"
   ]
  },
  {
   "cell_type": "code",
   "execution_count": null,
   "metadata": {},
   "outputs": [],
   "source": [
    "cz_pz_info = mne.pick_info(data.info, [17])\n",
    "mne.viz.plot_raw(cz_pz_info)\n",
    "\n",
    "#make_topography_images(cz_pz, cz_pz_info)\n",
    "#make_topography_images(epochs, data.info)\n",
    "\n",
    "data.plot(duration = 5, n_channels = 10)"
   ]
  },
  {
   "cell_type": "code",
   "execution_count": 13,
   "metadata": {},
   "outputs": [
    {
     "data": {
      "text/plain": [
       "'\\n\\nfor index in range(len(healthy_names)):\\n    if (index == int((len(healthy_names)/2))):\\n        break\\n    healthy_epochs.append(get_data(healthy_names[index]))\\n'"
      ]
     },
     "execution_count": 13,
     "metadata": {},
     "output_type": "execute_result"
    }
   ],
   "source": [
    "healthy_epochs = []\n",
    "\"\"\"\n",
    "\n",
    "for index in range(len(healthy_names)):\n",
    "    if (index == int((len(healthy_names)/2))):\n",
    "        break\n",
    "    healthy_epochs.append(get_data(healthy_names[index]))\n",
    "\"\"\"\n"
   ]
  },
  {
   "cell_type": "code",
   "execution_count": 14,
   "metadata": {},
   "outputs": [
    {
     "name": "stdout",
     "output_type": "stream",
     "text": [
      "Extracting EDF parameters from c:\\Users\\Bliss\\seizure_detection_project\\seizure_detection_project\\Dataset\\chb01\\chb01_04.edf...\n",
      "EDF file detected\n",
      "Setting channel info structure...\n",
      "Creating raw.info structure...\n"
     ]
    },
    {
     "name": "stderr",
     "output_type": "stream",
     "text": [
      "C:\\Users\\Bliss\\AppData\\Local\\Temp\\ipykernel_14764\\1406536613.py:2: RuntimeWarning: Channel names are not unique, found duplicates for: {'T8-P8'}. Applying running numbers for duplicates.\n",
      "  data = mne.io.read_raw_edf(filename, preload = True)\n"
     ]
    },
    {
     "name": "stdout",
     "output_type": "stream",
     "text": [
      "Reading 0 ... 921599  =      0.000 ...  3599.996 secs...\n"
     ]
    },
    {
     "name": "stderr",
     "output_type": "stream",
     "text": [
      "WARNING:root:Did not find any electrode locations (in the info object), will attempt to use digitization points instead. However, if digitization points do not correspond to the EEG electrodes, this will lead to bad results. Please verify that the sensor locations in the plot are accurate.\n"
     ]
    },
    {
     "name": "stdout",
     "output_type": "stream",
     "text": [
      "EEG channel type selected for re-referencing\n",
      "Applying average reference.\n",
      "Applying a custom ('EEG',) reference.\n",
      "Not setting metadata\n",
      "899 matching events found\n",
      "No baseline correction applied\n",
      "0 projection items activated\n",
      "Using data from preloaded Raw for 899 events and 1280 original time points ...\n",
      "0 bad epochs dropped\n",
      "Extracting EDF parameters from c:\\Users\\Bliss\\seizure_detection_project\\seizure_detection_project\\Dataset\\chb01\\chb01_15.edf...\n",
      "EDF file detected\n",
      "Setting channel info structure...\n",
      "Creating raw.info structure...\n",
      "Reading 0 ... 921599  =      0.000 ...  3599.996 secs...\n"
     ]
    },
    {
     "name": "stderr",
     "output_type": "stream",
     "text": [
      "C:\\Users\\Bliss\\AppData\\Local\\Temp\\ipykernel_14764\\1406536613.py:2: RuntimeWarning: Channel names are not unique, found duplicates for: {'T8-P8'}. Applying running numbers for duplicates.\n",
      "  data = mne.io.read_raw_edf(filename, preload = True)\n",
      "WARNING:root:Did not find any electrode locations (in the info object), will attempt to use digitization points instead. However, if digitization points do not correspond to the EEG electrodes, this will lead to bad results. Please verify that the sensor locations in the plot are accurate.\n"
     ]
    },
    {
     "name": "stdout",
     "output_type": "stream",
     "text": [
      "EEG channel type selected for re-referencing\n",
      "Applying average reference.\n",
      "Applying a custom ('EEG',) reference.\n",
      "Not setting metadata\n",
      "899 matching events found\n",
      "No baseline correction applied\n",
      "0 projection items activated\n",
      "Using data from preloaded Raw for 899 events and 1280 original time points ...\n",
      "0 bad epochs dropped\n",
      "Extracting EDF parameters from c:\\Users\\Bliss\\seizure_detection_project\\seizure_detection_project\\Dataset\\chb01\\chb01_16.edf...\n",
      "EDF file detected\n",
      "Setting channel info structure...\n",
      "Creating raw.info structure...\n",
      "Reading 0 ... 921599  =      0.000 ...  3599.996 secs...\n"
     ]
    },
    {
     "name": "stderr",
     "output_type": "stream",
     "text": [
      "C:\\Users\\Bliss\\AppData\\Local\\Temp\\ipykernel_14764\\1406536613.py:2: RuntimeWarning: Channel names are not unique, found duplicates for: {'T8-P8'}. Applying running numbers for duplicates.\n",
      "  data = mne.io.read_raw_edf(filename, preload = True)\n",
      "WARNING:root:Did not find any electrode locations (in the info object), will attempt to use digitization points instead. However, if digitization points do not correspond to the EEG electrodes, this will lead to bad results. Please verify that the sensor locations in the plot are accurate.\n"
     ]
    },
    {
     "name": "stdout",
     "output_type": "stream",
     "text": [
      "EEG channel type selected for re-referencing\n",
      "Applying average reference.\n",
      "Applying a custom ('EEG',) reference.\n",
      "Not setting metadata\n",
      "899 matching events found\n",
      "No baseline correction applied\n",
      "0 projection items activated\n",
      "Using data from preloaded Raw for 899 events and 1280 original time points ...\n",
      "0 bad epochs dropped\n",
      "Extracting EDF parameters from c:\\Users\\Bliss\\seizure_detection_project\\seizure_detection_project\\Dataset\\chb01\\chb01_18.edf...\n",
      "EDF file detected\n",
      "Setting channel info structure...\n",
      "Creating raw.info structure...\n",
      "Reading 0 ... 921599  =      0.000 ...  3599.996 secs...\n"
     ]
    },
    {
     "name": "stderr",
     "output_type": "stream",
     "text": [
      "C:\\Users\\Bliss\\AppData\\Local\\Temp\\ipykernel_14764\\1406536613.py:2: RuntimeWarning: Channel names are not unique, found duplicates for: {'T8-P8'}. Applying running numbers for duplicates.\n",
      "  data = mne.io.read_raw_edf(filename, preload = True)\n",
      "WARNING:root:Did not find any electrode locations (in the info object), will attempt to use digitization points instead. However, if digitization points do not correspond to the EEG electrodes, this will lead to bad results. Please verify that the sensor locations in the plot are accurate.\n"
     ]
    },
    {
     "name": "stdout",
     "output_type": "stream",
     "text": [
      "EEG channel type selected for re-referencing\n",
      "Applying average reference.\n",
      "Applying a custom ('EEG',) reference.\n",
      "Not setting metadata\n",
      "899 matching events found\n",
      "No baseline correction applied\n",
      "0 projection items activated\n",
      "Using data from preloaded Raw for 899 events and 1280 original time points ...\n",
      "0 bad epochs dropped\n",
      "Extracting EDF parameters from c:\\Users\\Bliss\\seizure_detection_project\\seizure_detection_project\\Dataset\\chb01\\chb01_21.edf...\n",
      "EDF file detected\n",
      "Setting channel info structure...\n",
      "Creating raw.info structure...\n",
      "Reading 0 ... 921599  =      0.000 ...  3599.996 secs...\n"
     ]
    },
    {
     "name": "stderr",
     "output_type": "stream",
     "text": [
      "C:\\Users\\Bliss\\AppData\\Local\\Temp\\ipykernel_14764\\1406536613.py:2: RuntimeWarning: Channel names are not unique, found duplicates for: {'T8-P8'}. Applying running numbers for duplicates.\n",
      "  data = mne.io.read_raw_edf(filename, preload = True)\n",
      "WARNING:root:Did not find any electrode locations (in the info object), will attempt to use digitization points instead. However, if digitization points do not correspond to the EEG electrodes, this will lead to bad results. Please verify that the sensor locations in the plot are accurate.\n"
     ]
    },
    {
     "name": "stdout",
     "output_type": "stream",
     "text": [
      "EEG channel type selected for re-referencing\n",
      "Applying average reference.\n",
      "Applying a custom ('EEG',) reference.\n",
      "Not setting metadata\n",
      "899 matching events found\n",
      "No baseline correction applied\n",
      "0 projection items activated\n",
      "Using data from preloaded Raw for 899 events and 1280 original time points ...\n",
      "0 bad epochs dropped\n",
      "Extracting EDF parameters from c:\\Users\\Bliss\\seizure_detection_project\\seizure_detection_project\\Dataset\\chb01\\chb01_26.edf...\n",
      "EDF file detected\n",
      "Setting channel info structure...\n",
      "Creating raw.info structure...\n",
      "Reading 0 ... 595199  =      0.000 ...  2324.996 secs...\n"
     ]
    },
    {
     "name": "stderr",
     "output_type": "stream",
     "text": [
      "C:\\Users\\Bliss\\AppData\\Local\\Temp\\ipykernel_14764\\1406536613.py:2: RuntimeWarning: Channel names are not unique, found duplicates for: {'T8-P8'}. Applying running numbers for duplicates.\n",
      "  data = mne.io.read_raw_edf(filename, preload = True)\n",
      "WARNING:root:Did not find any electrode locations (in the info object), will attempt to use digitization points instead. However, if digitization points do not correspond to the EEG electrodes, this will lead to bad results. Please verify that the sensor locations in the plot are accurate.\n"
     ]
    },
    {
     "name": "stdout",
     "output_type": "stream",
     "text": [
      "EEG channel type selected for re-referencing\n",
      "Applying average reference.\n",
      "Applying a custom ('EEG',) reference.\n",
      "Not setting metadata\n",
      "581 matching events found\n",
      "No baseline correction applied\n",
      "0 projection items activated\n",
      "Using data from preloaded Raw for 581 events and 1280 original time points ...\n",
      "0 bad epochs dropped\n",
      "Extracting EDF parameters from c:\\Users\\Bliss\\seizure_detection_project\\seizure_detection_project\\Dataset\\chb02\\chb02_16.edf...\n",
      "EDF file detected\n",
      "Setting channel info structure...\n",
      "Creating raw.info structure...\n",
      "Reading 0 ... 245503  =      0.000 ...   958.996 secs...\n"
     ]
    },
    {
     "name": "stderr",
     "output_type": "stream",
     "text": [
      "C:\\Users\\Bliss\\AppData\\Local\\Temp\\ipykernel_14764\\1406536613.py:2: RuntimeWarning: Channel names are not unique, found duplicates for: {'T8-P8'}. Applying running numbers for duplicates.\n",
      "  data = mne.io.read_raw_edf(filename, preload = True)\n",
      "WARNING:root:Did not find any electrode locations (in the info object), will attempt to use digitization points instead. However, if digitization points do not correspond to the EEG electrodes, this will lead to bad results. Please verify that the sensor locations in the plot are accurate.\n"
     ]
    },
    {
     "name": "stdout",
     "output_type": "stream",
     "text": [
      "EEG channel type selected for re-referencing\n",
      "Applying average reference.\n",
      "Applying a custom ('EEG',) reference.\n",
      "Not setting metadata\n",
      "239 matching events found\n",
      "No baseline correction applied\n",
      "0 projection items activated\n",
      "Using data from preloaded Raw for 239 events and 1280 original time points ...\n",
      "0 bad epochs dropped\n",
      "Extracting EDF parameters from c:\\Users\\Bliss\\seizure_detection_project\\seizure_detection_project\\Dataset\\chb02\\chb02_16+.edf...\n",
      "EDF file detected\n",
      "Setting channel info structure...\n",
      "Creating raw.info structure...\n",
      "Reading 0 ... 921599  =      0.000 ...  3599.996 secs...\n"
     ]
    },
    {
     "name": "stderr",
     "output_type": "stream",
     "text": [
      "C:\\Users\\Bliss\\AppData\\Local\\Temp\\ipykernel_14764\\1406536613.py:2: RuntimeWarning: Channel names are not unique, found duplicates for: {'T8-P8'}. Applying running numbers for duplicates.\n",
      "  data = mne.io.read_raw_edf(filename, preload = True)\n",
      "WARNING:root:Did not find any electrode locations (in the info object), will attempt to use digitization points instead. However, if digitization points do not correspond to the EEG electrodes, this will lead to bad results. Please verify that the sensor locations in the plot are accurate.\n"
     ]
    },
    {
     "name": "stdout",
     "output_type": "stream",
     "text": [
      "EEG channel type selected for re-referencing\n",
      "Applying average reference.\n",
      "Applying a custom ('EEG',) reference.\n",
      "Not setting metadata\n",
      "899 matching events found\n",
      "No baseline correction applied\n",
      "0 projection items activated\n",
      "Using data from preloaded Raw for 899 events and 1280 original time points ...\n",
      "0 bad epochs dropped\n",
      "Extracting EDF parameters from c:\\Users\\Bliss\\seizure_detection_project\\seizure_detection_project\\Dataset\\chb02\\chb02_19.edf...\n",
      "EDF file detected\n",
      "Setting channel info structure...\n",
      "Creating raw.info structure...\n",
      "Reading 0 ... 921599  =      0.000 ...  3599.996 secs...\n"
     ]
    },
    {
     "name": "stderr",
     "output_type": "stream",
     "text": [
      "C:\\Users\\Bliss\\AppData\\Local\\Temp\\ipykernel_14764\\1406536613.py:2: RuntimeWarning: Channel names are not unique, found duplicates for: {'T8-P8'}. Applying running numbers for duplicates.\n",
      "  data = mne.io.read_raw_edf(filename, preload = True)\n",
      "WARNING:root:Did not find any electrode locations (in the info object), will attempt to use digitization points instead. However, if digitization points do not correspond to the EEG electrodes, this will lead to bad results. Please verify that the sensor locations in the plot are accurate.\n"
     ]
    },
    {
     "name": "stdout",
     "output_type": "stream",
     "text": [
      "EEG channel type selected for re-referencing\n",
      "Applying average reference.\n",
      "Applying a custom ('EEG',) reference.\n",
      "Not setting metadata\n",
      "899 matching events found\n",
      "No baseline correction applied\n",
      "0 projection items activated\n",
      "Using data from preloaded Raw for 899 events and 1280 original time points ...\n",
      "0 bad epochs dropped\n",
      "Extracting EDF parameters from c:\\Users\\Bliss\\seizure_detection_project\\seizure_detection_project\\Dataset\\chb03\\chb03_01.edf...\n",
      "EDF file detected\n",
      "Setting channel info structure...\n",
      "Creating raw.info structure...\n",
      "Reading 0 ... 921599  =      0.000 ...  3599.996 secs...\n"
     ]
    },
    {
     "name": "stderr",
     "output_type": "stream",
     "text": [
      "C:\\Users\\Bliss\\AppData\\Local\\Temp\\ipykernel_14764\\1406536613.py:2: RuntimeWarning: Channel names are not unique, found duplicates for: {'T8-P8'}. Applying running numbers for duplicates.\n",
      "  data = mne.io.read_raw_edf(filename, preload = True)\n",
      "WARNING:root:Did not find any electrode locations (in the info object), will attempt to use digitization points instead. However, if digitization points do not correspond to the EEG electrodes, this will lead to bad results. Please verify that the sensor locations in the plot are accurate.\n"
     ]
    },
    {
     "name": "stdout",
     "output_type": "stream",
     "text": [
      "EEG channel type selected for re-referencing\n",
      "Applying average reference.\n",
      "Applying a custom ('EEG',) reference.\n",
      "Not setting metadata\n",
      "899 matching events found\n",
      "No baseline correction applied\n",
      "0 projection items activated\n",
      "Using data from preloaded Raw for 899 events and 1280 original time points ...\n",
      "0 bad epochs dropped\n",
      "Extracting EDF parameters from c:\\Users\\Bliss\\seizure_detection_project\\seizure_detection_project\\Dataset\\chb03\\chb03_02.edf...\n",
      "EDF file detected\n",
      "Setting channel info structure...\n",
      "Creating raw.info structure...\n",
      "Reading 0 ... 921599  =      0.000 ...  3599.996 secs...\n"
     ]
    },
    {
     "name": "stderr",
     "output_type": "stream",
     "text": [
      "C:\\Users\\Bliss\\AppData\\Local\\Temp\\ipykernel_14764\\1406536613.py:2: RuntimeWarning: Channel names are not unique, found duplicates for: {'T8-P8'}. Applying running numbers for duplicates.\n",
      "  data = mne.io.read_raw_edf(filename, preload = True)\n",
      "WARNING:root:Did not find any electrode locations (in the info object), will attempt to use digitization points instead. However, if digitization points do not correspond to the EEG electrodes, this will lead to bad results. Please verify that the sensor locations in the plot are accurate.\n"
     ]
    },
    {
     "name": "stdout",
     "output_type": "stream",
     "text": [
      "EEG channel type selected for re-referencing\n",
      "Applying average reference.\n",
      "Applying a custom ('EEG',) reference.\n",
      "Not setting metadata\n",
      "899 matching events found\n",
      "No baseline correction applied\n",
      "0 projection items activated\n",
      "Using data from preloaded Raw for 899 events and 1280 original time points ...\n",
      "0 bad epochs dropped\n",
      "Extracting EDF parameters from c:\\Users\\Bliss\\seizure_detection_project\\seizure_detection_project\\Dataset\\chb03\\chb03_03.edf...\n",
      "EDF file detected\n",
      "Setting channel info structure...\n",
      "Creating raw.info structure...\n",
      "Reading 0 ... 921599  =      0.000 ...  3599.996 secs...\n"
     ]
    },
    {
     "name": "stderr",
     "output_type": "stream",
     "text": [
      "C:\\Users\\Bliss\\AppData\\Local\\Temp\\ipykernel_14764\\1406536613.py:2: RuntimeWarning: Channel names are not unique, found duplicates for: {'T8-P8'}. Applying running numbers for duplicates.\n",
      "  data = mne.io.read_raw_edf(filename, preload = True)\n",
      "WARNING:root:Did not find any electrode locations (in the info object), will attempt to use digitization points instead. However, if digitization points do not correspond to the EEG electrodes, this will lead to bad results. Please verify that the sensor locations in the plot are accurate.\n"
     ]
    },
    {
     "name": "stdout",
     "output_type": "stream",
     "text": [
      "EEG channel type selected for re-referencing\n",
      "Applying average reference.\n",
      "Applying a custom ('EEG',) reference.\n",
      "Not setting metadata\n",
      "899 matching events found\n",
      "No baseline correction applied\n",
      "0 projection items activated\n",
      "Using data from preloaded Raw for 899 events and 1280 original time points ...\n",
      "0 bad epochs dropped\n",
      "Extracting EDF parameters from c:\\Users\\Bliss\\seizure_detection_project\\seizure_detection_project\\Dataset\\chb03\\chb03_04.edf...\n",
      "EDF file detected\n",
      "Setting channel info structure...\n",
      "Creating raw.info structure...\n",
      "Reading 0 ... 921599  =      0.000 ...  3599.996 secs...\n"
     ]
    },
    {
     "name": "stderr",
     "output_type": "stream",
     "text": [
      "C:\\Users\\Bliss\\AppData\\Local\\Temp\\ipykernel_14764\\1406536613.py:2: RuntimeWarning: Channel names are not unique, found duplicates for: {'T8-P8'}. Applying running numbers for duplicates.\n",
      "  data = mne.io.read_raw_edf(filename, preload = True)\n",
      "WARNING:root:Did not find any electrode locations (in the info object), will attempt to use digitization points instead. However, if digitization points do not correspond to the EEG electrodes, this will lead to bad results. Please verify that the sensor locations in the plot are accurate.\n"
     ]
    },
    {
     "name": "stdout",
     "output_type": "stream",
     "text": [
      "EEG channel type selected for re-referencing\n",
      "Applying average reference.\n",
      "Applying a custom ('EEG',) reference.\n",
      "Not setting metadata\n",
      "899 matching events found\n",
      "No baseline correction applied\n",
      "0 projection items activated\n",
      "Using data from preloaded Raw for 899 events and 1280 original time points ...\n",
      "0 bad epochs dropped\n",
      "Extracting EDF parameters from c:\\Users\\Bliss\\seizure_detection_project\\seizure_detection_project\\Dataset\\chb03\\chb03_34.edf...\n",
      "EDF file detected\n",
      "Setting channel info structure...\n",
      "Creating raw.info structure...\n",
      "Reading 0 ... 921599  =      0.000 ...  3599.996 secs...\n"
     ]
    },
    {
     "name": "stderr",
     "output_type": "stream",
     "text": [
      "C:\\Users\\Bliss\\AppData\\Local\\Temp\\ipykernel_14764\\1406536613.py:2: RuntimeWarning: Channel names are not unique, found duplicates for: {'T8-P8'}. Applying running numbers for duplicates.\n",
      "  data = mne.io.read_raw_edf(filename, preload = True)\n",
      "WARNING:root:Did not find any electrode locations (in the info object), will attempt to use digitization points instead. However, if digitization points do not correspond to the EEG electrodes, this will lead to bad results. Please verify that the sensor locations in the plot are accurate.\n"
     ]
    },
    {
     "name": "stdout",
     "output_type": "stream",
     "text": [
      "EEG channel type selected for re-referencing\n",
      "Applying average reference.\n",
      "Applying a custom ('EEG',) reference.\n",
      "Not setting metadata\n",
      "899 matching events found\n",
      "No baseline correction applied\n",
      "0 projection items activated\n",
      "Using data from preloaded Raw for 899 events and 1280 original time points ...\n",
      "0 bad epochs dropped\n",
      "Extracting EDF parameters from c:\\Users\\Bliss\\seizure_detection_project\\seizure_detection_project\\Dataset\\chb03\\chb03_35.edf...\n",
      "EDF file detected\n",
      "Setting channel info structure...\n",
      "Creating raw.info structure...\n",
      "Reading 0 ... 921599  =      0.000 ...  3599.996 secs...\n"
     ]
    },
    {
     "name": "stderr",
     "output_type": "stream",
     "text": [
      "C:\\Users\\Bliss\\AppData\\Local\\Temp\\ipykernel_14764\\1406536613.py:2: RuntimeWarning: Channel names are not unique, found duplicates for: {'T8-P8'}. Applying running numbers for duplicates.\n",
      "  data = mne.io.read_raw_edf(filename, preload = True)\n",
      "WARNING:root:Did not find any electrode locations (in the info object), will attempt to use digitization points instead. However, if digitization points do not correspond to the EEG electrodes, this will lead to bad results. Please verify that the sensor locations in the plot are accurate.\n"
     ]
    },
    {
     "name": "stdout",
     "output_type": "stream",
     "text": [
      "EEG channel type selected for re-referencing\n",
      "Applying average reference.\n",
      "Applying a custom ('EEG',) reference.\n",
      "Not setting metadata\n",
      "899 matching events found\n",
      "No baseline correction applied\n",
      "0 projection items activated\n",
      "Using data from preloaded Raw for 899 events and 1280 original time points ...\n",
      "0 bad epochs dropped\n",
      "Extracting EDF parameters from c:\\Users\\Bliss\\seizure_detection_project\\seizure_detection_project\\Dataset\\chb03\\chb03_36.edf...\n",
      "EDF file detected\n",
      "Setting channel info structure...\n",
      "Creating raw.info structure...\n",
      "Reading 0 ... 921599  =      0.000 ...  3599.996 secs...\n"
     ]
    },
    {
     "name": "stderr",
     "output_type": "stream",
     "text": [
      "C:\\Users\\Bliss\\AppData\\Local\\Temp\\ipykernel_14764\\1406536613.py:2: RuntimeWarning: Channel names are not unique, found duplicates for: {'T8-P8'}. Applying running numbers for duplicates.\n",
      "  data = mne.io.read_raw_edf(filename, preload = True)\n",
      "WARNING:root:Did not find any electrode locations (in the info object), will attempt to use digitization points instead. However, if digitization points do not correspond to the EEG electrodes, this will lead to bad results. Please verify that the sensor locations in the plot are accurate.\n"
     ]
    },
    {
     "name": "stdout",
     "output_type": "stream",
     "text": [
      "EEG channel type selected for re-referencing\n",
      "Applying average reference.\n",
      "Applying a custom ('EEG',) reference.\n",
      "Not setting metadata\n",
      "899 matching events found\n",
      "No baseline correction applied\n",
      "0 projection items activated\n",
      "Using data from preloaded Raw for 899 events and 1280 original time points ...\n",
      "0 bad epochs dropped\n",
      "Extracting EDF parameters from c:\\Users\\Bliss\\seizure_detection_project\\seizure_detection_project\\Dataset\\chb04\\chb04_05.edf...\n",
      "EDF file detected\n",
      "Setting channel info structure...\n",
      "Creating raw.info structure...\n",
      "Reading 0 ... 2441215  =      0.000 ...  9535.996 secs...\n"
     ]
    },
    {
     "name": "stderr",
     "output_type": "stream",
     "text": [
      "C:\\Users\\Bliss\\AppData\\Local\\Temp\\ipykernel_14764\\1406536613.py:2: RuntimeWarning: Channel names are not unique, found duplicates for: {'T8-P8'}. Applying running numbers for duplicates.\n",
      "  data = mne.io.read_raw_edf(filename, preload = True)\n",
      "WARNING:root:Did not find any electrode locations (in the info object), will attempt to use digitization points instead. However, if digitization points do not correspond to the EEG electrodes, this will lead to bad results. Please verify that the sensor locations in the plot are accurate.\n"
     ]
    },
    {
     "name": "stdout",
     "output_type": "stream",
     "text": [
      "EEG channel type selected for re-referencing\n",
      "Applying average reference.\n",
      "Applying a custom ('EEG',) reference.\n",
      "Not setting metadata\n",
      "2383 matching events found\n",
      "No baseline correction applied\n",
      "0 projection items activated\n",
      "Using data from preloaded Raw for 2383 events and 1280 original time points ...\n",
      "0 bad epochs dropped\n",
      "Extracting EDF parameters from c:\\Users\\Bliss\\seizure_detection_project\\seizure_detection_project\\Dataset\\chb04\\chb04_08.edf...\n",
      "EDF file detected\n",
      "Setting channel info structure...\n",
      "Creating raw.info structure...\n",
      "Reading 0 ... 3686399  =      0.000 ... 14399.996 secs...\n"
     ]
    },
    {
     "name": "stderr",
     "output_type": "stream",
     "text": [
      "C:\\Users\\Bliss\\AppData\\Local\\Temp\\ipykernel_14764\\1406536613.py:2: RuntimeWarning: Channel names are not unique, found duplicates for: {'T8-P8'}. Applying running numbers for duplicates.\n",
      "  data = mne.io.read_raw_edf(filename, preload = True)\n",
      "WARNING:root:Did not find any electrode locations (in the info object), will attempt to use digitization points instead. However, if digitization points do not correspond to the EEG electrodes, this will lead to bad results. Please verify that the sensor locations in the plot are accurate.\n"
     ]
    },
    {
     "name": "stdout",
     "output_type": "stream",
     "text": [
      "EEG channel type selected for re-referencing\n",
      "Applying average reference.\n",
      "Applying a custom ('EEG',) reference.\n",
      "Not setting metadata\n",
      "3599 matching events found\n",
      "No baseline correction applied\n",
      "0 projection items activated\n",
      "Using data from preloaded Raw for 3599 events and 1280 original time points ...\n",
      "0 bad epochs dropped\n",
      "Extracting EDF parameters from c:\\Users\\Bliss\\seizure_detection_project\\seizure_detection_project\\Dataset\\chb04\\chb04_28.edf...\n",
      "EDF file detected\n",
      "Setting channel info structure...\n",
      "Creating raw.info structure...\n",
      "Reading 0 ... 3692287  =      0.000 ... 14422.996 secs...\n"
     ]
    },
    {
     "name": "stderr",
     "output_type": "stream",
     "text": [
      "C:\\Users\\Bliss\\AppData\\Local\\Temp\\ipykernel_14764\\1406536613.py:2: RuntimeWarning: Channel names are not unique, found duplicates for: {'T8-P8'}. Applying running numbers for duplicates.\n",
      "  data = mne.io.read_raw_edf(filename, preload = True)\n",
      "WARNING:root:Did not find any electrode locations (in the info object), will attempt to use digitization points instead. However, if digitization points do not correspond to the EEG electrodes, this will lead to bad results. Please verify that the sensor locations in the plot are accurate.\n"
     ]
    },
    {
     "name": "stdout",
     "output_type": "stream",
     "text": [
      "EEG channel type selected for re-referencing\n",
      "Applying average reference.\n",
      "Applying a custom ('EEG',) reference.\n",
      "Not setting metadata\n",
      "3605 matching events found\n",
      "No baseline correction applied\n",
      "0 projection items activated\n",
      "Using data from preloaded Raw for 3605 events and 1280 original time points ...\n",
      "0 bad epochs dropped\n",
      "Extracting EDF parameters from c:\\Users\\Bliss\\seizure_detection_project\\seizure_detection_project\\Dataset\\chb05\\chb05_06.edf...\n",
      "EDF file detected\n",
      "Setting channel info structure...\n",
      "Creating raw.info structure...\n",
      "Reading 0 ... 921599  =      0.000 ...  3599.996 secs...\n"
     ]
    },
    {
     "name": "stderr",
     "output_type": "stream",
     "text": [
      "C:\\Users\\Bliss\\AppData\\Local\\Temp\\ipykernel_14764\\1406536613.py:2: RuntimeWarning: Channel names are not unique, found duplicates for: {'T8-P8'}. Applying running numbers for duplicates.\n",
      "  data = mne.io.read_raw_edf(filename, preload = True)\n",
      "WARNING:root:Did not find any electrode locations (in the info object), will attempt to use digitization points instead. However, if digitization points do not correspond to the EEG electrodes, this will lead to bad results. Please verify that the sensor locations in the plot are accurate.\n"
     ]
    },
    {
     "name": "stdout",
     "output_type": "stream",
     "text": [
      "EEG channel type selected for re-referencing\n",
      "Applying average reference.\n",
      "Applying a custom ('EEG',) reference.\n",
      "Not setting metadata\n",
      "899 matching events found\n",
      "No baseline correction applied\n",
      "0 projection items activated\n",
      "Using data from preloaded Raw for 899 events and 1280 original time points ...\n",
      "0 bad epochs dropped\n",
      "Extracting EDF parameters from c:\\Users\\Bliss\\seizure_detection_project\\seizure_detection_project\\Dataset\\chb05\\chb05_13.edf...\n",
      "EDF file detected\n",
      "Setting channel info structure...\n",
      "Creating raw.info structure...\n",
      "Reading 0 ... 921599  =      0.000 ...  3599.996 secs...\n"
     ]
    },
    {
     "name": "stderr",
     "output_type": "stream",
     "text": [
      "C:\\Users\\Bliss\\AppData\\Local\\Temp\\ipykernel_14764\\1406536613.py:2: RuntimeWarning: Channel names are not unique, found duplicates for: {'T8-P8'}. Applying running numbers for duplicates.\n",
      "  data = mne.io.read_raw_edf(filename, preload = True)\n",
      "WARNING:root:Did not find any electrode locations (in the info object), will attempt to use digitization points instead. However, if digitization points do not correspond to the EEG electrodes, this will lead to bad results. Please verify that the sensor locations in the plot are accurate.\n"
     ]
    },
    {
     "name": "stdout",
     "output_type": "stream",
     "text": [
      "EEG channel type selected for re-referencing\n",
      "Applying average reference.\n",
      "Applying a custom ('EEG',) reference.\n",
      "Not setting metadata\n",
      "899 matching events found\n",
      "No baseline correction applied\n",
      "0 projection items activated\n",
      "Using data from preloaded Raw for 899 events and 1280 original time points ...\n",
      "0 bad epochs dropped\n",
      "Extracting EDF parameters from c:\\Users\\Bliss\\seizure_detection_project\\seizure_detection_project\\Dataset\\chb05\\chb05_16.edf...\n",
      "EDF file detected\n",
      "Setting channel info structure...\n",
      "Creating raw.info structure...\n",
      "Reading 0 ... 921599  =      0.000 ...  3599.996 secs...\n"
     ]
    },
    {
     "name": "stderr",
     "output_type": "stream",
     "text": [
      "C:\\Users\\Bliss\\AppData\\Local\\Temp\\ipykernel_14764\\1406536613.py:2: RuntimeWarning: Channel names are not unique, found duplicates for: {'T8-P8'}. Applying running numbers for duplicates.\n",
      "  data = mne.io.read_raw_edf(filename, preload = True)\n",
      "WARNING:root:Did not find any electrode locations (in the info object), will attempt to use digitization points instead. However, if digitization points do not correspond to the EEG electrodes, this will lead to bad results. Please verify that the sensor locations in the plot are accurate.\n"
     ]
    },
    {
     "name": "stdout",
     "output_type": "stream",
     "text": [
      "EEG channel type selected for re-referencing\n",
      "Applying average reference.\n",
      "Applying a custom ('EEG',) reference.\n",
      "Not setting metadata\n",
      "899 matching events found\n",
      "No baseline correction applied\n",
      "0 projection items activated\n",
      "Using data from preloaded Raw for 899 events and 1280 original time points ...\n",
      "0 bad epochs dropped\n",
      "Extracting EDF parameters from c:\\Users\\Bliss\\seizure_detection_project\\seizure_detection_project\\Dataset\\chb05\\chb05_17.edf...\n",
      "EDF file detected\n",
      "Setting channel info structure...\n",
      "Creating raw.info structure...\n",
      "Reading 0 ... 921599  =      0.000 ...  3599.996 secs...\n"
     ]
    },
    {
     "name": "stderr",
     "output_type": "stream",
     "text": [
      "C:\\Users\\Bliss\\AppData\\Local\\Temp\\ipykernel_14764\\1406536613.py:2: RuntimeWarning: Channel names are not unique, found duplicates for: {'T8-P8'}. Applying running numbers for duplicates.\n",
      "  data = mne.io.read_raw_edf(filename, preload = True)\n",
      "WARNING:root:Did not find any electrode locations (in the info object), will attempt to use digitization points instead. However, if digitization points do not correspond to the EEG electrodes, this will lead to bad results. Please verify that the sensor locations in the plot are accurate.\n"
     ]
    },
    {
     "name": "stdout",
     "output_type": "stream",
     "text": [
      "EEG channel type selected for re-referencing\n",
      "Applying average reference.\n",
      "Applying a custom ('EEG',) reference.\n",
      "Not setting metadata\n",
      "899 matching events found\n",
      "No baseline correction applied\n",
      "0 projection items activated\n",
      "Using data from preloaded Raw for 899 events and 1280 original time points ...\n",
      "0 bad epochs dropped\n",
      "Extracting EDF parameters from c:\\Users\\Bliss\\seizure_detection_project\\seizure_detection_project\\Dataset\\chb05\\chb05_22.edf...\n",
      "EDF file detected\n",
      "Setting channel info structure...\n",
      "Creating raw.info structure...\n",
      "Reading 0 ... 921599  =      0.000 ...  3599.996 secs...\n"
     ]
    },
    {
     "name": "stderr",
     "output_type": "stream",
     "text": [
      "C:\\Users\\Bliss\\AppData\\Local\\Temp\\ipykernel_14764\\1406536613.py:2: RuntimeWarning: Channel names are not unique, found duplicates for: {'T8-P8'}. Applying running numbers for duplicates.\n",
      "  data = mne.io.read_raw_edf(filename, preload = True)\n",
      "WARNING:root:Did not find any electrode locations (in the info object), will attempt to use digitization points instead. However, if digitization points do not correspond to the EEG electrodes, this will lead to bad results. Please verify that the sensor locations in the plot are accurate.\n"
     ]
    },
    {
     "name": "stdout",
     "output_type": "stream",
     "text": [
      "EEG channel type selected for re-referencing\n",
      "Applying average reference.\n",
      "Applying a custom ('EEG',) reference.\n",
      "Not setting metadata\n",
      "899 matching events found\n",
      "No baseline correction applied\n",
      "0 projection items activated\n",
      "Using data from preloaded Raw for 899 events and 1280 original time points ...\n",
      "0 bad epochs dropped\n",
      "Extracting EDF parameters from c:\\Users\\Bliss\\seizure_detection_project\\seizure_detection_project\\Dataset\\chb06\\chb06_01.edf...\n",
      "EDF file detected\n",
      "Setting channel info structure...\n",
      "Creating raw.info structure...\n",
      "Reading 0 ... 3693311  =      0.000 ... 14426.996 secs...\n"
     ]
    },
    {
     "name": "stderr",
     "output_type": "stream",
     "text": [
      "C:\\Users\\Bliss\\AppData\\Local\\Temp\\ipykernel_14764\\1406536613.py:2: RuntimeWarning: Channel names are not unique, found duplicates for: {'T8-P8'}. Applying running numbers for duplicates.\n",
      "  data = mne.io.read_raw_edf(filename, preload = True)\n",
      "WARNING:root:Did not find any electrode locations (in the info object), will attempt to use digitization points instead. However, if digitization points do not correspond to the EEG electrodes, this will lead to bad results. Please verify that the sensor locations in the plot are accurate.\n"
     ]
    },
    {
     "name": "stdout",
     "output_type": "stream",
     "text": [
      "EEG channel type selected for re-referencing\n",
      "Applying average reference.\n",
      "Applying a custom ('EEG',) reference.\n",
      "Not setting metadata\n",
      "3606 matching events found\n",
      "No baseline correction applied\n",
      "0 projection items activated\n",
      "Using data from preloaded Raw for 3606 events and 1280 original time points ...\n",
      "0 bad epochs dropped\n",
      "Extracting EDF parameters from c:\\Users\\Bliss\\seizure_detection_project\\seizure_detection_project\\Dataset\\chb06\\chb06_04.edf...\n",
      "EDF file detected\n",
      "Setting channel info structure...\n",
      "Creating raw.info structure...\n",
      "Reading 0 ... 3394815  =      0.000 ... 13260.996 secs...\n"
     ]
    },
    {
     "name": "stderr",
     "output_type": "stream",
     "text": [
      "C:\\Users\\Bliss\\AppData\\Local\\Temp\\ipykernel_14764\\1406536613.py:2: RuntimeWarning: Channel names are not unique, found duplicates for: {'T8-P8'}. Applying running numbers for duplicates.\n",
      "  data = mne.io.read_raw_edf(filename, preload = True)\n",
      "WARNING:root:Did not find any electrode locations (in the info object), will attempt to use digitization points instead. However, if digitization points do not correspond to the EEG electrodes, this will lead to bad results. Please verify that the sensor locations in the plot are accurate.\n"
     ]
    },
    {
     "name": "stdout",
     "output_type": "stream",
     "text": [
      "EEG channel type selected for re-referencing\n",
      "Applying average reference.\n",
      "Applying a custom ('EEG',) reference.\n",
      "Not setting metadata\n",
      "3315 matching events found\n",
      "No baseline correction applied\n",
      "0 projection items activated\n",
      "Using data from preloaded Raw for 3315 events and 1280 original time points ...\n",
      "0 bad epochs dropped\n",
      "Extracting EDF parameters from c:\\Users\\Bliss\\seizure_detection_project\\seizure_detection_project\\Dataset\\chb06\\chb06_09.edf...\n",
      "EDF file detected\n",
      "Setting channel info structure...\n",
      "Creating raw.info structure...\n",
      "Reading 0 ... 3686399  =      0.000 ... 14399.996 secs...\n"
     ]
    },
    {
     "name": "stderr",
     "output_type": "stream",
     "text": [
      "C:\\Users\\Bliss\\AppData\\Local\\Temp\\ipykernel_14764\\1406536613.py:2: RuntimeWarning: Channel names are not unique, found duplicates for: {'T8-P8'}. Applying running numbers for duplicates.\n",
      "  data = mne.io.read_raw_edf(filename, preload = True)\n",
      "WARNING:root:Did not find any electrode locations (in the info object), will attempt to use digitization points instead. However, if digitization points do not correspond to the EEG electrodes, this will lead to bad results. Please verify that the sensor locations in the plot are accurate.\n"
     ]
    },
    {
     "name": "stdout",
     "output_type": "stream",
     "text": [
      "EEG channel type selected for re-referencing\n",
      "Applying average reference.\n",
      "Applying a custom ('EEG',) reference.\n",
      "Not setting metadata\n",
      "3599 matching events found\n",
      "No baseline correction applied\n",
      "0 projection items activated\n",
      "Using data from preloaded Raw for 3599 events and 1280 original time points ...\n",
      "0 bad epochs dropped\n",
      "Extracting EDF parameters from c:\\Users\\Bliss\\seizure_detection_project\\seizure_detection_project\\Dataset\\chb06\\chb06_10.edf...\n",
      "EDF file detected\n",
      "Setting channel info structure...\n",
      "Creating raw.info structure...\n",
      "Reading 0 ... 3686399  =      0.000 ... 14399.996 secs...\n"
     ]
    },
    {
     "name": "stderr",
     "output_type": "stream",
     "text": [
      "C:\\Users\\Bliss\\AppData\\Local\\Temp\\ipykernel_14764\\1406536613.py:2: RuntimeWarning: Channel names are not unique, found duplicates for: {'T8-P8'}. Applying running numbers for duplicates.\n",
      "  data = mne.io.read_raw_edf(filename, preload = True)\n",
      "WARNING:root:Did not find any electrode locations (in the info object), will attempt to use digitization points instead. However, if digitization points do not correspond to the EEG electrodes, this will lead to bad results. Please verify that the sensor locations in the plot are accurate.\n"
     ]
    },
    {
     "name": "stdout",
     "output_type": "stream",
     "text": [
      "EEG channel type selected for re-referencing\n",
      "Applying average reference.\n",
      "Applying a custom ('EEG',) reference.\n",
      "Not setting metadata\n",
      "3599 matching events found\n",
      "No baseline correction applied\n",
      "0 projection items activated\n",
      "Using data from preloaded Raw for 3599 events and 1280 original time points ...\n",
      "0 bad epochs dropped\n",
      "Extracting EDF parameters from c:\\Users\\Bliss\\seizure_detection_project\\seizure_detection_project\\Dataset\\chb06\\chb06_13.edf...\n",
      "EDF file detected\n",
      "Setting channel info structure...\n",
      "Creating raw.info structure...\n",
      "Reading 0 ... 3686399  =      0.000 ... 14399.996 secs...\n"
     ]
    },
    {
     "name": "stderr",
     "output_type": "stream",
     "text": [
      "C:\\Users\\Bliss\\AppData\\Local\\Temp\\ipykernel_14764\\1406536613.py:2: RuntimeWarning: Channel names are not unique, found duplicates for: {'T8-P8'}. Applying running numbers for duplicates.\n",
      "  data = mne.io.read_raw_edf(filename, preload = True)\n",
      "WARNING:root:Did not find any electrode locations (in the info object), will attempt to use digitization points instead. However, if digitization points do not correspond to the EEG electrodes, this will lead to bad results. Please verify that the sensor locations in the plot are accurate.\n"
     ]
    },
    {
     "name": "stdout",
     "output_type": "stream",
     "text": [
      "EEG channel type selected for re-referencing\n",
      "Applying average reference.\n",
      "Applying a custom ('EEG',) reference.\n",
      "Not setting metadata\n",
      "3599 matching events found\n",
      "No baseline correction applied\n",
      "0 projection items activated\n",
      "Using data from preloaded Raw for 3599 events and 1280 original time points ...\n",
      "0 bad epochs dropped\n",
      "Extracting EDF parameters from c:\\Users\\Bliss\\seizure_detection_project\\seizure_detection_project\\Dataset\\chb06\\chb06_18.edf...\n",
      "EDF file detected\n",
      "Setting channel info structure...\n",
      "Creating raw.info structure...\n",
      "Reading 0 ... 2029567  =      0.000 ...  7927.996 secs...\n"
     ]
    },
    {
     "name": "stderr",
     "output_type": "stream",
     "text": [
      "C:\\Users\\Bliss\\AppData\\Local\\Temp\\ipykernel_14764\\1406536613.py:2: RuntimeWarning: Channel names are not unique, found duplicates for: {'T8-P8'}. Applying running numbers for duplicates.\n",
      "  data = mne.io.read_raw_edf(filename, preload = True)\n",
      "WARNING:root:Did not find any electrode locations (in the info object), will attempt to use digitization points instead. However, if digitization points do not correspond to the EEG electrodes, this will lead to bad results. Please verify that the sensor locations in the plot are accurate.\n"
     ]
    },
    {
     "name": "stdout",
     "output_type": "stream",
     "text": [
      "EEG channel type selected for re-referencing\n",
      "Applying average reference.\n",
      "Applying a custom ('EEG',) reference.\n",
      "Not setting metadata\n",
      "1981 matching events found\n",
      "No baseline correction applied\n",
      "0 projection items activated\n",
      "Using data from preloaded Raw for 1981 events and 1280 original time points ...\n",
      "0 bad epochs dropped\n",
      "Extracting EDF parameters from c:\\Users\\Bliss\\seizure_detection_project\\seizure_detection_project\\Dataset\\chb06\\chb06_24.edf...\n",
      "EDF file detected\n",
      "Setting channel info structure...\n",
      "Creating raw.info structure...\n",
      "Reading 0 ... 3686399  =      0.000 ... 14399.996 secs...\n"
     ]
    },
    {
     "name": "stderr",
     "output_type": "stream",
     "text": [
      "C:\\Users\\Bliss\\AppData\\Local\\Temp\\ipykernel_14764\\1406536613.py:2: RuntimeWarning: Channel names are not unique, found duplicates for: {'T8-P8'}. Applying running numbers for duplicates.\n",
      "  data = mne.io.read_raw_edf(filename, preload = True)\n",
      "WARNING:root:Did not find any electrode locations (in the info object), will attempt to use digitization points instead. However, if digitization points do not correspond to the EEG electrodes, this will lead to bad results. Please verify that the sensor locations in the plot are accurate.\n"
     ]
    },
    {
     "name": "stdout",
     "output_type": "stream",
     "text": [
      "EEG channel type selected for re-referencing\n",
      "Applying average reference.\n",
      "Applying a custom ('EEG',) reference.\n",
      "Not setting metadata\n",
      "3599 matching events found\n",
      "No baseline correction applied\n",
      "0 projection items activated\n",
      "Using data from preloaded Raw for 3599 events and 1280 original time points ...\n",
      "0 bad epochs dropped\n",
      "Extracting EDF parameters from c:\\Users\\Bliss\\seizure_detection_project\\seizure_detection_project\\Dataset\\chb07\\chb07_12.edf...\n",
      "EDF file detected\n",
      "Setting channel info structure...\n",
      "Creating raw.info structure...\n",
      "Reading 0 ... 3686399  =      0.000 ... 14399.996 secs...\n"
     ]
    },
    {
     "name": "stderr",
     "output_type": "stream",
     "text": [
      "C:\\Users\\Bliss\\AppData\\Local\\Temp\\ipykernel_14764\\1406536613.py:2: RuntimeWarning: Channel names are not unique, found duplicates for: {'T8-P8'}. Applying running numbers for duplicates.\n",
      "  data = mne.io.read_raw_edf(filename, preload = True)\n",
      "WARNING:root:Did not find any electrode locations (in the info object), will attempt to use digitization points instead. However, if digitization points do not correspond to the EEG electrodes, this will lead to bad results. Please verify that the sensor locations in the plot are accurate.\n"
     ]
    },
    {
     "name": "stdout",
     "output_type": "stream",
     "text": [
      "EEG channel type selected for re-referencing\n",
      "Applying average reference.\n",
      "Applying a custom ('EEG',) reference.\n",
      "Not setting metadata\n",
      "3599 matching events found\n",
      "No baseline correction applied\n",
      "0 projection items activated\n",
      "Using data from preloaded Raw for 3599 events and 1280 original time points ...\n",
      "0 bad epochs dropped\n",
      "Extracting EDF parameters from c:\\Users\\Bliss\\seizure_detection_project\\seizure_detection_project\\Dataset\\chb07\\chb07_13.edf...\n",
      "EDF file detected\n",
      "Setting channel info structure...\n",
      "Creating raw.info structure...\n",
      "Reading 0 ... 953855  =      0.000 ...  3725.996 secs...\n"
     ]
    },
    {
     "name": "stderr",
     "output_type": "stream",
     "text": [
      "C:\\Users\\Bliss\\AppData\\Local\\Temp\\ipykernel_14764\\1406536613.py:2: RuntimeWarning: Channel names are not unique, found duplicates for: {'T8-P8'}. Applying running numbers for duplicates.\n",
      "  data = mne.io.read_raw_edf(filename, preload = True)\n",
      "WARNING:root:Did not find any electrode locations (in the info object), will attempt to use digitization points instead. However, if digitization points do not correspond to the EEG electrodes, this will lead to bad results. Please verify that the sensor locations in the plot are accurate.\n"
     ]
    },
    {
     "name": "stdout",
     "output_type": "stream",
     "text": [
      "EEG channel type selected for re-referencing\n",
      "Applying average reference.\n",
      "Applying a custom ('EEG',) reference.\n",
      "Not setting metadata\n",
      "931 matching events found\n",
      "No baseline correction applied\n",
      "0 projection items activated\n",
      "Using data from preloaded Raw for 931 events and 1280 original time points ...\n",
      "0 bad epochs dropped\n",
      "Extracting EDF parameters from c:\\Users\\Bliss\\seizure_detection_project\\seizure_detection_project\\Dataset\\chb07\\chb07_18.edf...\n",
      "EDF file detected\n",
      "Setting channel info structure...\n",
      "Creating raw.info structure...\n",
      "Reading 0 ... 3087359  =      0.000 ... 12059.996 secs...\n"
     ]
    },
    {
     "name": "stderr",
     "output_type": "stream",
     "text": [
      "C:\\Users\\Bliss\\AppData\\Local\\Temp\\ipykernel_14764\\1406536613.py:2: RuntimeWarning: Channel names are not unique, found duplicates for: {'T8-P8'}. Applying running numbers for duplicates.\n",
      "  data = mne.io.read_raw_edf(filename, preload = True)\n",
      "WARNING:root:Did not find any electrode locations (in the info object), will attempt to use digitization points instead. However, if digitization points do not correspond to the EEG electrodes, this will lead to bad results. Please verify that the sensor locations in the plot are accurate.\n"
     ]
    },
    {
     "name": "stdout",
     "output_type": "stream",
     "text": [
      "EEG channel type selected for re-referencing\n",
      "Applying average reference.\n",
      "Applying a custom ('EEG',) reference.\n",
      "Not setting metadata\n",
      "3014 matching events found\n",
      "No baseline correction applied\n",
      "0 projection items activated\n",
      "Using data from preloaded Raw for 3014 events and 1280 original time points ...\n",
      "0 bad epochs dropped\n",
      "Extracting EDF parameters from c:\\Users\\Bliss\\seizure_detection_project\\seizure_detection_project\\Dataset\\chb08\\chb08_02.edf...\n",
      "EDF file detected\n",
      "Setting channel info structure...\n",
      "Creating raw.info structure...\n",
      "Reading 0 ... 921599  =      0.000 ...  3599.996 secs...\n"
     ]
    },
    {
     "name": "stderr",
     "output_type": "stream",
     "text": [
      "C:\\Users\\Bliss\\AppData\\Local\\Temp\\ipykernel_14764\\1406536613.py:2: RuntimeWarning: Channel names are not unique, found duplicates for: {'T8-P8'}. Applying running numbers for duplicates.\n",
      "  data = mne.io.read_raw_edf(filename, preload = True)\n",
      "WARNING:root:Did not find any electrode locations (in the info object), will attempt to use digitization points instead. However, if digitization points do not correspond to the EEG electrodes, this will lead to bad results. Please verify that the sensor locations in the plot are accurate.\n"
     ]
    },
    {
     "name": "stdout",
     "output_type": "stream",
     "text": [
      "EEG channel type selected for re-referencing\n",
      "Applying average reference.\n",
      "Applying a custom ('EEG',) reference.\n",
      "Not setting metadata\n",
      "899 matching events found\n",
      "No baseline correction applied\n",
      "0 projection items activated\n",
      "Using data from preloaded Raw for 899 events and 1280 original time points ...\n",
      "0 bad epochs dropped\n",
      "Extracting EDF parameters from c:\\Users\\Bliss\\seizure_detection_project\\seizure_detection_project\\Dataset\\chb08\\chb08_05.edf...\n",
      "EDF file detected\n",
      "Setting channel info structure...\n",
      "Creating raw.info structure...\n",
      "Reading 0 ... 921599  =      0.000 ...  3599.996 secs...\n"
     ]
    },
    {
     "name": "stderr",
     "output_type": "stream",
     "text": [
      "C:\\Users\\Bliss\\AppData\\Local\\Temp\\ipykernel_14764\\1406536613.py:2: RuntimeWarning: Channel names are not unique, found duplicates for: {'T8-P8'}. Applying running numbers for duplicates.\n",
      "  data = mne.io.read_raw_edf(filename, preload = True)\n",
      "WARNING:root:Did not find any electrode locations (in the info object), will attempt to use digitization points instead. However, if digitization points do not correspond to the EEG electrodes, this will lead to bad results. Please verify that the sensor locations in the plot are accurate.\n"
     ]
    },
    {
     "name": "stdout",
     "output_type": "stream",
     "text": [
      "EEG channel type selected for re-referencing\n",
      "Applying average reference.\n",
      "Applying a custom ('EEG',) reference.\n",
      "Not setting metadata\n",
      "899 matching events found\n",
      "No baseline correction applied\n",
      "0 projection items activated\n",
      "Using data from preloaded Raw for 899 events and 1280 original time points ...\n",
      "0 bad epochs dropped\n",
      "Extracting EDF parameters from c:\\Users\\Bliss\\seizure_detection_project\\seizure_detection_project\\Dataset\\chb08\\chb08_11.edf...\n",
      "EDF file detected\n",
      "Setting channel info structure...\n",
      "Creating raw.info structure...\n",
      "Reading 0 ... 921599  =      0.000 ...  3599.996 secs...\n"
     ]
    },
    {
     "name": "stderr",
     "output_type": "stream",
     "text": [
      "C:\\Users\\Bliss\\AppData\\Local\\Temp\\ipykernel_14764\\1406536613.py:2: RuntimeWarning: Channel names are not unique, found duplicates for: {'T8-P8'}. Applying running numbers for duplicates.\n",
      "  data = mne.io.read_raw_edf(filename, preload = True)\n",
      "WARNING:root:Did not find any electrode locations (in the info object), will attempt to use digitization points instead. However, if digitization points do not correspond to the EEG electrodes, this will lead to bad results. Please verify that the sensor locations in the plot are accurate.\n"
     ]
    },
    {
     "name": "stdout",
     "output_type": "stream",
     "text": [
      "EEG channel type selected for re-referencing\n",
      "Applying average reference.\n",
      "Applying a custom ('EEG',) reference.\n",
      "Not setting metadata\n",
      "899 matching events found\n",
      "No baseline correction applied\n",
      "0 projection items activated\n",
      "Using data from preloaded Raw for 899 events and 1280 original time points ...\n",
      "0 bad epochs dropped\n",
      "Extracting EDF parameters from c:\\Users\\Bliss\\seizure_detection_project\\seizure_detection_project\\Dataset\\chb08\\chb08_13.edf...\n",
      "EDF file detected\n",
      "Setting channel info structure...\n",
      "Creating raw.info structure...\n",
      "Reading 0 ... 921599  =      0.000 ...  3599.996 secs...\n"
     ]
    },
    {
     "name": "stderr",
     "output_type": "stream",
     "text": [
      "C:\\Users\\Bliss\\AppData\\Local\\Temp\\ipykernel_14764\\1406536613.py:2: RuntimeWarning: Channel names are not unique, found duplicates for: {'T8-P8'}. Applying running numbers for duplicates.\n",
      "  data = mne.io.read_raw_edf(filename, preload = True)\n",
      "WARNING:root:Did not find any electrode locations (in the info object), will attempt to use digitization points instead. However, if digitization points do not correspond to the EEG electrodes, this will lead to bad results. Please verify that the sensor locations in the plot are accurate.\n"
     ]
    },
    {
     "name": "stdout",
     "output_type": "stream",
     "text": [
      "EEG channel type selected for re-referencing\n",
      "Applying average reference.\n",
      "Applying a custom ('EEG',) reference.\n",
      "Not setting metadata\n",
      "899 matching events found\n",
      "No baseline correction applied\n",
      "0 projection items activated\n",
      "Using data from preloaded Raw for 899 events and 1280 original time points ...\n",
      "0 bad epochs dropped\n",
      "Extracting EDF parameters from c:\\Users\\Bliss\\seizure_detection_project\\seizure_detection_project\\Dataset\\chb08\\chb08_21.edf...\n",
      "EDF file detected\n",
      "Setting channel info structure...\n",
      "Creating raw.info structure...\n",
      "Reading 0 ... 921599  =      0.000 ...  3599.996 secs...\n"
     ]
    },
    {
     "name": "stderr",
     "output_type": "stream",
     "text": [
      "C:\\Users\\Bliss\\AppData\\Local\\Temp\\ipykernel_14764\\1406536613.py:2: RuntimeWarning: Channel names are not unique, found duplicates for: {'T8-P8'}. Applying running numbers for duplicates.\n",
      "  data = mne.io.read_raw_edf(filename, preload = True)\n",
      "WARNING:root:Did not find any electrode locations (in the info object), will attempt to use digitization points instead. However, if digitization points do not correspond to the EEG electrodes, this will lead to bad results. Please verify that the sensor locations in the plot are accurate.\n"
     ]
    },
    {
     "name": "stdout",
     "output_type": "stream",
     "text": [
      "EEG channel type selected for re-referencing\n",
      "Applying average reference.\n",
      "Applying a custom ('EEG',) reference.\n",
      "Not setting metadata\n",
      "899 matching events found\n",
      "No baseline correction applied\n",
      "0 projection items activated\n",
      "Using data from preloaded Raw for 899 events and 1280 original time points ...\n",
      "0 bad epochs dropped\n",
      "Extracting EDF parameters from c:\\Users\\Bliss\\seizure_detection_project\\seizure_detection_project\\Dataset\\chb09\\chb09_06.edf...\n",
      "EDF file detected\n",
      "Setting channel info structure...\n",
      "Creating raw.info structure...\n",
      "Reading 0 ... 3686143  =      0.000 ... 14398.996 secs...\n"
     ]
    },
    {
     "name": "stderr",
     "output_type": "stream",
     "text": [
      "C:\\Users\\Bliss\\AppData\\Local\\Temp\\ipykernel_14764\\1406536613.py:2: RuntimeWarning: Channel names are not unique, found duplicates for: {'T8-P8'}. Applying running numbers for duplicates.\n",
      "  data = mne.io.read_raw_edf(filename, preload = True)\n",
      "WARNING:root:Did not find any electrode locations (in the info object), will attempt to use digitization points instead. However, if digitization points do not correspond to the EEG electrodes, this will lead to bad results. Please verify that the sensor locations in the plot are accurate.\n"
     ]
    },
    {
     "name": "stdout",
     "output_type": "stream",
     "text": [
      "EEG channel type selected for re-referencing\n",
      "Applying average reference.\n",
      "Applying a custom ('EEG',) reference.\n",
      "Not setting metadata\n",
      "3599 matching events found\n",
      "No baseline correction applied\n",
      "0 projection items activated\n",
      "Using data from preloaded Raw for 3599 events and 1280 original time points ...\n",
      "0 bad epochs dropped\n",
      "Extracting EDF parameters from c:\\Users\\Bliss\\seizure_detection_project\\seizure_detection_project\\Dataset\\chb09\\chb09_08.edf...\n",
      "EDF file detected\n",
      "Setting channel info structure...\n",
      "Creating raw.info structure...\n",
      "Reading 0 ... 3686399  =      0.000 ... 14399.996 secs...\n"
     ]
    },
    {
     "name": "stderr",
     "output_type": "stream",
     "text": [
      "C:\\Users\\Bliss\\AppData\\Local\\Temp\\ipykernel_14764\\1406536613.py:2: RuntimeWarning: Channel names are not unique, found duplicates for: {'T8-P8'}. Applying running numbers for duplicates.\n",
      "  data = mne.io.read_raw_edf(filename, preload = True)\n",
      "WARNING:root:Did not find any electrode locations (in the info object), will attempt to use digitization points instead. However, if digitization points do not correspond to the EEG electrodes, this will lead to bad results. Please verify that the sensor locations in the plot are accurate.\n"
     ]
    },
    {
     "name": "stdout",
     "output_type": "stream",
     "text": [
      "EEG channel type selected for re-referencing\n",
      "Applying average reference.\n",
      "Applying a custom ('EEG',) reference.\n",
      "Not setting metadata\n",
      "3599 matching events found\n",
      "No baseline correction applied\n",
      "0 projection items activated\n",
      "Using data from preloaded Raw for 3599 events and 1280 original time points ...\n",
      "0 bad epochs dropped\n",
      "Extracting EDF parameters from c:\\Users\\Bliss\\seizure_detection_project\\seizure_detection_project\\Dataset\\chb09\\chb09_19.edf...\n",
      "EDF file detected\n",
      "Setting channel info structure...\n",
      "Creating raw.info structure...\n",
      "Reading 0 ... 1459199  =      0.000 ...  5699.996 secs...\n"
     ]
    },
    {
     "name": "stderr",
     "output_type": "stream",
     "text": [
      "C:\\Users\\Bliss\\AppData\\Local\\Temp\\ipykernel_14764\\1406536613.py:2: RuntimeWarning: Channel names are not unique, found duplicates for: {'T8-P8'}. Applying running numbers for duplicates.\n",
      "  data = mne.io.read_raw_edf(filename, preload = True)\n",
      "WARNING:root:Did not find any electrode locations (in the info object), will attempt to use digitization points instead. However, if digitization points do not correspond to the EEG electrodes, this will lead to bad results. Please verify that the sensor locations in the plot are accurate.\n"
     ]
    },
    {
     "name": "stdout",
     "output_type": "stream",
     "text": [
      "EEG channel type selected for re-referencing\n",
      "Applying average reference.\n",
      "Applying a custom ('EEG',) reference.\n",
      "Not setting metadata\n",
      "1424 matching events found\n",
      "No baseline correction applied\n",
      "0 projection items activated\n",
      "Using data from preloaded Raw for 1424 events and 1280 original time points ...\n",
      "0 bad epochs dropped\n",
      "Extracting EDF parameters from c:\\Users\\Bliss\\seizure_detection_project\\seizure_detection_project\\Dataset\\chb10\\chb10_12.edf...\n",
      "EDF file detected\n",
      "Setting channel info structure...\n",
      "Creating raw.info structure...\n",
      "Reading 0 ... 1843199  =      0.000 ...  7199.996 secs...\n"
     ]
    },
    {
     "name": "stderr",
     "output_type": "stream",
     "text": [
      "C:\\Users\\Bliss\\AppData\\Local\\Temp\\ipykernel_14764\\1406536613.py:2: RuntimeWarning: Channel names are not unique, found duplicates for: {'T8-P8'}. Applying running numbers for duplicates.\n",
      "  data = mne.io.read_raw_edf(filename, preload = True)\n",
      "WARNING:root:Did not find any electrode locations (in the info object), will attempt to use digitization points instead. However, if digitization points do not correspond to the EEG electrodes, this will lead to bad results. Please verify that the sensor locations in the plot are accurate.\n"
     ]
    },
    {
     "name": "stdout",
     "output_type": "stream",
     "text": [
      "EEG channel type selected for re-referencing\n",
      "Applying average reference.\n",
      "Applying a custom ('EEG',) reference.\n",
      "Not setting metadata\n",
      "1799 matching events found\n",
      "No baseline correction applied\n",
      "0 projection items activated\n",
      "Using data from preloaded Raw for 1799 events and 1280 original time points ...\n",
      "0 bad epochs dropped\n",
      "Extracting EDF parameters from c:\\Users\\Bliss\\seizure_detection_project\\seizure_detection_project\\Dataset\\chb10\\chb10_20.edf...\n",
      "EDF file detected\n",
      "Setting channel info structure...\n",
      "Creating raw.info structure...\n",
      "Reading 0 ... 1846271  =      0.000 ...  7211.996 secs...\n"
     ]
    },
    {
     "name": "stderr",
     "output_type": "stream",
     "text": [
      "C:\\Users\\Bliss\\AppData\\Local\\Temp\\ipykernel_14764\\1406536613.py:2: RuntimeWarning: Channel names are not unique, found duplicates for: {'T8-P8'}. Applying running numbers for duplicates.\n",
      "  data = mne.io.read_raw_edf(filename, preload = True)\n",
      "WARNING:root:Did not find any electrode locations (in the info object), will attempt to use digitization points instead. However, if digitization points do not correspond to the EEG electrodes, this will lead to bad results. Please verify that the sensor locations in the plot are accurate.\n"
     ]
    },
    {
     "name": "stdout",
     "output_type": "stream",
     "text": [
      "EEG channel type selected for re-referencing\n",
      "Applying average reference.\n",
      "Applying a custom ('EEG',) reference.\n",
      "Not setting metadata\n",
      "1802 matching events found\n",
      "No baseline correction applied\n",
      "0 projection items activated\n",
      "Using data from preloaded Raw for 1802 events and 1280 original time points ...\n",
      "0 bad epochs dropped\n",
      "Extracting EDF parameters from c:\\Users\\Bliss\\seizure_detection_project\\seizure_detection_project\\Dataset\\chb10\\chb10_27.edf...\n",
      "EDF file detected\n",
      "Setting channel info structure...\n",
      "Creating raw.info structure...\n",
      "Reading 0 ... 1847807  =      0.000 ...  7217.996 secs...\n"
     ]
    },
    {
     "name": "stderr",
     "output_type": "stream",
     "text": [
      "C:\\Users\\Bliss\\AppData\\Local\\Temp\\ipykernel_14764\\1406536613.py:2: RuntimeWarning: Channel names are not unique, found duplicates for: {'T8-P8'}. Applying running numbers for duplicates.\n",
      "  data = mne.io.read_raw_edf(filename, preload = True)\n",
      "WARNING:root:Did not find any electrode locations (in the info object), will attempt to use digitization points instead. However, if digitization points do not correspond to the EEG electrodes, this will lead to bad results. Please verify that the sensor locations in the plot are accurate.\n"
     ]
    },
    {
     "name": "stdout",
     "output_type": "stream",
     "text": [
      "EEG channel type selected for re-referencing\n",
      "Applying average reference.\n",
      "Applying a custom ('EEG',) reference.\n",
      "Not setting metadata\n",
      "1804 matching events found\n",
      "No baseline correction applied\n",
      "0 projection items activated\n",
      "Using data from preloaded Raw for 1804 events and 1280 original time points ...\n",
      "0 bad epochs dropped\n",
      "Extracting EDF parameters from c:\\Users\\Bliss\\seizure_detection_project\\seizure_detection_project\\Dataset\\chb10\\chb10_30.edf...\n",
      "EDF file detected\n",
      "Setting channel info structure...\n",
      "Creating raw.info structure...\n",
      "Reading 0 ... 1846527  =      0.000 ...  7212.996 secs...\n"
     ]
    },
    {
     "name": "stderr",
     "output_type": "stream",
     "text": [
      "C:\\Users\\Bliss\\AppData\\Local\\Temp\\ipykernel_14764\\1406536613.py:2: RuntimeWarning: Channel names are not unique, found duplicates for: {'T8-P8'}. Applying running numbers for duplicates.\n",
      "  data = mne.io.read_raw_edf(filename, preload = True)\n",
      "WARNING:root:Did not find any electrode locations (in the info object), will attempt to use digitization points instead. However, if digitization points do not correspond to the EEG electrodes, this will lead to bad results. Please verify that the sensor locations in the plot are accurate.\n"
     ]
    },
    {
     "name": "stdout",
     "output_type": "stream",
     "text": [
      "EEG channel type selected for re-referencing\n",
      "Applying average reference.\n",
      "Applying a custom ('EEG',) reference.\n",
      "Not setting metadata\n",
      "1803 matching events found\n",
      "No baseline correction applied\n",
      "0 projection items activated\n",
      "Using data from preloaded Raw for 1803 events and 1280 original time points ...\n",
      "0 bad epochs dropped\n",
      "Extracting EDF parameters from c:\\Users\\Bliss\\seizure_detection_project\\seizure_detection_project\\Dataset\\chb10\\chb10_31.edf...\n",
      "EDF file detected\n",
      "Setting channel info structure...\n",
      "Creating raw.info structure...\n",
      "Reading 0 ... 1848575  =      0.000 ...  7220.996 secs...\n"
     ]
    },
    {
     "name": "stderr",
     "output_type": "stream",
     "text": [
      "C:\\Users\\Bliss\\AppData\\Local\\Temp\\ipykernel_14764\\1406536613.py:2: RuntimeWarning: Channel names are not unique, found duplicates for: {'T8-P8'}. Applying running numbers for duplicates.\n",
      "  data = mne.io.read_raw_edf(filename, preload = True)\n",
      "WARNING:root:Did not find any electrode locations (in the info object), will attempt to use digitization points instead. However, if digitization points do not correspond to the EEG electrodes, this will lead to bad results. Please verify that the sensor locations in the plot are accurate.\n"
     ]
    },
    {
     "name": "stdout",
     "output_type": "stream",
     "text": [
      "EEG channel type selected for re-referencing\n",
      "Applying average reference.\n",
      "Applying a custom ('EEG',) reference.\n",
      "Not setting metadata\n",
      "1805 matching events found\n",
      "No baseline correction applied\n",
      "0 projection items activated\n",
      "Using data from preloaded Raw for 1805 events and 1280 original time points ...\n",
      "0 bad epochs dropped\n",
      "Extracting EDF parameters from c:\\Users\\Bliss\\seizure_detection_project\\seizure_detection_project\\Dataset\\chb10\\chb10_38.edf...\n",
      "EDF file detected\n",
      "Setting channel info structure...\n",
      "Creating raw.info structure...\n",
      "Reading 0 ... 1843199  =      0.000 ...  7199.996 secs...\n"
     ]
    },
    {
     "name": "stderr",
     "output_type": "stream",
     "text": [
      "C:\\Users\\Bliss\\AppData\\Local\\Temp\\ipykernel_14764\\1406536613.py:2: RuntimeWarning: Channel names are not unique, found duplicates for: {'T8-P8'}. Applying running numbers for duplicates.\n",
      "  data = mne.io.read_raw_edf(filename, preload = True)\n",
      "WARNING:root:Did not find any electrode locations (in the info object), will attempt to use digitization points instead. However, if digitization points do not correspond to the EEG electrodes, this will lead to bad results. Please verify that the sensor locations in the plot are accurate.\n"
     ]
    },
    {
     "name": "stdout",
     "output_type": "stream",
     "text": [
      "EEG channel type selected for re-referencing\n",
      "Applying average reference.\n",
      "Applying a custom ('EEG',) reference.\n",
      "Not setting metadata\n",
      "1799 matching events found\n",
      "No baseline correction applied\n",
      "0 projection items activated\n",
      "Using data from preloaded Raw for 1799 events and 1280 original time points ...\n",
      "0 bad epochs dropped\n",
      "Extracting EDF parameters from c:\\Users\\Bliss\\seizure_detection_project\\seizure_detection_project\\Dataset\\chb10\\chb10_89.edf...\n",
      "EDF file detected\n",
      "Setting channel info structure...\n",
      "Creating raw.info structure...\n",
      "Reading 0 ... 1843199  =      0.000 ...  7199.996 secs...\n"
     ]
    },
    {
     "name": "stderr",
     "output_type": "stream",
     "text": [
      "C:\\Users\\Bliss\\AppData\\Local\\Temp\\ipykernel_14764\\1406536613.py:2: RuntimeWarning: Channel names are not unique, found duplicates for: {'T8-P8'}. Applying running numbers for duplicates.\n",
      "  data = mne.io.read_raw_edf(filename, preload = True)\n",
      "WARNING:root:Did not find any electrode locations (in the info object), will attempt to use digitization points instead. However, if digitization points do not correspond to the EEG electrodes, this will lead to bad results. Please verify that the sensor locations in the plot are accurate.\n"
     ]
    },
    {
     "name": "stdout",
     "output_type": "stream",
     "text": [
      "EEG channel type selected for re-referencing\n",
      "Applying average reference.\n",
      "Applying a custom ('EEG',) reference.\n",
      "Not setting metadata\n",
      "1799 matching events found\n",
      "No baseline correction applied\n",
      "0 projection items activated\n",
      "Using data from preloaded Raw for 1799 events and 1280 original time points ...\n",
      "0 bad epochs dropped\n",
      "Extracting EDF parameters from c:\\Users\\Bliss\\seizure_detection_project\\seizure_detection_project\\Dataset\\chb11\\chb11_82.edf...\n",
      "EDF file detected\n",
      "Setting channel info structure...\n",
      "Creating raw.info structure...\n",
      "Reading 0 ... 921599  =      0.000 ...  3599.996 secs...\n"
     ]
    },
    {
     "name": "stderr",
     "output_type": "stream",
     "text": [
      "C:\\Users\\Bliss\\AppData\\Local\\Temp\\ipykernel_14764\\1406536613.py:2: RuntimeWarning: Channel names are not unique, found duplicates for: {'T8-P8', '-'}. Applying running numbers for duplicates.\n",
      "  data = mne.io.read_raw_edf(filename, preload = True)\n",
      "WARNING:root:Did not find any electrode locations (in the info object), will attempt to use digitization points instead. However, if digitization points do not correspond to the EEG electrodes, this will lead to bad results. Please verify that the sensor locations in the plot are accurate.\n"
     ]
    },
    {
     "name": "stdout",
     "output_type": "stream",
     "text": [
      "EEG channel type selected for re-referencing\n",
      "Applying average reference.\n",
      "Applying a custom ('EEG',) reference.\n",
      "Not setting metadata\n",
      "899 matching events found\n",
      "No baseline correction applied\n",
      "0 projection items activated\n",
      "Using data from preloaded Raw for 899 events and 1280 original time points ...\n",
      "0 bad epochs dropped\n",
      "Extracting EDF parameters from c:\\Users\\Bliss\\seizure_detection_project\\seizure_detection_project\\Dataset\\chb11\\chb11_92.edf...\n",
      "EDF file detected\n",
      "Setting channel info structure...\n",
      "Creating raw.info structure...\n",
      "Reading 0 ... 921599  =      0.000 ...  3599.996 secs...\n"
     ]
    },
    {
     "name": "stderr",
     "output_type": "stream",
     "text": [
      "C:\\Users\\Bliss\\AppData\\Local\\Temp\\ipykernel_14764\\1406536613.py:2: RuntimeWarning: Channel names are not unique, found duplicates for: {'T8-P8', '-'}. Applying running numbers for duplicates.\n",
      "  data = mne.io.read_raw_edf(filename, preload = True)\n",
      "WARNING:root:Did not find any electrode locations (in the info object), will attempt to use digitization points instead. However, if digitization points do not correspond to the EEG electrodes, this will lead to bad results. Please verify that the sensor locations in the plot are accurate.\n"
     ]
    },
    {
     "name": "stdout",
     "output_type": "stream",
     "text": [
      "EEG channel type selected for re-referencing\n",
      "Applying average reference.\n",
      "Applying a custom ('EEG',) reference.\n",
      "Not setting metadata\n",
      "899 matching events found\n",
      "No baseline correction applied\n",
      "0 projection items activated\n",
      "Using data from preloaded Raw for 899 events and 1280 original time points ...\n",
      "0 bad epochs dropped\n",
      "Extracting EDF parameters from c:\\Users\\Bliss\\seizure_detection_project\\seizure_detection_project\\Dataset\\chb11\\chb11_99.edf...\n",
      "EDF file detected\n",
      "Setting channel info structure...\n",
      "Creating raw.info structure...\n",
      "Reading 0 ... 731903  =      0.000 ...  2858.996 secs...\n"
     ]
    },
    {
     "name": "stderr",
     "output_type": "stream",
     "text": [
      "C:\\Users\\Bliss\\AppData\\Local\\Temp\\ipykernel_14764\\1406536613.py:2: RuntimeWarning: Channel names are not unique, found duplicates for: {'T8-P8', '-'}. Applying running numbers for duplicates.\n",
      "  data = mne.io.read_raw_edf(filename, preload = True)\n",
      "WARNING:root:Did not find any electrode locations (in the info object), will attempt to use digitization points instead. However, if digitization points do not correspond to the EEG electrodes, this will lead to bad results. Please verify that the sensor locations in the plot are accurate.\n"
     ]
    },
    {
     "name": "stdout",
     "output_type": "stream",
     "text": [
      "EEG channel type selected for re-referencing\n",
      "Applying average reference.\n",
      "Applying a custom ('EEG',) reference.\n",
      "Not setting metadata\n",
      "714 matching events found\n",
      "No baseline correction applied\n",
      "0 projection items activated\n",
      "Using data from preloaded Raw for 714 events and 1280 original time points ...\n",
      "0 bad epochs dropped\n",
      "Extracting EDF parameters from c:\\Users\\Bliss\\seizure_detection_project\\seizure_detection_project\\Dataset\\chb12\\chb12_06.edf...\n",
      "EDF file detected\n",
      "Setting channel info structure...\n",
      "Creating raw.info structure...\n",
      "Reading 0 ... 923135  =      0.000 ...  3605.996 secs...\n"
     ]
    },
    {
     "name": "stderr",
     "output_type": "stream",
     "text": [
      "C:\\Users\\Bliss\\AppData\\Local\\Temp\\ipykernel_14764\\1406536613.py:2: RuntimeWarning: Channel names are not unique, found duplicates for: {'T8-P8', '-'}. Applying running numbers for duplicates.\n",
      "  data = mne.io.read_raw_edf(filename, preload = True)\n",
      "C:\\Users\\Bliss\\AppData\\Local\\Temp\\ipykernel_14764\\1406536613.py:2: RuntimeWarning: Scaling factor is not defined in following channels:\n",
      "--0, --1, --2, --3, --4\n",
      "  data = mne.io.read_raw_edf(filename, preload = True)\n",
      "WARNING:root:Did not find any electrode locations (in the info object), will attempt to use digitization points instead. However, if digitization points do not correspond to the EEG electrodes, this will lead to bad results. Please verify that the sensor locations in the plot are accurate.\n"
     ]
    },
    {
     "name": "stdout",
     "output_type": "stream",
     "text": [
      "EEG channel type selected for re-referencing\n",
      "Applying average reference.\n",
      "Applying a custom ('EEG',) reference.\n",
      "Not setting metadata\n",
      "901 matching events found\n",
      "No baseline correction applied\n",
      "0 projection items activated\n",
      "Using data from preloaded Raw for 901 events and 1280 original time points ...\n",
      "0 bad epochs dropped\n",
      "Extracting EDF parameters from c:\\Users\\Bliss\\seizure_detection_project\\seizure_detection_project\\Dataset\\chb12\\chb12_08.edf...\n",
      "EDF file detected\n",
      "Setting channel info structure...\n",
      "Creating raw.info structure...\n",
      "Reading 0 ... 921599  =      0.000 ...  3599.996 secs...\n"
     ]
    },
    {
     "name": "stderr",
     "output_type": "stream",
     "text": [
      "C:\\Users\\Bliss\\AppData\\Local\\Temp\\ipykernel_14764\\1406536613.py:2: RuntimeWarning: Channel names are not unique, found duplicates for: {'T8-P8', '-'}. Applying running numbers for duplicates.\n",
      "  data = mne.io.read_raw_edf(filename, preload = True)\n",
      "C:\\Users\\Bliss\\AppData\\Local\\Temp\\ipykernel_14764\\1406536613.py:2: RuntimeWarning: Scaling factor is not defined in following channels:\n",
      "--0, --1, --2, --3, --4\n",
      "  data = mne.io.read_raw_edf(filename, preload = True)\n",
      "WARNING:root:Did not find any electrode locations (in the info object), will attempt to use digitization points instead. However, if digitization points do not correspond to the EEG electrodes, this will lead to bad results. Please verify that the sensor locations in the plot are accurate.\n"
     ]
    },
    {
     "name": "stdout",
     "output_type": "stream",
     "text": [
      "EEG channel type selected for re-referencing\n",
      "Applying average reference.\n",
      "Applying a custom ('EEG',) reference.\n",
      "Not setting metadata\n",
      "899 matching events found\n",
      "No baseline correction applied\n",
      "0 projection items activated\n",
      "Using data from preloaded Raw for 899 events and 1280 original time points ...\n",
      "0 bad epochs dropped\n",
      "Extracting EDF parameters from c:\\Users\\Bliss\\seizure_detection_project\\seizure_detection_project\\Dataset\\chb12\\chb12_09.edf...\n",
      "EDF file detected\n",
      "Setting channel info structure...\n",
      "Creating raw.info structure...\n",
      "Reading 0 ... 924671  =      0.000 ...  3611.996 secs...\n"
     ]
    },
    {
     "name": "stderr",
     "output_type": "stream",
     "text": [
      "C:\\Users\\Bliss\\AppData\\Local\\Temp\\ipykernel_14764\\1406536613.py:2: RuntimeWarning: Channel names are not unique, found duplicates for: {'T8-P8', '-'}. Applying running numbers for duplicates.\n",
      "  data = mne.io.read_raw_edf(filename, preload = True)\n",
      "C:\\Users\\Bliss\\AppData\\Local\\Temp\\ipykernel_14764\\1406536613.py:2: RuntimeWarning: Scaling factor is not defined in following channels:\n",
      "--0, --1, --2, --3, --4\n",
      "  data = mne.io.read_raw_edf(filename, preload = True)\n",
      "WARNING:root:Did not find any electrode locations (in the info object), will attempt to use digitization points instead. However, if digitization points do not correspond to the EEG electrodes, this will lead to bad results. Please verify that the sensor locations in the plot are accurate.\n"
     ]
    },
    {
     "name": "stdout",
     "output_type": "stream",
     "text": [
      "EEG channel type selected for re-referencing\n",
      "Applying average reference.\n",
      "Applying a custom ('EEG',) reference.\n",
      "Not setting metadata\n",
      "902 matching events found\n",
      "No baseline correction applied\n",
      "0 projection items activated\n",
      "Using data from preloaded Raw for 902 events and 1280 original time points ...\n",
      "0 bad epochs dropped\n",
      "Extracting EDF parameters from c:\\Users\\Bliss\\seizure_detection_project\\seizure_detection_project\\Dataset\\chb12\\chb12_10.edf...\n",
      "EDF file detected\n",
      "Setting channel info structure...\n",
      "Creating raw.info structure...\n",
      "Reading 0 ... 924415  =      0.000 ...  3610.996 secs...\n"
     ]
    },
    {
     "name": "stderr",
     "output_type": "stream",
     "text": [
      "C:\\Users\\Bliss\\AppData\\Local\\Temp\\ipykernel_14764\\1406536613.py:2: RuntimeWarning: Channel names are not unique, found duplicates for: {'T8-P8', '-'}. Applying running numbers for duplicates.\n",
      "  data = mne.io.read_raw_edf(filename, preload = True)\n",
      "C:\\Users\\Bliss\\AppData\\Local\\Temp\\ipykernel_14764\\1406536613.py:2: RuntimeWarning: Scaling factor is not defined in following channels:\n",
      "--0, --1, --2, --3, --4\n",
      "  data = mne.io.read_raw_edf(filename, preload = True)\n",
      "WARNING:root:Did not find any electrode locations (in the info object), will attempt to use digitization points instead. However, if digitization points do not correspond to the EEG electrodes, this will lead to bad results. Please verify that the sensor locations in the plot are accurate.\n"
     ]
    },
    {
     "name": "stdout",
     "output_type": "stream",
     "text": [
      "EEG channel type selected for re-referencing\n",
      "Applying average reference.\n",
      "Applying a custom ('EEG',) reference.\n",
      "Not setting metadata\n",
      "902 matching events found\n",
      "No baseline correction applied\n",
      "0 projection items activated\n",
      "Using data from preloaded Raw for 902 events and 1280 original time points ...\n",
      "0 bad epochs dropped\n",
      "Extracting EDF parameters from c:\\Users\\Bliss\\seizure_detection_project\\seizure_detection_project\\Dataset\\chb12\\chb12_11.edf...\n",
      "EDF file detected\n",
      "Setting channel info structure...\n",
      "Creating raw.info structure...\n",
      "Reading 0 ... 622335  =      0.000 ...  2430.996 secs...\n"
     ]
    },
    {
     "name": "stderr",
     "output_type": "stream",
     "text": [
      "C:\\Users\\Bliss\\AppData\\Local\\Temp\\ipykernel_14764\\1406536613.py:2: RuntimeWarning: Channel names are not unique, found duplicates for: {'T8-P8', '-'}. Applying running numbers for duplicates.\n",
      "  data = mne.io.read_raw_edf(filename, preload = True)\n",
      "C:\\Users\\Bliss\\AppData\\Local\\Temp\\ipykernel_14764\\1406536613.py:2: RuntimeWarning: Scaling factor is not defined in following channels:\n",
      "--0, --1, --2, --3, --4\n",
      "  data = mne.io.read_raw_edf(filename, preload = True)\n",
      "WARNING:root:Did not find any electrode locations (in the info object), will attempt to use digitization points instead. However, if digitization points do not correspond to the EEG electrodes, this will lead to bad results. Please verify that the sensor locations in the plot are accurate.\n"
     ]
    },
    {
     "name": "stdout",
     "output_type": "stream",
     "text": [
      "EEG channel type selected for re-referencing\n",
      "Applying average reference.\n",
      "Applying a custom ('EEG',) reference.\n",
      "Not setting metadata\n",
      "607 matching events found\n",
      "No baseline correction applied\n",
      "0 projection items activated\n",
      "Using data from preloaded Raw for 607 events and 1280 original time points ...\n",
      "0 bad epochs dropped\n",
      "Extracting EDF parameters from c:\\Users\\Bliss\\seizure_detection_project\\seizure_detection_project\\Dataset\\chb12\\chb12_23.edf...\n",
      "EDF file detected\n",
      "Setting channel info structure...\n",
      "Creating raw.info structure...\n",
      "Reading 0 ... 921599  =      0.000 ...  3599.996 secs...\n"
     ]
    },
    {
     "name": "stderr",
     "output_type": "stream",
     "text": [
      "C:\\Users\\Bliss\\AppData\\Local\\Temp\\ipykernel_14764\\1406536613.py:2: RuntimeWarning: Channel names are not unique, found duplicates for: {'T8-P8', '-'}. Applying running numbers for duplicates.\n",
      "  data = mne.io.read_raw_edf(filename, preload = True)\n",
      "C:\\Users\\Bliss\\AppData\\Local\\Temp\\ipykernel_14764\\1406536613.py:2: RuntimeWarning: Scaling factor is not defined in following channels:\n",
      "--0, --1, --2, --3, --4\n",
      "  data = mne.io.read_raw_edf(filename, preload = True)\n",
      "WARNING:root:Did not find any electrode locations (in the info object), will attempt to use digitization points instead. However, if digitization points do not correspond to the EEG electrodes, this will lead to bad results. Please verify that the sensor locations in the plot are accurate.\n"
     ]
    },
    {
     "name": "stdout",
     "output_type": "stream",
     "text": [
      "EEG channel type selected for re-referencing\n",
      "Applying average reference.\n",
      "Applying a custom ('EEG',) reference.\n",
      "Not setting metadata\n",
      "899 matching events found\n",
      "No baseline correction applied\n",
      "0 projection items activated\n",
      "Using data from preloaded Raw for 899 events and 1280 original time points ...\n",
      "0 bad epochs dropped\n",
      "Extracting EDF parameters from c:\\Users\\Bliss\\seizure_detection_project\\seizure_detection_project\\Dataset\\chb12\\chb12_27.edf...\n",
      "EDF file detected\n",
      "Setting channel info structure...\n",
      "Creating raw.info structure...\n",
      "Reading 0 ... 921599  =      0.000 ...  3599.996 secs...\n"
     ]
    },
    {
     "name": "stderr",
     "output_type": "stream",
     "text": [
      "C:\\Users\\Bliss\\AppData\\Local\\Temp\\ipykernel_14764\\1406536613.py:2: RuntimeWarning: Channel names are not unique, found duplicates for: {'-'}. Applying running numbers for duplicates.\n",
      "  data = mne.io.read_raw_edf(filename, preload = True)\n",
      "C:\\Users\\Bliss\\AppData\\Local\\Temp\\ipykernel_14764\\1406536613.py:2: RuntimeWarning: Scaling factor is not defined in following channels:\n",
      "--0, --1, --2, --3, --4\n",
      "  data = mne.io.read_raw_edf(filename, preload = True)\n",
      "WARNING:root:Did not find any electrode locations (in the info object), will attempt to use digitization points instead. However, if digitization points do not correspond to the EEG electrodes, this will lead to bad results. Please verify that the sensor locations in the plot are accurate.\n"
     ]
    },
    {
     "name": "stdout",
     "output_type": "stream",
     "text": [
      "EEG channel type selected for re-referencing\n",
      "Applying average reference.\n",
      "Applying a custom ('EEG',) reference.\n",
      "Not setting metadata\n",
      "899 matching events found\n",
      "No baseline correction applied\n",
      "0 projection items activated\n",
      "Using data from preloaded Raw for 899 events and 1280 original time points ...\n",
      "0 bad epochs dropped\n",
      "Extracting EDF parameters from c:\\Users\\Bliss\\seizure_detection_project\\seizure_detection_project\\Dataset\\chb12\\chb12_28.edf...\n",
      "EDF file detected\n",
      "Setting channel info structure...\n",
      "Creating raw.info structure...\n",
      "Reading 0 ... 921599  =      0.000 ...  3599.996 secs...\n"
     ]
    },
    {
     "name": "stderr",
     "output_type": "stream",
     "text": [
      "C:\\Users\\Bliss\\AppData\\Local\\Temp\\ipykernel_14764\\1406536613.py:2: RuntimeWarning: Channel names are not unique, found duplicates for: {'-'}. Applying running numbers for duplicates.\n",
      "  data = mne.io.read_raw_edf(filename, preload = True)\n",
      "C:\\Users\\Bliss\\AppData\\Local\\Temp\\ipykernel_14764\\1406536613.py:2: RuntimeWarning: Scaling factor is not defined in following channels:\n",
      "--0, --1, --2, --3\n",
      "  data = mne.io.read_raw_edf(filename, preload = True)\n",
      "WARNING:root:Did not find any electrode locations (in the info object), will attempt to use digitization points instead. However, if digitization points do not correspond to the EEG electrodes, this will lead to bad results. Please verify that the sensor locations in the plot are accurate.\n"
     ]
    },
    {
     "name": "stdout",
     "output_type": "stream",
     "text": [
      "EEG channel type selected for re-referencing\n",
      "Applying average reference.\n",
      "Applying a custom ('EEG',) reference.\n",
      "Not setting metadata\n",
      "899 matching events found\n",
      "No baseline correction applied\n",
      "0 projection items activated\n",
      "Using data from preloaded Raw for 899 events and 1280 original time points ...\n",
      "0 bad epochs dropped\n",
      "Extracting EDF parameters from c:\\Users\\Bliss\\seizure_detection_project\\seizure_detection_project\\Dataset\\chb12\\chb12_29.edf...\n",
      "EDF file detected\n",
      "Setting channel info structure...\n",
      "Creating raw.info structure...\n",
      "Reading 0 ... 927743  =      0.000 ...  3623.996 secs...\n"
     ]
    },
    {
     "name": "stderr",
     "output_type": "stream",
     "text": [
      "C:\\Users\\Bliss\\AppData\\Local\\Temp\\ipykernel_14764\\1406536613.py:2: RuntimeWarning: Channel names are not unique, found duplicates for: {'-'}. Applying running numbers for duplicates.\n",
      "  data = mne.io.read_raw_edf(filename, preload = True)\n",
      "C:\\Users\\Bliss\\AppData\\Local\\Temp\\ipykernel_14764\\1406536613.py:2: RuntimeWarning: Scaling factor is not defined in following channels:\n",
      "--0, --1, --2, --3\n",
      "  data = mne.io.read_raw_edf(filename, preload = True)\n",
      "WARNING:root:Did not find any electrode locations (in the info object), will attempt to use digitization points instead. However, if digitization points do not correspond to the EEG electrodes, this will lead to bad results. Please verify that the sensor locations in the plot are accurate.\n"
     ]
    },
    {
     "name": "stdout",
     "output_type": "stream",
     "text": [
      "EEG channel type selected for re-referencing\n",
      "Applying average reference.\n",
      "Applying a custom ('EEG',) reference.\n",
      "Not setting metadata\n",
      "905 matching events found\n",
      "No baseline correction applied\n",
      "0 projection items activated\n",
      "Using data from preloaded Raw for 905 events and 1280 original time points ...\n",
      "0 bad epochs dropped\n",
      "Extracting EDF parameters from c:\\Users\\Bliss\\seizure_detection_project\\seizure_detection_project\\Dataset\\chb12\\chb12_33.edf...\n",
      "EDF file detected\n",
      "Setting channel info structure...\n",
      "Creating raw.info structure...\n",
      "Reading 0 ... 921599  =      0.000 ...  3599.996 secs...\n"
     ]
    },
    {
     "name": "stderr",
     "output_type": "stream",
     "text": [
      "C:\\Users\\Bliss\\AppData\\Local\\Temp\\ipykernel_14764\\1406536613.py:2: RuntimeWarning: Channel names are not unique, found duplicates for: {'T8-P8', '-'}. Applying running numbers for duplicates.\n",
      "  data = mne.io.read_raw_edf(filename, preload = True)\n",
      "C:\\Users\\Bliss\\AppData\\Local\\Temp\\ipykernel_14764\\1406536613.py:2: RuntimeWarning: Scaling factor is not defined in following channels:\n",
      "--0, --1, --2, --3, --4\n",
      "  data = mne.io.read_raw_edf(filename, preload = True)\n",
      "WARNING:root:Did not find any electrode locations (in the info object), will attempt to use digitization points instead. However, if digitization points do not correspond to the EEG electrodes, this will lead to bad results. Please verify that the sensor locations in the plot are accurate.\n"
     ]
    },
    {
     "name": "stdout",
     "output_type": "stream",
     "text": [
      "EEG channel type selected for re-referencing\n",
      "Applying average reference.\n",
      "Applying a custom ('EEG',) reference.\n",
      "Not setting metadata\n",
      "899 matching events found\n",
      "No baseline correction applied\n",
      "0 projection items activated\n",
      "Using data from preloaded Raw for 899 events and 1280 original time points ...\n",
      "0 bad epochs dropped\n",
      "Extracting EDF parameters from c:\\Users\\Bliss\\seizure_detection_project\\seizure_detection_project\\Dataset\\chb12\\chb12_36.edf...\n",
      "EDF file detected\n",
      "Setting channel info structure...\n",
      "Creating raw.info structure...\n",
      "Reading 0 ... 921599  =      0.000 ...  3599.996 secs...\n"
     ]
    },
    {
     "name": "stderr",
     "output_type": "stream",
     "text": [
      "C:\\Users\\Bliss\\AppData\\Local\\Temp\\ipykernel_14764\\1406536613.py:2: RuntimeWarning: Channel names are not unique, found duplicates for: {'T8-P8', '-'}. Applying running numbers for duplicates.\n",
      "  data = mne.io.read_raw_edf(filename, preload = True)\n",
      "C:\\Users\\Bliss\\AppData\\Local\\Temp\\ipykernel_14764\\1406536613.py:2: RuntimeWarning: Scaling factor is not defined in following channels:\n",
      "--0, --1, --2, --3, --4\n",
      "  data = mne.io.read_raw_edf(filename, preload = True)\n",
      "WARNING:root:Did not find any electrode locations (in the info object), will attempt to use digitization points instead. However, if digitization points do not correspond to the EEG electrodes, this will lead to bad results. Please verify that the sensor locations in the plot are accurate.\n"
     ]
    },
    {
     "name": "stdout",
     "output_type": "stream",
     "text": [
      "EEG channel type selected for re-referencing\n",
      "Applying average reference.\n",
      "Applying a custom ('EEG',) reference.\n",
      "Not setting metadata\n",
      "899 matching events found\n",
      "No baseline correction applied\n",
      "0 projection items activated\n",
      "Using data from preloaded Raw for 899 events and 1280 original time points ...\n",
      "0 bad epochs dropped\n",
      "Extracting EDF parameters from c:\\Users\\Bliss\\seizure_detection_project\\seizure_detection_project\\Dataset\\chb12\\chb12_38.edf...\n",
      "EDF file detected\n",
      "Setting channel info structure...\n",
      "Creating raw.info structure...\n",
      "Reading 0 ... 921599  =      0.000 ...  3599.996 secs...\n"
     ]
    },
    {
     "name": "stderr",
     "output_type": "stream",
     "text": [
      "C:\\Users\\Bliss\\AppData\\Local\\Temp\\ipykernel_14764\\1406536613.py:2: RuntimeWarning: Channel names are not unique, found duplicates for: {'T8-P8', '-'}. Applying running numbers for duplicates.\n",
      "  data = mne.io.read_raw_edf(filename, preload = True)\n",
      "C:\\Users\\Bliss\\AppData\\Local\\Temp\\ipykernel_14764\\1406536613.py:2: RuntimeWarning: Scaling factor is not defined in following channels:\n",
      "--0, --1, --2, --3, --4\n",
      "  data = mne.io.read_raw_edf(filename, preload = True)\n",
      "WARNING:root:Did not find any electrode locations (in the info object), will attempt to use digitization points instead. However, if digitization points do not correspond to the EEG electrodes, this will lead to bad results. Please verify that the sensor locations in the plot are accurate.\n"
     ]
    },
    {
     "name": "stdout",
     "output_type": "stream",
     "text": [
      "EEG channel type selected for re-referencing\n",
      "Applying average reference.\n",
      "Applying a custom ('EEG',) reference.\n",
      "Not setting metadata\n",
      "899 matching events found\n",
      "No baseline correction applied\n",
      "0 projection items activated\n",
      "Using data from preloaded Raw for 899 events and 1280 original time points ...\n",
      "0 bad epochs dropped\n",
      "Extracting EDF parameters from c:\\Users\\Bliss\\seizure_detection_project\\seizure_detection_project\\Dataset\\chb12\\chb12_42.edf...\n",
      "EDF file detected\n",
      "Setting channel info structure...\n",
      "Creating raw.info structure...\n",
      "Reading 0 ... 921599  =      0.000 ...  3599.996 secs...\n"
     ]
    },
    {
     "name": "stderr",
     "output_type": "stream",
     "text": [
      "C:\\Users\\Bliss\\AppData\\Local\\Temp\\ipykernel_14764\\1406536613.py:2: RuntimeWarning: Channel names are not unique, found duplicates for: {'T8-P8', '-'}. Applying running numbers for duplicates.\n",
      "  data = mne.io.read_raw_edf(filename, preload = True)\n",
      "C:\\Users\\Bliss\\AppData\\Local\\Temp\\ipykernel_14764\\1406536613.py:2: RuntimeWarning: Scaling factor is not defined in following channels:\n",
      "--0, --1, --2, --3, --4\n",
      "  data = mne.io.read_raw_edf(filename, preload = True)\n",
      "WARNING:root:Did not find any electrode locations (in the info object), will attempt to use digitization points instead. However, if digitization points do not correspond to the EEG electrodes, this will lead to bad results. Please verify that the sensor locations in the plot are accurate.\n"
     ]
    },
    {
     "name": "stdout",
     "output_type": "stream",
     "text": [
      "EEG channel type selected for re-referencing\n",
      "Applying average reference.\n",
      "Applying a custom ('EEG',) reference.\n",
      "Not setting metadata\n",
      "899 matching events found\n",
      "No baseline correction applied\n",
      "0 projection items activated\n",
      "Using data from preloaded Raw for 899 events and 1280 original time points ...\n",
      "0 bad epochs dropped\n",
      "Extracting EDF parameters from c:\\Users\\Bliss\\seizure_detection_project\\seizure_detection_project\\Dataset\\chb13\\chb13_19.edf...\n",
      "EDF file detected\n",
      "Setting channel info structure...\n",
      "Creating raw.info structure...\n",
      "Reading 0 ... 921599  =      0.000 ...  3599.996 secs...\n"
     ]
    },
    {
     "name": "stderr",
     "output_type": "stream",
     "text": [
      "C:\\Users\\Bliss\\AppData\\Local\\Temp\\ipykernel_14764\\1406536613.py:2: RuntimeWarning: Channel names are not unique, found duplicates for: {'T8-P8', '-'}. Applying running numbers for duplicates.\n",
      "  data = mne.io.read_raw_edf(filename, preload = True)\n",
      "C:\\Users\\Bliss\\AppData\\Local\\Temp\\ipykernel_14764\\1406536613.py:2: RuntimeWarning: Scaling factor is not defined in following channels:\n",
      "--0, --1, --2, --3, --4\n",
      "  data = mne.io.read_raw_edf(filename, preload = True)\n",
      "WARNING:root:Did not find any electrode locations (in the info object), will attempt to use digitization points instead. However, if digitization points do not correspond to the EEG electrodes, this will lead to bad results. Please verify that the sensor locations in the plot are accurate.\n"
     ]
    },
    {
     "name": "stdout",
     "output_type": "stream",
     "text": [
      "EEG channel type selected for re-referencing\n",
      "Applying average reference.\n",
      "Applying a custom ('EEG',) reference.\n",
      "Not setting metadata\n",
      "899 matching events found\n",
      "No baseline correction applied\n",
      "0 projection items activated\n",
      "Using data from preloaded Raw for 899 events and 1280 original time points ...\n",
      "0 bad epochs dropped\n",
      "Extracting EDF parameters from c:\\Users\\Bliss\\seizure_detection_project\\seizure_detection_project\\Dataset\\chb13\\chb13_21.edf...\n",
      "EDF file detected\n",
      "Setting channel info structure...\n",
      "Creating raw.info structure...\n",
      "Reading 0 ... 921599  =      0.000 ...  3599.996 secs...\n"
     ]
    },
    {
     "name": "stderr",
     "output_type": "stream",
     "text": [
      "C:\\Users\\Bliss\\AppData\\Local\\Temp\\ipykernel_14764\\1406536613.py:2: RuntimeWarning: Channel names are not unique, found duplicates for: {'T8-P8', '-'}. Applying running numbers for duplicates.\n",
      "  data = mne.io.read_raw_edf(filename, preload = True)\n",
      "C:\\Users\\Bliss\\AppData\\Local\\Temp\\ipykernel_14764\\1406536613.py:2: RuntimeWarning: Scaling factor is not defined in following channels:\n",
      "--0, --1, --2, --3, --4\n",
      "  data = mne.io.read_raw_edf(filename, preload = True)\n",
      "WARNING:root:Did not find any electrode locations (in the info object), will attempt to use digitization points instead. However, if digitization points do not correspond to the EEG electrodes, this will lead to bad results. Please verify that the sensor locations in the plot are accurate.\n"
     ]
    },
    {
     "name": "stdout",
     "output_type": "stream",
     "text": [
      "EEG channel type selected for re-referencing\n",
      "Applying average reference.\n",
      "Applying a custom ('EEG',) reference.\n",
      "Not setting metadata\n",
      "899 matching events found\n",
      "No baseline correction applied\n",
      "0 projection items activated\n",
      "Using data from preloaded Raw for 899 events and 1280 original time points ...\n",
      "0 bad epochs dropped\n",
      "Extracting EDF parameters from c:\\Users\\Bliss\\seizure_detection_project\\seizure_detection_project\\Dataset\\chb13\\chb13_40.edf...\n",
      "EDF file detected\n",
      "Setting channel info structure...\n",
      "Creating raw.info structure...\n",
      "Reading 0 ... 921599  =      0.000 ...  3599.996 secs...\n"
     ]
    },
    {
     "name": "stderr",
     "output_type": "stream",
     "text": [
      "C:\\Users\\Bliss\\AppData\\Local\\Temp\\ipykernel_14764\\1406536613.py:2: RuntimeWarning: Channel names are not unique, found duplicates for: {'-'}. Applying running numbers for duplicates.\n",
      "  data = mne.io.read_raw_edf(filename, preload = True)\n",
      "C:\\Users\\Bliss\\AppData\\Local\\Temp\\ipykernel_14764\\1406536613.py:2: RuntimeWarning: Scaling factor is not defined in following channels:\n",
      "--0, --1, --2, --3\n",
      "  data = mne.io.read_raw_edf(filename, preload = True)\n",
      "WARNING:root:Did not find any electrode locations (in the info object), will attempt to use digitization points instead. However, if digitization points do not correspond to the EEG electrodes, this will lead to bad results. Please verify that the sensor locations in the plot are accurate.\n"
     ]
    },
    {
     "name": "stdout",
     "output_type": "stream",
     "text": [
      "EEG channel type selected for re-referencing\n",
      "Applying average reference.\n",
      "Applying a custom ('EEG',) reference.\n",
      "Not setting metadata\n",
      "899 matching events found\n",
      "No baseline correction applied\n",
      "0 projection items activated\n",
      "Using data from preloaded Raw for 899 events and 1280 original time points ...\n",
      "0 bad epochs dropped\n",
      "Extracting EDF parameters from c:\\Users\\Bliss\\seizure_detection_project\\seizure_detection_project\\Dataset\\chb13\\chb13_55.edf...\n",
      "EDF file detected\n",
      "Setting channel info structure...\n",
      "Creating raw.info structure...\n",
      "Reading 0 ... 921599  =      0.000 ...  3599.996 secs...\n"
     ]
    },
    {
     "name": "stderr",
     "output_type": "stream",
     "text": [
      "C:\\Users\\Bliss\\AppData\\Local\\Temp\\ipykernel_14764\\1406536613.py:2: RuntimeWarning: Channel names are not unique, found duplicates for: {'T8-P8', '-'}. Applying running numbers for duplicates.\n",
      "  data = mne.io.read_raw_edf(filename, preload = True)\n",
      "C:\\Users\\Bliss\\AppData\\Local\\Temp\\ipykernel_14764\\1406536613.py:2: RuntimeWarning: Scaling factor is not defined in following channels:\n",
      "--0, --1, --2, --3, --4\n",
      "  data = mne.io.read_raw_edf(filename, preload = True)\n",
      "WARNING:root:Did not find any electrode locations (in the info object), will attempt to use digitization points instead. However, if digitization points do not correspond to the EEG electrodes, this will lead to bad results. Please verify that the sensor locations in the plot are accurate.\n"
     ]
    },
    {
     "name": "stdout",
     "output_type": "stream",
     "text": [
      "EEG channel type selected for re-referencing\n",
      "Applying average reference.\n",
      "Applying a custom ('EEG',) reference.\n",
      "Not setting metadata\n",
      "899 matching events found\n",
      "No baseline correction applied\n",
      "0 projection items activated\n",
      "Using data from preloaded Raw for 899 events and 1280 original time points ...\n",
      "0 bad epochs dropped\n",
      "Extracting EDF parameters from c:\\Users\\Bliss\\seizure_detection_project\\seizure_detection_project\\Dataset\\chb13\\chb13_58.edf...\n",
      "EDF file detected\n",
      "Setting channel info structure...\n",
      "Creating raw.info structure...\n",
      "Reading 0 ... 921599  =      0.000 ...  3599.996 secs...\n"
     ]
    },
    {
     "name": "stderr",
     "output_type": "stream",
     "text": [
      "C:\\Users\\Bliss\\AppData\\Local\\Temp\\ipykernel_14764\\1406536613.py:2: RuntimeWarning: Channel names are not unique, found duplicates for: {'T8-P8', '-'}. Applying running numbers for duplicates.\n",
      "  data = mne.io.read_raw_edf(filename, preload = True)\n",
      "C:\\Users\\Bliss\\AppData\\Local\\Temp\\ipykernel_14764\\1406536613.py:2: RuntimeWarning: Scaling factor is not defined in following channels:\n",
      "--0, --1, --2, --3, --4\n",
      "  data = mne.io.read_raw_edf(filename, preload = True)\n",
      "WARNING:root:Did not find any electrode locations (in the info object), will attempt to use digitization points instead. However, if digitization points do not correspond to the EEG electrodes, this will lead to bad results. Please verify that the sensor locations in the plot are accurate.\n"
     ]
    },
    {
     "name": "stdout",
     "output_type": "stream",
     "text": [
      "EEG channel type selected for re-referencing\n",
      "Applying average reference.\n",
      "Applying a custom ('EEG',) reference.\n",
      "Not setting metadata\n",
      "899 matching events found\n",
      "No baseline correction applied\n",
      "0 projection items activated\n",
      "Using data from preloaded Raw for 899 events and 1280 original time points ...\n",
      "0 bad epochs dropped\n"
     ]
    }
   ],
   "source": [
    "seizure_epochs = []\n",
    "for index in range(len(seizure_names)):\n",
    "    if (index == int((len(seizure_names)/2))):\n",
    "        break\n",
    "    seizure_epochs.append(get_data(seizure_names[index]))"
   ]
  },
  {
   "cell_type": "code",
   "execution_count": 18,
   "metadata": {},
   "outputs": [
    {
     "name": "stdout",
     "output_type": "stream",
     "text": [
      "Extracting EDF parameters from c:\\Users\\Bliss\\seizure_detection_project\\seizure_detection_project\\Dataset\\chb13\\chb13_59.edf...\n",
      "EDF file detected\n",
      "Setting channel info structure...\n",
      "Creating raw.info structure...\n",
      "Reading 0 ... 921599  =      0.000 ...  3599.996 secs...\n"
     ]
    },
    {
     "name": "stderr",
     "output_type": "stream",
     "text": [
      "C:\\Users\\Bliss\\AppData\\Local\\Temp\\ipykernel_2580\\4018219795.py:2: RuntimeWarning: Channel names are not unique, found duplicates for: {'-', 'T8-P8'}. Applying running numbers for duplicates.\n",
      "  data = mne.io.read_raw_edf(filename, preload = True)\n",
      "C:\\Users\\Bliss\\AppData\\Local\\Temp\\ipykernel_2580\\4018219795.py:2: RuntimeWarning: Scaling factor is not defined in following channels:\n",
      "--0, --1, --2, --3, --4\n",
      "  data = mne.io.read_raw_edf(filename, preload = True)\n"
     ]
    },
    {
     "name": "stdout",
     "output_type": "stream",
     "text": [
      "EEG channel type selected for re-referencing\n",
      "Applying average reference.\n",
      "Applying a custom ('EEG',) reference.\n",
      "Not setting metadata\n",
      "899 matching events found\n",
      "No baseline correction applied\n",
      "0 projection items activated\n",
      "Using data from preloaded Raw for 899 events and 1280 original time points ...\n",
      "0 bad epochs dropped\n",
      "Extracting EDF parameters from c:\\Users\\Bliss\\seizure_detection_project\\seizure_detection_project\\Dataset\\chb13\\chb13_60.edf...\n",
      "EDF file detected\n",
      "Setting channel info structure...\n",
      "Creating raw.info structure...\n",
      "Reading 0 ... 921599  =      0.000 ...  3599.996 secs...\n"
     ]
    },
    {
     "name": "stderr",
     "output_type": "stream",
     "text": [
      "C:\\Users\\Bliss\\AppData\\Local\\Temp\\ipykernel_2580\\4018219795.py:2: RuntimeWarning: Channel names are not unique, found duplicates for: {'-', 'T8-P8'}. Applying running numbers for duplicates.\n",
      "  data = mne.io.read_raw_edf(filename, preload = True)\n",
      "C:\\Users\\Bliss\\AppData\\Local\\Temp\\ipykernel_2580\\4018219795.py:2: RuntimeWarning: Scaling factor is not defined in following channels:\n",
      "--0, --1, --2, --3, --4\n",
      "  data = mne.io.read_raw_edf(filename, preload = True)\n"
     ]
    },
    {
     "name": "stdout",
     "output_type": "stream",
     "text": [
      "EEG channel type selected for re-referencing\n",
      "Applying average reference.\n",
      "Applying a custom ('EEG',) reference.\n",
      "Not setting metadata\n",
      "899 matching events found\n",
      "No baseline correction applied\n",
      "0 projection items activated\n",
      "Using data from preloaded Raw for 899 events and 1280 original time points ...\n",
      "0 bad epochs dropped\n",
      "Extracting EDF parameters from c:\\Users\\Bliss\\seizure_detection_project\\seizure_detection_project\\Dataset\\chb13\\chb13_62.edf...\n",
      "EDF file detected\n",
      "Setting channel info structure...\n",
      "Creating raw.info structure...\n",
      "Reading 0 ... 921599  =      0.000 ...  3599.996 secs...\n"
     ]
    },
    {
     "name": "stderr",
     "output_type": "stream",
     "text": [
      "C:\\Users\\Bliss\\AppData\\Local\\Temp\\ipykernel_2580\\4018219795.py:2: RuntimeWarning: Channel names are not unique, found duplicates for: {'-', 'T8-P8'}. Applying running numbers for duplicates.\n",
      "  data = mne.io.read_raw_edf(filename, preload = True)\n",
      "C:\\Users\\Bliss\\AppData\\Local\\Temp\\ipykernel_2580\\4018219795.py:2: RuntimeWarning: Scaling factor is not defined in following channels:\n",
      "--0, --1, --2, --3, --4\n",
      "  data = mne.io.read_raw_edf(filename, preload = True)\n"
     ]
    },
    {
     "name": "stdout",
     "output_type": "stream",
     "text": [
      "EEG channel type selected for re-referencing\n",
      "Applying average reference.\n",
      "Applying a custom ('EEG',) reference.\n",
      "Not setting metadata\n",
      "899 matching events found\n",
      "No baseline correction applied\n",
      "0 projection items activated\n",
      "Using data from preloaded Raw for 899 events and 1280 original time points ...\n",
      "0 bad epochs dropped\n",
      "Extracting EDF parameters from c:\\Users\\Bliss\\seizure_detection_project\\seizure_detection_project\\Dataset\\chb14\\chb14_03.edf...\n",
      "EDF file detected\n",
      "Setting channel info structure...\n",
      "Creating raw.info structure...\n",
      "Reading 0 ... 921599  =      0.000 ...  3599.996 secs...\n"
     ]
    },
    {
     "name": "stderr",
     "output_type": "stream",
     "text": [
      "C:\\Users\\Bliss\\AppData\\Local\\Temp\\ipykernel_2580\\4018219795.py:2: RuntimeWarning: Channel names are not unique, found duplicates for: {'-', 'T8-P8'}. Applying running numbers for duplicates.\n",
      "  data = mne.io.read_raw_edf(filename, preload = True)\n",
      "C:\\Users\\Bliss\\AppData\\Local\\Temp\\ipykernel_2580\\4018219795.py:2: RuntimeWarning: Scaling factor is not defined in following channels:\n",
      "--0, --1, --2, --3, --4\n",
      "  data = mne.io.read_raw_edf(filename, preload = True)\n"
     ]
    },
    {
     "name": "stdout",
     "output_type": "stream",
     "text": [
      "EEG channel type selected for re-referencing\n",
      "Applying average reference.\n",
      "Applying a custom ('EEG',) reference.\n",
      "Not setting metadata\n",
      "899 matching events found\n",
      "No baseline correction applied\n",
      "0 projection items activated\n",
      "Using data from preloaded Raw for 899 events and 1280 original time points ...\n",
      "0 bad epochs dropped\n",
      "Extracting EDF parameters from c:\\Users\\Bliss\\seizure_detection_project\\seizure_detection_project\\Dataset\\chb14\\chb14_04.edf...\n",
      "EDF file detected\n",
      "Setting channel info structure...\n",
      "Creating raw.info structure...\n",
      "Reading 0 ... 921599  =      0.000 ...  3599.996 secs...\n"
     ]
    },
    {
     "name": "stderr",
     "output_type": "stream",
     "text": [
      "C:\\Users\\Bliss\\AppData\\Local\\Temp\\ipykernel_2580\\4018219795.py:2: RuntimeWarning: Channel names are not unique, found duplicates for: {'-', 'T8-P8'}. Applying running numbers for duplicates.\n",
      "  data = mne.io.read_raw_edf(filename, preload = True)\n",
      "C:\\Users\\Bliss\\AppData\\Local\\Temp\\ipykernel_2580\\4018219795.py:2: RuntimeWarning: Scaling factor is not defined in following channels:\n",
      "--0, --1, --2, --3, --4\n",
      "  data = mne.io.read_raw_edf(filename, preload = True)\n"
     ]
    },
    {
     "name": "stdout",
     "output_type": "stream",
     "text": [
      "EEG channel type selected for re-referencing\n",
      "Applying average reference.\n",
      "Applying a custom ('EEG',) reference.\n",
      "Not setting metadata\n",
      "899 matching events found\n",
      "No baseline correction applied\n",
      "0 projection items activated\n",
      "Using data from preloaded Raw for 899 events and 1280 original time points ...\n",
      "0 bad epochs dropped\n",
      "Extracting EDF parameters from c:\\Users\\Bliss\\seizure_detection_project\\seizure_detection_project\\Dataset\\chb14\\chb14_06.edf...\n",
      "EDF file detected\n",
      "Setting channel info structure...\n",
      "Creating raw.info structure...\n",
      "Reading 0 ... 921599  =      0.000 ...  3599.996 secs...\n"
     ]
    },
    {
     "name": "stderr",
     "output_type": "stream",
     "text": [
      "C:\\Users\\Bliss\\AppData\\Local\\Temp\\ipykernel_2580\\4018219795.py:2: RuntimeWarning: Channel names are not unique, found duplicates for: {'-', 'T8-P8'}. Applying running numbers for duplicates.\n",
      "  data = mne.io.read_raw_edf(filename, preload = True)\n",
      "C:\\Users\\Bliss\\AppData\\Local\\Temp\\ipykernel_2580\\4018219795.py:2: RuntimeWarning: Scaling factor is not defined in following channels:\n",
      "--0, --1, --2, --3, --4\n",
      "  data = mne.io.read_raw_edf(filename, preload = True)\n"
     ]
    },
    {
     "name": "stdout",
     "output_type": "stream",
     "text": [
      "EEG channel type selected for re-referencing\n",
      "Applying average reference.\n",
      "Applying a custom ('EEG',) reference.\n",
      "Not setting metadata\n",
      "899 matching events found\n",
      "No baseline correction applied\n",
      "0 projection items activated\n",
      "Using data from preloaded Raw for 899 events and 1280 original time points ...\n",
      "0 bad epochs dropped\n",
      "Extracting EDF parameters from c:\\Users\\Bliss\\seizure_detection_project\\seizure_detection_project\\Dataset\\chb14\\chb14_11.edf...\n",
      "EDF file detected\n",
      "Setting channel info structure...\n",
      "Creating raw.info structure...\n",
      "Reading 0 ... 921599  =      0.000 ...  3599.996 secs...\n"
     ]
    },
    {
     "name": "stderr",
     "output_type": "stream",
     "text": [
      "C:\\Users\\Bliss\\AppData\\Local\\Temp\\ipykernel_2580\\4018219795.py:2: RuntimeWarning: Channel names are not unique, found duplicates for: {'-', 'T8-P8'}. Applying running numbers for duplicates.\n",
      "  data = mne.io.read_raw_edf(filename, preload = True)\n",
      "C:\\Users\\Bliss\\AppData\\Local\\Temp\\ipykernel_2580\\4018219795.py:2: RuntimeWarning: Scaling factor is not defined in following channels:\n",
      "--0, --1, --2, --3, --4\n",
      "  data = mne.io.read_raw_edf(filename, preload = True)\n"
     ]
    },
    {
     "name": "stdout",
     "output_type": "stream",
     "text": [
      "EEG channel type selected for re-referencing\n",
      "Applying average reference.\n",
      "Applying a custom ('EEG',) reference.\n",
      "Not setting metadata\n",
      "899 matching events found\n",
      "No baseline correction applied\n",
      "0 projection items activated\n",
      "Using data from preloaded Raw for 899 events and 1280 original time points ...\n",
      "0 bad epochs dropped\n",
      "Extracting EDF parameters from c:\\Users\\Bliss\\seizure_detection_project\\seizure_detection_project\\Dataset\\chb14\\chb14_17.edf...\n",
      "EDF file detected\n",
      "Setting channel info structure...\n",
      "Creating raw.info structure...\n",
      "Reading 0 ... 921599  =      0.000 ...  3599.996 secs...\n"
     ]
    },
    {
     "name": "stderr",
     "output_type": "stream",
     "text": [
      "C:\\Users\\Bliss\\AppData\\Local\\Temp\\ipykernel_2580\\4018219795.py:2: RuntimeWarning: Channel names are not unique, found duplicates for: {'-', 'T8-P8'}. Applying running numbers for duplicates.\n",
      "  data = mne.io.read_raw_edf(filename, preload = True)\n",
      "C:\\Users\\Bliss\\AppData\\Local\\Temp\\ipykernel_2580\\4018219795.py:2: RuntimeWarning: Scaling factor is not defined in following channels:\n",
      "--0, --1, --2, --3, --4\n",
      "  data = mne.io.read_raw_edf(filename, preload = True)\n"
     ]
    },
    {
     "name": "stdout",
     "output_type": "stream",
     "text": [
      "EEG channel type selected for re-referencing\n",
      "Applying average reference.\n",
      "Applying a custom ('EEG',) reference.\n",
      "Not setting metadata\n",
      "899 matching events found\n",
      "No baseline correction applied\n",
      "0 projection items activated\n",
      "Using data from preloaded Raw for 899 events and 1280 original time points ...\n",
      "0 bad epochs dropped\n",
      "Extracting EDF parameters from c:\\Users\\Bliss\\seizure_detection_project\\seizure_detection_project\\Dataset\\chb14\\chb14_18.edf...\n",
      "EDF file detected\n",
      "Setting channel info structure...\n",
      "Creating raw.info structure...\n",
      "Reading 0 ... 921599  =      0.000 ...  3599.996 secs...\n"
     ]
    },
    {
     "name": "stderr",
     "output_type": "stream",
     "text": [
      "C:\\Users\\Bliss\\AppData\\Local\\Temp\\ipykernel_2580\\4018219795.py:2: RuntimeWarning: Channel names are not unique, found duplicates for: {'-', 'T8-P8'}. Applying running numbers for duplicates.\n",
      "  data = mne.io.read_raw_edf(filename, preload = True)\n",
      "C:\\Users\\Bliss\\AppData\\Local\\Temp\\ipykernel_2580\\4018219795.py:2: RuntimeWarning: Scaling factor is not defined in following channels:\n",
      "--0, --1, --2, --3, --4\n",
      "  data = mne.io.read_raw_edf(filename, preload = True)\n"
     ]
    },
    {
     "name": "stdout",
     "output_type": "stream",
     "text": [
      "EEG channel type selected for re-referencing\n",
      "Applying average reference.\n",
      "Applying a custom ('EEG',) reference.\n",
      "Not setting metadata\n",
      "899 matching events found\n",
      "No baseline correction applied\n",
      "0 projection items activated\n",
      "Using data from preloaded Raw for 899 events and 1280 original time points ...\n",
      "0 bad epochs dropped\n",
      "Extracting EDF parameters from c:\\Users\\Bliss\\seizure_detection_project\\seizure_detection_project\\Dataset\\chb14\\chb14_27.edf...\n",
      "EDF file detected\n",
      "Setting channel info structure...\n",
      "Creating raw.info structure...\n",
      "Reading 0 ... 921599  =      0.000 ...  3599.996 secs...\n"
     ]
    },
    {
     "name": "stderr",
     "output_type": "stream",
     "text": [
      "C:\\Users\\Bliss\\AppData\\Local\\Temp\\ipykernel_2580\\4018219795.py:2: RuntimeWarning: Channel names are not unique, found duplicates for: {'-', 'T8-P8'}. Applying running numbers for duplicates.\n",
      "  data = mne.io.read_raw_edf(filename, preload = True)\n",
      "C:\\Users\\Bliss\\AppData\\Local\\Temp\\ipykernel_2580\\4018219795.py:2: RuntimeWarning: Scaling factor is not defined in following channels:\n",
      "--0, --1, --2, --3, --4\n",
      "  data = mne.io.read_raw_edf(filename, preload = True)\n"
     ]
    },
    {
     "name": "stdout",
     "output_type": "stream",
     "text": [
      "EEG channel type selected for re-referencing\n",
      "Applying average reference.\n",
      "Applying a custom ('EEG',) reference.\n",
      "Not setting metadata\n",
      "899 matching events found\n",
      "No baseline correction applied\n",
      "0 projection items activated\n",
      "Using data from preloaded Raw for 899 events and 1280 original time points ...\n",
      "0 bad epochs dropped\n",
      "Extracting EDF parameters from c:\\Users\\Bliss\\seizure_detection_project\\seizure_detection_project\\Dataset\\chb15\\chb15_06.edf...\n",
      "EDF file detected\n",
      "Setting channel info structure...\n",
      "Creating raw.info structure...\n",
      "Reading 0 ... 921599  =      0.000 ...  3599.996 secs...\n"
     ]
    },
    {
     "name": "stderr",
     "output_type": "stream",
     "text": [
      "C:\\Users\\Bliss\\AppData\\Local\\Temp\\ipykernel_2580\\4018219795.py:2: RuntimeWarning: Channel names are not unique, found duplicates for: {'-', 'T8-P8'}. Applying running numbers for duplicates.\n",
      "  data = mne.io.read_raw_edf(filename, preload = True)\n",
      "C:\\Users\\Bliss\\AppData\\Local\\Temp\\ipykernel_2580\\4018219795.py:2: RuntimeWarning: Scaling factor is not defined in following channels:\n",
      "--0, --1, --2, --3, --4, --5\n",
      "  data = mne.io.read_raw_edf(filename, preload = True)\n"
     ]
    },
    {
     "name": "stdout",
     "output_type": "stream",
     "text": [
      "EEG channel type selected for re-referencing\n",
      "Applying average reference.\n",
      "Applying a custom ('EEG',) reference.\n",
      "Not setting metadata\n",
      "899 matching events found\n",
      "No baseline correction applied\n",
      "0 projection items activated\n",
      "Using data from preloaded Raw for 899 events and 1280 original time points ...\n",
      "0 bad epochs dropped\n",
      "Extracting EDF parameters from c:\\Users\\Bliss\\seizure_detection_project\\seizure_detection_project\\Dataset\\chb15\\chb15_10.edf...\n",
      "EDF file detected\n",
      "Setting channel info structure...\n",
      "Creating raw.info structure...\n",
      "Reading 0 ... 921599  =      0.000 ...  3599.996 secs...\n"
     ]
    },
    {
     "name": "stderr",
     "output_type": "stream",
     "text": [
      "C:\\Users\\Bliss\\AppData\\Local\\Temp\\ipykernel_2580\\4018219795.py:2: RuntimeWarning: Channel names are not unique, found duplicates for: {'-', 'T8-P8'}. Applying running numbers for duplicates.\n",
      "  data = mne.io.read_raw_edf(filename, preload = True)\n",
      "C:\\Users\\Bliss\\AppData\\Local\\Temp\\ipykernel_2580\\4018219795.py:2: RuntimeWarning: Scaling factor is not defined in following channels:\n",
      "--0, --1, --2, --3, --4, --5\n",
      "  data = mne.io.read_raw_edf(filename, preload = True)\n"
     ]
    },
    {
     "name": "stdout",
     "output_type": "stream",
     "text": [
      "EEG channel type selected for re-referencing\n",
      "Applying average reference.\n",
      "Applying a custom ('EEG',) reference.\n",
      "Not setting metadata\n",
      "899 matching events found\n",
      "No baseline correction applied\n",
      "0 projection items activated\n",
      "Using data from preloaded Raw for 899 events and 1280 original time points ...\n",
      "0 bad epochs dropped\n",
      "Extracting EDF parameters from c:\\Users\\Bliss\\seizure_detection_project\\seizure_detection_project\\Dataset\\chb15\\chb15_15.edf...\n",
      "EDF file detected\n",
      "Setting channel info structure...\n",
      "Creating raw.info structure...\n",
      "Reading 0 ... 921599  =      0.000 ...  3599.996 secs...\n"
     ]
    },
    {
     "name": "stderr",
     "output_type": "stream",
     "text": [
      "C:\\Users\\Bliss\\AppData\\Local\\Temp\\ipykernel_2580\\4018219795.py:2: RuntimeWarning: Channel names are not unique, found duplicates for: {'-', 'T8-P8'}. Applying running numbers for duplicates.\n",
      "  data = mne.io.read_raw_edf(filename, preload = True)\n",
      "C:\\Users\\Bliss\\AppData\\Local\\Temp\\ipykernel_2580\\4018219795.py:2: RuntimeWarning: Scaling factor is not defined in following channels:\n",
      "--0, --1, --2, --3, --4, --5\n",
      "  data = mne.io.read_raw_edf(filename, preload = True)\n"
     ]
    },
    {
     "name": "stdout",
     "output_type": "stream",
     "text": [
      "EEG channel type selected for re-referencing\n",
      "Applying average reference.\n",
      "Applying a custom ('EEG',) reference.\n",
      "Not setting metadata\n",
      "899 matching events found\n",
      "No baseline correction applied\n",
      "0 projection items activated\n",
      "Using data from preloaded Raw for 899 events and 1280 original time points ...\n",
      "0 bad epochs dropped\n",
      "Extracting EDF parameters from c:\\Users\\Bliss\\seizure_detection_project\\seizure_detection_project\\Dataset\\chb15\\chb15_17.edf...\n",
      "EDF file detected\n",
      "Setting channel info structure...\n",
      "Creating raw.info structure...\n",
      "Reading 0 ... 921599  =      0.000 ...  3599.996 secs...\n"
     ]
    },
    {
     "name": "stderr",
     "output_type": "stream",
     "text": [
      "C:\\Users\\Bliss\\AppData\\Local\\Temp\\ipykernel_2580\\4018219795.py:2: RuntimeWarning: Channel names are not unique, found duplicates for: {'-', 'T8-P8'}. Applying running numbers for duplicates.\n",
      "  data = mne.io.read_raw_edf(filename, preload = True)\n",
      "C:\\Users\\Bliss\\AppData\\Local\\Temp\\ipykernel_2580\\4018219795.py:2: RuntimeWarning: Scaling factor is not defined in following channels:\n",
      "--0, --1, --2, --3, --4, --5\n",
      "  data = mne.io.read_raw_edf(filename, preload = True)\n"
     ]
    },
    {
     "name": "stdout",
     "output_type": "stream",
     "text": [
      "EEG channel type selected for re-referencing\n",
      "Applying average reference.\n",
      "Applying a custom ('EEG',) reference.\n",
      "Not setting metadata\n",
      "899 matching events found\n",
      "No baseline correction applied\n",
      "0 projection items activated\n",
      "Using data from preloaded Raw for 899 events and 1280 original time points ...\n",
      "0 bad epochs dropped\n",
      "Extracting EDF parameters from c:\\Users\\Bliss\\seizure_detection_project\\seizure_detection_project\\Dataset\\chb15\\chb15_20.edf...\n",
      "EDF file detected\n",
      "Setting channel info structure...\n",
      "Creating raw.info structure...\n",
      "Reading 0 ... 921599  =      0.000 ...  3599.996 secs...\n"
     ]
    },
    {
     "name": "stderr",
     "output_type": "stream",
     "text": [
      "C:\\Users\\Bliss\\AppData\\Local\\Temp\\ipykernel_2580\\4018219795.py:2: RuntimeWarning: Channel names are not unique, found duplicates for: {'-', 'T8-P8'}. Applying running numbers for duplicates.\n",
      "  data = mne.io.read_raw_edf(filename, preload = True)\n",
      "C:\\Users\\Bliss\\AppData\\Local\\Temp\\ipykernel_2580\\4018219795.py:2: RuntimeWarning: Scaling factor is not defined in following channels:\n",
      "--0, --1, --2, --3, --4, --5\n",
      "  data = mne.io.read_raw_edf(filename, preload = True)\n"
     ]
    },
    {
     "name": "stdout",
     "output_type": "stream",
     "text": [
      "EEG channel type selected for re-referencing\n",
      "Applying average reference.\n",
      "Applying a custom ('EEG',) reference.\n",
      "Not setting metadata\n",
      "899 matching events found\n",
      "No baseline correction applied\n",
      "0 projection items activated\n",
      "Using data from preloaded Raw for 899 events and 1280 original time points ...\n",
      "0 bad epochs dropped\n",
      "Extracting EDF parameters from c:\\Users\\Bliss\\seizure_detection_project\\seizure_detection_project\\Dataset\\chb15\\chb15_22.edf...\n",
      "EDF file detected\n",
      "Setting channel info structure...\n",
      "Creating raw.info structure...\n",
      "Reading 0 ... 921599  =      0.000 ...  3599.996 secs...\n"
     ]
    },
    {
     "name": "stderr",
     "output_type": "stream",
     "text": [
      "C:\\Users\\Bliss\\AppData\\Local\\Temp\\ipykernel_2580\\4018219795.py:2: RuntimeWarning: Channel names are not unique, found duplicates for: {'-', 'T8-P8'}. Applying running numbers for duplicates.\n",
      "  data = mne.io.read_raw_edf(filename, preload = True)\n",
      "C:\\Users\\Bliss\\AppData\\Local\\Temp\\ipykernel_2580\\4018219795.py:2: RuntimeWarning: Scaling factor is not defined in following channels:\n",
      "--0, --1, --2, --3, --4, --5\n",
      "  data = mne.io.read_raw_edf(filename, preload = True)\n"
     ]
    },
    {
     "name": "stdout",
     "output_type": "stream",
     "text": [
      "EEG channel type selected for re-referencing\n",
      "Applying average reference.\n",
      "Applying a custom ('EEG',) reference.\n",
      "Not setting metadata\n",
      "899 matching events found\n",
      "No baseline correction applied\n",
      "0 projection items activated\n",
      "Using data from preloaded Raw for 899 events and 1280 original time points ...\n",
      "0 bad epochs dropped\n",
      "Extracting EDF parameters from c:\\Users\\Bliss\\seizure_detection_project\\seizure_detection_project\\Dataset\\chb15\\chb15_28.edf...\n",
      "EDF file detected\n",
      "Setting channel info structure...\n",
      "Creating raw.info structure...\n",
      "Reading 0 ... 921599  =      0.000 ...  3599.996 secs...\n"
     ]
    },
    {
     "name": "stderr",
     "output_type": "stream",
     "text": [
      "C:\\Users\\Bliss\\AppData\\Local\\Temp\\ipykernel_2580\\4018219795.py:2: RuntimeWarning: Channel names are not unique, found duplicates for: {'-', 'T8-P8'}. Applying running numbers for duplicates.\n",
      "  data = mne.io.read_raw_edf(filename, preload = True)\n",
      "C:\\Users\\Bliss\\AppData\\Local\\Temp\\ipykernel_2580\\4018219795.py:2: RuntimeWarning: Scaling factor is not defined in following channels:\n",
      "--0, --1, --2, --3, --4, --5\n",
      "  data = mne.io.read_raw_edf(filename, preload = True)\n"
     ]
    },
    {
     "name": "stdout",
     "output_type": "stream",
     "text": [
      "EEG channel type selected for re-referencing\n",
      "Applying average reference.\n",
      "Applying a custom ('EEG',) reference.\n",
      "Not setting metadata\n",
      "899 matching events found\n",
      "No baseline correction applied\n",
      "0 projection items activated\n",
      "Using data from preloaded Raw for 899 events and 1280 original time points ...\n",
      "0 bad epochs dropped\n",
      "Extracting EDF parameters from c:\\Users\\Bliss\\seizure_detection_project\\seizure_detection_project\\Dataset\\chb15\\chb15_31.edf...\n",
      "EDF file detected\n",
      "Setting channel info structure...\n",
      "Creating raw.info structure...\n",
      "Reading 0 ... 921599  =      0.000 ...  3599.996 secs...\n"
     ]
    },
    {
     "name": "stderr",
     "output_type": "stream",
     "text": [
      "C:\\Users\\Bliss\\AppData\\Local\\Temp\\ipykernel_2580\\4018219795.py:2: RuntimeWarning: Channel names are not unique, found duplicates for: {'-', 'T8-P8'}. Applying running numbers for duplicates.\n",
      "  data = mne.io.read_raw_edf(filename, preload = True)\n",
      "C:\\Users\\Bliss\\AppData\\Local\\Temp\\ipykernel_2580\\4018219795.py:2: RuntimeWarning: Scaling factor is not defined in following channels:\n",
      "--0, --1, --2, --3, --4, --5\n",
      "  data = mne.io.read_raw_edf(filename, preload = True)\n"
     ]
    },
    {
     "name": "stdout",
     "output_type": "stream",
     "text": [
      "EEG channel type selected for re-referencing\n",
      "Applying average reference.\n",
      "Applying a custom ('EEG',) reference.\n",
      "Not setting metadata\n",
      "899 matching events found\n",
      "No baseline correction applied\n",
      "0 projection items activated\n",
      "Using data from preloaded Raw for 899 events and 1280 original time points ...\n",
      "0 bad epochs dropped\n",
      "Extracting EDF parameters from c:\\Users\\Bliss\\seizure_detection_project\\seizure_detection_project\\Dataset\\chb15\\chb15_40.edf...\n",
      "EDF file detected\n",
      "Setting channel info structure...\n",
      "Creating raw.info structure...\n",
      "Reading 0 ... 921599  =      0.000 ...  3599.996 secs...\n"
     ]
    },
    {
     "name": "stderr",
     "output_type": "stream",
     "text": [
      "C:\\Users\\Bliss\\AppData\\Local\\Temp\\ipykernel_2580\\4018219795.py:2: RuntimeWarning: Channel names are not unique, found duplicates for: {'-', 'T8-P8'}. Applying running numbers for duplicates.\n",
      "  data = mne.io.read_raw_edf(filename, preload = True)\n",
      "C:\\Users\\Bliss\\AppData\\Local\\Temp\\ipykernel_2580\\4018219795.py:2: RuntimeWarning: Scaling factor is not defined in following channels:\n",
      "--0, --1, --2, --3, --4, --5\n",
      "  data = mne.io.read_raw_edf(filename, preload = True)\n"
     ]
    },
    {
     "name": "stdout",
     "output_type": "stream",
     "text": [
      "EEG channel type selected for re-referencing\n",
      "Applying average reference.\n",
      "Applying a custom ('EEG',) reference.\n",
      "Not setting metadata\n",
      "899 matching events found\n",
      "No baseline correction applied\n",
      "0 projection items activated\n",
      "Using data from preloaded Raw for 899 events and 1280 original time points ...\n",
      "0 bad epochs dropped\n",
      "Extracting EDF parameters from c:\\Users\\Bliss\\seizure_detection_project\\seizure_detection_project\\Dataset\\chb15\\chb15_46.edf...\n",
      "EDF file detected\n",
      "Setting channel info structure...\n",
      "Creating raw.info structure...\n",
      "Reading 0 ... 921599  =      0.000 ...  3599.996 secs...\n"
     ]
    },
    {
     "name": "stderr",
     "output_type": "stream",
     "text": [
      "C:\\Users\\Bliss\\AppData\\Local\\Temp\\ipykernel_2580\\4018219795.py:2: RuntimeWarning: Channel names are not unique, found duplicates for: {'-', 'T8-P8'}. Applying running numbers for duplicates.\n",
      "  data = mne.io.read_raw_edf(filename, preload = True)\n",
      "C:\\Users\\Bliss\\AppData\\Local\\Temp\\ipykernel_2580\\4018219795.py:2: RuntimeWarning: Scaling factor is not defined in following channels:\n",
      "--0, --1, --2, --3, --4, --5\n",
      "  data = mne.io.read_raw_edf(filename, preload = True)\n"
     ]
    },
    {
     "name": "stdout",
     "output_type": "stream",
     "text": [
      "EEG channel type selected for re-referencing\n",
      "Applying average reference.\n",
      "Applying a custom ('EEG',) reference.\n",
      "Not setting metadata\n",
      "899 matching events found\n",
      "No baseline correction applied\n",
      "0 projection items activated\n",
      "Using data from preloaded Raw for 899 events and 1280 original time points ...\n",
      "0 bad epochs dropped\n",
      "Extracting EDF parameters from c:\\Users\\Bliss\\seizure_detection_project\\seizure_detection_project\\Dataset\\chb15\\chb15_49.edf...\n",
      "EDF file detected\n",
      "Setting channel info structure...\n",
      "Creating raw.info structure...\n",
      "Reading 0 ... 927999  =      0.000 ...  3624.996 secs...\n"
     ]
    },
    {
     "name": "stderr",
     "output_type": "stream",
     "text": [
      "C:\\Users\\Bliss\\AppData\\Local\\Temp\\ipykernel_2580\\4018219795.py:2: RuntimeWarning: Channel names are not unique, found duplicates for: {'-', 'T8-P8'}. Applying running numbers for duplicates.\n",
      "  data = mne.io.read_raw_edf(filename, preload = True)\n",
      "C:\\Users\\Bliss\\AppData\\Local\\Temp\\ipykernel_2580\\4018219795.py:2: RuntimeWarning: Scaling factor is not defined in following channels:\n",
      "--0, --1, --2, --3, --4, --5\n",
      "  data = mne.io.read_raw_edf(filename, preload = True)\n"
     ]
    },
    {
     "name": "stdout",
     "output_type": "stream",
     "text": [
      "EEG channel type selected for re-referencing\n",
      "Applying average reference.\n",
      "Applying a custom ('EEG',) reference.\n",
      "Not setting metadata\n",
      "906 matching events found\n",
      "No baseline correction applied\n",
      "0 projection items activated\n",
      "Using data from preloaded Raw for 906 events and 1280 original time points ...\n",
      "0 bad epochs dropped\n",
      "Extracting EDF parameters from c:\\Users\\Bliss\\seizure_detection_project\\seizure_detection_project\\Dataset\\chb15\\chb15_52.edf...\n",
      "EDF file detected\n",
      "Setting channel info structure...\n",
      "Creating raw.info structure...\n",
      "Reading 0 ... 923903  =      0.000 ...  3608.996 secs...\n"
     ]
    },
    {
     "name": "stderr",
     "output_type": "stream",
     "text": [
      "C:\\Users\\Bliss\\AppData\\Local\\Temp\\ipykernel_2580\\4018219795.py:2: RuntimeWarning: Channel names are not unique, found duplicates for: {'-', 'T8-P8'}. Applying running numbers for duplicates.\n",
      "  data = mne.io.read_raw_edf(filename, preload = True)\n",
      "C:\\Users\\Bliss\\AppData\\Local\\Temp\\ipykernel_2580\\4018219795.py:2: RuntimeWarning: Scaling factor is not defined in following channels:\n",
      "--0, --1, --2, --3, --4, --5\n",
      "  data = mne.io.read_raw_edf(filename, preload = True)\n"
     ]
    },
    {
     "name": "stdout",
     "output_type": "stream",
     "text": [
      "EEG channel type selected for re-referencing\n",
      "Applying average reference.\n",
      "Applying a custom ('EEG',) reference.\n",
      "Not setting metadata\n",
      "902 matching events found\n",
      "No baseline correction applied\n",
      "0 projection items activated\n",
      "Using data from preloaded Raw for 902 events and 1280 original time points ...\n",
      "0 bad epochs dropped\n",
      "Extracting EDF parameters from c:\\Users\\Bliss\\seizure_detection_project\\seizure_detection_project\\Dataset\\chb15\\chb15_54.edf...\n",
      "EDF file detected\n",
      "Setting channel info structure...\n",
      "Creating raw.info structure...\n",
      "Reading 0 ... 921599  =      0.000 ...  3599.996 secs...\n"
     ]
    },
    {
     "name": "stderr",
     "output_type": "stream",
     "text": [
      "C:\\Users\\Bliss\\AppData\\Local\\Temp\\ipykernel_2580\\4018219795.py:2: RuntimeWarning: Channel names are not unique, found duplicates for: {'-', 'T8-P8'}. Applying running numbers for duplicates.\n",
      "  data = mne.io.read_raw_edf(filename, preload = True)\n",
      "C:\\Users\\Bliss\\AppData\\Local\\Temp\\ipykernel_2580\\4018219795.py:2: RuntimeWarning: Scaling factor is not defined in following channels:\n",
      "--0, --1, --2, --3, --4, --5\n",
      "  data = mne.io.read_raw_edf(filename, preload = True)\n"
     ]
    },
    {
     "name": "stdout",
     "output_type": "stream",
     "text": [
      "EEG channel type selected for re-referencing\n",
      "Applying average reference.\n",
      "Applying a custom ('EEG',) reference.\n",
      "Not setting metadata\n",
      "899 matching events found\n",
      "No baseline correction applied\n",
      "0 projection items activated\n",
      "Using data from preloaded Raw for 899 events and 1280 original time points ...\n",
      "0 bad epochs dropped\n",
      "Extracting EDF parameters from c:\\Users\\Bliss\\seizure_detection_project\\seizure_detection_project\\Dataset\\chb15\\chb15_62.edf...\n",
      "EDF file detected\n",
      "Setting channel info structure...\n",
      "Creating raw.info structure...\n",
      "Reading 0 ... 921599  =      0.000 ...  3599.996 secs...\n"
     ]
    },
    {
     "name": "stderr",
     "output_type": "stream",
     "text": [
      "C:\\Users\\Bliss\\AppData\\Local\\Temp\\ipykernel_2580\\4018219795.py:2: RuntimeWarning: Channel names are not unique, found duplicates for: {'-', 'T8-P8'}. Applying running numbers for duplicates.\n",
      "  data = mne.io.read_raw_edf(filename, preload = True)\n",
      "C:\\Users\\Bliss\\AppData\\Local\\Temp\\ipykernel_2580\\4018219795.py:2: RuntimeWarning: Scaling factor is not defined in following channels:\n",
      "--0, --1, --2, --3, --4, --5\n",
      "  data = mne.io.read_raw_edf(filename, preload = True)\n"
     ]
    },
    {
     "name": "stdout",
     "output_type": "stream",
     "text": [
      "EEG channel type selected for re-referencing\n",
      "Applying average reference.\n",
      "Applying a custom ('EEG',) reference.\n",
      "Not setting metadata\n",
      "899 matching events found\n",
      "No baseline correction applied\n",
      "0 projection items activated\n",
      "Using data from preloaded Raw for 899 events and 1280 original time points ...\n",
      "0 bad epochs dropped\n",
      "Extracting EDF parameters from c:\\Users\\Bliss\\seizure_detection_project\\seizure_detection_project\\Dataset\\chb16\\chb16_10.edf...\n",
      "EDF file detected\n",
      "Setting channel info structure...\n",
      "Creating raw.info structure...\n",
      "Reading 0 ... 921599  =      0.000 ...  3599.996 secs...\n"
     ]
    },
    {
     "name": "stderr",
     "output_type": "stream",
     "text": [
      "C:\\Users\\Bliss\\AppData\\Local\\Temp\\ipykernel_2580\\4018219795.py:2: RuntimeWarning: Channel names are not unique, found duplicates for: {'-', 'T8-P8'}. Applying running numbers for duplicates.\n",
      "  data = mne.io.read_raw_edf(filename, preload = True)\n",
      "C:\\Users\\Bliss\\AppData\\Local\\Temp\\ipykernel_2580\\4018219795.py:2: RuntimeWarning: Scaling factor is not defined in following channels:\n",
      "--0, --1, --2, --3, --4\n",
      "  data = mne.io.read_raw_edf(filename, preload = True)\n"
     ]
    },
    {
     "name": "stdout",
     "output_type": "stream",
     "text": [
      "EEG channel type selected for re-referencing\n",
      "Applying average reference.\n",
      "Applying a custom ('EEG',) reference.\n",
      "Not setting metadata\n",
      "899 matching events found\n",
      "No baseline correction applied\n",
      "0 projection items activated\n",
      "Using data from preloaded Raw for 899 events and 1280 original time points ...\n",
      "0 bad epochs dropped\n",
      "Extracting EDF parameters from c:\\Users\\Bliss\\seizure_detection_project\\seizure_detection_project\\Dataset\\chb16\\chb16_11.edf...\n",
      "EDF file detected\n",
      "Setting channel info structure...\n",
      "Creating raw.info structure...\n",
      "Reading 0 ... 921599  =      0.000 ...  3599.996 secs...\n"
     ]
    },
    {
     "name": "stderr",
     "output_type": "stream",
     "text": [
      "C:\\Users\\Bliss\\AppData\\Local\\Temp\\ipykernel_2580\\4018219795.py:2: RuntimeWarning: Channel names are not unique, found duplicates for: {'-', 'T8-P8'}. Applying running numbers for duplicates.\n",
      "  data = mne.io.read_raw_edf(filename, preload = True)\n",
      "C:\\Users\\Bliss\\AppData\\Local\\Temp\\ipykernel_2580\\4018219795.py:2: RuntimeWarning: Scaling factor is not defined in following channels:\n",
      "--0, --1, --2, --3, --4\n",
      "  data = mne.io.read_raw_edf(filename, preload = True)\n"
     ]
    },
    {
     "name": "stdout",
     "output_type": "stream",
     "text": [
      "EEG channel type selected for re-referencing\n",
      "Applying average reference.\n",
      "Applying a custom ('EEG',) reference.\n",
      "Not setting metadata\n",
      "899 matching events found\n",
      "No baseline correction applied\n",
      "0 projection items activated\n",
      "Using data from preloaded Raw for 899 events and 1280 original time points ...\n",
      "0 bad epochs dropped\n",
      "Extracting EDF parameters from c:\\Users\\Bliss\\seizure_detection_project\\seizure_detection_project\\Dataset\\chb16\\chb16_14.edf...\n",
      "EDF file detected\n",
      "Setting channel info structure...\n",
      "Creating raw.info structure...\n",
      "Reading 0 ... 921599  =      0.000 ...  3599.996 secs...\n"
     ]
    },
    {
     "name": "stderr",
     "output_type": "stream",
     "text": [
      "C:\\Users\\Bliss\\AppData\\Local\\Temp\\ipykernel_2580\\4018219795.py:2: RuntimeWarning: Channel names are not unique, found duplicates for: {'-', 'T8-P8'}. Applying running numbers for duplicates.\n",
      "  data = mne.io.read_raw_edf(filename, preload = True)\n",
      "C:\\Users\\Bliss\\AppData\\Local\\Temp\\ipykernel_2580\\4018219795.py:2: RuntimeWarning: Scaling factor is not defined in following channels:\n",
      "--0, --1, --2, --3, --4\n",
      "  data = mne.io.read_raw_edf(filename, preload = True)\n"
     ]
    },
    {
     "name": "stdout",
     "output_type": "stream",
     "text": [
      "EEG channel type selected for re-referencing\n",
      "Applying average reference.\n",
      "Applying a custom ('EEG',) reference.\n",
      "Not setting metadata\n",
      "899 matching events found\n",
      "No baseline correction applied\n",
      "0 projection items activated\n",
      "Using data from preloaded Raw for 899 events and 1280 original time points ...\n",
      "0 bad epochs dropped\n",
      "Extracting EDF parameters from c:\\Users\\Bliss\\seizure_detection_project\\seizure_detection_project\\Dataset\\chb16\\chb16_16.edf...\n",
      "EDF file detected\n",
      "Setting channel info structure...\n",
      "Creating raw.info structure...\n",
      "Reading 0 ... 921599  =      0.000 ...  3599.996 secs...\n"
     ]
    },
    {
     "name": "stderr",
     "output_type": "stream",
     "text": [
      "C:\\Users\\Bliss\\AppData\\Local\\Temp\\ipykernel_2580\\4018219795.py:2: RuntimeWarning: Channel names are not unique, found duplicates for: {'-', 'T8-P8'}. Applying running numbers for duplicates.\n",
      "  data = mne.io.read_raw_edf(filename, preload = True)\n",
      "C:\\Users\\Bliss\\AppData\\Local\\Temp\\ipykernel_2580\\4018219795.py:2: RuntimeWarning: Scaling factor is not defined in following channels:\n",
      "--0, --1, --2, --3, --4\n",
      "  data = mne.io.read_raw_edf(filename, preload = True)\n"
     ]
    },
    {
     "name": "stdout",
     "output_type": "stream",
     "text": [
      "EEG channel type selected for re-referencing\n",
      "Applying average reference.\n",
      "Applying a custom ('EEG',) reference.\n",
      "Not setting metadata\n",
      "899 matching events found\n",
      "No baseline correction applied\n",
      "0 projection items activated\n",
      "Using data from preloaded Raw for 899 events and 1280 original time points ...\n",
      "0 bad epochs dropped\n",
      "Extracting EDF parameters from c:\\Users\\Bliss\\seizure_detection_project\\seizure_detection_project\\Dataset\\chb16\\chb16_17.edf...\n",
      "EDF file detected\n",
      "Setting channel info structure...\n",
      "Creating raw.info structure...\n",
      "Reading 0 ... 921599  =      0.000 ...  3599.996 secs...\n"
     ]
    },
    {
     "name": "stderr",
     "output_type": "stream",
     "text": [
      "C:\\Users\\Bliss\\AppData\\Local\\Temp\\ipykernel_2580\\4018219795.py:2: RuntimeWarning: Channel names are not unique, found duplicates for: {'-', 'T8-P8'}. Applying running numbers for duplicates.\n",
      "  data = mne.io.read_raw_edf(filename, preload = True)\n",
      "C:\\Users\\Bliss\\AppData\\Local\\Temp\\ipykernel_2580\\4018219795.py:2: RuntimeWarning: Scaling factor is not defined in following channels:\n",
      "--0, --1, --2, --3, --4\n",
      "  data = mne.io.read_raw_edf(filename, preload = True)\n"
     ]
    },
    {
     "name": "stdout",
     "output_type": "stream",
     "text": [
      "EEG channel type selected for re-referencing\n",
      "Applying average reference.\n",
      "Applying a custom ('EEG',) reference.\n",
      "Not setting metadata\n",
      "899 matching events found\n",
      "No baseline correction applied\n",
      "0 projection items activated\n",
      "Using data from preloaded Raw for 899 events and 1280 original time points ...\n",
      "0 bad epochs dropped\n",
      "Extracting EDF parameters from c:\\Users\\Bliss\\seizure_detection_project\\seizure_detection_project\\Dataset\\chb16\\chb16_18.edf...\n",
      "EDF file detected\n",
      "Setting channel info structure...\n",
      "Creating raw.info structure...\n",
      "Reading 0 ... 921599  =      0.000 ...  3599.996 secs...\n"
     ]
    },
    {
     "name": "stderr",
     "output_type": "stream",
     "text": [
      "C:\\Users\\Bliss\\AppData\\Local\\Temp\\ipykernel_2580\\4018219795.py:2: RuntimeWarning: Channel names are not unique, found duplicates for: {'-'}. Applying running numbers for duplicates.\n",
      "  data = mne.io.read_raw_edf(filename, preload = True)\n",
      "C:\\Users\\Bliss\\AppData\\Local\\Temp\\ipykernel_2580\\4018219795.py:2: RuntimeWarning: Scaling factor is not defined in following channels:\n",
      "--0, --1, --2, --3\n",
      "  data = mne.io.read_raw_edf(filename, preload = True)\n"
     ]
    },
    {
     "name": "stdout",
     "output_type": "stream",
     "text": [
      "EEG channel type selected for re-referencing\n",
      "Applying average reference.\n",
      "Applying a custom ('EEG',) reference.\n",
      "Not setting metadata\n",
      "899 matching events found\n",
      "No baseline correction applied\n",
      "0 projection items activated\n",
      "Using data from preloaded Raw for 899 events and 1280 original time points ...\n",
      "0 bad epochs dropped\n",
      "Extracting EDF parameters from c:\\Users\\Bliss\\seizure_detection_project\\seizure_detection_project\\Dataset\\chb17\\chb17a_03.edf...\n",
      "EDF file detected\n",
      "Setting channel info structure...\n",
      "Creating raw.info structure...\n",
      "Reading 0 ... 921599  =      0.000 ...  3599.996 secs...\n"
     ]
    },
    {
     "name": "stderr",
     "output_type": "stream",
     "text": [
      "C:\\Users\\Bliss\\AppData\\Local\\Temp\\ipykernel_2580\\4018219795.py:2: RuntimeWarning: Channel names are not unique, found duplicates for: {'-', 'T8-P8'}. Applying running numbers for duplicates.\n",
      "  data = mne.io.read_raw_edf(filename, preload = True)\n",
      "C:\\Users\\Bliss\\AppData\\Local\\Temp\\ipykernel_2580\\4018219795.py:2: RuntimeWarning: Scaling factor is not defined in following channels:\n",
      "--0, --1, --2, --3, --4\n",
      "  data = mne.io.read_raw_edf(filename, preload = True)\n"
     ]
    },
    {
     "name": "stdout",
     "output_type": "stream",
     "text": [
      "EEG channel type selected for re-referencing\n",
      "Applying average reference.\n",
      "Applying a custom ('EEG',) reference.\n",
      "Not setting metadata\n",
      "899 matching events found\n",
      "No baseline correction applied\n",
      "0 projection items activated\n",
      "Using data from preloaded Raw for 899 events and 1280 original time points ...\n",
      "0 bad epochs dropped\n",
      "Extracting EDF parameters from c:\\Users\\Bliss\\seizure_detection_project\\seizure_detection_project\\Dataset\\chb17\\chb17a_04.edf...\n",
      "EDF file detected\n",
      "Setting channel info structure...\n",
      "Creating raw.info structure...\n",
      "Reading 0 ... 921599  =      0.000 ...  3599.996 secs...\n"
     ]
    },
    {
     "name": "stderr",
     "output_type": "stream",
     "text": [
      "C:\\Users\\Bliss\\AppData\\Local\\Temp\\ipykernel_2580\\4018219795.py:2: RuntimeWarning: Channel names are not unique, found duplicates for: {'-', 'T8-P8'}. Applying running numbers for duplicates.\n",
      "  data = mne.io.read_raw_edf(filename, preload = True)\n",
      "C:\\Users\\Bliss\\AppData\\Local\\Temp\\ipykernel_2580\\4018219795.py:2: RuntimeWarning: Scaling factor is not defined in following channels:\n",
      "--0, --1, --2, --3, --4\n",
      "  data = mne.io.read_raw_edf(filename, preload = True)\n"
     ]
    },
    {
     "name": "stdout",
     "output_type": "stream",
     "text": [
      "EEG channel type selected for re-referencing\n",
      "Applying average reference.\n",
      "Applying a custom ('EEG',) reference.\n",
      "Not setting metadata\n",
      "899 matching events found\n",
      "No baseline correction applied\n",
      "0 projection items activated\n",
      "Using data from preloaded Raw for 899 events and 1280 original time points ...\n",
      "0 bad epochs dropped\n",
      "Extracting EDF parameters from c:\\Users\\Bliss\\seizure_detection_project\\seizure_detection_project\\Dataset\\chb17\\chb17b_63.edf...\n",
      "EDF file detected\n",
      "Setting channel info structure...\n",
      "Creating raw.info structure...\n",
      "Reading 0 ... 927743  =      0.000 ...  3623.996 secs...\n"
     ]
    },
    {
     "name": "stderr",
     "output_type": "stream",
     "text": [
      "C:\\Users\\Bliss\\AppData\\Local\\Temp\\ipykernel_2580\\4018219795.py:2: RuntimeWarning: Channel names are not unique, found duplicates for: {'-', 'T8-P8'}. Applying running numbers for duplicates.\n",
      "  data = mne.io.read_raw_edf(filename, preload = True)\n",
      "C:\\Users\\Bliss\\AppData\\Local\\Temp\\ipykernel_2580\\4018219795.py:2: RuntimeWarning: Scaling factor is not defined in following channels:\n",
      "--0, --1, --2, --3, --4\n",
      "  data = mne.io.read_raw_edf(filename, preload = True)\n"
     ]
    },
    {
     "name": "stdout",
     "output_type": "stream",
     "text": [
      "EEG channel type selected for re-referencing\n",
      "Applying average reference.\n",
      "Applying a custom ('EEG',) reference.\n",
      "Not setting metadata\n",
      "905 matching events found\n",
      "No baseline correction applied\n",
      "0 projection items activated\n",
      "Using data from preloaded Raw for 905 events and 1280 original time points ...\n",
      "0 bad epochs dropped\n",
      "Extracting EDF parameters from c:\\Users\\Bliss\\seizure_detection_project\\seizure_detection_project\\Dataset\\chb18\\chb18_29.edf...\n",
      "EDF file detected\n",
      "Setting channel info structure...\n",
      "Creating raw.info structure...\n",
      "Reading 0 ... 921599  =      0.000 ...  3599.996 secs...\n"
     ]
    },
    {
     "name": "stderr",
     "output_type": "stream",
     "text": [
      "C:\\Users\\Bliss\\AppData\\Local\\Temp\\ipykernel_2580\\4018219795.py:2: RuntimeWarning: Channel names are not unique, found duplicates for: {'T8-P8', '.'}. Applying running numbers for duplicates.\n",
      "  data = mne.io.read_raw_edf(filename, preload = True)\n"
     ]
    },
    {
     "name": "stdout",
     "output_type": "stream",
     "text": [
      "EEG channel type selected for re-referencing\n",
      "Applying average reference.\n",
      "Applying a custom ('EEG',) reference.\n",
      "Not setting metadata\n",
      "899 matching events found\n",
      "No baseline correction applied\n",
      "0 projection items activated\n",
      "Using data from preloaded Raw for 899 events and 1280 original time points ...\n",
      "0 bad epochs dropped\n",
      "Extracting EDF parameters from c:\\Users\\Bliss\\seizure_detection_project\\seizure_detection_project\\Dataset\\chb18\\chb18_30.edf...\n",
      "EDF file detected\n",
      "Setting channel info structure...\n",
      "Creating raw.info structure...\n",
      "Reading 0 ... 921599  =      0.000 ...  3599.996 secs...\n"
     ]
    },
    {
     "name": "stderr",
     "output_type": "stream",
     "text": [
      "C:\\Users\\Bliss\\AppData\\Local\\Temp\\ipykernel_2580\\4018219795.py:2: RuntimeWarning: Channel names are not unique, found duplicates for: {'T8-P8', '.'}. Applying running numbers for duplicates.\n",
      "  data = mne.io.read_raw_edf(filename, preload = True)\n"
     ]
    },
    {
     "name": "stdout",
     "output_type": "stream",
     "text": [
      "EEG channel type selected for re-referencing\n",
      "Applying average reference.\n",
      "Applying a custom ('EEG',) reference.\n",
      "Not setting metadata\n",
      "899 matching events found\n",
      "No baseline correction applied\n",
      "0 projection items activated\n",
      "Using data from preloaded Raw for 899 events and 1280 original time points ...\n",
      "0 bad epochs dropped\n",
      "Extracting EDF parameters from c:\\Users\\Bliss\\seizure_detection_project\\seizure_detection_project\\Dataset\\chb18\\chb18_31.edf...\n",
      "EDF file detected\n",
      "Setting channel info structure...\n",
      "Creating raw.info structure...\n",
      "Reading 0 ... 582143  =      0.000 ...  2273.996 secs...\n"
     ]
    },
    {
     "name": "stderr",
     "output_type": "stream",
     "text": [
      "C:\\Users\\Bliss\\AppData\\Local\\Temp\\ipykernel_2580\\4018219795.py:2: RuntimeWarning: Channel names are not unique, found duplicates for: {'T8-P8', '.'}. Applying running numbers for duplicates.\n",
      "  data = mne.io.read_raw_edf(filename, preload = True)\n"
     ]
    },
    {
     "name": "stdout",
     "output_type": "stream",
     "text": [
      "EEG channel type selected for re-referencing\n",
      "Applying average reference.\n",
      "Applying a custom ('EEG',) reference.\n",
      "Not setting metadata\n",
      "568 matching events found\n",
      "No baseline correction applied\n",
      "0 projection items activated\n",
      "Using data from preloaded Raw for 568 events and 1280 original time points ...\n",
      "0 bad epochs dropped\n",
      "Extracting EDF parameters from c:\\Users\\Bliss\\seizure_detection_project\\seizure_detection_project\\Dataset\\chb18\\chb18_32.edf...\n",
      "EDF file detected\n",
      "Setting channel info structure...\n",
      "Creating raw.info structure...\n",
      "Reading 0 ... 921599  =      0.000 ...  3599.996 secs...\n"
     ]
    },
    {
     "name": "stderr",
     "output_type": "stream",
     "text": [
      "C:\\Users\\Bliss\\AppData\\Local\\Temp\\ipykernel_2580\\4018219795.py:2: RuntimeWarning: Channel names are not unique, found duplicates for: {'T8-P8', '.'}. Applying running numbers for duplicates.\n",
      "  data = mne.io.read_raw_edf(filename, preload = True)\n"
     ]
    },
    {
     "name": "stdout",
     "output_type": "stream",
     "text": [
      "EEG channel type selected for re-referencing\n",
      "Applying average reference.\n",
      "Applying a custom ('EEG',) reference.\n",
      "Not setting metadata\n",
      "899 matching events found\n",
      "No baseline correction applied\n",
      "0 projection items activated\n",
      "Using data from preloaded Raw for 899 events and 1280 original time points ...\n",
      "0 bad epochs dropped\n",
      "Extracting EDF parameters from c:\\Users\\Bliss\\seizure_detection_project\\seizure_detection_project\\Dataset\\chb18\\chb18_35.edf...\n",
      "EDF file detected\n",
      "Setting channel info structure...\n",
      "Creating raw.info structure...\n",
      "Reading 0 ... 921599  =      0.000 ...  3599.996 secs...\n"
     ]
    },
    {
     "name": "stderr",
     "output_type": "stream",
     "text": [
      "C:\\Users\\Bliss\\AppData\\Local\\Temp\\ipykernel_2580\\4018219795.py:2: RuntimeWarning: Channel names are not unique, found duplicates for: {'T8-P8', '.'}. Applying running numbers for duplicates.\n",
      "  data = mne.io.read_raw_edf(filename, preload = True)\n"
     ]
    },
    {
     "name": "stdout",
     "output_type": "stream",
     "text": [
      "EEG channel type selected for re-referencing\n",
      "Applying average reference.\n",
      "Applying a custom ('EEG',) reference.\n",
      "Not setting metadata\n",
      "899 matching events found\n",
      "No baseline correction applied\n",
      "0 projection items activated\n",
      "Using data from preloaded Raw for 899 events and 1280 original time points ...\n",
      "0 bad epochs dropped\n",
      "Extracting EDF parameters from c:\\Users\\Bliss\\seizure_detection_project\\seizure_detection_project\\Dataset\\chb18\\chb18_36.edf...\n",
      "EDF file detected\n",
      "Setting channel info structure...\n",
      "Creating raw.info structure...\n",
      "Reading 0 ... 921599  =      0.000 ...  3599.996 secs...\n"
     ]
    },
    {
     "name": "stderr",
     "output_type": "stream",
     "text": [
      "C:\\Users\\Bliss\\AppData\\Local\\Temp\\ipykernel_2580\\4018219795.py:2: RuntimeWarning: Channel names are not unique, found duplicates for: {'T8-P8', '.'}. Applying running numbers for duplicates.\n",
      "  data = mne.io.read_raw_edf(filename, preload = True)\n"
     ]
    },
    {
     "name": "stdout",
     "output_type": "stream",
     "text": [
      "EEG channel type selected for re-referencing\n",
      "Applying average reference.\n",
      "Applying a custom ('EEG',) reference.\n",
      "Not setting metadata\n",
      "899 matching events found\n",
      "No baseline correction applied\n",
      "0 projection items activated\n",
      "Using data from preloaded Raw for 899 events and 1280 original time points ...\n",
      "0 bad epochs dropped\n",
      "Extracting EDF parameters from c:\\Users\\Bliss\\seizure_detection_project\\seizure_detection_project\\Dataset\\chb19\\chb19_28.edf...\n",
      "EDF file detected\n",
      "Setting channel info structure...\n",
      "Creating raw.info structure...\n",
      "Reading 0 ... 924671  =      0.000 ...  3611.996 secs...\n"
     ]
    },
    {
     "name": "stderr",
     "output_type": "stream",
     "text": [
      "C:\\Users\\Bliss\\AppData\\Local\\Temp\\ipykernel_2580\\4018219795.py:2: RuntimeWarning: Channel names are not unique, found duplicates for: {'-', 'T8-P8'}. Applying running numbers for duplicates.\n",
      "  data = mne.io.read_raw_edf(filename, preload = True)\n",
      "C:\\Users\\Bliss\\AppData\\Local\\Temp\\ipykernel_2580\\4018219795.py:2: RuntimeWarning: Scaling factor is not defined in following channels:\n",
      "--0, --1, --2, --3, --4\n",
      "  data = mne.io.read_raw_edf(filename, preload = True)\n"
     ]
    },
    {
     "name": "stdout",
     "output_type": "stream",
     "text": [
      "EEG channel type selected for re-referencing\n",
      "Applying average reference.\n",
      "Applying a custom ('EEG',) reference.\n",
      "Not setting metadata\n",
      "902 matching events found\n",
      "No baseline correction applied\n",
      "0 projection items activated\n",
      "Using data from preloaded Raw for 902 events and 1280 original time points ...\n",
      "0 bad epochs dropped\n",
      "Extracting EDF parameters from c:\\Users\\Bliss\\seizure_detection_project\\seizure_detection_project\\Dataset\\chb19\\chb19_29.edf...\n",
      "EDF file detected\n",
      "Setting channel info structure...\n",
      "Creating raw.info structure...\n",
      "Reading 0 ... 921599  =      0.000 ...  3599.996 secs...\n"
     ]
    },
    {
     "name": "stderr",
     "output_type": "stream",
     "text": [
      "C:\\Users\\Bliss\\AppData\\Local\\Temp\\ipykernel_2580\\4018219795.py:2: RuntimeWarning: Channel names are not unique, found duplicates for: {'-', 'T8-P8'}. Applying running numbers for duplicates.\n",
      "  data = mne.io.read_raw_edf(filename, preload = True)\n",
      "C:\\Users\\Bliss\\AppData\\Local\\Temp\\ipykernel_2580\\4018219795.py:2: RuntimeWarning: Scaling factor is not defined in following channels:\n",
      "--0, --1, --2, --3, --4\n",
      "  data = mne.io.read_raw_edf(filename, preload = True)\n"
     ]
    },
    {
     "name": "stdout",
     "output_type": "stream",
     "text": [
      "EEG channel type selected for re-referencing\n",
      "Applying average reference.\n",
      "Applying a custom ('EEG',) reference.\n",
      "Not setting metadata\n",
      "899 matching events found\n",
      "No baseline correction applied\n",
      "0 projection items activated\n",
      "Using data from preloaded Raw for 899 events and 1280 original time points ...\n",
      "0 bad epochs dropped\n",
      "Extracting EDF parameters from c:\\Users\\Bliss\\seizure_detection_project\\seizure_detection_project\\Dataset\\chb19\\chb19_30.edf...\n",
      "EDF file detected\n",
      "Setting channel info structure...\n",
      "Creating raw.info structure...\n",
      "Reading 0 ... 853503  =      0.000 ...  3333.996 secs...\n"
     ]
    },
    {
     "name": "stderr",
     "output_type": "stream",
     "text": [
      "C:\\Users\\Bliss\\AppData\\Local\\Temp\\ipykernel_2580\\4018219795.py:2: RuntimeWarning: Channel names are not unique, found duplicates for: {'-', 'T8-P8'}. Applying running numbers for duplicates.\n",
      "  data = mne.io.read_raw_edf(filename, preload = True)\n",
      "C:\\Users\\Bliss\\AppData\\Local\\Temp\\ipykernel_2580\\4018219795.py:2: RuntimeWarning: Scaling factor is not defined in following channels:\n",
      "--0, --1, --2, --3, --4\n",
      "  data = mne.io.read_raw_edf(filename, preload = True)\n"
     ]
    },
    {
     "name": "stdout",
     "output_type": "stream",
     "text": [
      "EEG channel type selected for re-referencing\n",
      "Applying average reference.\n",
      "Applying a custom ('EEG',) reference.\n",
      "Not setting metadata\n",
      "833 matching events found\n",
      "No baseline correction applied\n",
      "0 projection items activated\n",
      "Using data from preloaded Raw for 833 events and 1280 original time points ...\n",
      "0 bad epochs dropped\n",
      "Extracting EDF parameters from c:\\Users\\Bliss\\seizure_detection_project\\seizure_detection_project\\Dataset\\chb20\\chb20_12.edf...\n",
      "EDF file detected\n",
      "Setting channel info structure...\n",
      "Creating raw.info structure...\n",
      "Reading 0 ... 921599  =      0.000 ...  3599.996 secs...\n"
     ]
    },
    {
     "name": "stderr",
     "output_type": "stream",
     "text": [
      "C:\\Users\\Bliss\\AppData\\Local\\Temp\\ipykernel_2580\\4018219795.py:2: RuntimeWarning: Channel names are not unique, found duplicates for: {'T8-P8', '.'}. Applying running numbers for duplicates.\n",
      "  data = mne.io.read_raw_edf(filename, preload = True)\n"
     ]
    },
    {
     "name": "stdout",
     "output_type": "stream",
     "text": [
      "EEG channel type selected for re-referencing\n",
      "Applying average reference.\n",
      "Applying a custom ('EEG',) reference.\n",
      "Not setting metadata\n",
      "899 matching events found\n",
      "No baseline correction applied\n",
      "0 projection items activated\n",
      "Using data from preloaded Raw for 899 events and 1280 original time points ...\n",
      "0 bad epochs dropped\n",
      "Extracting EDF parameters from c:\\Users\\Bliss\\seizure_detection_project\\seizure_detection_project\\Dataset\\chb20\\chb20_13.edf...\n",
      "EDF file detected\n",
      "Setting channel info structure...\n",
      "Creating raw.info structure...\n",
      "Reading 0 ... 921599  =      0.000 ...  3599.996 secs...\n"
     ]
    },
    {
     "name": "stderr",
     "output_type": "stream",
     "text": [
      "C:\\Users\\Bliss\\AppData\\Local\\Temp\\ipykernel_2580\\4018219795.py:2: RuntimeWarning: Channel names are not unique, found duplicates for: {'T8-P8', '.'}. Applying running numbers for duplicates.\n",
      "  data = mne.io.read_raw_edf(filename, preload = True)\n"
     ]
    },
    {
     "name": "stdout",
     "output_type": "stream",
     "text": [
      "EEG channel type selected for re-referencing\n",
      "Applying average reference.\n",
      "Applying a custom ('EEG',) reference.\n",
      "Not setting metadata\n",
      "899 matching events found\n",
      "No baseline correction applied\n",
      "0 projection items activated\n",
      "Using data from preloaded Raw for 899 events and 1280 original time points ...\n",
      "0 bad epochs dropped\n",
      "Extracting EDF parameters from c:\\Users\\Bliss\\seizure_detection_project\\seizure_detection_project\\Dataset\\chb20\\chb20_14.edf...\n",
      "EDF file detected\n",
      "Setting channel info structure...\n",
      "Creating raw.info structure...\n",
      "Reading 0 ... 921599  =      0.000 ...  3599.996 secs...\n"
     ]
    },
    {
     "name": "stderr",
     "output_type": "stream",
     "text": [
      "C:\\Users\\Bliss\\AppData\\Local\\Temp\\ipykernel_2580\\4018219795.py:2: RuntimeWarning: Channel names are not unique, found duplicates for: {'T8-P8', '.'}. Applying running numbers for duplicates.\n",
      "  data = mne.io.read_raw_edf(filename, preload = True)\n"
     ]
    },
    {
     "name": "stdout",
     "output_type": "stream",
     "text": [
      "EEG channel type selected for re-referencing\n",
      "Applying average reference.\n",
      "Applying a custom ('EEG',) reference.\n",
      "Not setting metadata\n",
      "899 matching events found\n",
      "No baseline correction applied\n",
      "0 projection items activated\n",
      "Using data from preloaded Raw for 899 events and 1280 original time points ...\n",
      "0 bad epochs dropped\n",
      "Extracting EDF parameters from c:\\Users\\Bliss\\seizure_detection_project\\seizure_detection_project\\Dataset\\chb20\\chb20_15.edf...\n",
      "EDF file detected\n",
      "Setting channel info structure...\n",
      "Creating raw.info structure...\n",
      "Reading 0 ... 921599  =      0.000 ...  3599.996 secs...\n"
     ]
    },
    {
     "name": "stderr",
     "output_type": "stream",
     "text": [
      "C:\\Users\\Bliss\\AppData\\Local\\Temp\\ipykernel_2580\\4018219795.py:2: RuntimeWarning: Channel names are not unique, found duplicates for: {'T8-P8', '.'}. Applying running numbers for duplicates.\n",
      "  data = mne.io.read_raw_edf(filename, preload = True)\n"
     ]
    },
    {
     "name": "stdout",
     "output_type": "stream",
     "text": [
      "EEG channel type selected for re-referencing\n",
      "Applying average reference.\n",
      "Applying a custom ('EEG',) reference.\n",
      "Not setting metadata\n",
      "899 matching events found\n",
      "No baseline correction applied\n",
      "0 projection items activated\n",
      "Using data from preloaded Raw for 899 events and 1280 original time points ...\n",
      "0 bad epochs dropped\n",
      "Extracting EDF parameters from c:\\Users\\Bliss\\seizure_detection_project\\seizure_detection_project\\Dataset\\chb20\\chb20_16.edf...\n",
      "EDF file detected\n",
      "Setting channel info structure...\n",
      "Creating raw.info structure...\n",
      "Reading 0 ... 888063  =      0.000 ...  3468.996 secs...\n"
     ]
    },
    {
     "name": "stderr",
     "output_type": "stream",
     "text": [
      "C:\\Users\\Bliss\\AppData\\Local\\Temp\\ipykernel_2580\\4018219795.py:2: RuntimeWarning: Channel names are not unique, found duplicates for: {'T8-P8', '.'}. Applying running numbers for duplicates.\n",
      "  data = mne.io.read_raw_edf(filename, preload = True)\n"
     ]
    },
    {
     "name": "stdout",
     "output_type": "stream",
     "text": [
      "EEG channel type selected for re-referencing\n",
      "Applying average reference.\n",
      "Applying a custom ('EEG',) reference.\n",
      "Not setting metadata\n",
      "867 matching events found\n",
      "No baseline correction applied\n",
      "0 projection items activated\n",
      "Using data from preloaded Raw for 867 events and 1280 original time points ...\n",
      "0 bad epochs dropped\n",
      "Extracting EDF parameters from c:\\Users\\Bliss\\seizure_detection_project\\seizure_detection_project\\Dataset\\chb20\\chb20_68.edf...\n",
      "EDF file detected\n",
      "Setting channel info structure...\n",
      "Creating raw.info structure...\n",
      "Reading 0 ... 554751  =      0.000 ...  2166.996 secs...\n"
     ]
    },
    {
     "name": "stderr",
     "output_type": "stream",
     "text": [
      "C:\\Users\\Bliss\\AppData\\Local\\Temp\\ipykernel_2580\\4018219795.py:2: RuntimeWarning: Channel names are not unique, found duplicates for: {'T8-P8', '.'}. Applying running numbers for duplicates.\n",
      "  data = mne.io.read_raw_edf(filename, preload = True)\n"
     ]
    },
    {
     "name": "stdout",
     "output_type": "stream",
     "text": [
      "EEG channel type selected for re-referencing\n",
      "Applying average reference.\n",
      "Applying a custom ('EEG',) reference.\n"
     ]
    },
    {
     "ename": "MemoryError",
     "evalue": "Unable to allocate 119. MiB for an array with shape (28, 554752) and data type float64",
     "output_type": "error",
     "traceback": [
      "\u001b[1;31m---------------------------------------------------------------------------\u001b[0m",
      "\u001b[1;31mMemoryError\u001b[0m                               Traceback (most recent call last)",
      "\u001b[1;32mc:\\Users\\Bliss\\seizure_detection_project\\seizure_detection_project\\project.ipynb Cell 24\u001b[0m in \u001b[0;36m<cell line: 2>\u001b[1;34m()\u001b[0m\n\u001b[0;32m      <a href='vscode-notebook-cell:/c%3A/Users/Bliss/seizure_detection_project/seizure_detection_project/project.ipynb#X33sZmlsZQ%3D%3D?line=1'>2</a>\u001b[0m \u001b[39mfor\u001b[39;00m index \u001b[39min\u001b[39;00m \u001b[39mrange\u001b[39m(\u001b[39mlen\u001b[39m(seizure_names)):\n\u001b[0;32m      <a href='vscode-notebook-cell:/c%3A/Users/Bliss/seizure_detection_project/seizure_detection_project/project.ipynb#X33sZmlsZQ%3D%3D?line=2'>3</a>\u001b[0m     index \u001b[39m+\u001b[39m\u001b[39m=\u001b[39m \u001b[39mint\u001b[39m(\u001b[39mlen\u001b[39m(seizure_names)\u001b[39m/\u001b[39m\u001b[39m2\u001b[39m)\n\u001b[1;32m----> <a href='vscode-notebook-cell:/c%3A/Users/Bliss/seizure_detection_project/seizure_detection_project/project.ipynb#X33sZmlsZQ%3D%3D?line=3'>4</a>\u001b[0m     seizure_epochs2\u001b[39m.\u001b[39mappend(get_data(seizure_names[index]))\n",
      "\u001b[1;32mc:\\Users\\Bliss\\seizure_detection_project\\seizure_detection_project\\project.ipynb Cell 24\u001b[0m in \u001b[0;36mget_data\u001b[1;34m(filename)\u001b[0m\n\u001b[0;32m      <a href='vscode-notebook-cell:/c%3A/Users/Bliss/seizure_detection_project/seizure_detection_project/project.ipynb#X33sZmlsZQ%3D%3D?line=0'>1</a>\u001b[0m \u001b[39mdef\u001b[39;00m \u001b[39mget_data\u001b[39m(filename):\n\u001b[0;32m      <a href='vscode-notebook-cell:/c%3A/Users/Bliss/seizure_detection_project/seizure_detection_project/project.ipynb#X33sZmlsZQ%3D%3D?line=1'>2</a>\u001b[0m     data \u001b[39m=\u001b[39m mne\u001b[39m.\u001b[39mio\u001b[39m.\u001b[39mread_raw_edf(filename, preload \u001b[39m=\u001b[39m \u001b[39mTrue\u001b[39;00m)\n\u001b[1;32m----> <a href='vscode-notebook-cell:/c%3A/Users/Bliss/seizure_detection_project/seizure_detection_project/project.ipynb#X33sZmlsZQ%3D%3D?line=2'>3</a>\u001b[0m     data\u001b[39m.\u001b[39;49mset_eeg_reference()\n\u001b[0;32m      <a href='vscode-notebook-cell:/c%3A/Users/Bliss/seizure_detection_project/seizure_detection_project/project.ipynb#X33sZmlsZQ%3D%3D?line=3'>4</a>\u001b[0m     epochs \u001b[39m=\u001b[39m mne\u001b[39m.\u001b[39mmake_fixed_length_epochs(data, duration \u001b[39m=\u001b[39m \u001b[39m5\u001b[39m, overlap\u001b[39m=\u001b[39m\u001b[39m1\u001b[39m)\n\u001b[0;32m      <a href='vscode-notebook-cell:/c%3A/Users/Bliss/seizure_detection_project/seizure_detection_project/project.ipynb#X33sZmlsZQ%3D%3D?line=4'>5</a>\u001b[0m     epochs \u001b[39m=\u001b[39m epochs\u001b[39m.\u001b[39mget_data()\n",
      "File \u001b[1;32m<decorator-gen-40>:12\u001b[0m, in \u001b[0;36mset_eeg_reference\u001b[1;34m(self, ref_channels, projection, ch_type, forward, verbose)\u001b[0m\n",
      "File \u001b[1;32mc:\\Users\\Bliss\\anaconda3\\lib\\site-packages\\mne\\channels\\channels.py:249\u001b[0m, in \u001b[0;36mSetChannelsMixin.set_eeg_reference\u001b[1;34m(self, ref_channels, projection, ch_type, forward, verbose)\u001b[0m\n\u001b[0;32m    225\u001b[0m \u001b[39m\"\"\"Specify which reference to use for EEG data.\u001b[39;00m\n\u001b[0;32m    226\u001b[0m \n\u001b[0;32m    227\u001b[0m \u001b[39mUse this function to explicitly specify the desired reference for EEG.\u001b[39;00m\n\u001b[1;32m   (...)\u001b[0m\n\u001b[0;32m    246\u001b[0m \u001b[39m%(set_eeg_reference_see_also_notes)s\u001b[39;00m\n\u001b[0;32m    247\u001b[0m \u001b[39m\"\"\"\u001b[39;00m\n\u001b[0;32m    248\u001b[0m \u001b[39mfrom\u001b[39;00m \u001b[39m.\u001b[39;00m\u001b[39m.\u001b[39;00m\u001b[39mio\u001b[39;00m\u001b[39m.\u001b[39;00m\u001b[39mreference\u001b[39;00m \u001b[39mimport\u001b[39;00m set_eeg_reference\n\u001b[1;32m--> 249\u001b[0m \u001b[39mreturn\u001b[39;00m set_eeg_reference(\u001b[39mself\u001b[39;49m, ref_channels\u001b[39m=\u001b[39;49mref_channels, copy\u001b[39m=\u001b[39;49m\u001b[39mFalse\u001b[39;49;00m,\n\u001b[0;32m    250\u001b[0m                          projection\u001b[39m=\u001b[39;49mprojection, ch_type\u001b[39m=\u001b[39;49mch_type,\n\u001b[0;32m    251\u001b[0m                          forward\u001b[39m=\u001b[39;49mforward)[\u001b[39m0\u001b[39m]\n",
      "File \u001b[1;32m<decorator-gen-291>:12\u001b[0m, in \u001b[0;36mset_eeg_reference\u001b[1;34m(inst, ref_channels, copy, projection, ch_type, forward, verbose)\u001b[0m\n",
      "File \u001b[1;32mc:\\Users\\Bliss\\anaconda3\\lib\\site-packages\\mne\\io\\reference.py:372\u001b[0m, in \u001b[0;36mset_eeg_reference\u001b[1;34m(***failed resolving arguments***)\u001b[0m\n\u001b[0;32m    366\u001b[0m \u001b[39melse\u001b[39;00m:\n\u001b[0;32m    367\u001b[0m     logger\u001b[39m.\u001b[39minfo(\n\u001b[0;32m    368\u001b[0m         \u001b[39m'\u001b[39m\u001b[39mApplying a custom \u001b[39m\u001b[39m'\u001b[39m\n\u001b[0;32m    369\u001b[0m         \u001b[39mf\u001b[39m\u001b[39m\"\u001b[39m\u001b[39m{\u001b[39;00m\u001b[39mtuple\u001b[39m(DEFAULTS[\u001b[39m'\u001b[39m\u001b[39mtitles\u001b[39m\u001b[39m'\u001b[39m][type_] \u001b[39mfor\u001b[39;00m type_ \u001b[39min\u001b[39;00m ch_type)\u001b[39m}\u001b[39;00m\u001b[39m \u001b[39m\u001b[39m\"\u001b[39m\n\u001b[0;32m    370\u001b[0m         \u001b[39m'\u001b[39m\u001b[39mreference.\u001b[39m\u001b[39m'\u001b[39m)\n\u001b[1;32m--> 372\u001b[0m \u001b[39mreturn\u001b[39;00m _apply_reference(inst, ref_channels, ch_sel, forward,\n\u001b[0;32m    373\u001b[0m                         ch_type\u001b[39m=\u001b[39;49mch_type)\n",
      "File \u001b[1;32mc:\\Users\\Bliss\\anaconda3\\lib\\site-packages\\mne\\io\\reference.py:126\u001b[0m, in \u001b[0;36m_apply_reference\u001b[1;34m(inst, ref_from, ref_to, forward, ch_type)\u001b[0m\n\u001b[0;32m    123\u001b[0m ref_to \u001b[39m=\u001b[39m pick_channels(inst\u001b[39m.\u001b[39mch_names, ref_to, ordered\u001b[39m=\u001b[39m\u001b[39mTrue\u001b[39;00m)\n\u001b[0;32m    125\u001b[0m data \u001b[39m=\u001b[39m inst\u001b[39m.\u001b[39m_data\n\u001b[1;32m--> 126\u001b[0m ref_data \u001b[39m=\u001b[39m data[\u001b[39m.\u001b[39;49m\u001b[39m.\u001b[39;49m\u001b[39m.\u001b[39;49m, ref_from, :]\u001b[39m.\u001b[39mmean(\u001b[39m-\u001b[39m\u001b[39m2\u001b[39m, keepdims\u001b[39m=\u001b[39m\u001b[39mTrue\u001b[39;00m)\n\u001b[0;32m    127\u001b[0m data[\u001b[39m.\u001b[39m\u001b[39m.\u001b[39m\u001b[39m.\u001b[39m, ref_to, :] \u001b[39m-\u001b[39m\u001b[39m=\u001b[39m ref_data\n\u001b[0;32m    128\u001b[0m ref_data \u001b[39m=\u001b[39m ref_data[\u001b[39m.\u001b[39m\u001b[39m.\u001b[39m\u001b[39m.\u001b[39m, \u001b[39m0\u001b[39m, :]\n",
      "\u001b[1;31mMemoryError\u001b[0m: Unable to allocate 119. MiB for an array with shape (28, 554752) and data type float64"
     ]
    }
   ],
   "source": [
    "seizure_epochs2 = []\n",
    "for index in range(len(seizure_names)):\n",
    "    index += int(len(seizure_names)/2)\n",
    "    seizure_epochs2.append(get_data(seizure_names[index]))"
   ]
  },
  {
   "cell_type": "code",
   "execution_count": null,
   "metadata": {},
   "outputs": [
    {
     "ename": "NameError",
     "evalue": "name 'healthy_epochs' is not defined",
     "output_type": "error",
     "traceback": [
      "\u001b[1;31m---------------------------------------------------------------------------\u001b[0m\n",
      "\u001b[1;31mNameError\u001b[0m                                 Traceback (most recent call last)\n",
      "\u001b[1;32mc:\\Users\\Bliss\\seizure_detection_project\\seizure_detection_project\\detector.ipynb Cell 23\u001b[0m in \u001b[0;36m<cell line: 1>\u001b[1;34m()\u001b[0m\n",
      "\u001b[1;32m----> <a href='vscode-notebook-cell:/c%3A/Users/Bliss/seizure_detection_project/seizure_detection_project/detector.ipynb#X31sZmlsZQ%3D%3D?line=0'>1</a>\u001b[0m all_epochs \u001b[39m=\u001b[39m healthy_epochs\u001b[39m+\u001b[39mseizure_epochs\n",
      "\n",
      "\u001b[1;31mNameError\u001b[0m: name 'healthy_epochs' is not defined"
     ]
    }
   ],
   "source": [
    "all_epochs = healthy_epochs+seizure_epochs"
   ]
  },
  {
   "cell_type": "markdown",
   "metadata": {},
   "source": [
    "Function to make topography images"
   ]
  },
  {
   "cell_type": "code",
   "execution_count": 17,
   "metadata": {},
   "outputs": [],
   "source": [
    "def make_graph(epochs):\n",
    "    #getting the three channels \n",
    "  \n",
    "    epochs.plot(scalings = \"auto\")\n",
    "    "
   ]
  },
  {
   "cell_type": "code",
   "execution_count": 18,
   "metadata": {},
   "outputs": [],
   "source": [
    "def perform_ICA(num_comp, epochs):\n",
    "    model = mne.preprocessing.ICA(num_comp)\n",
    "    model.fit(epochs)\n",
    "    return model.apply(epochs)\n",
    "    "
   ]
  },
  {
   "cell_type": "code",
   "execution_count": 19,
   "metadata": {},
   "outputs": [],
   "source": [
    "def perform_PCA(epochs, num_comp):\n",
    "    model = PCA(num_comp)\n",
    "    transformed = model.fit_transform(epochs)\n",
    "    return transformed"
   ]
  },
  {
   "cell_type": "code",
   "execution_count": 21,
   "metadata": {},
   "outputs": [
    {
     "ename": "AttributeError",
     "evalue": "'list' object has no attribute 'info'",
     "output_type": "error",
     "traceback": [
      "\u001b[1;31m---------------------------------------------------------------------------\u001b[0m",
      "\u001b[1;31mAttributeError\u001b[0m                            Traceback (most recent call last)",
      "\u001b[1;32mc:\\Users\\Bliss\\seizure_detection_project\\seizure_detection_project\\project.ipynb Cell 31\u001b[0m in \u001b[0;36m<cell line: 1>\u001b[1;34m()\u001b[0m\n\u001b[1;32m----> <a href='vscode-notebook-cell:/c%3A/Users/Bliss/seizure_detection_project/seizure_detection_project/project.ipynb#X43sZmlsZQ%3D%3D?line=0'>1</a>\u001b[0m make_topography_images(seizure_epochs, seizure_epochs\u001b[39m.\u001b[39;49minfo)\n",
      "\u001b[1;31mAttributeError\u001b[0m: 'list' object has no attribute 'info'"
     ]
    }
   ],
   "source": [
    "make_topography_images(seizure_epochs, seizure_epochs)"
   ]
  }
 ],
 "metadata": {
  "kernelspec": {
   "display_name": "Python 3 (ipykernel)",
   "language": "python",
   "name": "python3"
  },
  "language_info": {
   "codemirror_mode": {
    "name": "ipython",
    "version": 3
   },
   "file_extension": ".py",
   "mimetype": "text/x-python",
   "name": "python",
   "nbconvert_exporter": "python",
   "pygments_lexer": "ipython3",
   "version": "3.9.12"
  },
  "vscode": {
   "interpreter": {
    "hash": "9510fcfd21240a39351487ed704d80204a1786395f73a4eb7dfdf25ded8ba45a"
   }
  }
 },
 "nbformat": 4,
 "nbformat_minor": 2
}
